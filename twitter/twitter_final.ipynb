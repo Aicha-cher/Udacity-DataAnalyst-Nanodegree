{
 "cells": [
  {
   "cell_type": "markdown",
   "metadata": {},
   "source": [
    "# Twitter Dog Analysis \n",
    "                         \n",
    "                         - By Abhik Sarkar"
   ]
  },
  {
   "cell_type": "markdown",
   "metadata": {},
   "source": [
    "## Three Steps of Data Wrangling \n",
    "- Gathering Data\n",
    "- Assessing data\n",
    "- Cleaning data\n"
   ]
  },
  {
   "cell_type": "markdown",
   "metadata": {},
   "source": [
    "Detect and document at least eight (8) quality issues and two (2) tidiness issues "
   ]
  },
  {
   "cell_type": "markdown",
   "metadata": {},
   "source": [
    "Key Points\n",
    "\n",
    "Key points to keep in mind when data wrangling for this project:\n",
    "\n",
    "   - You only want original ratings (no retweets) that have images. Though there are 5000+ tweets in the dataset, not all are dog ratings and some are retweets.\n",
    "   \n",
    "  \n",
    "   -  Assessing and cleaning the entire dataset completely would require a lot of time, and is not necessary to practice and demonstrate your skills in data wrangling. Therefore, the requirements of this project are only to assess and clean at least 8 quality issues and at least 2 tidiness issues in this dataset.\n",
    "   \n",
    "   \n",
    "   - Cleaning includes merging individual pieces of data according to the rules of tidy data.\n",
    "   \n",
    "   \n",
    "   - The fact that the rating numerators are greater than the denominators does not need to be cleaned. This unique rating system is a big part of the popularity of WeRateDogs. \n",
    "   \n",
    "   \n",
    "   - You do not need to gather the tweets beyond August 1st, 2017. You can, but note that you won't be able to gather the image predictions for these tweets since you don't have access to the algorithm used."
   ]
  },
  {
   "cell_type": "markdown",
   "metadata": {},
   "source": [
    "## Gathering the Data "
   ]
  },
  {
   "cell_type": "code",
   "execution_count": 1,
   "metadata": {},
   "outputs": [],
   "source": [
    "#necessary imports \n",
    "\n",
    "import numpy as np\n",
    "import pandas as pd\n",
    "import matplotlib.pyplot as plt\n",
    "import seaborn as sns\n",
    "import tweepy\n",
    "import json\n",
    "import csv\n",
    "import sys\n",
    "import os\n",
    "import time\n",
    "import requests\n",
    "\n",
    "\n",
    "from tweepy import OAuthHandler\n"
   ]
  },
  {
   "cell_type": "markdown",
   "metadata": {},
   "source": [
    "### First Part \n",
    "Loading the data from the csv file"
   ]
  },
  {
   "cell_type": "code",
   "execution_count": 2,
   "metadata": {},
   "outputs": [
    {
     "data": {
      "text/html": [
       "<div>\n",
       "<style scoped>\n",
       "    .dataframe tbody tr th:only-of-type {\n",
       "        vertical-align: middle;\n",
       "    }\n",
       "\n",
       "    .dataframe tbody tr th {\n",
       "        vertical-align: top;\n",
       "    }\n",
       "\n",
       "    .dataframe thead th {\n",
       "        text-align: right;\n",
       "    }\n",
       "</style>\n",
       "<table border=\"1\" class=\"dataframe\">\n",
       "  <thead>\n",
       "    <tr style=\"text-align: right;\">\n",
       "      <th></th>\n",
       "      <th>tweet_id</th>\n",
       "      <th>in_reply_to_status_id</th>\n",
       "      <th>in_reply_to_user_id</th>\n",
       "      <th>timestamp</th>\n",
       "      <th>source</th>\n",
       "      <th>text</th>\n",
       "      <th>retweeted_status_id</th>\n",
       "      <th>retweeted_status_user_id</th>\n",
       "      <th>retweeted_status_timestamp</th>\n",
       "      <th>expanded_urls</th>\n",
       "      <th>rating_numerator</th>\n",
       "      <th>rating_denominator</th>\n",
       "      <th>name</th>\n",
       "      <th>doggo</th>\n",
       "      <th>floofer</th>\n",
       "      <th>pupper</th>\n",
       "      <th>puppo</th>\n",
       "    </tr>\n",
       "  </thead>\n",
       "  <tbody>\n",
       "    <tr>\n",
       "      <th>0</th>\n",
       "      <td>892420643555336193</td>\n",
       "      <td>NaN</td>\n",
       "      <td>NaN</td>\n",
       "      <td>2017-08-01 16:23:56 +0000</td>\n",
       "      <td>&lt;a href=\"http://twitter.com/download/iphone\" r...</td>\n",
       "      <td>This is Phineas. He's a mystical boy. Only eve...</td>\n",
       "      <td>NaN</td>\n",
       "      <td>NaN</td>\n",
       "      <td>NaN</td>\n",
       "      <td>https://twitter.com/dog_rates/status/892420643...</td>\n",
       "      <td>13</td>\n",
       "      <td>10</td>\n",
       "      <td>Phineas</td>\n",
       "      <td>None</td>\n",
       "      <td>None</td>\n",
       "      <td>None</td>\n",
       "      <td>None</td>\n",
       "    </tr>\n",
       "  </tbody>\n",
       "</table>\n",
       "</div>"
      ],
      "text/plain": [
       "             tweet_id  in_reply_to_status_id  in_reply_to_user_id  \\\n",
       "0  892420643555336193                    NaN                  NaN   \n",
       "\n",
       "                   timestamp  \\\n",
       "0  2017-08-01 16:23:56 +0000   \n",
       "\n",
       "                                              source  \\\n",
       "0  <a href=\"http://twitter.com/download/iphone\" r...   \n",
       "\n",
       "                                                text  retweeted_status_id  \\\n",
       "0  This is Phineas. He's a mystical boy. Only eve...                  NaN   \n",
       "\n",
       "   retweeted_status_user_id retweeted_status_timestamp  \\\n",
       "0                       NaN                        NaN   \n",
       "\n",
       "                                       expanded_urls  rating_numerator  \\\n",
       "0  https://twitter.com/dog_rates/status/892420643...                13   \n",
       "\n",
       "   rating_denominator     name doggo floofer pupper puppo  \n",
       "0                  10  Phineas  None    None   None  None  "
      ]
     },
     "execution_count": 2,
     "metadata": {},
     "output_type": "execute_result"
    }
   ],
   "source": [
    "\n",
    "df_tweet = pd.read_csv(\"twitter-archive-enhanced.csv\")\n",
    "df_tweet.head(1)"
   ]
  },
  {
   "cell_type": "markdown",
   "metadata": {},
   "source": [
    "### Second Part\n",
    "Downloading the data from the internet and loading it using the pandas "
   ]
  },
  {
   "cell_type": "code",
   "execution_count": 3,
   "metadata": {},
   "outputs": [
    {
     "data": {
      "text/plain": [
       "\"url = 'https://d17h27t6h515a5.cloudfront.net/topher/2017/August/599fd2ad_image-predictions/image-predictions.tsv'\\nresponse = requests.get(url)\\nwith open('image_predictions.tsv', 'wb') as file:\\n    file.write(response.content)\""
      ]
     },
     "execution_count": 3,
     "metadata": {},
     "output_type": "execute_result"
    }
   ],
   "source": [
    "\"\"\"url = 'https://d17h27t6h515a5.cloudfront.net/topher/2017/August/599fd2ad_image-predictions/image-predictions.tsv'\n",
    "response = requests.get(url)\n",
    "with open('image_predictions.tsv', 'wb') as file:\n",
    "    file.write(response.content)\"\"\""
   ]
  },
  {
   "cell_type": "markdown",
   "metadata": {},
   "source": [
    "Opening the tsv file"
   ]
  },
  {
   "cell_type": "code",
   "execution_count": 4,
   "metadata": {},
   "outputs": [],
   "source": [
    "#open tsv file\n",
    "df_images = pd.read_table('image_predictions/image-predictions.tsv',sep='\\t')"
   ]
  },
  {
   "cell_type": "code",
   "execution_count": 5,
   "metadata": {},
   "outputs": [
    {
     "data": {
      "text/html": [
       "<div>\n",
       "<style scoped>\n",
       "    .dataframe tbody tr th:only-of-type {\n",
       "        vertical-align: middle;\n",
       "    }\n",
       "\n",
       "    .dataframe tbody tr th {\n",
       "        vertical-align: top;\n",
       "    }\n",
       "\n",
       "    .dataframe thead th {\n",
       "        text-align: right;\n",
       "    }\n",
       "</style>\n",
       "<table border=\"1\" class=\"dataframe\">\n",
       "  <thead>\n",
       "    <tr style=\"text-align: right;\">\n",
       "      <th></th>\n",
       "      <th>tweet_id</th>\n",
       "      <th>jpg_url</th>\n",
       "      <th>img_num</th>\n",
       "      <th>p1</th>\n",
       "      <th>p1_conf</th>\n",
       "      <th>p1_dog</th>\n",
       "      <th>p2</th>\n",
       "      <th>p2_conf</th>\n",
       "      <th>p2_dog</th>\n",
       "      <th>p3</th>\n",
       "      <th>p3_conf</th>\n",
       "      <th>p3_dog</th>\n",
       "    </tr>\n",
       "  </thead>\n",
       "  <tbody>\n",
       "    <tr>\n",
       "      <th>0</th>\n",
       "      <td>666020888022790149</td>\n",
       "      <td>https://pbs.twimg.com/media/CT4udn0WwAA0aMy.jpg</td>\n",
       "      <td>1</td>\n",
       "      <td>Welsh_springer_spaniel</td>\n",
       "      <td>0.465074</td>\n",
       "      <td>True</td>\n",
       "      <td>collie</td>\n",
       "      <td>0.156665</td>\n",
       "      <td>True</td>\n",
       "      <td>Shetland_sheepdog</td>\n",
       "      <td>0.061428</td>\n",
       "      <td>True</td>\n",
       "    </tr>\n",
       "    <tr>\n",
       "      <th>1</th>\n",
       "      <td>666029285002620928</td>\n",
       "      <td>https://pbs.twimg.com/media/CT42GRgUYAA5iDo.jpg</td>\n",
       "      <td>1</td>\n",
       "      <td>redbone</td>\n",
       "      <td>0.506826</td>\n",
       "      <td>True</td>\n",
       "      <td>miniature_pinscher</td>\n",
       "      <td>0.074192</td>\n",
       "      <td>True</td>\n",
       "      <td>Rhodesian_ridgeback</td>\n",
       "      <td>0.072010</td>\n",
       "      <td>True</td>\n",
       "    </tr>\n",
       "    <tr>\n",
       "      <th>2</th>\n",
       "      <td>666033412701032449</td>\n",
       "      <td>https://pbs.twimg.com/media/CT4521TWwAEvMyu.jpg</td>\n",
       "      <td>1</td>\n",
       "      <td>German_shepherd</td>\n",
       "      <td>0.596461</td>\n",
       "      <td>True</td>\n",
       "      <td>malinois</td>\n",
       "      <td>0.138584</td>\n",
       "      <td>True</td>\n",
       "      <td>bloodhound</td>\n",
       "      <td>0.116197</td>\n",
       "      <td>True</td>\n",
       "    </tr>\n",
       "    <tr>\n",
       "      <th>3</th>\n",
       "      <td>666044226329800704</td>\n",
       "      <td>https://pbs.twimg.com/media/CT5Dr8HUEAA-lEu.jpg</td>\n",
       "      <td>1</td>\n",
       "      <td>Rhodesian_ridgeback</td>\n",
       "      <td>0.408143</td>\n",
       "      <td>True</td>\n",
       "      <td>redbone</td>\n",
       "      <td>0.360687</td>\n",
       "      <td>True</td>\n",
       "      <td>miniature_pinscher</td>\n",
       "      <td>0.222752</td>\n",
       "      <td>True</td>\n",
       "    </tr>\n",
       "    <tr>\n",
       "      <th>4</th>\n",
       "      <td>666049248165822465</td>\n",
       "      <td>https://pbs.twimg.com/media/CT5IQmsXIAAKY4A.jpg</td>\n",
       "      <td>1</td>\n",
       "      <td>miniature_pinscher</td>\n",
       "      <td>0.560311</td>\n",
       "      <td>True</td>\n",
       "      <td>Rottweiler</td>\n",
       "      <td>0.243682</td>\n",
       "      <td>True</td>\n",
       "      <td>Doberman</td>\n",
       "      <td>0.154629</td>\n",
       "      <td>True</td>\n",
       "    </tr>\n",
       "  </tbody>\n",
       "</table>\n",
       "</div>"
      ],
      "text/plain": [
       "             tweet_id                                          jpg_url  \\\n",
       "0  666020888022790149  https://pbs.twimg.com/media/CT4udn0WwAA0aMy.jpg   \n",
       "1  666029285002620928  https://pbs.twimg.com/media/CT42GRgUYAA5iDo.jpg   \n",
       "2  666033412701032449  https://pbs.twimg.com/media/CT4521TWwAEvMyu.jpg   \n",
       "3  666044226329800704  https://pbs.twimg.com/media/CT5Dr8HUEAA-lEu.jpg   \n",
       "4  666049248165822465  https://pbs.twimg.com/media/CT5IQmsXIAAKY4A.jpg   \n",
       "\n",
       "   img_num                      p1   p1_conf  p1_dog                  p2  \\\n",
       "0        1  Welsh_springer_spaniel  0.465074    True              collie   \n",
       "1        1                 redbone  0.506826    True  miniature_pinscher   \n",
       "2        1         German_shepherd  0.596461    True            malinois   \n",
       "3        1     Rhodesian_ridgeback  0.408143    True             redbone   \n",
       "4        1      miniature_pinscher  0.560311    True          Rottweiler   \n",
       "\n",
       "    p2_conf  p2_dog                   p3   p3_conf  p3_dog  \n",
       "0  0.156665    True    Shetland_sheepdog  0.061428    True  \n",
       "1  0.074192    True  Rhodesian_ridgeback  0.072010    True  \n",
       "2  0.138584    True           bloodhound  0.116197    True  \n",
       "3  0.360687    True   miniature_pinscher  0.222752    True  \n",
       "4  0.243682    True             Doberman  0.154629    True  "
      ]
     },
     "execution_count": 5,
     "metadata": {},
     "output_type": "execute_result"
    }
   ],
   "source": [
    "df_images.head()"
   ]
  },
  {
   "cell_type": "markdown",
   "metadata": {},
   "source": [
    "### Third Part\n",
    "Additional Data via the Twitter API"
   ]
  },
  {
   "cell_type": "code",
   "execution_count": 6,
   "metadata": {},
   "outputs": [
    {
     "data": {
      "text/plain": [
       "'\\n# authentication pieces\\nconsumer_key = \"\"\\nconsumer_secret = \"\"\\naccess_token = \"\"\\naccess_secret = \"\"\\n\\n\\nauth = tweepy.OAuthHandler(consumer_key, consumer_secret)\\nauth.set_access_token(access_token, access_secret)\\n\\napi = tweepy.API(auth_handler=auth, \\n                 wait_on_rate_limit=True, \\n                 wait_on_rate_limit_notify=True)\\n\\n'"
      ]
     },
     "execution_count": 6,
     "metadata": {},
     "output_type": "execute_result"
    }
   ],
   "source": [
    "\"\"\"\n",
    "# authentication pieces\n",
    "consumer_key = \"\"\n",
    "consumer_secret = \"\"\n",
    "access_token = \"\"\n",
    "access_secret = \"\"\n",
    "\n",
    "\n",
    "auth = tweepy.OAuthHandler(consumer_key, consumer_secret)\n",
    "auth.set_access_token(access_token, access_secret)\n",
    "\n",
    "api = tweepy.API(auth_handler=auth, \n",
    "                 wait_on_rate_limit=True, \n",
    "                 wait_on_rate_limit_notify=True)\n",
    "\n",
    "\"\"\""
   ]
  },
  {
   "cell_type": "markdown",
   "metadata": {},
   "source": [
    "Twitter Query using tweet_id information from the df."
   ]
  },
  {
   "cell_type": "code",
   "execution_count": 7,
   "metadata": {},
   "outputs": [
    {
     "data": {
      "text/plain": [
       "'tweet_ids = list(df.tweet_id)\\n\\ntweet_data = {}\\nfor _id in tweet_ids:\\n    try:\\n        tweet_status = api.get_status(_id,\\n                                      wait_on_rate_limit=True, \\n                                      wait_on_rate_limit_notify=True)\\n        tweet_data[str(_id)] = tweet_status._json\\n    except: \\n        print(\"Error for: \" + str(_id))'"
      ]
     },
     "execution_count": 7,
     "metadata": {},
     "output_type": "execute_result"
    }
   ],
   "source": [
    "\"\"\"tweet_ids = list(df.tweet_id)\n",
    "\n",
    "tweet_data = {}\n",
    "for _id in tweet_ids:\n",
    "    try:\n",
    "        tweet_status = api.get_status(_id,\n",
    "                                      wait_on_rate_limit=True, \n",
    "                                      wait_on_rate_limit_notify=True)\n",
    "        tweet_data[str(_id)] = tweet_status._json\n",
    "    except: \n",
    "        print(\"Error for: \" + str(_id))\"\"\""
   ]
  },
  {
   "cell_type": "code",
   "execution_count": 8,
   "metadata": {},
   "outputs": [
    {
     "data": {
      "text/plain": [
       "\"with open('tweet_json.txt', 'w') as file:\\n     file.write(json.dumps(tweet_data))\""
      ]
     },
     "execution_count": 8,
     "metadata": {},
     "output_type": "execute_result"
    }
   ],
   "source": [
    "\"\"\"with open('tweet_json.txt', 'w') as file:\n",
    "     file.write(json.dumps(tweet_data))\"\"\""
   ]
  },
  {
   "cell_type": "code",
   "execution_count": 9,
   "metadata": {},
   "outputs": [],
   "source": [
    "tweet_json = open('tweet_json.txt', \"r\")\n",
    "tweet_line =[]\n",
    "tweets = tweet_json.read() \n",
    "for line in tweet_json:\n",
    "    try:\n",
    "        tweet = json.loads(line)\n",
    "        tweet_line.append(tweet)\n",
    "    except:\n",
    "        continue\n",
    "        \n",
    "tweet_json.close()"
   ]
  },
  {
   "cell_type": "markdown",
   "metadata": {},
   "source": [
    " Converting the twitter api to pandas DataFrame to Combine with the Existing DataFrame "
   ]
  },
  {
   "cell_type": "code",
   "execution_count": 10,
   "metadata": {},
   "outputs": [],
   "source": [
    "obj = json.loads(tweets)"
   ]
  },
  {
   "cell_type": "code",
   "execution_count": 11,
   "metadata": {},
   "outputs": [
    {
     "name": "stdout",
     "output_type": "stream",
     "text": [
      "This is Phineas. He's a mystical boy. Only ever appears in the hole of a donut. 13/10 https://t.co/MgUWQ76dJU 8315 38018\n"
     ]
    }
   ],
   "source": [
    "print(obj['892420643555336193'][ 'text'], obj['892420643555336193']['retweet_count'] ,obj['892420643555336193']['favorite_count'])"
   ]
  },
  {
   "cell_type": "code",
   "execution_count": 12,
   "metadata": {},
   "outputs": [
    {
     "data": {
      "text/html": [
       "<div>\n",
       "<style scoped>\n",
       "    .dataframe tbody tr th:only-of-type {\n",
       "        vertical-align: middle;\n",
       "    }\n",
       "\n",
       "    .dataframe tbody tr th {\n",
       "        vertical-align: top;\n",
       "    }\n",
       "\n",
       "    .dataframe thead th {\n",
       "        text-align: right;\n",
       "    }\n",
       "</style>\n",
       "<table border=\"1\" class=\"dataframe\">\n",
       "  <thead>\n",
       "    <tr style=\"text-align: right;\">\n",
       "      <th></th>\n",
       "      <th>tweet_id</th>\n",
       "      <th>retweet_count</th>\n",
       "      <th>favorite_count</th>\n",
       "    </tr>\n",
       "  </thead>\n",
       "  <tbody>\n",
       "    <tr>\n",
       "      <th>0</th>\n",
       "      <td>892420643555336193</td>\n",
       "      <td>8315</td>\n",
       "      <td>38018</td>\n",
       "    </tr>\n",
       "  </tbody>\n",
       "</table>\n",
       "</div>"
      ],
      "text/plain": [
       "             tweet_id retweet_count favorite_count\n",
       "0  892420643555336193          8315          38018"
      ]
     },
     "execution_count": 12,
     "metadata": {},
     "output_type": "execute_result"
    }
   ],
   "source": [
    "data = json.loads(tweets)\n",
    "tweet_id,text,retweet_count,favorite_count = [],[],[],[]\n",
    "for key in list(data.keys()):\n",
    "    tweet_id.append(key)\n",
    "    retweet_count.append(data[key]['retweet_count'])\n",
    "    favorite_count.append(data[key]['favorite_count'])\n",
    "df_api = pd.DataFrame([tweet_id,retweet_count,favorite_count]).T\n",
    "df_api.columns = [\"tweet_id\",\"retweet_count\",\"favorite_count\"]\n",
    "df_api.head(1)"
   ]
  },
  {
   "cell_type": "markdown",
   "metadata": {},
   "source": [
    " #### Complete API Data"
   ]
  },
  {
   "cell_type": "code",
   "execution_count": 13,
   "metadata": {},
   "outputs": [
    {
     "data": {
      "text/plain": [
       "{'created_at': 'Tue Aug 01 16:23:56 +0000 2017',\n",
       " 'id': 892420643555336193,\n",
       " 'id_str': '892420643555336193',\n",
       " 'text': \"This is Phineas. He's a mystical boy. Only ever appears in the hole of a donut. 13/10 https://t.co/MgUWQ76dJU\",\n",
       " 'truncated': False,\n",
       " 'entities': {'hashtags': [],\n",
       "  'symbols': [],\n",
       "  'user_mentions': [],\n",
       "  'urls': [],\n",
       "  'media': [{'id': 892420639486877696,\n",
       "    'id_str': '892420639486877696',\n",
       "    'indices': [86, 109],\n",
       "    'media_url': 'http://pbs.twimg.com/media/DGKD1-bXoAAIAUK.jpg',\n",
       "    'media_url_https': 'https://pbs.twimg.com/media/DGKD1-bXoAAIAUK.jpg',\n",
       "    'url': 'https://t.co/MgUWQ76dJU',\n",
       "    'display_url': 'pic.twitter.com/MgUWQ76dJU',\n",
       "    'expanded_url': 'https://twitter.com/dog_rates/status/892420643555336193/photo/1',\n",
       "    'type': 'photo',\n",
       "    'sizes': {'thumb': {'w': 150, 'h': 150, 'resize': 'crop'},\n",
       "     'medium': {'w': 540, 'h': 528, 'resize': 'fit'},\n",
       "     'small': {'w': 540, 'h': 528, 'resize': 'fit'},\n",
       "     'large': {'w': 540, 'h': 528, 'resize': 'fit'}}}]},\n",
       " 'extended_entities': {'media': [{'id': 892420639486877696,\n",
       "    'id_str': '892420639486877696',\n",
       "    'indices': [86, 109],\n",
       "    'media_url': 'http://pbs.twimg.com/media/DGKD1-bXoAAIAUK.jpg',\n",
       "    'media_url_https': 'https://pbs.twimg.com/media/DGKD1-bXoAAIAUK.jpg',\n",
       "    'url': 'https://t.co/MgUWQ76dJU',\n",
       "    'display_url': 'pic.twitter.com/MgUWQ76dJU',\n",
       "    'expanded_url': 'https://twitter.com/dog_rates/status/892420643555336193/photo/1',\n",
       "    'type': 'photo',\n",
       "    'sizes': {'thumb': {'w': 150, 'h': 150, 'resize': 'crop'},\n",
       "     'medium': {'w': 540, 'h': 528, 'resize': 'fit'},\n",
       "     'small': {'w': 540, 'h': 528, 'resize': 'fit'},\n",
       "     'large': {'w': 540, 'h': 528, 'resize': 'fit'}}}]},\n",
       " 'source': '<a href=\"http://twitter.com/download/iphone\" rel=\"nofollow\">Twitter for iPhone</a>',\n",
       " 'in_reply_to_status_id': None,\n",
       " 'in_reply_to_status_id_str': None,\n",
       " 'in_reply_to_user_id': None,\n",
       " 'in_reply_to_user_id_str': None,\n",
       " 'in_reply_to_screen_name': None,\n",
       " 'user': {'id': 4196983835,\n",
       "  'id_str': '4196983835',\n",
       "  'name': 'WeRateDogs™',\n",
       "  'screen_name': 'dog_rates',\n",
       "  'location': 'DM YOUR DOGS',\n",
       "  'description': 'Your Only Source For Professional Dog Ratings ⠀ ⠀IG, FB, Snapchat ⇨ WeRateDogs partnerships@weratedogs.com',\n",
       "  'url': 'https://t.co/N7sNNHAEXS',\n",
       "  'entities': {'url': {'urls': [{'url': 'https://t.co/N7sNNHAEXS',\n",
       "      'expanded_url': 'http://weratedogs.com',\n",
       "      'display_url': 'weratedogs.com',\n",
       "      'indices': [0, 23]}]},\n",
       "   'description': {'urls': []}},\n",
       "  'protected': False,\n",
       "  'followers_count': 7634782,\n",
       "  'friends_count': 12,\n",
       "  'listed_count': 5775,\n",
       "  'created_at': 'Sun Nov 15 21:41:29 +0000 2015',\n",
       "  'favourites_count': 140915,\n",
       "  'utc_offset': None,\n",
       "  'time_zone': None,\n",
       "  'geo_enabled': True,\n",
       "  'verified': True,\n",
       "  'statuses_count': 9594,\n",
       "  'lang': 'en',\n",
       "  'contributors_enabled': False,\n",
       "  'is_translator': False,\n",
       "  'is_translation_enabled': False,\n",
       "  'profile_background_color': '000000',\n",
       "  'profile_background_image_url': 'http://abs.twimg.com/images/themes/theme1/bg.png',\n",
       "  'profile_background_image_url_https': 'https://abs.twimg.com/images/themes/theme1/bg.png',\n",
       "  'profile_background_tile': False,\n",
       "  'profile_image_url': 'http://pbs.twimg.com/profile_images/1080268745619189760/CyqCf_dA_normal.jpg',\n",
       "  'profile_image_url_https': 'https://pbs.twimg.com/profile_images/1080268745619189760/CyqCf_dA_normal.jpg',\n",
       "  'profile_banner_url': 'https://pbs.twimg.com/profile_banners/4196983835/1544368760',\n",
       "  'profile_link_color': 'F5ABB5',\n",
       "  'profile_sidebar_border_color': '000000',\n",
       "  'profile_sidebar_fill_color': '000000',\n",
       "  'profile_text_color': '000000',\n",
       "  'profile_use_background_image': False,\n",
       "  'has_extended_profile': False,\n",
       "  'default_profile': False,\n",
       "  'default_profile_image': False,\n",
       "  'following': False,\n",
       "  'follow_request_sent': False,\n",
       "  'notifications': False,\n",
       "  'translator_type': 'none'},\n",
       " 'geo': None,\n",
       " 'coordinates': None,\n",
       " 'place': None,\n",
       " 'contributors': None,\n",
       " 'is_quote_status': False,\n",
       " 'retweet_count': 8315,\n",
       " 'favorite_count': 38018,\n",
       " 'favorited': False,\n",
       " 'retweeted': False,\n",
       " 'possibly_sensitive': False,\n",
       " 'possibly_sensitive_appealable': False,\n",
       " 'lang': 'en'}"
      ]
     },
     "execution_count": 13,
     "metadata": {},
     "output_type": "execute_result"
    }
   ],
   "source": [
    "data[\"892420643555336193\"]"
   ]
  },
  {
   "cell_type": "markdown",
   "metadata": {},
   "source": [
    "## Assessing data "
   ]
  },
  {
   "cell_type": "markdown",
   "metadata": {},
   "source": [
    "#### df_tweet"
   ]
  },
  {
   "cell_type": "code",
   "execution_count": 14,
   "metadata": {},
   "outputs": [
    {
     "name": "stdout",
     "output_type": "stream",
     "text": [
      "<class 'pandas.core.frame.DataFrame'>\n",
      "RangeIndex: 2356 entries, 0 to 2355\n",
      "Data columns (total 17 columns):\n",
      "tweet_id                      2356 non-null int64\n",
      "in_reply_to_status_id         78 non-null float64\n",
      "in_reply_to_user_id           78 non-null float64\n",
      "timestamp                     2356 non-null object\n",
      "source                        2356 non-null object\n",
      "text                          2356 non-null object\n",
      "retweeted_status_id           181 non-null float64\n",
      "retweeted_status_user_id      181 non-null float64\n",
      "retweeted_status_timestamp    181 non-null object\n",
      "expanded_urls                 2297 non-null object\n",
      "rating_numerator              2356 non-null int64\n",
      "rating_denominator            2356 non-null int64\n",
      "name                          2356 non-null object\n",
      "doggo                         2356 non-null object\n",
      "floofer                       2356 non-null object\n",
      "pupper                        2356 non-null object\n",
      "puppo                         2356 non-null object\n",
      "dtypes: float64(4), int64(3), object(10)\n",
      "memory usage: 313.0+ KB\n"
     ]
    }
   ],
   "source": [
    "df_tweet.info()"
   ]
  },
  {
   "cell_type": "markdown",
   "metadata": {},
   "source": [
    "### Description of the Above DataFrame\n",
    "    tweet_id: the unique identifier for each tweet\n",
    "    in_reply_to_status_id: if the represented Tweet is a reply, this field will contain the integer representation of the original Tweet’s ID\n",
    "    in_reply_to_user_id: if the represented Tweet is a reply, this field will contain the integer representation of the original Tweet’s author ID\n",
    "    timestamp: time when this Tweet was created\n",
    "    source: utility used to post the Tweet, as an HTML-formatted string. e.g. Twitter for Android, Twitter for iPhone, Twitter Web Client\n",
    "    text: actual UTF-8 text of the status update\n",
    "    retweeted_status_id: if the represented Tweet is a retweet, this field will contain the integer representation of the original Tweet’s ID\n",
    "    retweeted_status_user_id: if the represented Tweet is a retweet, this field will contain the integer representation of the original Tweet’s author ID\n",
    "    retweeted_status_timestamp: time of retweet\n",
    "    expanded_urls: tweet URL\n",
    "    rating_numerator: numerator of the rating of a dog. Note: ratings almost always greater than 10\n",
    "    rating_denominator: denominator of the rating of a dog. Note: ratings almost always have a denominator of 10\n",
    "    name: name of the dog\n",
    "    doggo: one of the 4 dog \"stage\"\n",
    "    floofer: one of the 4 dog \"stage\"\n",
    "    pupper: one of the 4 dog \"stage\"\n",
    "    puppo: one of the 4 dog \"stage\"\n"
   ]
  },
  {
   "cell_type": "code",
   "execution_count": 15,
   "metadata": {},
   "outputs": [
    {
     "data": {
      "text/html": [
       "<div>\n",
       "<style scoped>\n",
       "    .dataframe tbody tr th:only-of-type {\n",
       "        vertical-align: middle;\n",
       "    }\n",
       "\n",
       "    .dataframe tbody tr th {\n",
       "        vertical-align: top;\n",
       "    }\n",
       "\n",
       "    .dataframe thead th {\n",
       "        text-align: right;\n",
       "    }\n",
       "</style>\n",
       "<table border=\"1\" class=\"dataframe\">\n",
       "  <thead>\n",
       "    <tr style=\"text-align: right;\">\n",
       "      <th></th>\n",
       "      <th>tweet_id</th>\n",
       "      <th>in_reply_to_status_id</th>\n",
       "      <th>in_reply_to_user_id</th>\n",
       "      <th>timestamp</th>\n",
       "      <th>source</th>\n",
       "      <th>text</th>\n",
       "      <th>retweeted_status_id</th>\n",
       "      <th>retweeted_status_user_id</th>\n",
       "      <th>retweeted_status_timestamp</th>\n",
       "      <th>expanded_urls</th>\n",
       "      <th>rating_numerator</th>\n",
       "      <th>rating_denominator</th>\n",
       "      <th>name</th>\n",
       "      <th>doggo</th>\n",
       "      <th>floofer</th>\n",
       "      <th>pupper</th>\n",
       "      <th>puppo</th>\n",
       "    </tr>\n",
       "  </thead>\n",
       "  <tbody>\n",
       "    <tr>\n",
       "      <th>0</th>\n",
       "      <td>892420643555336193</td>\n",
       "      <td>NaN</td>\n",
       "      <td>NaN</td>\n",
       "      <td>2017-08-01 16:23:56 +0000</td>\n",
       "      <td>&lt;a href=\"http://twitter.com/download/iphone\" r...</td>\n",
       "      <td>This is Phineas. He's a mystical boy. Only eve...</td>\n",
       "      <td>NaN</td>\n",
       "      <td>NaN</td>\n",
       "      <td>NaN</td>\n",
       "      <td>https://twitter.com/dog_rates/status/892420643...</td>\n",
       "      <td>13</td>\n",
       "      <td>10</td>\n",
       "      <td>Phineas</td>\n",
       "      <td>None</td>\n",
       "      <td>None</td>\n",
       "      <td>None</td>\n",
       "      <td>None</td>\n",
       "    </tr>\n",
       "    <tr>\n",
       "      <th>1</th>\n",
       "      <td>892177421306343426</td>\n",
       "      <td>NaN</td>\n",
       "      <td>NaN</td>\n",
       "      <td>2017-08-01 00:17:27 +0000</td>\n",
       "      <td>&lt;a href=\"http://twitter.com/download/iphone\" r...</td>\n",
       "      <td>This is Tilly. She's just checking pup on you....</td>\n",
       "      <td>NaN</td>\n",
       "      <td>NaN</td>\n",
       "      <td>NaN</td>\n",
       "      <td>https://twitter.com/dog_rates/status/892177421...</td>\n",
       "      <td>13</td>\n",
       "      <td>10</td>\n",
       "      <td>Tilly</td>\n",
       "      <td>None</td>\n",
       "      <td>None</td>\n",
       "      <td>None</td>\n",
       "      <td>None</td>\n",
       "    </tr>\n",
       "    <tr>\n",
       "      <th>2</th>\n",
       "      <td>891815181378084864</td>\n",
       "      <td>NaN</td>\n",
       "      <td>NaN</td>\n",
       "      <td>2017-07-31 00:18:03 +0000</td>\n",
       "      <td>&lt;a href=\"http://twitter.com/download/iphone\" r...</td>\n",
       "      <td>This is Archie. He is a rare Norwegian Pouncin...</td>\n",
       "      <td>NaN</td>\n",
       "      <td>NaN</td>\n",
       "      <td>NaN</td>\n",
       "      <td>https://twitter.com/dog_rates/status/891815181...</td>\n",
       "      <td>12</td>\n",
       "      <td>10</td>\n",
       "      <td>Archie</td>\n",
       "      <td>None</td>\n",
       "      <td>None</td>\n",
       "      <td>None</td>\n",
       "      <td>None</td>\n",
       "    </tr>\n",
       "    <tr>\n",
       "      <th>3</th>\n",
       "      <td>891689557279858688</td>\n",
       "      <td>NaN</td>\n",
       "      <td>NaN</td>\n",
       "      <td>2017-07-30 15:58:51 +0000</td>\n",
       "      <td>&lt;a href=\"http://twitter.com/download/iphone\" r...</td>\n",
       "      <td>This is Darla. She commenced a snooze mid meal...</td>\n",
       "      <td>NaN</td>\n",
       "      <td>NaN</td>\n",
       "      <td>NaN</td>\n",
       "      <td>https://twitter.com/dog_rates/status/891689557...</td>\n",
       "      <td>13</td>\n",
       "      <td>10</td>\n",
       "      <td>Darla</td>\n",
       "      <td>None</td>\n",
       "      <td>None</td>\n",
       "      <td>None</td>\n",
       "      <td>None</td>\n",
       "    </tr>\n",
       "    <tr>\n",
       "      <th>4</th>\n",
       "      <td>891327558926688256</td>\n",
       "      <td>NaN</td>\n",
       "      <td>NaN</td>\n",
       "      <td>2017-07-29 16:00:24 +0000</td>\n",
       "      <td>&lt;a href=\"http://twitter.com/download/iphone\" r...</td>\n",
       "      <td>This is Franklin. He would like you to stop ca...</td>\n",
       "      <td>NaN</td>\n",
       "      <td>NaN</td>\n",
       "      <td>NaN</td>\n",
       "      <td>https://twitter.com/dog_rates/status/891327558...</td>\n",
       "      <td>12</td>\n",
       "      <td>10</td>\n",
       "      <td>Franklin</td>\n",
       "      <td>None</td>\n",
       "      <td>None</td>\n",
       "      <td>None</td>\n",
       "      <td>None</td>\n",
       "    </tr>\n",
       "  </tbody>\n",
       "</table>\n",
       "</div>"
      ],
      "text/plain": [
       "             tweet_id  in_reply_to_status_id  in_reply_to_user_id  \\\n",
       "0  892420643555336193                    NaN                  NaN   \n",
       "1  892177421306343426                    NaN                  NaN   \n",
       "2  891815181378084864                    NaN                  NaN   \n",
       "3  891689557279858688                    NaN                  NaN   \n",
       "4  891327558926688256                    NaN                  NaN   \n",
       "\n",
       "                   timestamp  \\\n",
       "0  2017-08-01 16:23:56 +0000   \n",
       "1  2017-08-01 00:17:27 +0000   \n",
       "2  2017-07-31 00:18:03 +0000   \n",
       "3  2017-07-30 15:58:51 +0000   \n",
       "4  2017-07-29 16:00:24 +0000   \n",
       "\n",
       "                                              source  \\\n",
       "0  <a href=\"http://twitter.com/download/iphone\" r...   \n",
       "1  <a href=\"http://twitter.com/download/iphone\" r...   \n",
       "2  <a href=\"http://twitter.com/download/iphone\" r...   \n",
       "3  <a href=\"http://twitter.com/download/iphone\" r...   \n",
       "4  <a href=\"http://twitter.com/download/iphone\" r...   \n",
       "\n",
       "                                                text  retweeted_status_id  \\\n",
       "0  This is Phineas. He's a mystical boy. Only eve...                  NaN   \n",
       "1  This is Tilly. She's just checking pup on you....                  NaN   \n",
       "2  This is Archie. He is a rare Norwegian Pouncin...                  NaN   \n",
       "3  This is Darla. She commenced a snooze mid meal...                  NaN   \n",
       "4  This is Franklin. He would like you to stop ca...                  NaN   \n",
       "\n",
       "   retweeted_status_user_id retweeted_status_timestamp  \\\n",
       "0                       NaN                        NaN   \n",
       "1                       NaN                        NaN   \n",
       "2                       NaN                        NaN   \n",
       "3                       NaN                        NaN   \n",
       "4                       NaN                        NaN   \n",
       "\n",
       "                                       expanded_urls  rating_numerator  \\\n",
       "0  https://twitter.com/dog_rates/status/892420643...                13   \n",
       "1  https://twitter.com/dog_rates/status/892177421...                13   \n",
       "2  https://twitter.com/dog_rates/status/891815181...                12   \n",
       "3  https://twitter.com/dog_rates/status/891689557...                13   \n",
       "4  https://twitter.com/dog_rates/status/891327558...                12   \n",
       "\n",
       "   rating_denominator      name doggo floofer pupper puppo  \n",
       "0                  10   Phineas  None    None   None  None  \n",
       "1                  10     Tilly  None    None   None  None  \n",
       "2                  10    Archie  None    None   None  None  \n",
       "3                  10     Darla  None    None   None  None  \n",
       "4                  10  Franklin  None    None   None  None  "
      ]
     },
     "execution_count": 15,
     "metadata": {},
     "output_type": "execute_result"
    }
   ],
   "source": [
    "df_tweet.head()"
   ]
  },
  {
   "cell_type": "markdown",
   "metadata": {},
   "source": [
    "## Cleaning the data \n",
    "\n",
    "\n",
    "\n",
    "### Quality\n",
    "\n",
    "    - Checking all the NaNs and Handling the NaNs.\n",
    "    \n",
    "    - We don't need to gather the tweets beyond August 1st, 2017. We can, but note that you won't be able to gather\n",
    "      the image predictions for these tweets since you don't have access to the algorithm used. So removing all rows \n",
    "      before  Aug 1st, 2017\n",
    "      \n",
    "    - The tweet_ID is not the right data type and value in two DataFrames are of different types.\n",
    "    \n",
    "    - Erroneous datatypes and values for in_reply_to_status_id,in_reply_to_user_id.\n",
    "    \n",
    "    - We only want original ratings (no retweets).So the retweets shouldn't be there.\n",
    "    \n",
    "    - We only want ratings with images. Not all ratings have images.\n",
    "    \n",
    "    - Some ratings are inaccurately picked up.\n",
    "    \n",
    "    - Erroneous datatype for timestamp. Converting Object to DateTime Type.\n",
    "    \n",
    "    - Nulls represented as 'None' in columns 'name', 'doggo', 'floofer', 'pupper','puppo'.\n",
    "    \n",
    "    - Some predictions are not dogs, there is no column for the most possible breed of a dog.\n",
    "    \n",
    "### Tidyness\n",
    "    \n",
    "    -'doggo', 'floofer', 'pupper','puppo' can be combined in one column.\n",
    "    \n",
    "    - Combining Three DataFrames to one single DataFrame.\n",
    "    \n",
    " \n"
   ]
  },
  {
   "cell_type": "markdown",
   "metadata": {},
   "source": [
    "### Checking DataTypes"
   ]
  },
  {
   "cell_type": "code",
   "execution_count": 16,
   "metadata": {},
   "outputs": [
    {
     "name": "stdout",
     "output_type": "stream",
     "text": [
      "<class 'pandas.core.frame.DataFrame'>\n",
      "RangeIndex: 2356 entries, 0 to 2355\n",
      "Data columns (total 17 columns):\n",
      "tweet_id                      2356 non-null int64\n",
      "in_reply_to_status_id         78 non-null float64\n",
      "in_reply_to_user_id           78 non-null float64\n",
      "timestamp                     2356 non-null object\n",
      "source                        2356 non-null object\n",
      "text                          2356 non-null object\n",
      "retweeted_status_id           181 non-null float64\n",
      "retweeted_status_user_id      181 non-null float64\n",
      "retweeted_status_timestamp    181 non-null object\n",
      "expanded_urls                 2297 non-null object\n",
      "rating_numerator              2356 non-null int64\n",
      "rating_denominator            2356 non-null int64\n",
      "name                          2356 non-null object\n",
      "doggo                         2356 non-null object\n",
      "floofer                       2356 non-null object\n",
      "pupper                        2356 non-null object\n",
      "puppo                         2356 non-null object\n",
      "dtypes: float64(4), int64(3), object(10)\n",
      "memory usage: 313.0+ KB\n"
     ]
    }
   ],
   "source": [
    "df_tweet.info()"
   ]
  },
  {
   "cell_type": "code",
   "execution_count": 17,
   "metadata": {},
   "outputs": [
    {
     "data": {
      "text/plain": [
       "tweet_id                         0\n",
       "in_reply_to_status_id         2278\n",
       "in_reply_to_user_id           2278\n",
       "timestamp                        0\n",
       "source                           0\n",
       "text                             0\n",
       "retweeted_status_id           2175\n",
       "retweeted_status_user_id      2175\n",
       "retweeted_status_timestamp    2175\n",
       "expanded_urls                   59\n",
       "rating_numerator                 0\n",
       "rating_denominator               0\n",
       "name                             0\n",
       "doggo                            0\n",
       "floofer                          0\n",
       "pupper                           0\n",
       "puppo                            0\n",
       "dtype: int64"
      ]
     },
     "execution_count": 17,
     "metadata": {},
     "output_type": "execute_result"
    }
   ],
   "source": [
    "df_tweet.isna().sum()"
   ]
  },
  {
   "cell_type": "code",
   "execution_count": 18,
   "metadata": {},
   "outputs": [
    {
     "data": {
      "text/plain": [
       "2356"
      ]
     },
     "execution_count": 18,
     "metadata": {},
     "output_type": "execute_result"
    }
   ],
   "source": [
    "len(df_tweet)"
   ]
  },
  {
   "cell_type": "markdown",
   "metadata": {},
   "source": [
    "#### df_images"
   ]
  },
  {
   "cell_type": "code",
   "execution_count": 19,
   "metadata": {},
   "outputs": [
    {
     "data": {
      "text/plain": [
       "tweet_id    0\n",
       "jpg_url     0\n",
       "img_num     0\n",
       "p1          0\n",
       "p1_conf     0\n",
       "p1_dog      0\n",
       "p2          0\n",
       "p2_conf     0\n",
       "p2_dog      0\n",
       "p3          0\n",
       "p3_conf     0\n",
       "p3_dog      0\n",
       "dtype: int64"
      ]
     },
     "execution_count": 19,
     "metadata": {},
     "output_type": "execute_result"
    }
   ],
   "source": [
    "df_images.isna().sum()"
   ]
  },
  {
   "cell_type": "markdown",
   "metadata": {},
   "source": [
    "### Description of the Above DataFrame\n",
    "\n",
    "    tweet_id: the unique identifier for each tweet\n",
    "    jpg_url: dog's image URL\n",
    "    img_num: the image number that corresponded to the most confident prediction (numbered 1 to 4 since tweets can have up to four images)\n",
    "    p1: algorithm's #1 prediction for the image in the tweet\n",
    "    p1_conf: how confident the algorithm is in its #1 prediction\n",
    "    p1_dog: whether or not the #1 prediction is a breed of dog\n",
    "    p2: algorithm's #2 prediction for the image in the tweet\n",
    "    p2_conf: how confident the algorithm is in its #2 prediction\n",
    "    p2_dog: whether or not the #2 prediction is a breed of dog\n",
    "    p3: algorithm's #3 prediction for the image in the tweet\n",
    "    p3_conf: how confident the algorithm is in its #3 prediction\n",
    "    p3_dog: whether or not the #3 prediction is a breed of dog\n"
   ]
  },
  {
   "cell_type": "code",
   "execution_count": 20,
   "metadata": {},
   "outputs": [
    {
     "data": {
      "text/plain": [
       "2075"
      ]
     },
     "execution_count": 20,
     "metadata": {},
     "output_type": "execute_result"
    }
   ],
   "source": [
    "len(df_images)"
   ]
  },
  {
   "cell_type": "markdown",
   "metadata": {},
   "source": [
    "#### df_api"
   ]
  },
  {
   "cell_type": "code",
   "execution_count": 21,
   "metadata": {},
   "outputs": [
    {
     "data": {
      "text/plain": [
       "tweet_id          0\n",
       "retweet_count     0\n",
       "favorite_count    0\n",
       "dtype: int64"
      ]
     },
     "execution_count": 21,
     "metadata": {},
     "output_type": "execute_result"
    }
   ],
   "source": [
    "df_api.isna().sum()"
   ]
  },
  {
   "cell_type": "code",
   "execution_count": 22,
   "metadata": {},
   "outputs": [
    {
     "name": "stdout",
     "output_type": "stream",
     "text": [
      "<class 'pandas.core.frame.DataFrame'>\n",
      "RangeIndex: 2340 entries, 0 to 2339\n",
      "Data columns (total 3 columns):\n",
      "tweet_id          2340 non-null object\n",
      "retweet_count     2340 non-null object\n",
      "favorite_count    2340 non-null object\n",
      "dtypes: object(3)\n",
      "memory usage: 54.9+ KB\n"
     ]
    }
   ],
   "source": [
    "df_api.info()"
   ]
  },
  {
   "cell_type": "markdown",
   "metadata": {},
   "source": [
    "## Description of the Above DataFrame\n",
    "\n",
    "df_api columns:\n",
    "\n",
    "    id: the unique identifier for each tweet\n",
    "    retweet_count: number of times this Tweet has been retweeted\n",
    "    favorite_count: indicates approximately how many times this Tweet has been liked by Twitter users\n",
    "    "
   ]
  },
  {
   "cell_type": "code",
   "execution_count": 23,
   "metadata": {},
   "outputs": [
    {
     "data": {
      "text/plain": [
       "2340"
      ]
     },
     "execution_count": 23,
     "metadata": {},
     "output_type": "execute_result"
    }
   ],
   "source": [
    "len(df_api)"
   ]
  },
  {
   "cell_type": "markdown",
   "metadata": {},
   "source": [
    "### Converting Object Type to Timestamp Datatype"
   ]
  },
  {
   "cell_type": "code",
   "execution_count": 24,
   "metadata": {},
   "outputs": [],
   "source": [
    "# timestamp \n",
    "df_tweet[\"timestamp\"] = pd.to_datetime(df_tweet[\"timestamp\"])\n",
    "df_tweet[\"retweeted_status_timestamp\"]=  pd.to_datetime(df_tweet[\"retweeted_status_timestamp\"])\n"
   ]
  },
  {
   "cell_type": "markdown",
   "metadata": {},
   "source": [
    "### Checking Tweets Beyond 1st Aug 2017"
   ]
  },
  {
   "cell_type": "code",
   "execution_count": 25,
   "metadata": {},
   "outputs": [
    {
     "data": {
      "text/html": [
       "<div>\n",
       "<style scoped>\n",
       "    .dataframe tbody tr th:only-of-type {\n",
       "        vertical-align: middle;\n",
       "    }\n",
       "\n",
       "    .dataframe tbody tr th {\n",
       "        vertical-align: top;\n",
       "    }\n",
       "\n",
       "    .dataframe thead th {\n",
       "        text-align: right;\n",
       "    }\n",
       "</style>\n",
       "<table border=\"1\" class=\"dataframe\">\n",
       "  <thead>\n",
       "    <tr style=\"text-align: right;\">\n",
       "      <th></th>\n",
       "      <th>tweet_id</th>\n",
       "      <th>in_reply_to_status_id</th>\n",
       "      <th>in_reply_to_user_id</th>\n",
       "      <th>timestamp</th>\n",
       "      <th>source</th>\n",
       "      <th>text</th>\n",
       "      <th>retweeted_status_id</th>\n",
       "      <th>retweeted_status_user_id</th>\n",
       "      <th>retweeted_status_timestamp</th>\n",
       "      <th>expanded_urls</th>\n",
       "      <th>rating_numerator</th>\n",
       "      <th>rating_denominator</th>\n",
       "      <th>name</th>\n",
       "      <th>doggo</th>\n",
       "      <th>floofer</th>\n",
       "      <th>pupper</th>\n",
       "      <th>puppo</th>\n",
       "    </tr>\n",
       "  </thead>\n",
       "  <tbody>\n",
       "  </tbody>\n",
       "</table>\n",
       "</div>"
      ],
      "text/plain": [
       "Empty DataFrame\n",
       "Columns: [tweet_id, in_reply_to_status_id, in_reply_to_user_id, timestamp, source, text, retweeted_status_id, retweeted_status_user_id, retweeted_status_timestamp, expanded_urls, rating_numerator, rating_denominator, name, doggo, floofer, pupper, puppo]\n",
       "Index: []"
      ]
     },
     "execution_count": 25,
     "metadata": {},
     "output_type": "execute_result"
    }
   ],
   "source": [
    "df_tweet[df_tweet[\"timestamp\"] > '2017-08-02 00:00:00 +0000']\n",
    "# No Tweet is beyond 1st Aug 2017"
   ]
  },
  {
   "cell_type": "markdown",
   "metadata": {},
   "source": [
    "### Inaccurate Ratings"
   ]
  },
  {
   "cell_type": "code",
   "execution_count": 26,
   "metadata": {},
   "outputs": [
    {
     "data": {
      "text/plain": [
       "12      558\n",
       "11      464\n",
       "10      461\n",
       "13      351\n",
       "9       158\n",
       "8       102\n",
       "7        55\n",
       "14       54\n",
       "5        37\n",
       "6        32\n",
       "3        19\n",
       "4        17\n",
       "1         9\n",
       "2         9\n",
       "420       2\n",
       "0         2\n",
       "15        2\n",
       "75        2\n",
       "80        1\n",
       "20        1\n",
       "24        1\n",
       "26        1\n",
       "44        1\n",
       "50        1\n",
       "60        1\n",
       "165       1\n",
       "84        1\n",
       "88        1\n",
       "144       1\n",
       "182       1\n",
       "143       1\n",
       "666       1\n",
       "960       1\n",
       "1776      1\n",
       "17        1\n",
       "27        1\n",
       "45        1\n",
       "99        1\n",
       "121       1\n",
       "204       1\n",
       "Name: rating_numerator, dtype: int64"
      ]
     },
     "execution_count": 26,
     "metadata": {},
     "output_type": "execute_result"
    }
   ],
   "source": [
    "df_tweet.rating_numerator.value_counts()"
   ]
  },
  {
   "cell_type": "code",
   "execution_count": 27,
   "metadata": {},
   "outputs": [
    {
     "data": {
      "text/plain": [
       "text\n",
       "When you're so blinded by your systematic plagiarism that you forget what day it is. 0/10 https://t.co/YbEJPkg4Ag          NaN\n",
       "PUPDATE: can't see any. Even if I could, I couldn't reach them to pet. 0/10 much disappointment https://t.co/c7WXaB2nqX    NaN\n",
       "Name: text, dtype: object"
      ]
     },
     "execution_count": 27,
     "metadata": {},
     "output_type": "execute_result"
    }
   ],
   "source": [
    "df_tweet['text'][df_tweet.loc[df_tweet.rating_numerator == 0, 'text']]"
   ]
  },
  {
   "cell_type": "code",
   "execution_count": 28,
   "metadata": {},
   "outputs": [
    {
     "data": {
      "text/plain": [
       "text\n",
       "This is Wesley. He's clearly trespassing. Seems rather h*ckin violent too. Weaponized forehead. 3/10 wouldn't let in https://t.co/pL7wbMRW7M    NaN\n",
       "This is Alexanderson. He's got a weird ass birth mark. Dreadful at fetch. Won't eat kibble. 3/10 wtf @Target https://t.co/FmxOpf2Sgl            NaN\n",
       "What hooligan sent in pictures w/out a dog in them? Churlish af. 3/10 just bc that's a neat fluffy bean bag chair https://t.co/wcwoGOkZvz       NaN\n",
       "This is Elliot. He's blocking the roadway. Downright rude as hell. Doesn't care that you're already late. 3/10 https://t.co/FMUxir5pYu          NaN\n",
       "This is Charl. He's a bully. Chucks that dumbbell around like its nothing. Sharp neck. Exceptionally unfluffy. 3/10 https://t.co/VfLoDZecJ7     NaN\n",
       "Meet Phil. He's big af. Currently destroying this nice family home. Completely uncalled for. 3/10 not a good pupper https://t.co/fShNNhBWYx     NaN\n",
       "This is Hammond. He's a peculiar pup. Loves long walks. Bark barely audible. Too many legs. 3/10 must be rare https://t.co/NOIiRWr5Jf           NaN\n",
       "This is Chuck. He's a neat dog. Very flexible. Trapped in a glass case of emotion. Devastatingly unfluffy 3/10 https://t.co/YqbU9xHV3p          NaN\n",
       "Extremely rare pup here. Very religious. Always praying. Too many legs. Not overwhelmingly fluffy. Won't bark. 3/10 https://t.co/REyE5YKVBb     NaN\n",
       "Meet Patrick. He's an exotic pup. Jumps great distances for a dog. Always gets injured when I toss him a ball. 3/10 https://t.co/Unz1uNrOzo     NaN\n",
       "Herd of wild dogs here. Not sure what they're trying to do. No real goals in life. 3/10 find your purpose puppers https://t.co/t5ih0VrK02       NaN\n",
       "Guys I'm getting real tired of this. We only rate dogs. Please don't send in other things like this Bulbasaur. 3/10 https://t.co/t5rQHl6W8M     NaN\n",
       "Large blue dog here. Cool shades. Flipping us off w both hands. Obviously a preteen. 3/10 for rude blue preteen pup https://t.co/mcPd5AFfhA     NaN\n",
       "This is Tommy. He's a cool dog. Hard not to step on. Won't let go of seashell. Not fast by any means. 3/10 https://t.co/0gY6XTOpn3              NaN\n",
       "This is Bernie. He's taking his Halloween costume very seriously. Wants to be baked. 3/10 not a good idea Bernie smh https://t.co/1zBp1moFlX    NaN\n",
       "Fascinating dog here. Loves beach. Oddly long nose for dog. Massive ass paws. Hard to cuddle w. 3/10 would still pet https://t.co/IiSdmhkC5N    NaN\n",
       "This dog resembles a baked potato. Bed looks uncomfortable. No tail. Comes with butter tho. 3/10 petting still fun https://t.co/x89NSCEZCq      NaN\n",
       "My goodness. Very rare dog here. Large. Tail dangerous. Kinda fat. Only eats leaves. Doesn't come when called 3/10 https://t.co/xYGdBrMS9h      NaN\n",
       "This is a funny dog. Weird toes. Won't come down. Loves branch. Refuses to eat his food. Hard to cuddle with. 3/10 https://t.co/IIXis0zta0      NaN\n",
       "Name: text, dtype: object"
      ]
     },
     "execution_count": 28,
     "metadata": {},
     "output_type": "execute_result"
    }
   ],
   "source": [
    "df_tweet['text'][df_tweet.loc[df_tweet.rating_numerator == 3, 'text']]"
   ]
  },
  {
   "cell_type": "code",
   "execution_count": 29,
   "metadata": {},
   "outputs": [
    {
     "data": {
      "text/plain": [
       "10     2333\n",
       "11        3\n",
       "50        3\n",
       "80        2\n",
       "20        2\n",
       "2         1\n",
       "16        1\n",
       "40        1\n",
       "70        1\n",
       "15        1\n",
       "90        1\n",
       "110       1\n",
       "120       1\n",
       "130       1\n",
       "150       1\n",
       "170       1\n",
       "7         1\n",
       "0         1\n",
       "Name: rating_denominator, dtype: int64"
      ]
     },
     "execution_count": 29,
     "metadata": {},
     "output_type": "execute_result"
    }
   ],
   "source": [
    "df_tweet.rating_denominator.value_counts()\n",
    "# Mostly it's out of 10. There are few different ones as well."
   ]
  },
  {
   "cell_type": "code",
   "execution_count": 30,
   "metadata": {},
   "outputs": [
    {
     "data": {
      "text/plain": [
       "784     RT @dog_rates: After so many requests, this is...\n",
       "1068    After so many requests, this is Bretagne. She ...\n",
       "1662    This is Darrel. He just robbed a 7/11 and is i...\n",
       "Name: text, dtype: object"
      ]
     },
     "execution_count": 30,
     "metadata": {},
     "output_type": "execute_result"
    }
   ],
   "source": [
    "df_tweet.loc[df_tweet.rating_denominator == 11, 'text']"
   ]
  },
  {
   "cell_type": "code",
   "execution_count": 31,
   "metadata": {},
   "outputs": [
    {
     "data": {
      "text/plain": [
       "text\n",
       "RT @dog_rates: After so many requests, this is Bretagne. She was the last surviving 9/11 search dog, and our second ever 14/10. RIP https:/…    NaN\n",
       "After so many requests, this is Bretagne. She was the last surviving 9/11 search dog, and our second ever 14/10. RIP https://t.co/XAVDNDaVgQ    NaN\n",
       "This is Darrel. He just robbed a 7/11 and is in a high speed police chase. Was just spotted by the helicopter 10/10 https://t.co/7EsP8LmSp5     NaN\n",
       "Name: text, dtype: object"
      ]
     },
     "execution_count": 31,
     "metadata": {},
     "output_type": "execute_result"
    }
   ],
   "source": [
    "df_tweet['text'][df_tweet.loc[df_tweet.rating_denominator == 11, 'text']]"
   ]
  },
  {
   "cell_type": "code",
   "execution_count": 32,
   "metadata": {},
   "outputs": [
    {
     "data": {
      "text/plain": [
       "text\n",
       "This is Bluebert. He just saw that both #FinalFur match ups are split 50/50. Amazed af. 11/10 https://t.co/Kky1DPG4iq                                 NaN\n",
       "From left to right:\\nCletus, Jerome, Alejandro, Burp, &amp; Titson\\nNone know where camera is. 45/50 would hug all at once https://t.co/sedre1ivTK    NaN\n",
       "Here is a whole flock of puppers.  60/50 I'll take the lot https://t.co/9dpcw6MdWa                                                                    NaN\n",
       "Name: text, dtype: object"
      ]
     },
     "execution_count": 32,
     "metadata": {},
     "output_type": "execute_result"
    }
   ],
   "source": [
    "df_tweet['text'][df_tweet.loc[df_tweet.rating_denominator == 50, 'text']]"
   ]
  },
  {
   "cell_type": "code",
   "execution_count": 33,
   "metadata": {},
   "outputs": [
    {
     "data": {
      "text/plain": [
       "text\n",
       "Here's a brigade of puppers. All look very prepared for whatever happens next. 80/80 https://t.co/0eb7R1Om12    NaN\n",
       "Here we have an entire platoon of puppers. Total score: 88/80 would pet all at once https://t.co/y93p6FLvVw     NaN\n",
       "Name: text, dtype: object"
      ]
     },
     "execution_count": 33,
     "metadata": {},
     "output_type": "execute_result"
    }
   ],
   "source": [
    "df_tweet['text'][df_tweet.loc[df_tweet.rating_denominator == 80, 'text']]"
   ]
  },
  {
   "cell_type": "code",
   "execution_count": 34,
   "metadata": {},
   "outputs": [
    {
     "data": {
      "text/plain": [
       "text\n",
       "Happy 4/20 from the squad! 13/10 for all https://t.co/eV1diwds8a                                                                            NaN\n",
       "Yes I do realize a rating of 4/20 would've been fitting. However, it would be unjust to give these cooperative pups that low of a rating    NaN\n",
       "Name: text, dtype: object"
      ]
     },
     "execution_count": 34,
     "metadata": {},
     "output_type": "execute_result"
    }
   ],
   "source": [
    "df_tweet['text'][df_tweet.loc[df_tweet.rating_denominator == 20, 'text']]"
   ]
  },
  {
   "cell_type": "code",
   "execution_count": 35,
   "metadata": {},
   "outputs": [
    {
     "data": {
      "text/plain": [
       "text\n",
       "This is an Albanian 3 1/2 legged  Episcopalian. Loves well-polished hardwood flooring. Penis on the collar. 9/10 https://t.co/d9NcXFKwLv    NaN\n",
       "Name: text, dtype: object"
      ]
     },
     "execution_count": 35,
     "metadata": {},
     "output_type": "execute_result"
    }
   ],
   "source": [
    "df_tweet['text'][df_tweet.loc[df_tweet.rating_denominator == 2, 'text']]"
   ]
  },
  {
   "cell_type": "code",
   "execution_count": 36,
   "metadata": {},
   "outputs": [
    {
     "data": {
      "text/plain": [
       "text\n",
       "I'm aware that I could've said 20/16, but here at WeRateDogs we are very professional. An inconsistent rating scale is simply irresponsible    NaN\n",
       "Name: text, dtype: object"
      ]
     },
     "execution_count": 36,
     "metadata": {},
     "output_type": "execute_result"
    }
   ],
   "source": [
    "df_tweet['text'][df_tweet.loc[df_tweet.rating_denominator == 16, 'text']]"
   ]
  },
  {
   "cell_type": "code",
   "execution_count": 37,
   "metadata": {},
   "outputs": [
    {
     "data": {
      "text/plain": [
       "text\n",
       "Happy Wednesday here's a bucket of pups. 44/40 would pet all at once https://t.co/HppvrYuamZ    NaN\n",
       "Name: text, dtype: object"
      ]
     },
     "execution_count": 37,
     "metadata": {},
     "output_type": "execute_result"
    }
   ],
   "source": [
    "df_tweet['text'][df_tweet.loc[df_tweet.rating_denominator == 40, 'text']]"
   ]
  },
  {
   "cell_type": "code",
   "execution_count": 38,
   "metadata": {},
   "outputs": [
    {
     "data": {
      "text/plain": [
       "text\n",
       "The floofs have been released I repeat the floofs have been released. 84/70 https://t.co/NIYC820tmd    NaN\n",
       "Name: text, dtype: object"
      ]
     },
     "execution_count": 38,
     "metadata": {},
     "output_type": "execute_result"
    }
   ],
   "source": [
    "df_tweet['text'][df_tweet.loc[df_tweet.rating_denominator == 70, 'text']]"
   ]
  },
  {
   "cell_type": "code",
   "execution_count": 39,
   "metadata": {},
   "outputs": [
    {
     "data": {
      "text/plain": [
       "text\n",
       "@docmisterio account started on 11/15/15    NaN\n",
       "Name: text, dtype: object"
      ]
     },
     "execution_count": 39,
     "metadata": {},
     "output_type": "execute_result"
    }
   ],
   "source": [
    "df_tweet['text'][df_tweet.loc[df_tweet.rating_denominator == 15, 'text']]"
   ]
  },
  {
   "cell_type": "code",
   "execution_count": 40,
   "metadata": {},
   "outputs": [
    {
     "data": {
      "text/plain": [
       "text\n",
       "Happy Saturday here's 9 puppers on a bench. 99/90 good work everybody https://t.co/mpvaVxKmc1    NaN\n",
       "Name: text, dtype: object"
      ]
     },
     "execution_count": 40,
     "metadata": {},
     "output_type": "execute_result"
    }
   ],
   "source": [
    "df_tweet['text'][df_tweet.loc[df_tweet.rating_denominator == 90, 'text']]"
   ]
  },
  {
   "cell_type": "code",
   "execution_count": 41,
   "metadata": {},
   "outputs": [
    {
     "data": {
      "text/plain": [
       "text\n",
       "Someone help the girl is being mugged. Several are distracting her while two steal her shoes. Clever puppers 121/110 https://t.co/1zfnTJLt55    NaN\n",
       "Name: text, dtype: object"
      ]
     },
     "execution_count": 41,
     "metadata": {},
     "output_type": "execute_result"
    }
   ],
   "source": [
    "df_tweet['text'][df_tweet.loc[df_tweet.rating_denominator ==110   , 'text']]"
   ]
  },
  {
   "cell_type": "code",
   "execution_count": 42,
   "metadata": {},
   "outputs": [
    {
     "data": {
      "text/plain": [
       "text\n",
       "IT'S PUPPERGEDDON. Total of 144/120 ...I think https://t.co/ZanVtAtvIq    NaN\n",
       "Name: text, dtype: object"
      ]
     },
     "execution_count": 42,
     "metadata": {},
     "output_type": "execute_result"
    }
   ],
   "source": [
    "df_tweet['text'][df_tweet.loc[df_tweet.rating_denominator ==120   , 'text']]"
   ]
  },
  {
   "cell_type": "code",
   "execution_count": 43,
   "metadata": {},
   "outputs": [
    {
     "data": {
      "text/plain": [
       "text\n",
       "Two sneaky puppers were not initially seen, moving the rating to 143/130. Please forgive us. Thank you https://t.co/kRK51Y5ac3    NaN\n",
       "Name: text, dtype: object"
      ]
     },
     "execution_count": 43,
     "metadata": {},
     "output_type": "execute_result"
    }
   ],
   "source": [
    "df_tweet['text'][df_tweet.loc[df_tweet.rating_denominator ==130   , 'text']]"
   ]
  },
  {
   "cell_type": "code",
   "execution_count": 44,
   "metadata": {},
   "outputs": [
    {
     "data": {
      "text/plain": [
       "text\n",
       "Why does this never happen at my front door... 165/150 https://t.co/HmwrdfEfUE    NaN\n",
       "Name: text, dtype: object"
      ]
     },
     "execution_count": 44,
     "metadata": {},
     "output_type": "execute_result"
    }
   ],
   "source": [
    "df_tweet['text'][df_tweet.loc[df_tweet.rating_denominator ==150   , 'text']]"
   ]
  },
  {
   "cell_type": "code",
   "execution_count": 45,
   "metadata": {},
   "outputs": [
    {
     "data": {
      "text/plain": [
       "text\n",
       "Say hello to this unbelievably well behaved squad of doggos. 204/170 would try to pet all at once https://t.co/yGQI3He3xv    NaN\n",
       "Name: text, dtype: object"
      ]
     },
     "execution_count": 45,
     "metadata": {},
     "output_type": "execute_result"
    }
   ],
   "source": [
    "df_tweet['text'][df_tweet.loc[df_tweet.rating_denominator ==170   , 'text']]"
   ]
  },
  {
   "cell_type": "code",
   "execution_count": 46,
   "metadata": {},
   "outputs": [
    {
     "data": {
      "text/plain": [
       "text\n",
       "Meet Sam. She smiles 24/7 &amp; secretly aspires to be a reindeer. \\nKeep Sam smiling by clicking and sharing this link:\\nhttps://t.co/98tB8y7y7t https://t.co/LouL5vdvxx    NaN\n",
       "Name: text, dtype: object"
      ]
     },
     "execution_count": 46,
     "metadata": {},
     "output_type": "execute_result"
    }
   ],
   "source": [
    "df_tweet['text'][df_tweet.loc[df_tweet.rating_denominator ==7   , 'text']]"
   ]
  },
  {
   "cell_type": "code",
   "execution_count": 47,
   "metadata": {},
   "outputs": [
    {
     "data": {
      "text/plain": [
       "text\n",
       "@jonnysun @Lin_Manuel ok jomny I know you're excited but 960/00 isn't a valid rating, 13/10 is tho    NaN\n",
       "Name: text, dtype: object"
      ]
     },
     "execution_count": 47,
     "metadata": {},
     "output_type": "execute_result"
    }
   ],
   "source": [
    "df_tweet['text'][df_tweet.loc[df_tweet.rating_denominator ==0   , 'text']]"
   ]
  },
  {
   "cell_type": "markdown",
   "metadata": {},
   "source": [
    "### Converting Float Type to Integer Datatype\n",
    "As NaN can't be accomodated in Interger type so we first fill NaNs with Pandas and then converting it to integer from float."
   ]
  },
  {
   "cell_type": "code",
   "execution_count": 48,
   "metadata": {},
   "outputs": [],
   "source": [
    "df_tweet[\"retweeted_status_user_id\"].fillna(0,inplace= True)\n",
    "df_tweet[\"retweeted_status_id\"].fillna(0,inplace= True)\n",
    "df_tweet[\"in_reply_to_status_id\"].fillna(0,inplace= True)\n",
    "df_tweet[\"in_reply_to_user_id\"].fillna(0,inplace= True)"
   ]
  },
  {
   "cell_type": "code",
   "execution_count": 49,
   "metadata": {},
   "outputs": [],
   "source": [
    "df_tweet[\"retweeted_status_user_id\"] = df_tweet.retweeted_status_user_id.astype(np.uint64)\n",
    "df_tweet[\"retweeted_status_id\"] = df_tweet.retweeted_status_id.astype(np.uint64)\n",
    "df_tweet[\"in_reply_to_status_id\"] = df_tweet.in_reply_to_status_id.astype(np.uint64)\n",
    "df_tweet[\"in_reply_to_user_id\"] = df_tweet.in_reply_to_user_id.astype(np.uint64)"
   ]
  },
  {
   "cell_type": "markdown",
   "metadata": {},
   "source": [
    "### Converting Object Type to Integer Datatype`"
   ]
  },
  {
   "cell_type": "code",
   "execution_count": 50,
   "metadata": {},
   "outputs": [],
   "source": [
    "df_api[\"tweet_id\"] = df_api.tweet_id.astype(np.uint64)\n",
    "df_api[\"retweet_count\"] = df_api.retweet_count.astype(np.uint64)\n",
    "df_api[\"favorite_count\"] = df_api.favorite_count.astype(np.uint64)"
   ]
  },
  {
   "cell_type": "markdown",
   "metadata": {},
   "source": [
    "### Checking duplicates "
   ]
  },
  {
   "cell_type": "code",
   "execution_count": 51,
   "metadata": {},
   "outputs": [
    {
     "data": {
      "text/plain": [
       "0"
      ]
     },
     "execution_count": 51,
     "metadata": {},
     "output_type": "execute_result"
    }
   ],
   "source": [
    "df_tweet[\"tweet_id\"].duplicated().sum()"
   ]
  },
  {
   "cell_type": "code",
   "execution_count": 52,
   "metadata": {},
   "outputs": [
    {
     "data": {
      "text/plain": [
       "0"
      ]
     },
     "execution_count": 52,
     "metadata": {},
     "output_type": "execute_result"
    }
   ],
   "source": [
    "df_images[\"tweet_id\"].duplicated().sum()"
   ]
  },
  {
   "cell_type": "code",
   "execution_count": 53,
   "metadata": {},
   "outputs": [
    {
     "data": {
      "text/plain": [
       "0"
      ]
     },
     "execution_count": 53,
     "metadata": {},
     "output_type": "execute_result"
    }
   ],
   "source": [
    "df_api[\"tweet_id\"].duplicated().sum()"
   ]
  },
  {
   "cell_type": "markdown",
   "metadata": {},
   "source": [
    "### Removing all the Retweets"
   ]
  },
  {
   "cell_type": "code",
   "execution_count": 54,
   "metadata": {},
   "outputs": [
    {
     "data": {
      "text/html": [
       "<div>\n",
       "<style scoped>\n",
       "    .dataframe tbody tr th:only-of-type {\n",
       "        vertical-align: middle;\n",
       "    }\n",
       "\n",
       "    .dataframe tbody tr th {\n",
       "        vertical-align: top;\n",
       "    }\n",
       "\n",
       "    .dataframe thead th {\n",
       "        text-align: right;\n",
       "    }\n",
       "</style>\n",
       "<table border=\"1\" class=\"dataframe\">\n",
       "  <thead>\n",
       "    <tr style=\"text-align: right;\">\n",
       "      <th></th>\n",
       "      <th>tweet_id</th>\n",
       "      <th>in_reply_to_status_id</th>\n",
       "      <th>in_reply_to_user_id</th>\n",
       "      <th>timestamp</th>\n",
       "      <th>source</th>\n",
       "      <th>text</th>\n",
       "      <th>retweeted_status_id</th>\n",
       "      <th>retweeted_status_user_id</th>\n",
       "      <th>retweeted_status_timestamp</th>\n",
       "      <th>expanded_urls</th>\n",
       "      <th>rating_numerator</th>\n",
       "      <th>rating_denominator</th>\n",
       "      <th>name</th>\n",
       "      <th>doggo</th>\n",
       "      <th>floofer</th>\n",
       "      <th>pupper</th>\n",
       "      <th>puppo</th>\n",
       "    </tr>\n",
       "  </thead>\n",
       "  <tbody>\n",
       "    <tr>\n",
       "      <th>19</th>\n",
       "      <td>888202515573088257</td>\n",
       "      <td>0</td>\n",
       "      <td>0</td>\n",
       "      <td>2017-07-21 01:02:36</td>\n",
       "      <td>&lt;a href=\"http://twitter.com/download/iphone\" r...</td>\n",
       "      <td>RT @dog_rates: This is Canela. She attempted s...</td>\n",
       "      <td>887473957103951872</td>\n",
       "      <td>4196983835</td>\n",
       "      <td>2017-07-19 00:47:34</td>\n",
       "      <td>https://twitter.com/dog_rates/status/887473957...</td>\n",
       "      <td>13</td>\n",
       "      <td>10</td>\n",
       "      <td>Canela</td>\n",
       "      <td>None</td>\n",
       "      <td>None</td>\n",
       "      <td>None</td>\n",
       "      <td>None</td>\n",
       "    </tr>\n",
       "    <tr>\n",
       "      <th>32</th>\n",
       "      <td>886054160059072513</td>\n",
       "      <td>0</td>\n",
       "      <td>0</td>\n",
       "      <td>2017-07-15 02:45:48</td>\n",
       "      <td>&lt;a href=\"http://twitter.com/download/iphone\" r...</td>\n",
       "      <td>RT @Athletics: 12/10 #BATP https://t.co/WxwJmv...</td>\n",
       "      <td>886053734421102592</td>\n",
       "      <td>19607400</td>\n",
       "      <td>2017-07-15 02:44:07</td>\n",
       "      <td>https://twitter.com/dog_rates/status/886053434...</td>\n",
       "      <td>12</td>\n",
       "      <td>10</td>\n",
       "      <td>None</td>\n",
       "      <td>None</td>\n",
       "      <td>None</td>\n",
       "      <td>None</td>\n",
       "      <td>None</td>\n",
       "    </tr>\n",
       "    <tr>\n",
       "      <th>36</th>\n",
       "      <td>885311592912609280</td>\n",
       "      <td>0</td>\n",
       "      <td>0</td>\n",
       "      <td>2017-07-13 01:35:06</td>\n",
       "      <td>&lt;a href=\"http://twitter.com/download/iphone\" r...</td>\n",
       "      <td>RT @dog_rates: This is Lilly. She just paralle...</td>\n",
       "      <td>830583320585068544</td>\n",
       "      <td>4196983835</td>\n",
       "      <td>2017-02-12 01:04:29</td>\n",
       "      <td>https://twitter.com/dog_rates/status/830583320...</td>\n",
       "      <td>13</td>\n",
       "      <td>10</td>\n",
       "      <td>Lilly</td>\n",
       "      <td>None</td>\n",
       "      <td>None</td>\n",
       "      <td>None</td>\n",
       "      <td>None</td>\n",
       "    </tr>\n",
       "    <tr>\n",
       "      <th>68</th>\n",
       "      <td>879130579576475649</td>\n",
       "      <td>0</td>\n",
       "      <td>0</td>\n",
       "      <td>2017-06-26 00:13:58</td>\n",
       "      <td>&lt;a href=\"http://twitter.com/download/iphone\" r...</td>\n",
       "      <td>RT @dog_rates: This is Emmy. She was adopted t...</td>\n",
       "      <td>878057613040115712</td>\n",
       "      <td>4196983835</td>\n",
       "      <td>2017-06-23 01:10:23</td>\n",
       "      <td>https://twitter.com/dog_rates/status/878057613...</td>\n",
       "      <td>14</td>\n",
       "      <td>10</td>\n",
       "      <td>Emmy</td>\n",
       "      <td>None</td>\n",
       "      <td>None</td>\n",
       "      <td>None</td>\n",
       "      <td>None</td>\n",
       "    </tr>\n",
       "    <tr>\n",
       "      <th>73</th>\n",
       "      <td>878404777348136964</td>\n",
       "      <td>0</td>\n",
       "      <td>0</td>\n",
       "      <td>2017-06-24 00:09:53</td>\n",
       "      <td>&lt;a href=\"http://twitter.com/download/iphone\" r...</td>\n",
       "      <td>RT @dog_rates: Meet Shadow. In an attempt to r...</td>\n",
       "      <td>878281511006478336</td>\n",
       "      <td>4196983835</td>\n",
       "      <td>2017-06-23 16:00:04</td>\n",
       "      <td>https://www.gofundme.com/3yd6y1c,https://twitt...</td>\n",
       "      <td>13</td>\n",
       "      <td>10</td>\n",
       "      <td>Shadow</td>\n",
       "      <td>None</td>\n",
       "      <td>None</td>\n",
       "      <td>None</td>\n",
       "      <td>None</td>\n",
       "    </tr>\n",
       "    <tr>\n",
       "      <th>74</th>\n",
       "      <td>878316110768087041</td>\n",
       "      <td>0</td>\n",
       "      <td>0</td>\n",
       "      <td>2017-06-23 18:17:33</td>\n",
       "      <td>&lt;a href=\"http://twitter.com/download/iphone\" r...</td>\n",
       "      <td>RT @dog_rates: Meet Terrance. He's being yelle...</td>\n",
       "      <td>669000397445533696</td>\n",
       "      <td>4196983835</td>\n",
       "      <td>2015-11-24 03:51:38</td>\n",
       "      <td>https://twitter.com/dog_rates/status/669000397...</td>\n",
       "      <td>11</td>\n",
       "      <td>10</td>\n",
       "      <td>Terrance</td>\n",
       "      <td>None</td>\n",
       "      <td>None</td>\n",
       "      <td>None</td>\n",
       "      <td>None</td>\n",
       "    </tr>\n",
       "    <tr>\n",
       "      <th>78</th>\n",
       "      <td>877611172832227328</td>\n",
       "      <td>0</td>\n",
       "      <td>0</td>\n",
       "      <td>2017-06-21 19:36:23</td>\n",
       "      <td>&lt;a href=\"http://twitter.com/download/iphone\" r...</td>\n",
       "      <td>RT @rachel2195: @dog_rates the boyfriend and h...</td>\n",
       "      <td>876850772322988032</td>\n",
       "      <td>512804507</td>\n",
       "      <td>2017-06-19 17:14:49</td>\n",
       "      <td>https://twitter.com/rachel2195/status/87685077...</td>\n",
       "      <td>14</td>\n",
       "      <td>10</td>\n",
       "      <td>None</td>\n",
       "      <td>None</td>\n",
       "      <td>None</td>\n",
       "      <td>pupper</td>\n",
       "      <td>None</td>\n",
       "    </tr>\n",
       "    <tr>\n",
       "      <th>91</th>\n",
       "      <td>874434818259525634</td>\n",
       "      <td>0</td>\n",
       "      <td>0</td>\n",
       "      <td>2017-06-13 01:14:41</td>\n",
       "      <td>&lt;a href=\"http://twitter.com/download/iphone\" r...</td>\n",
       "      <td>RT @dog_rates: This is Coco. At first I though...</td>\n",
       "      <td>866334964761202688</td>\n",
       "      <td>4196983835</td>\n",
       "      <td>2017-05-21 16:48:45</td>\n",
       "      <td>https://twitter.com/dog_rates/status/866334964...</td>\n",
       "      <td>12</td>\n",
       "      <td>10</td>\n",
       "      <td>Coco</td>\n",
       "      <td>None</td>\n",
       "      <td>None</td>\n",
       "      <td>None</td>\n",
       "      <td>None</td>\n",
       "    </tr>\n",
       "    <tr>\n",
       "      <th>95</th>\n",
       "      <td>873697596434513921</td>\n",
       "      <td>0</td>\n",
       "      <td>0</td>\n",
       "      <td>2017-06-11 00:25:14</td>\n",
       "      <td>&lt;a href=\"http://twitter.com/download/iphone\" r...</td>\n",
       "      <td>RT @dog_rates: This is Walter. He won't start ...</td>\n",
       "      <td>868880397819494400</td>\n",
       "      <td>4196983835</td>\n",
       "      <td>2017-05-28 17:23:24</td>\n",
       "      <td>https://twitter.com/dog_rates/status/868880397...</td>\n",
       "      <td>14</td>\n",
       "      <td>10</td>\n",
       "      <td>Walter</td>\n",
       "      <td>None</td>\n",
       "      <td>None</td>\n",
       "      <td>None</td>\n",
       "      <td>None</td>\n",
       "    </tr>\n",
       "    <tr>\n",
       "      <th>97</th>\n",
       "      <td>873337748698140672</td>\n",
       "      <td>0</td>\n",
       "      <td>0</td>\n",
       "      <td>2017-06-10 00:35:19</td>\n",
       "      <td>&lt;a href=\"http://twitter.com/download/iphone\" r...</td>\n",
       "      <td>RT @dog_rates: This is Sierra. She's one preci...</td>\n",
       "      <td>873213775632977920</td>\n",
       "      <td>4196983835</td>\n",
       "      <td>2017-06-09 16:22:42</td>\n",
       "      <td>https://www.gofundme.com/help-my-baby-sierra-g...</td>\n",
       "      <td>12</td>\n",
       "      <td>10</td>\n",
       "      <td>Sierra</td>\n",
       "      <td>None</td>\n",
       "      <td>None</td>\n",
       "      <td>pupper</td>\n",
       "      <td>None</td>\n",
       "    </tr>\n",
       "    <tr>\n",
       "      <th>101</th>\n",
       "      <td>872668790621863937</td>\n",
       "      <td>0</td>\n",
       "      <td>0</td>\n",
       "      <td>2017-06-08 04:17:07</td>\n",
       "      <td>&lt;a href=\"http://twitter.com/download/iphone\" r...</td>\n",
       "      <td>RT @loganamnosis: Penelope here is doing me qu...</td>\n",
       "      <td>872657584259551232</td>\n",
       "      <td>154767397</td>\n",
       "      <td>2017-06-08 03:32:35</td>\n",
       "      <td>https://twitter.com/loganamnosis/status/872657...</td>\n",
       "      <td>14</td>\n",
       "      <td>10</td>\n",
       "      <td>None</td>\n",
       "      <td>None</td>\n",
       "      <td>None</td>\n",
       "      <td>None</td>\n",
       "      <td>None</td>\n",
       "    </tr>\n",
       "    <tr>\n",
       "      <th>109</th>\n",
       "      <td>871166179821445120</td>\n",
       "      <td>0</td>\n",
       "      <td>0</td>\n",
       "      <td>2017-06-04 00:46:17</td>\n",
       "      <td>&lt;a href=\"http://twitter.com/download/iphone\" r...</td>\n",
       "      <td>RT @dog_rates: This is Dawn. She's just checki...</td>\n",
       "      <td>841077006473256960</td>\n",
       "      <td>4196983835</td>\n",
       "      <td>2017-03-13 00:02:39</td>\n",
       "      <td>https://twitter.com/dog_rates/status/841077006...</td>\n",
       "      <td>12</td>\n",
       "      <td>10</td>\n",
       "      <td>Dawn</td>\n",
       "      <td>None</td>\n",
       "      <td>None</td>\n",
       "      <td>None</td>\n",
       "      <td>None</td>\n",
       "    </tr>\n",
       "    <tr>\n",
       "      <th>118</th>\n",
       "      <td>869988702071779329</td>\n",
       "      <td>0</td>\n",
       "      <td>0</td>\n",
       "      <td>2017-05-31 18:47:24</td>\n",
       "      <td>&lt;a href=\"http://twitter.com/download/iphone\" r...</td>\n",
       "      <td>RT @dog_rates: We only rate dogs. This is quit...</td>\n",
       "      <td>859196978902773760</td>\n",
       "      <td>4196983835</td>\n",
       "      <td>2017-05-02 00:04:57</td>\n",
       "      <td>https://twitter.com/dog_rates/status/859196978...</td>\n",
       "      <td>12</td>\n",
       "      <td>10</td>\n",
       "      <td>quite</td>\n",
       "      <td>None</td>\n",
       "      <td>None</td>\n",
       "      <td>None</td>\n",
       "      <td>None</td>\n",
       "    </tr>\n",
       "    <tr>\n",
       "      <th>124</th>\n",
       "      <td>868639477480148993</td>\n",
       "      <td>0</td>\n",
       "      <td>0</td>\n",
       "      <td>2017-05-28 01:26:04</td>\n",
       "      <td>&lt;a href=\"http://twitter.com/download/iphone\" r...</td>\n",
       "      <td>RT @dog_rates: Say hello to Cooper. His expres...</td>\n",
       "      <td>868552278524837888</td>\n",
       "      <td>4196983835</td>\n",
       "      <td>2017-05-27 19:39:34</td>\n",
       "      <td>https://www.gofundme.com/3ti3nps,https://twitt...</td>\n",
       "      <td>12</td>\n",
       "      <td>10</td>\n",
       "      <td>Cooper</td>\n",
       "      <td>None</td>\n",
       "      <td>None</td>\n",
       "      <td>None</td>\n",
       "      <td>None</td>\n",
       "    </tr>\n",
       "    <tr>\n",
       "      <th>130</th>\n",
       "      <td>867072653475098625</td>\n",
       "      <td>0</td>\n",
       "      <td>0</td>\n",
       "      <td>2017-05-23 17:40:04</td>\n",
       "      <td>&lt;a href=\"http://twitter.com/download/iphone\" r...</td>\n",
       "      <td>RT @rachaeleasler: these @dog_rates hats are 1...</td>\n",
       "      <td>865013420445368320</td>\n",
       "      <td>787461778435289088</td>\n",
       "      <td>2017-05-18 01:17:25</td>\n",
       "      <td>https://twitter.com/rachaeleasler/status/86501...</td>\n",
       "      <td>13</td>\n",
       "      <td>10</td>\n",
       "      <td>None</td>\n",
       "      <td>None</td>\n",
       "      <td>None</td>\n",
       "      <td>None</td>\n",
       "      <td>None</td>\n",
       "    </tr>\n",
       "    <tr>\n",
       "      <th>132</th>\n",
       "      <td>866816280283807744</td>\n",
       "      <td>0</td>\n",
       "      <td>0</td>\n",
       "      <td>2017-05-23 00:41:20</td>\n",
       "      <td>&lt;a href=\"http://twitter.com/download/iphone\" r...</td>\n",
       "      <td>RT @dog_rates: This is Jamesy. He gives a kiss...</td>\n",
       "      <td>866450705531457536</td>\n",
       "      <td>4196983835</td>\n",
       "      <td>2017-05-22 00:28:40</td>\n",
       "      <td>https://twitter.com/dog_rates/status/866450705...</td>\n",
       "      <td>13</td>\n",
       "      <td>10</td>\n",
       "      <td>Jamesy</td>\n",
       "      <td>None</td>\n",
       "      <td>None</td>\n",
       "      <td>pupper</td>\n",
       "      <td>None</td>\n",
       "    </tr>\n",
       "    <tr>\n",
       "      <th>137</th>\n",
       "      <td>866094527597207552</td>\n",
       "      <td>0</td>\n",
       "      <td>0</td>\n",
       "      <td>2017-05-21 00:53:21</td>\n",
       "      <td>&lt;a href=\"http://twitter.com/download/iphone\" r...</td>\n",
       "      <td>RT @dog_rates: Here's a pupper before and afte...</td>\n",
       "      <td>837820167694528512</td>\n",
       "      <td>4196983835</td>\n",
       "      <td>2017-03-04 00:21:08</td>\n",
       "      <td>https://twitter.com/dog_rates/status/837820167...</td>\n",
       "      <td>12</td>\n",
       "      <td>10</td>\n",
       "      <td>None</td>\n",
       "      <td>None</td>\n",
       "      <td>None</td>\n",
       "      <td>pupper</td>\n",
       "      <td>None</td>\n",
       "    </tr>\n",
       "    <tr>\n",
       "      <th>146</th>\n",
       "      <td>863471782782697472</td>\n",
       "      <td>0</td>\n",
       "      <td>0</td>\n",
       "      <td>2017-05-13 19:11:30</td>\n",
       "      <td>&lt;a href=\"http://twitter.com/download/iphone\" r...</td>\n",
       "      <td>RT @dog_rates: Say hello to Quinn. She's quite...</td>\n",
       "      <td>863062471531167744</td>\n",
       "      <td>4196983835</td>\n",
       "      <td>2017-05-12 16:05:02</td>\n",
       "      <td>https://www.gofundme.com/helpquinny,https://tw...</td>\n",
       "      <td>13</td>\n",
       "      <td>10</td>\n",
       "      <td>Quinn</td>\n",
       "      <td>None</td>\n",
       "      <td>None</td>\n",
       "      <td>None</td>\n",
       "      <td>None</td>\n",
       "    </tr>\n",
       "    <tr>\n",
       "      <th>155</th>\n",
       "      <td>861769973181624320</td>\n",
       "      <td>0</td>\n",
       "      <td>0</td>\n",
       "      <td>2017-05-09 02:29:07</td>\n",
       "      <td>&lt;a href=\"http://twitter.com/download/iphone\" r...</td>\n",
       "      <td>RT @dog_rates: \"Good afternoon class today we'...</td>\n",
       "      <td>806629075125202944</td>\n",
       "      <td>4196983835</td>\n",
       "      <td>2016-12-07 22:38:52</td>\n",
       "      <td>https://twitter.com/dog_rates/status/806629075...</td>\n",
       "      <td>13</td>\n",
       "      <td>10</td>\n",
       "      <td>None</td>\n",
       "      <td>None</td>\n",
       "      <td>None</td>\n",
       "      <td>None</td>\n",
       "      <td>None</td>\n",
       "    </tr>\n",
       "    <tr>\n",
       "      <th>159</th>\n",
       "      <td>860981674716409858</td>\n",
       "      <td>0</td>\n",
       "      <td>0</td>\n",
       "      <td>2017-05-06 22:16:42</td>\n",
       "      <td>&lt;a href=\"http://twitter.com/download/iphone\" r...</td>\n",
       "      <td>RT @dog_rates: Meet Lorenzo. He's an avid nift...</td>\n",
       "      <td>860563773140209664</td>\n",
       "      <td>4196983835</td>\n",
       "      <td>2017-05-05 18:36:06</td>\n",
       "      <td>https://www.gofundme.com/help-lorenzo-beat-can...</td>\n",
       "      <td>13</td>\n",
       "      <td>10</td>\n",
       "      <td>Lorenzo</td>\n",
       "      <td>None</td>\n",
       "      <td>None</td>\n",
       "      <td>None</td>\n",
       "      <td>None</td>\n",
       "    </tr>\n",
       "    <tr>\n",
       "      <th>160</th>\n",
       "      <td>860924035999428608</td>\n",
       "      <td>0</td>\n",
       "      <td>0</td>\n",
       "      <td>2017-05-06 18:27:40</td>\n",
       "      <td>&lt;a href=\"http://twitter.com/download/iphone\" r...</td>\n",
       "      <td>RT @tallylott: h*ckin adorable promposal. 13/1...</td>\n",
       "      <td>860914485250469888</td>\n",
       "      <td>363890752</td>\n",
       "      <td>2017-05-06 17:49:42</td>\n",
       "      <td>https://twitter.com/tallylott/status/860914485...</td>\n",
       "      <td>13</td>\n",
       "      <td>10</td>\n",
       "      <td>None</td>\n",
       "      <td>None</td>\n",
       "      <td>None</td>\n",
       "      <td>None</td>\n",
       "      <td>None</td>\n",
       "    </tr>\n",
       "    <tr>\n",
       "      <th>165</th>\n",
       "      <td>860177593139703809</td>\n",
       "      <td>0</td>\n",
       "      <td>0</td>\n",
       "      <td>2017-05-04 17:01:34</td>\n",
       "      <td>&lt;a href=\"http://twitter.com/download/iphone\" r...</td>\n",
       "      <td>RT @dog_rates: Ohboyohboyohboyohboyohboyohboyo...</td>\n",
       "      <td>761672994376806400</td>\n",
       "      <td>4196983835</td>\n",
       "      <td>2016-08-05 21:19:27</td>\n",
       "      <td>https://twitter.com/dog_rates/status/761672994...</td>\n",
       "      <td>10</td>\n",
       "      <td>10</td>\n",
       "      <td>None</td>\n",
       "      <td>None</td>\n",
       "      <td>None</td>\n",
       "      <td>None</td>\n",
       "      <td>None</td>\n",
       "    </tr>\n",
       "    <tr>\n",
       "      <th>171</th>\n",
       "      <td>858860390427611136</td>\n",
       "      <td>0</td>\n",
       "      <td>0</td>\n",
       "      <td>2017-05-01 01:47:28</td>\n",
       "      <td>&lt;a href=\"http://twitter.com/download/iphone\" r...</td>\n",
       "      <td>RT @dog_rates: Meet Winston. He knows he's a l...</td>\n",
       "      <td>839549326359670784</td>\n",
       "      <td>4196983835</td>\n",
       "      <td>2017-03-08 18:52:12</td>\n",
       "      <td>https://twitter.com/dog_rates/status/839549326...</td>\n",
       "      <td>12</td>\n",
       "      <td>10</td>\n",
       "      <td>Winston</td>\n",
       "      <td>None</td>\n",
       "      <td>None</td>\n",
       "      <td>None</td>\n",
       "      <td>None</td>\n",
       "    </tr>\n",
       "    <tr>\n",
       "      <th>180</th>\n",
       "      <td>857062103051644929</td>\n",
       "      <td>0</td>\n",
       "      <td>0</td>\n",
       "      <td>2017-04-26 02:41:43</td>\n",
       "      <td>&lt;a href=\"http://twitter.com/download/iphone\" r...</td>\n",
       "      <td>RT @AaronChewning: First time wearing my @dog_...</td>\n",
       "      <td>857061112319234048</td>\n",
       "      <td>58709723</td>\n",
       "      <td>2017-04-26 02:37:47</td>\n",
       "      <td>https://twitter.com/AaronChewning/status/85706...</td>\n",
       "      <td>13</td>\n",
       "      <td>10</td>\n",
       "      <td>None</td>\n",
       "      <td>None</td>\n",
       "      <td>None</td>\n",
       "      <td>None</td>\n",
       "      <td>None</td>\n",
       "    </tr>\n",
       "    <tr>\n",
       "      <th>182</th>\n",
       "      <td>856602993587888130</td>\n",
       "      <td>0</td>\n",
       "      <td>0</td>\n",
       "      <td>2017-04-24 20:17:23</td>\n",
       "      <td>&lt;a href=\"http://twitter.com/download/iphone\" r...</td>\n",
       "      <td>RT @dog_rates: This is Luna. It's her first ti...</td>\n",
       "      <td>844704788403113984</td>\n",
       "      <td>4196983835</td>\n",
       "      <td>2017-03-23 00:18:10</td>\n",
       "      <td>https://twitter.com/dog_rates/status/844704788...</td>\n",
       "      <td>13</td>\n",
       "      <td>10</td>\n",
       "      <td>Luna</td>\n",
       "      <td>None</td>\n",
       "      <td>None</td>\n",
       "      <td>None</td>\n",
       "      <td>None</td>\n",
       "    </tr>\n",
       "    <tr>\n",
       "      <th>185</th>\n",
       "      <td>856330835276025856</td>\n",
       "      <td>0</td>\n",
       "      <td>0</td>\n",
       "      <td>2017-04-24 02:15:55</td>\n",
       "      <td>&lt;a href=\"http://twitter.com/download/iphone\" r...</td>\n",
       "      <td>RT @Jenna_Marbles: @dog_rates Thanks for ratin...</td>\n",
       "      <td>856330158768218112</td>\n",
       "      <td>66699013</td>\n",
       "      <td>2017-04-24 02:13:14</td>\n",
       "      <td>NaN</td>\n",
       "      <td>14</td>\n",
       "      <td>10</td>\n",
       "      <td>None</td>\n",
       "      <td>None</td>\n",
       "      <td>None</td>\n",
       "      <td>None</td>\n",
       "      <td>None</td>\n",
       "    </tr>\n",
       "    <tr>\n",
       "      <th>194</th>\n",
       "      <td>855245323840757760</td>\n",
       "      <td>0</td>\n",
       "      <td>0</td>\n",
       "      <td>2017-04-21 02:22:29</td>\n",
       "      <td>&lt;a href=\"http://twitter.com/download/iphone\" r...</td>\n",
       "      <td>RT @dog_rates: Meet George. He looks slightly ...</td>\n",
       "      <td>842163532590374912</td>\n",
       "      <td>4196983835</td>\n",
       "      <td>2017-03-16 00:00:07</td>\n",
       "      <td>https://twitter.com/dog_rates/status/842163532...</td>\n",
       "      <td>12</td>\n",
       "      <td>10</td>\n",
       "      <td>George</td>\n",
       "      <td>None</td>\n",
       "      <td>None</td>\n",
       "      <td>None</td>\n",
       "      <td>None</td>\n",
       "    </tr>\n",
       "    <tr>\n",
       "      <th>195</th>\n",
       "      <td>855138241867124737</td>\n",
       "      <td>0</td>\n",
       "      <td>0</td>\n",
       "      <td>2017-04-20 19:16:59</td>\n",
       "      <td>&lt;a href=\"http://twitter.com/download/iphone\" r...</td>\n",
       "      <td>RT @frasercampbell_: oh my... what's that... b...</td>\n",
       "      <td>855122533267460096</td>\n",
       "      <td>747554344434831360</td>\n",
       "      <td>2017-04-20 18:14:33</td>\n",
       "      <td>https://twitter.com/frasercampbell_/status/855...</td>\n",
       "      <td>14</td>\n",
       "      <td>10</td>\n",
       "      <td>None</td>\n",
       "      <td>None</td>\n",
       "      <td>None</td>\n",
       "      <td>None</td>\n",
       "      <td>None</td>\n",
       "    </tr>\n",
       "    <tr>\n",
       "      <th>204</th>\n",
       "      <td>852936405516943360</td>\n",
       "      <td>0</td>\n",
       "      <td>0</td>\n",
       "      <td>2017-04-14 17:27:40</td>\n",
       "      <td>&lt;a href=\"http://twitter.com/download/iphone\" r...</td>\n",
       "      <td>RT @dog_rates: I usually only share these on F...</td>\n",
       "      <td>831650051525054464</td>\n",
       "      <td>4196983835</td>\n",
       "      <td>2017-02-14 23:43:18</td>\n",
       "      <td>http://www.gofundme.com/bluethewhitehusky,http...</td>\n",
       "      <td>13</td>\n",
       "      <td>10</td>\n",
       "      <td>None</td>\n",
       "      <td>None</td>\n",
       "      <td>None</td>\n",
       "      <td>None</td>\n",
       "      <td>None</td>\n",
       "    </tr>\n",
       "    <tr>\n",
       "      <th>211</th>\n",
       "      <td>851953902622658560</td>\n",
       "      <td>0</td>\n",
       "      <td>0</td>\n",
       "      <td>2017-04-12 00:23:33</td>\n",
       "      <td>&lt;a href=\"http://twitter.com/download/iphone\" r...</td>\n",
       "      <td>RT @dog_rates: This is Astrid. She's a guide d...</td>\n",
       "      <td>829374341691346944</td>\n",
       "      <td>4196983835</td>\n",
       "      <td>2017-02-08 17:00:26</td>\n",
       "      <td>https://twitter.com/dog_rates/status/829374341...</td>\n",
       "      <td>13</td>\n",
       "      <td>10</td>\n",
       "      <td>Astrid</td>\n",
       "      <td>doggo</td>\n",
       "      <td>None</td>\n",
       "      <td>None</td>\n",
       "      <td>None</td>\n",
       "    </tr>\n",
       "    <tr>\n",
       "      <th>...</th>\n",
       "      <td>...</td>\n",
       "      <td>...</td>\n",
       "      <td>...</td>\n",
       "      <td>...</td>\n",
       "      <td>...</td>\n",
       "      <td>...</td>\n",
       "      <td>...</td>\n",
       "      <td>...</td>\n",
       "      <td>...</td>\n",
       "      <td>...</td>\n",
       "      <td>...</td>\n",
       "      <td>...</td>\n",
       "      <td>...</td>\n",
       "      <td>...</td>\n",
       "      <td>...</td>\n",
       "      <td>...</td>\n",
       "      <td>...</td>\n",
       "    </tr>\n",
       "    <tr>\n",
       "      <th>784</th>\n",
       "      <td>775096608509886464</td>\n",
       "      <td>0</td>\n",
       "      <td>0</td>\n",
       "      <td>2016-09-11 22:20:06</td>\n",
       "      <td>&lt;a href=\"http://twitter.com/download/iphone\" r...</td>\n",
       "      <td>RT @dog_rates: After so many requests, this is...</td>\n",
       "      <td>740373189193256960</td>\n",
       "      <td>4196983835</td>\n",
       "      <td>2016-06-08 02:41:38</td>\n",
       "      <td>https://twitter.com/dog_rates/status/740373189...</td>\n",
       "      <td>9</td>\n",
       "      <td>11</td>\n",
       "      <td>None</td>\n",
       "      <td>None</td>\n",
       "      <td>None</td>\n",
       "      <td>None</td>\n",
       "      <td>None</td>\n",
       "    </tr>\n",
       "    <tr>\n",
       "      <th>794</th>\n",
       "      <td>773336787167145985</td>\n",
       "      <td>0</td>\n",
       "      <td>0</td>\n",
       "      <td>2016-09-07 01:47:12</td>\n",
       "      <td>&lt;a href=\"http://twitter.com/download/iphone\" r...</td>\n",
       "      <td>RT @dog_rates: Meet Fizz. She thinks love is a...</td>\n",
       "      <td>771380798096281600</td>\n",
       "      <td>4196983835</td>\n",
       "      <td>2016-09-01 16:14:48</td>\n",
       "      <td>https://twitter.com/dog_rates/status/771380798...</td>\n",
       "      <td>11</td>\n",
       "      <td>10</td>\n",
       "      <td>Fizz</td>\n",
       "      <td>None</td>\n",
       "      <td>None</td>\n",
       "      <td>None</td>\n",
       "      <td>None</td>\n",
       "    </tr>\n",
       "    <tr>\n",
       "      <th>800</th>\n",
       "      <td>772615324260794368</td>\n",
       "      <td>0</td>\n",
       "      <td>0</td>\n",
       "      <td>2016-09-05 02:00:22</td>\n",
       "      <td>&lt;a href=\"http://twitter.com/download/iphone\" r...</td>\n",
       "      <td>RT @dog_rates: This is Gromit. He's pupset bec...</td>\n",
       "      <td>765222098633691136</td>\n",
       "      <td>4196983835</td>\n",
       "      <td>2016-08-15 16:22:20</td>\n",
       "      <td>https://twitter.com/dog_rates/status/765222098...</td>\n",
       "      <td>10</td>\n",
       "      <td>10</td>\n",
       "      <td>Gromit</td>\n",
       "      <td>None</td>\n",
       "      <td>None</td>\n",
       "      <td>None</td>\n",
       "      <td>None</td>\n",
       "    </tr>\n",
       "    <tr>\n",
       "      <th>811</th>\n",
       "      <td>771171053431250945</td>\n",
       "      <td>0</td>\n",
       "      <td>0</td>\n",
       "      <td>2016-09-01 02:21:21</td>\n",
       "      <td>&lt;a href=\"http://twitter.com/download/iphone\" r...</td>\n",
       "      <td>RT @dog_rates: This is Frankie. He's wearing b...</td>\n",
       "      <td>673320132811366400</td>\n",
       "      <td>4196983835</td>\n",
       "      <td>2015-12-06 01:56:44</td>\n",
       "      <td>https://twitter.com/dog_rates/status/673320132...</td>\n",
       "      <td>11</td>\n",
       "      <td>10</td>\n",
       "      <td>Frankie</td>\n",
       "      <td>None</td>\n",
       "      <td>None</td>\n",
       "      <td>None</td>\n",
       "      <td>None</td>\n",
       "    </tr>\n",
       "    <tr>\n",
       "      <th>815</th>\n",
       "      <td>771004394259247104</td>\n",
       "      <td>0</td>\n",
       "      <td>0</td>\n",
       "      <td>2016-08-31 15:19:06</td>\n",
       "      <td>&lt;a href=\"http://twitter.com/download/iphone\" r...</td>\n",
       "      <td>RT @katieornah: @dog_rates learning a lot at c...</td>\n",
       "      <td>771002130450743296</td>\n",
       "      <td>1732729088</td>\n",
       "      <td>2016-08-31 15:10:07</td>\n",
       "      <td>https://twitter.com/katieornah/status/77100213...</td>\n",
       "      <td>12</td>\n",
       "      <td>10</td>\n",
       "      <td>None</td>\n",
       "      <td>None</td>\n",
       "      <td>None</td>\n",
       "      <td>pupper</td>\n",
       "      <td>None</td>\n",
       "    </tr>\n",
       "    <tr>\n",
       "      <th>818</th>\n",
       "      <td>770743923962707968</td>\n",
       "      <td>0</td>\n",
       "      <td>0</td>\n",
       "      <td>2016-08-30 22:04:05</td>\n",
       "      <td>&lt;a href=\"http://twitter.com/download/iphone\" r...</td>\n",
       "      <td>RT @dog_rates: Here's a doggo blowing bubbles....</td>\n",
       "      <td>739238157791694848</td>\n",
       "      <td>4196983835</td>\n",
       "      <td>2016-06-04 23:31:25</td>\n",
       "      <td>https://twitter.com/dog_rates/status/739238157...</td>\n",
       "      <td>13</td>\n",
       "      <td>10</td>\n",
       "      <td>None</td>\n",
       "      <td>doggo</td>\n",
       "      <td>None</td>\n",
       "      <td>None</td>\n",
       "      <td>None</td>\n",
       "    </tr>\n",
       "    <tr>\n",
       "      <th>822</th>\n",
       "      <td>770093767776997377</td>\n",
       "      <td>0</td>\n",
       "      <td>0</td>\n",
       "      <td>2016-08-29 03:00:36</td>\n",
       "      <td>&lt;a href=\"http://twitter.com/download/iphone\" r...</td>\n",
       "      <td>RT @dog_rates: This is just downright precious...</td>\n",
       "      <td>741067306818797568</td>\n",
       "      <td>4196983835</td>\n",
       "      <td>2016-06-10 00:39:48</td>\n",
       "      <td>https://twitter.com/dog_rates/status/741067306...</td>\n",
       "      <td>12</td>\n",
       "      <td>10</td>\n",
       "      <td>just</td>\n",
       "      <td>doggo</td>\n",
       "      <td>None</td>\n",
       "      <td>pupper</td>\n",
       "      <td>None</td>\n",
       "    </tr>\n",
       "    <tr>\n",
       "      <th>826</th>\n",
       "      <td>769335591808995329</td>\n",
       "      <td>0</td>\n",
       "      <td>0</td>\n",
       "      <td>2016-08-27 00:47:53</td>\n",
       "      <td>&lt;a href=\"http://twitter.com/download/iphone\" r...</td>\n",
       "      <td>RT @dog_rates: Ever seen a dog pet another dog...</td>\n",
       "      <td>706904523814649856</td>\n",
       "      <td>4196983835</td>\n",
       "      <td>2016-03-07 18:09:06</td>\n",
       "      <td>https://vine.co/v/iXQAm5Lrgrh,https://vine.co/...</td>\n",
       "      <td>13</td>\n",
       "      <td>10</td>\n",
       "      <td>None</td>\n",
       "      <td>None</td>\n",
       "      <td>None</td>\n",
       "      <td>None</td>\n",
       "      <td>None</td>\n",
       "    </tr>\n",
       "    <tr>\n",
       "      <th>829</th>\n",
       "      <td>768909767477751808</td>\n",
       "      <td>0</td>\n",
       "      <td>0</td>\n",
       "      <td>2016-08-25 20:35:48</td>\n",
       "      <td>&lt;a href=\"http://twitter.com/download/iphone\" r...</td>\n",
       "      <td>RT @dog_rates: When it's Janet from accounting...</td>\n",
       "      <td>700143752053182464</td>\n",
       "      <td>4196983835</td>\n",
       "      <td>2016-02-18 02:24:13</td>\n",
       "      <td>https://twitter.com/dog_rates/status/700143752...</td>\n",
       "      <td>10</td>\n",
       "      <td>10</td>\n",
       "      <td>None</td>\n",
       "      <td>None</td>\n",
       "      <td>None</td>\n",
       "      <td>pupper</td>\n",
       "      <td>None</td>\n",
       "    </tr>\n",
       "    <tr>\n",
       "      <th>833</th>\n",
       "      <td>768554158521745409</td>\n",
       "      <td>0</td>\n",
       "      <td>0</td>\n",
       "      <td>2016-08-24 21:02:45</td>\n",
       "      <td>&lt;a href=\"http://twitter.com/download/iphone\" r...</td>\n",
       "      <td>RT @dog_rates: This is Nollie. She's waving at...</td>\n",
       "      <td>739979191639244800</td>\n",
       "      <td>4196983835</td>\n",
       "      <td>2016-06-07 00:36:02</td>\n",
       "      <td>https://twitter.com/dog_rates/status/739979191...</td>\n",
       "      <td>12</td>\n",
       "      <td>10</td>\n",
       "      <td>Nollie</td>\n",
       "      <td>None</td>\n",
       "      <td>None</td>\n",
       "      <td>None</td>\n",
       "      <td>None</td>\n",
       "    </tr>\n",
       "    <tr>\n",
       "      <th>841</th>\n",
       "      <td>766864461642756096</td>\n",
       "      <td>0</td>\n",
       "      <td>0</td>\n",
       "      <td>2016-08-20 05:08:29</td>\n",
       "      <td>&lt;a href=\"http://twitter.com/download/iphone\" r...</td>\n",
       "      <td>RT @dog_rates: We only rate dogs... this is a ...</td>\n",
       "      <td>759923798737051648</td>\n",
       "      <td>4196983835</td>\n",
       "      <td>2016-08-01 01:28:46</td>\n",
       "      <td>https://twitter.com/dog_rates/status/759923798...</td>\n",
       "      <td>10</td>\n",
       "      <td>10</td>\n",
       "      <td>None</td>\n",
       "      <td>None</td>\n",
       "      <td>None</td>\n",
       "      <td>None</td>\n",
       "      <td>None</td>\n",
       "    </tr>\n",
       "    <tr>\n",
       "      <th>847</th>\n",
       "      <td>766078092750233600</td>\n",
       "      <td>0</td>\n",
       "      <td>0</td>\n",
       "      <td>2016-08-18 01:03:45</td>\n",
       "      <td>&lt;a href=\"http://twitter.com/download/iphone\" r...</td>\n",
       "      <td>RT @dog_rates: This is Colby. He's currently r...</td>\n",
       "      <td>725842289046749184</td>\n",
       "      <td>4196983835</td>\n",
       "      <td>2016-04-29 00:21:01</td>\n",
       "      <td>https://twitter.com/dog_rates/status/725842289...</td>\n",
       "      <td>12</td>\n",
       "      <td>10</td>\n",
       "      <td>Colby</td>\n",
       "      <td>None</td>\n",
       "      <td>None</td>\n",
       "      <td>None</td>\n",
       "      <td>None</td>\n",
       "    </tr>\n",
       "    <tr>\n",
       "      <th>860</th>\n",
       "      <td>763167063695355904</td>\n",
       "      <td>0</td>\n",
       "      <td>0</td>\n",
       "      <td>2016-08-10 00:16:21</td>\n",
       "      <td>&lt;a href=\"http://twitter.com/download/iphone\" r...</td>\n",
       "      <td>RT @dog_rates: Meet Eve. She's a raging alcoho...</td>\n",
       "      <td>673295268553605120</td>\n",
       "      <td>4196983835</td>\n",
       "      <td>2015-12-06 00:17:55</td>\n",
       "      <td>https://twitter.com/dog_rates/status/673295268...</td>\n",
       "      <td>8</td>\n",
       "      <td>10</td>\n",
       "      <td>Eve</td>\n",
       "      <td>None</td>\n",
       "      <td>None</td>\n",
       "      <td>pupper</td>\n",
       "      <td>None</td>\n",
       "    </tr>\n",
       "    <tr>\n",
       "      <th>868</th>\n",
       "      <td>761750502866649088</td>\n",
       "      <td>0</td>\n",
       "      <td>0</td>\n",
       "      <td>2016-08-06 02:27:27</td>\n",
       "      <td>&lt;a href=\"http://twitter.com/download/iphone\" r...</td>\n",
       "      <td>RT @dog_rates: \"Tristan do not speak to me wit...</td>\n",
       "      <td>685325112850124800</td>\n",
       "      <td>4196983835</td>\n",
       "      <td>2016-01-08 05:00:14</td>\n",
       "      <td>https://twitter.com/dog_rates/status/685325112...</td>\n",
       "      <td>10</td>\n",
       "      <td>10</td>\n",
       "      <td>None</td>\n",
       "      <td>None</td>\n",
       "      <td>None</td>\n",
       "      <td>None</td>\n",
       "      <td>None</td>\n",
       "    </tr>\n",
       "    <tr>\n",
       "      <th>872</th>\n",
       "      <td>761371037149827077</td>\n",
       "      <td>0</td>\n",
       "      <td>0</td>\n",
       "      <td>2016-08-05 01:19:35</td>\n",
       "      <td>&lt;a href=\"http://twitter.com/download/iphone\" r...</td>\n",
       "      <td>RT @dog_rates: Oh. My. God. 13/10 magical af h...</td>\n",
       "      <td>711694788429553664</td>\n",
       "      <td>4196983835</td>\n",
       "      <td>2016-03-20 23:23:54</td>\n",
       "      <td>https://twitter.com/dog_rates/status/711694788...</td>\n",
       "      <td>13</td>\n",
       "      <td>10</td>\n",
       "      <td>None</td>\n",
       "      <td>None</td>\n",
       "      <td>None</td>\n",
       "      <td>None</td>\n",
       "      <td>None</td>\n",
       "    </tr>\n",
       "    <tr>\n",
       "      <th>885</th>\n",
       "      <td>760153949710192640</td>\n",
       "      <td>0</td>\n",
       "      <td>0</td>\n",
       "      <td>2016-08-01 16:43:19</td>\n",
       "      <td>&lt;a href=\"http://twitter.com/download/iphone\" r...</td>\n",
       "      <td>RT @hownottodraw: The story/person behind @dog...</td>\n",
       "      <td>760153833259601920</td>\n",
       "      <td>195036846</td>\n",
       "      <td>2016-08-01 16:42:51</td>\n",
       "      <td>https://weratedogs.com/pages/about-us,https://...</td>\n",
       "      <td>11</td>\n",
       "      <td>10</td>\n",
       "      <td>None</td>\n",
       "      <td>None</td>\n",
       "      <td>None</td>\n",
       "      <td>None</td>\n",
       "      <td>None</td>\n",
       "    </tr>\n",
       "    <tr>\n",
       "      <th>890</th>\n",
       "      <td>759566828574212096</td>\n",
       "      <td>0</td>\n",
       "      <td>0</td>\n",
       "      <td>2016-07-31 01:50:18</td>\n",
       "      <td>&lt;a href=\"http://twitter.com/download/iphone\" r...</td>\n",
       "      <td>RT @dog_rates: This... is a Tyrannosaurus rex....</td>\n",
       "      <td>739544079319588864</td>\n",
       "      <td>4196983835</td>\n",
       "      <td>2016-06-05 19:47:03</td>\n",
       "      <td>https://twitter.com/dog_rates/status/739544079...</td>\n",
       "      <td>10</td>\n",
       "      <td>10</td>\n",
       "      <td>None</td>\n",
       "      <td>None</td>\n",
       "      <td>None</td>\n",
       "      <td>None</td>\n",
       "      <td>None</td>\n",
       "    </tr>\n",
       "    <tr>\n",
       "      <th>895</th>\n",
       "      <td>759159934323924993</td>\n",
       "      <td>0</td>\n",
       "      <td>0</td>\n",
       "      <td>2016-07-29 22:53:27</td>\n",
       "      <td>&lt;a href=\"http://twitter.com/download/iphone\" r...</td>\n",
       "      <td>RT @dog_rates: AT DAWN...\\nWE RIDE\\n\\n11/10 ht...</td>\n",
       "      <td>670319130621435904</td>\n",
       "      <td>4196983835</td>\n",
       "      <td>2015-11-27 19:11:49</td>\n",
       "      <td>https://twitter.com/dog_rates/status/670319130...</td>\n",
       "      <td>11</td>\n",
       "      <td>10</td>\n",
       "      <td>None</td>\n",
       "      <td>None</td>\n",
       "      <td>None</td>\n",
       "      <td>None</td>\n",
       "      <td>None</td>\n",
       "    </tr>\n",
       "    <tr>\n",
       "      <th>908</th>\n",
       "      <td>757729163776290825</td>\n",
       "      <td>0</td>\n",
       "      <td>0</td>\n",
       "      <td>2016-07-26 00:08:05</td>\n",
       "      <td>&lt;a href=\"http://twitter.com/download/iphone\" r...</td>\n",
       "      <td>RT @dog_rates: This is Chompsky. He lives up t...</td>\n",
       "      <td>679062614270468096</td>\n",
       "      <td>4196983835</td>\n",
       "      <td>2015-12-21 22:15:18</td>\n",
       "      <td>https://twitter.com/dog_rates/status/679062614...</td>\n",
       "      <td>11</td>\n",
       "      <td>10</td>\n",
       "      <td>Chompsky</td>\n",
       "      <td>None</td>\n",
       "      <td>None</td>\n",
       "      <td>None</td>\n",
       "      <td>None</td>\n",
       "    </tr>\n",
       "    <tr>\n",
       "      <th>911</th>\n",
       "      <td>757597904299253760</td>\n",
       "      <td>0</td>\n",
       "      <td>0</td>\n",
       "      <td>2016-07-25 15:26:30</td>\n",
       "      <td>&lt;a href=\"http://twitter.com/download/iphone\" r...</td>\n",
       "      <td>RT @jon_hill987: @dog_rates There is a cunning...</td>\n",
       "      <td>757597141099548672</td>\n",
       "      <td>280479778</td>\n",
       "      <td>2016-07-25 15:23:28</td>\n",
       "      <td>https://twitter.com/jon_hill987/status/7575971...</td>\n",
       "      <td>11</td>\n",
       "      <td>10</td>\n",
       "      <td>None</td>\n",
       "      <td>None</td>\n",
       "      <td>None</td>\n",
       "      <td>pupper</td>\n",
       "      <td>None</td>\n",
       "    </tr>\n",
       "    <tr>\n",
       "      <th>926</th>\n",
       "      <td>754874841593970688</td>\n",
       "      <td>0</td>\n",
       "      <td>0</td>\n",
       "      <td>2016-07-18 03:06:01</td>\n",
       "      <td>&lt;a href=\"http://twitter.com/download/iphone\" r...</td>\n",
       "      <td>RT @dog_rates: This is Rubio. He has too much ...</td>\n",
       "      <td>679158373988876288</td>\n",
       "      <td>4196983835</td>\n",
       "      <td>2015-12-22 04:35:49</td>\n",
       "      <td>https://twitter.com/dog_rates/status/679158373...</td>\n",
       "      <td>11</td>\n",
       "      <td>10</td>\n",
       "      <td>Rubio</td>\n",
       "      <td>None</td>\n",
       "      <td>None</td>\n",
       "      <td>None</td>\n",
       "      <td>None</td>\n",
       "    </tr>\n",
       "    <tr>\n",
       "      <th>937</th>\n",
       "      <td>753298634498793472</td>\n",
       "      <td>0</td>\n",
       "      <td>0</td>\n",
       "      <td>2016-07-13 18:42:44</td>\n",
       "      <td>&lt;a href=\"http://twitter.com/download/iphone\" r...</td>\n",
       "      <td>RT @dog_rates: This is Carly. She's actually 2...</td>\n",
       "      <td>681523177663676416</td>\n",
       "      <td>4196983835</td>\n",
       "      <td>2015-12-28 17:12:42</td>\n",
       "      <td>https://twitter.com/dog_rates/status/681523177...</td>\n",
       "      <td>12</td>\n",
       "      <td>10</td>\n",
       "      <td>Carly</td>\n",
       "      <td>None</td>\n",
       "      <td>None</td>\n",
       "      <td>None</td>\n",
       "      <td>None</td>\n",
       "    </tr>\n",
       "    <tr>\n",
       "      <th>943</th>\n",
       "      <td>752701944171524096</td>\n",
       "      <td>0</td>\n",
       "      <td>0</td>\n",
       "      <td>2016-07-12 03:11:42</td>\n",
       "      <td>&lt;a href=\"http://twitter.com/download/iphone\" r...</td>\n",
       "      <td>RT @dog_rates: HEY PUP WHAT'S THE PART OF THE ...</td>\n",
       "      <td>683515932363329536</td>\n",
       "      <td>4196983835</td>\n",
       "      <td>2016-01-03 05:11:12</td>\n",
       "      <td>https://vine.co/v/ibvnzrauFuV,https://vine.co/...</td>\n",
       "      <td>11</td>\n",
       "      <td>10</td>\n",
       "      <td>None</td>\n",
       "      <td>None</td>\n",
       "      <td>None</td>\n",
       "      <td>None</td>\n",
       "      <td>None</td>\n",
       "    </tr>\n",
       "    <tr>\n",
       "      <th>949</th>\n",
       "      <td>752309394570878976</td>\n",
       "      <td>0</td>\n",
       "      <td>0</td>\n",
       "      <td>2016-07-11 01:11:51</td>\n",
       "      <td>&lt;a href=\"http://twitter.com/download/iphone\" r...</td>\n",
       "      <td>RT @dog_rates: Everyone needs to watch this. 1...</td>\n",
       "      <td>675354435921575936</td>\n",
       "      <td>4196983835</td>\n",
       "      <td>2015-12-11 16:40:19</td>\n",
       "      <td>https://twitter.com/dog_rates/status/675354435...</td>\n",
       "      <td>13</td>\n",
       "      <td>10</td>\n",
       "      <td>None</td>\n",
       "      <td>None</td>\n",
       "      <td>None</td>\n",
       "      <td>None</td>\n",
       "      <td>None</td>\n",
       "    </tr>\n",
       "    <tr>\n",
       "      <th>1012</th>\n",
       "      <td>747242308580548608</td>\n",
       "      <td>0</td>\n",
       "      <td>0</td>\n",
       "      <td>2016-06-27 01:37:04</td>\n",
       "      <td>&lt;a href=\"http://twitter.com/download/iphone\" r...</td>\n",
       "      <td>RT @dog_rates: This pupper killed this great w...</td>\n",
       "      <td>704761120771465216</td>\n",
       "      <td>4196983835</td>\n",
       "      <td>2016-03-01 20:11:59</td>\n",
       "      <td>https://twitter.com/dog_rates/status/704761120...</td>\n",
       "      <td>13</td>\n",
       "      <td>10</td>\n",
       "      <td>None</td>\n",
       "      <td>None</td>\n",
       "      <td>None</td>\n",
       "      <td>pupper</td>\n",
       "      <td>None</td>\n",
       "    </tr>\n",
       "    <tr>\n",
       "      <th>1023</th>\n",
       "      <td>746521445350707200</td>\n",
       "      <td>0</td>\n",
       "      <td>0</td>\n",
       "      <td>2016-06-25 01:52:36</td>\n",
       "      <td>&lt;a href=\"http://twitter.com/download/iphone\" r...</td>\n",
       "      <td>RT @dog_rates: This is Shaggy. He knows exactl...</td>\n",
       "      <td>667866724293877760</td>\n",
       "      <td>4196983835</td>\n",
       "      <td>2015-11-21 00:46:50</td>\n",
       "      <td>https://twitter.com/dog_rates/status/667866724...</td>\n",
       "      <td>10</td>\n",
       "      <td>10</td>\n",
       "      <td>Shaggy</td>\n",
       "      <td>None</td>\n",
       "      <td>None</td>\n",
       "      <td>None</td>\n",
       "      <td>None</td>\n",
       "    </tr>\n",
       "    <tr>\n",
       "      <th>1043</th>\n",
       "      <td>743835915802583040</td>\n",
       "      <td>0</td>\n",
       "      <td>0</td>\n",
       "      <td>2016-06-17 16:01:16</td>\n",
       "      <td>&lt;a href=\"http://twitter.com/download/iphone\" r...</td>\n",
       "      <td>RT @dog_rates: Extremely intelligent dog here....</td>\n",
       "      <td>667138269671505920</td>\n",
       "      <td>4196983835</td>\n",
       "      <td>2015-11-19 00:32:12</td>\n",
       "      <td>https://twitter.com/dog_rates/status/667138269...</td>\n",
       "      <td>10</td>\n",
       "      <td>10</td>\n",
       "      <td>None</td>\n",
       "      <td>None</td>\n",
       "      <td>None</td>\n",
       "      <td>None</td>\n",
       "      <td>None</td>\n",
       "    </tr>\n",
       "    <tr>\n",
       "      <th>1242</th>\n",
       "      <td>711998809858043904</td>\n",
       "      <td>0</td>\n",
       "      <td>0</td>\n",
       "      <td>2016-03-21 19:31:59</td>\n",
       "      <td>&lt;a href=\"http://twitter.com/download/iphone\" r...</td>\n",
       "      <td>RT @twitter: @dog_rates Awesome Tweet! 12/10. ...</td>\n",
       "      <td>711998279773347840</td>\n",
       "      <td>783214</td>\n",
       "      <td>2016-03-21 19:29:52</td>\n",
       "      <td>https://twitter.com/twitter/status/71199827977...</td>\n",
       "      <td>12</td>\n",
       "      <td>10</td>\n",
       "      <td>None</td>\n",
       "      <td>None</td>\n",
       "      <td>None</td>\n",
       "      <td>None</td>\n",
       "      <td>None</td>\n",
       "    </tr>\n",
       "    <tr>\n",
       "      <th>2259</th>\n",
       "      <td>667550904950915073</td>\n",
       "      <td>0</td>\n",
       "      <td>0</td>\n",
       "      <td>2015-11-20 03:51:52</td>\n",
       "      <td>&lt;a href=\"http://twitter.com\" rel=\"nofollow\"&gt;Tw...</td>\n",
       "      <td>RT @dogratingrating: Exceptional talent. Origi...</td>\n",
       "      <td>667548695664070656</td>\n",
       "      <td>4296831739</td>\n",
       "      <td>2015-11-20 03:43:06</td>\n",
       "      <td>https://twitter.com/dogratingrating/status/667...</td>\n",
       "      <td>12</td>\n",
       "      <td>10</td>\n",
       "      <td>None</td>\n",
       "      <td>None</td>\n",
       "      <td>None</td>\n",
       "      <td>None</td>\n",
       "      <td>None</td>\n",
       "    </tr>\n",
       "    <tr>\n",
       "      <th>2260</th>\n",
       "      <td>667550882905632768</td>\n",
       "      <td>0</td>\n",
       "      <td>0</td>\n",
       "      <td>2015-11-20 03:51:47</td>\n",
       "      <td>&lt;a href=\"http://twitter.com\" rel=\"nofollow\"&gt;Tw...</td>\n",
       "      <td>RT @dogratingrating: Unoriginal idea. Blatant ...</td>\n",
       "      <td>667548415174144000</td>\n",
       "      <td>4296831739</td>\n",
       "      <td>2015-11-20 03:41:59</td>\n",
       "      <td>https://twitter.com/dogratingrating/status/667...</td>\n",
       "      <td>5</td>\n",
       "      <td>10</td>\n",
       "      <td>None</td>\n",
       "      <td>None</td>\n",
       "      <td>None</td>\n",
       "      <td>None</td>\n",
       "      <td>None</td>\n",
       "    </tr>\n",
       "  </tbody>\n",
       "</table>\n",
       "<p>181 rows × 17 columns</p>\n",
       "</div>"
      ],
      "text/plain": [
       "                tweet_id  in_reply_to_status_id  in_reply_to_user_id  \\\n",
       "19    888202515573088257                      0                    0   \n",
       "32    886054160059072513                      0                    0   \n",
       "36    885311592912609280                      0                    0   \n",
       "68    879130579576475649                      0                    0   \n",
       "73    878404777348136964                      0                    0   \n",
       "74    878316110768087041                      0                    0   \n",
       "78    877611172832227328                      0                    0   \n",
       "91    874434818259525634                      0                    0   \n",
       "95    873697596434513921                      0                    0   \n",
       "97    873337748698140672                      0                    0   \n",
       "101   872668790621863937                      0                    0   \n",
       "109   871166179821445120                      0                    0   \n",
       "118   869988702071779329                      0                    0   \n",
       "124   868639477480148993                      0                    0   \n",
       "130   867072653475098625                      0                    0   \n",
       "132   866816280283807744                      0                    0   \n",
       "137   866094527597207552                      0                    0   \n",
       "146   863471782782697472                      0                    0   \n",
       "155   861769973181624320                      0                    0   \n",
       "159   860981674716409858                      0                    0   \n",
       "160   860924035999428608                      0                    0   \n",
       "165   860177593139703809                      0                    0   \n",
       "171   858860390427611136                      0                    0   \n",
       "180   857062103051644929                      0                    0   \n",
       "182   856602993587888130                      0                    0   \n",
       "185   856330835276025856                      0                    0   \n",
       "194   855245323840757760                      0                    0   \n",
       "195   855138241867124737                      0                    0   \n",
       "204   852936405516943360                      0                    0   \n",
       "211   851953902622658560                      0                    0   \n",
       "...                  ...                    ...                  ...   \n",
       "784   775096608509886464                      0                    0   \n",
       "794   773336787167145985                      0                    0   \n",
       "800   772615324260794368                      0                    0   \n",
       "811   771171053431250945                      0                    0   \n",
       "815   771004394259247104                      0                    0   \n",
       "818   770743923962707968                      0                    0   \n",
       "822   770093767776997377                      0                    0   \n",
       "826   769335591808995329                      0                    0   \n",
       "829   768909767477751808                      0                    0   \n",
       "833   768554158521745409                      0                    0   \n",
       "841   766864461642756096                      0                    0   \n",
       "847   766078092750233600                      0                    0   \n",
       "860   763167063695355904                      0                    0   \n",
       "868   761750502866649088                      0                    0   \n",
       "872   761371037149827077                      0                    0   \n",
       "885   760153949710192640                      0                    0   \n",
       "890   759566828574212096                      0                    0   \n",
       "895   759159934323924993                      0                    0   \n",
       "908   757729163776290825                      0                    0   \n",
       "911   757597904299253760                      0                    0   \n",
       "926   754874841593970688                      0                    0   \n",
       "937   753298634498793472                      0                    0   \n",
       "943   752701944171524096                      0                    0   \n",
       "949   752309394570878976                      0                    0   \n",
       "1012  747242308580548608                      0                    0   \n",
       "1023  746521445350707200                      0                    0   \n",
       "1043  743835915802583040                      0                    0   \n",
       "1242  711998809858043904                      0                    0   \n",
       "2259  667550904950915073                      0                    0   \n",
       "2260  667550882905632768                      0                    0   \n",
       "\n",
       "               timestamp                                             source  \\\n",
       "19   2017-07-21 01:02:36  <a href=\"http://twitter.com/download/iphone\" r...   \n",
       "32   2017-07-15 02:45:48  <a href=\"http://twitter.com/download/iphone\" r...   \n",
       "36   2017-07-13 01:35:06  <a href=\"http://twitter.com/download/iphone\" r...   \n",
       "68   2017-06-26 00:13:58  <a href=\"http://twitter.com/download/iphone\" r...   \n",
       "73   2017-06-24 00:09:53  <a href=\"http://twitter.com/download/iphone\" r...   \n",
       "74   2017-06-23 18:17:33  <a href=\"http://twitter.com/download/iphone\" r...   \n",
       "78   2017-06-21 19:36:23  <a href=\"http://twitter.com/download/iphone\" r...   \n",
       "91   2017-06-13 01:14:41  <a href=\"http://twitter.com/download/iphone\" r...   \n",
       "95   2017-06-11 00:25:14  <a href=\"http://twitter.com/download/iphone\" r...   \n",
       "97   2017-06-10 00:35:19  <a href=\"http://twitter.com/download/iphone\" r...   \n",
       "101  2017-06-08 04:17:07  <a href=\"http://twitter.com/download/iphone\" r...   \n",
       "109  2017-06-04 00:46:17  <a href=\"http://twitter.com/download/iphone\" r...   \n",
       "118  2017-05-31 18:47:24  <a href=\"http://twitter.com/download/iphone\" r...   \n",
       "124  2017-05-28 01:26:04  <a href=\"http://twitter.com/download/iphone\" r...   \n",
       "130  2017-05-23 17:40:04  <a href=\"http://twitter.com/download/iphone\" r...   \n",
       "132  2017-05-23 00:41:20  <a href=\"http://twitter.com/download/iphone\" r...   \n",
       "137  2017-05-21 00:53:21  <a href=\"http://twitter.com/download/iphone\" r...   \n",
       "146  2017-05-13 19:11:30  <a href=\"http://twitter.com/download/iphone\" r...   \n",
       "155  2017-05-09 02:29:07  <a href=\"http://twitter.com/download/iphone\" r...   \n",
       "159  2017-05-06 22:16:42  <a href=\"http://twitter.com/download/iphone\" r...   \n",
       "160  2017-05-06 18:27:40  <a href=\"http://twitter.com/download/iphone\" r...   \n",
       "165  2017-05-04 17:01:34  <a href=\"http://twitter.com/download/iphone\" r...   \n",
       "171  2017-05-01 01:47:28  <a href=\"http://twitter.com/download/iphone\" r...   \n",
       "180  2017-04-26 02:41:43  <a href=\"http://twitter.com/download/iphone\" r...   \n",
       "182  2017-04-24 20:17:23  <a href=\"http://twitter.com/download/iphone\" r...   \n",
       "185  2017-04-24 02:15:55  <a href=\"http://twitter.com/download/iphone\" r...   \n",
       "194  2017-04-21 02:22:29  <a href=\"http://twitter.com/download/iphone\" r...   \n",
       "195  2017-04-20 19:16:59  <a href=\"http://twitter.com/download/iphone\" r...   \n",
       "204  2017-04-14 17:27:40  <a href=\"http://twitter.com/download/iphone\" r...   \n",
       "211  2017-04-12 00:23:33  <a href=\"http://twitter.com/download/iphone\" r...   \n",
       "...                  ...                                                ...   \n",
       "784  2016-09-11 22:20:06  <a href=\"http://twitter.com/download/iphone\" r...   \n",
       "794  2016-09-07 01:47:12  <a href=\"http://twitter.com/download/iphone\" r...   \n",
       "800  2016-09-05 02:00:22  <a href=\"http://twitter.com/download/iphone\" r...   \n",
       "811  2016-09-01 02:21:21  <a href=\"http://twitter.com/download/iphone\" r...   \n",
       "815  2016-08-31 15:19:06  <a href=\"http://twitter.com/download/iphone\" r...   \n",
       "818  2016-08-30 22:04:05  <a href=\"http://twitter.com/download/iphone\" r...   \n",
       "822  2016-08-29 03:00:36  <a href=\"http://twitter.com/download/iphone\" r...   \n",
       "826  2016-08-27 00:47:53  <a href=\"http://twitter.com/download/iphone\" r...   \n",
       "829  2016-08-25 20:35:48  <a href=\"http://twitter.com/download/iphone\" r...   \n",
       "833  2016-08-24 21:02:45  <a href=\"http://twitter.com/download/iphone\" r...   \n",
       "841  2016-08-20 05:08:29  <a href=\"http://twitter.com/download/iphone\" r...   \n",
       "847  2016-08-18 01:03:45  <a href=\"http://twitter.com/download/iphone\" r...   \n",
       "860  2016-08-10 00:16:21  <a href=\"http://twitter.com/download/iphone\" r...   \n",
       "868  2016-08-06 02:27:27  <a href=\"http://twitter.com/download/iphone\" r...   \n",
       "872  2016-08-05 01:19:35  <a href=\"http://twitter.com/download/iphone\" r...   \n",
       "885  2016-08-01 16:43:19  <a href=\"http://twitter.com/download/iphone\" r...   \n",
       "890  2016-07-31 01:50:18  <a href=\"http://twitter.com/download/iphone\" r...   \n",
       "895  2016-07-29 22:53:27  <a href=\"http://twitter.com/download/iphone\" r...   \n",
       "908  2016-07-26 00:08:05  <a href=\"http://twitter.com/download/iphone\" r...   \n",
       "911  2016-07-25 15:26:30  <a href=\"http://twitter.com/download/iphone\" r...   \n",
       "926  2016-07-18 03:06:01  <a href=\"http://twitter.com/download/iphone\" r...   \n",
       "937  2016-07-13 18:42:44  <a href=\"http://twitter.com/download/iphone\" r...   \n",
       "943  2016-07-12 03:11:42  <a href=\"http://twitter.com/download/iphone\" r...   \n",
       "949  2016-07-11 01:11:51  <a href=\"http://twitter.com/download/iphone\" r...   \n",
       "1012 2016-06-27 01:37:04  <a href=\"http://twitter.com/download/iphone\" r...   \n",
       "1023 2016-06-25 01:52:36  <a href=\"http://twitter.com/download/iphone\" r...   \n",
       "1043 2016-06-17 16:01:16  <a href=\"http://twitter.com/download/iphone\" r...   \n",
       "1242 2016-03-21 19:31:59  <a href=\"http://twitter.com/download/iphone\" r...   \n",
       "2259 2015-11-20 03:51:52  <a href=\"http://twitter.com\" rel=\"nofollow\">Tw...   \n",
       "2260 2015-11-20 03:51:47  <a href=\"http://twitter.com\" rel=\"nofollow\">Tw...   \n",
       "\n",
       "                                                   text  retweeted_status_id  \\\n",
       "19    RT @dog_rates: This is Canela. She attempted s...   887473957103951872   \n",
       "32    RT @Athletics: 12/10 #BATP https://t.co/WxwJmv...   886053734421102592   \n",
       "36    RT @dog_rates: This is Lilly. She just paralle...   830583320585068544   \n",
       "68    RT @dog_rates: This is Emmy. She was adopted t...   878057613040115712   \n",
       "73    RT @dog_rates: Meet Shadow. In an attempt to r...   878281511006478336   \n",
       "74    RT @dog_rates: Meet Terrance. He's being yelle...   669000397445533696   \n",
       "78    RT @rachel2195: @dog_rates the boyfriend and h...   876850772322988032   \n",
       "91    RT @dog_rates: This is Coco. At first I though...   866334964761202688   \n",
       "95    RT @dog_rates: This is Walter. He won't start ...   868880397819494400   \n",
       "97    RT @dog_rates: This is Sierra. She's one preci...   873213775632977920   \n",
       "101   RT @loganamnosis: Penelope here is doing me qu...   872657584259551232   \n",
       "109   RT @dog_rates: This is Dawn. She's just checki...   841077006473256960   \n",
       "118   RT @dog_rates: We only rate dogs. This is quit...   859196978902773760   \n",
       "124   RT @dog_rates: Say hello to Cooper. His expres...   868552278524837888   \n",
       "130   RT @rachaeleasler: these @dog_rates hats are 1...   865013420445368320   \n",
       "132   RT @dog_rates: This is Jamesy. He gives a kiss...   866450705531457536   \n",
       "137   RT @dog_rates: Here's a pupper before and afte...   837820167694528512   \n",
       "146   RT @dog_rates: Say hello to Quinn. She's quite...   863062471531167744   \n",
       "155   RT @dog_rates: \"Good afternoon class today we'...   806629075125202944   \n",
       "159   RT @dog_rates: Meet Lorenzo. He's an avid nift...   860563773140209664   \n",
       "160   RT @tallylott: h*ckin adorable promposal. 13/1...   860914485250469888   \n",
       "165   RT @dog_rates: Ohboyohboyohboyohboyohboyohboyo...   761672994376806400   \n",
       "171   RT @dog_rates: Meet Winston. He knows he's a l...   839549326359670784   \n",
       "180   RT @AaronChewning: First time wearing my @dog_...   857061112319234048   \n",
       "182   RT @dog_rates: This is Luna. It's her first ti...   844704788403113984   \n",
       "185   RT @Jenna_Marbles: @dog_rates Thanks for ratin...   856330158768218112   \n",
       "194   RT @dog_rates: Meet George. He looks slightly ...   842163532590374912   \n",
       "195   RT @frasercampbell_: oh my... what's that... b...   855122533267460096   \n",
       "204   RT @dog_rates: I usually only share these on F...   831650051525054464   \n",
       "211   RT @dog_rates: This is Astrid. She's a guide d...   829374341691346944   \n",
       "...                                                 ...                  ...   \n",
       "784   RT @dog_rates: After so many requests, this is...   740373189193256960   \n",
       "794   RT @dog_rates: Meet Fizz. She thinks love is a...   771380798096281600   \n",
       "800   RT @dog_rates: This is Gromit. He's pupset bec...   765222098633691136   \n",
       "811   RT @dog_rates: This is Frankie. He's wearing b...   673320132811366400   \n",
       "815   RT @katieornah: @dog_rates learning a lot at c...   771002130450743296   \n",
       "818   RT @dog_rates: Here's a doggo blowing bubbles....   739238157791694848   \n",
       "822   RT @dog_rates: This is just downright precious...   741067306818797568   \n",
       "826   RT @dog_rates: Ever seen a dog pet another dog...   706904523814649856   \n",
       "829   RT @dog_rates: When it's Janet from accounting...   700143752053182464   \n",
       "833   RT @dog_rates: This is Nollie. She's waving at...   739979191639244800   \n",
       "841   RT @dog_rates: We only rate dogs... this is a ...   759923798737051648   \n",
       "847   RT @dog_rates: This is Colby. He's currently r...   725842289046749184   \n",
       "860   RT @dog_rates: Meet Eve. She's a raging alcoho...   673295268553605120   \n",
       "868   RT @dog_rates: \"Tristan do not speak to me wit...   685325112850124800   \n",
       "872   RT @dog_rates: Oh. My. God. 13/10 magical af h...   711694788429553664   \n",
       "885   RT @hownottodraw: The story/person behind @dog...   760153833259601920   \n",
       "890   RT @dog_rates: This... is a Tyrannosaurus rex....   739544079319588864   \n",
       "895   RT @dog_rates: AT DAWN...\\nWE RIDE\\n\\n11/10 ht...   670319130621435904   \n",
       "908   RT @dog_rates: This is Chompsky. He lives up t...   679062614270468096   \n",
       "911   RT @jon_hill987: @dog_rates There is a cunning...   757597141099548672   \n",
       "926   RT @dog_rates: This is Rubio. He has too much ...   679158373988876288   \n",
       "937   RT @dog_rates: This is Carly. She's actually 2...   681523177663676416   \n",
       "943   RT @dog_rates: HEY PUP WHAT'S THE PART OF THE ...   683515932363329536   \n",
       "949   RT @dog_rates: Everyone needs to watch this. 1...   675354435921575936   \n",
       "1012  RT @dog_rates: This pupper killed this great w...   704761120771465216   \n",
       "1023  RT @dog_rates: This is Shaggy. He knows exactl...   667866724293877760   \n",
       "1043  RT @dog_rates: Extremely intelligent dog here....   667138269671505920   \n",
       "1242  RT @twitter: @dog_rates Awesome Tweet! 12/10. ...   711998279773347840   \n",
       "2259  RT @dogratingrating: Exceptional talent. Origi...   667548695664070656   \n",
       "2260  RT @dogratingrating: Unoriginal idea. Blatant ...   667548415174144000   \n",
       "\n",
       "      retweeted_status_user_id retweeted_status_timestamp  \\\n",
       "19                  4196983835        2017-07-19 00:47:34   \n",
       "32                    19607400        2017-07-15 02:44:07   \n",
       "36                  4196983835        2017-02-12 01:04:29   \n",
       "68                  4196983835        2017-06-23 01:10:23   \n",
       "73                  4196983835        2017-06-23 16:00:04   \n",
       "74                  4196983835        2015-11-24 03:51:38   \n",
       "78                   512804507        2017-06-19 17:14:49   \n",
       "91                  4196983835        2017-05-21 16:48:45   \n",
       "95                  4196983835        2017-05-28 17:23:24   \n",
       "97                  4196983835        2017-06-09 16:22:42   \n",
       "101                  154767397        2017-06-08 03:32:35   \n",
       "109                 4196983835        2017-03-13 00:02:39   \n",
       "118                 4196983835        2017-05-02 00:04:57   \n",
       "124                 4196983835        2017-05-27 19:39:34   \n",
       "130         787461778435289088        2017-05-18 01:17:25   \n",
       "132                 4196983835        2017-05-22 00:28:40   \n",
       "137                 4196983835        2017-03-04 00:21:08   \n",
       "146                 4196983835        2017-05-12 16:05:02   \n",
       "155                 4196983835        2016-12-07 22:38:52   \n",
       "159                 4196983835        2017-05-05 18:36:06   \n",
       "160                  363890752        2017-05-06 17:49:42   \n",
       "165                 4196983835        2016-08-05 21:19:27   \n",
       "171                 4196983835        2017-03-08 18:52:12   \n",
       "180                   58709723        2017-04-26 02:37:47   \n",
       "182                 4196983835        2017-03-23 00:18:10   \n",
       "185                   66699013        2017-04-24 02:13:14   \n",
       "194                 4196983835        2017-03-16 00:00:07   \n",
       "195         747554344434831360        2017-04-20 18:14:33   \n",
       "204                 4196983835        2017-02-14 23:43:18   \n",
       "211                 4196983835        2017-02-08 17:00:26   \n",
       "...                        ...                        ...   \n",
       "784                 4196983835        2016-06-08 02:41:38   \n",
       "794                 4196983835        2016-09-01 16:14:48   \n",
       "800                 4196983835        2016-08-15 16:22:20   \n",
       "811                 4196983835        2015-12-06 01:56:44   \n",
       "815                 1732729088        2016-08-31 15:10:07   \n",
       "818                 4196983835        2016-06-04 23:31:25   \n",
       "822                 4196983835        2016-06-10 00:39:48   \n",
       "826                 4196983835        2016-03-07 18:09:06   \n",
       "829                 4196983835        2016-02-18 02:24:13   \n",
       "833                 4196983835        2016-06-07 00:36:02   \n",
       "841                 4196983835        2016-08-01 01:28:46   \n",
       "847                 4196983835        2016-04-29 00:21:01   \n",
       "860                 4196983835        2015-12-06 00:17:55   \n",
       "868                 4196983835        2016-01-08 05:00:14   \n",
       "872                 4196983835        2016-03-20 23:23:54   \n",
       "885                  195036846        2016-08-01 16:42:51   \n",
       "890                 4196983835        2016-06-05 19:47:03   \n",
       "895                 4196983835        2015-11-27 19:11:49   \n",
       "908                 4196983835        2015-12-21 22:15:18   \n",
       "911                  280479778        2016-07-25 15:23:28   \n",
       "926                 4196983835        2015-12-22 04:35:49   \n",
       "937                 4196983835        2015-12-28 17:12:42   \n",
       "943                 4196983835        2016-01-03 05:11:12   \n",
       "949                 4196983835        2015-12-11 16:40:19   \n",
       "1012                4196983835        2016-03-01 20:11:59   \n",
       "1023                4196983835        2015-11-21 00:46:50   \n",
       "1043                4196983835        2015-11-19 00:32:12   \n",
       "1242                    783214        2016-03-21 19:29:52   \n",
       "2259                4296831739        2015-11-20 03:43:06   \n",
       "2260                4296831739        2015-11-20 03:41:59   \n",
       "\n",
       "                                          expanded_urls  rating_numerator  \\\n",
       "19    https://twitter.com/dog_rates/status/887473957...                13   \n",
       "32    https://twitter.com/dog_rates/status/886053434...                12   \n",
       "36    https://twitter.com/dog_rates/status/830583320...                13   \n",
       "68    https://twitter.com/dog_rates/status/878057613...                14   \n",
       "73    https://www.gofundme.com/3yd6y1c,https://twitt...                13   \n",
       "74    https://twitter.com/dog_rates/status/669000397...                11   \n",
       "78    https://twitter.com/rachel2195/status/87685077...                14   \n",
       "91    https://twitter.com/dog_rates/status/866334964...                12   \n",
       "95    https://twitter.com/dog_rates/status/868880397...                14   \n",
       "97    https://www.gofundme.com/help-my-baby-sierra-g...                12   \n",
       "101   https://twitter.com/loganamnosis/status/872657...                14   \n",
       "109   https://twitter.com/dog_rates/status/841077006...                12   \n",
       "118   https://twitter.com/dog_rates/status/859196978...                12   \n",
       "124   https://www.gofundme.com/3ti3nps,https://twitt...                12   \n",
       "130   https://twitter.com/rachaeleasler/status/86501...                13   \n",
       "132   https://twitter.com/dog_rates/status/866450705...                13   \n",
       "137   https://twitter.com/dog_rates/status/837820167...                12   \n",
       "146   https://www.gofundme.com/helpquinny,https://tw...                13   \n",
       "155   https://twitter.com/dog_rates/status/806629075...                13   \n",
       "159   https://www.gofundme.com/help-lorenzo-beat-can...                13   \n",
       "160   https://twitter.com/tallylott/status/860914485...                13   \n",
       "165   https://twitter.com/dog_rates/status/761672994...                10   \n",
       "171   https://twitter.com/dog_rates/status/839549326...                12   \n",
       "180   https://twitter.com/AaronChewning/status/85706...                13   \n",
       "182   https://twitter.com/dog_rates/status/844704788...                13   \n",
       "185                                                 NaN                14   \n",
       "194   https://twitter.com/dog_rates/status/842163532...                12   \n",
       "195   https://twitter.com/frasercampbell_/status/855...                14   \n",
       "204   http://www.gofundme.com/bluethewhitehusky,http...                13   \n",
       "211   https://twitter.com/dog_rates/status/829374341...                13   \n",
       "...                                                 ...               ...   \n",
       "784   https://twitter.com/dog_rates/status/740373189...                 9   \n",
       "794   https://twitter.com/dog_rates/status/771380798...                11   \n",
       "800   https://twitter.com/dog_rates/status/765222098...                10   \n",
       "811   https://twitter.com/dog_rates/status/673320132...                11   \n",
       "815   https://twitter.com/katieornah/status/77100213...                12   \n",
       "818   https://twitter.com/dog_rates/status/739238157...                13   \n",
       "822   https://twitter.com/dog_rates/status/741067306...                12   \n",
       "826   https://vine.co/v/iXQAm5Lrgrh,https://vine.co/...                13   \n",
       "829   https://twitter.com/dog_rates/status/700143752...                10   \n",
       "833   https://twitter.com/dog_rates/status/739979191...                12   \n",
       "841   https://twitter.com/dog_rates/status/759923798...                10   \n",
       "847   https://twitter.com/dog_rates/status/725842289...                12   \n",
       "860   https://twitter.com/dog_rates/status/673295268...                 8   \n",
       "868   https://twitter.com/dog_rates/status/685325112...                10   \n",
       "872   https://twitter.com/dog_rates/status/711694788...                13   \n",
       "885   https://weratedogs.com/pages/about-us,https://...                11   \n",
       "890   https://twitter.com/dog_rates/status/739544079...                10   \n",
       "895   https://twitter.com/dog_rates/status/670319130...                11   \n",
       "908   https://twitter.com/dog_rates/status/679062614...                11   \n",
       "911   https://twitter.com/jon_hill987/status/7575971...                11   \n",
       "926   https://twitter.com/dog_rates/status/679158373...                11   \n",
       "937   https://twitter.com/dog_rates/status/681523177...                12   \n",
       "943   https://vine.co/v/ibvnzrauFuV,https://vine.co/...                11   \n",
       "949   https://twitter.com/dog_rates/status/675354435...                13   \n",
       "1012  https://twitter.com/dog_rates/status/704761120...                13   \n",
       "1023  https://twitter.com/dog_rates/status/667866724...                10   \n",
       "1043  https://twitter.com/dog_rates/status/667138269...                10   \n",
       "1242  https://twitter.com/twitter/status/71199827977...                12   \n",
       "2259  https://twitter.com/dogratingrating/status/667...                12   \n",
       "2260  https://twitter.com/dogratingrating/status/667...                 5   \n",
       "\n",
       "      rating_denominator      name  doggo floofer  pupper puppo  \n",
       "19                    10    Canela   None    None    None  None  \n",
       "32                    10      None   None    None    None  None  \n",
       "36                    10     Lilly   None    None    None  None  \n",
       "68                    10      Emmy   None    None    None  None  \n",
       "73                    10    Shadow   None    None    None  None  \n",
       "74                    10  Terrance   None    None    None  None  \n",
       "78                    10      None   None    None  pupper  None  \n",
       "91                    10      Coco   None    None    None  None  \n",
       "95                    10    Walter   None    None    None  None  \n",
       "97                    10    Sierra   None    None  pupper  None  \n",
       "101                   10      None   None    None    None  None  \n",
       "109                   10      Dawn   None    None    None  None  \n",
       "118                   10     quite   None    None    None  None  \n",
       "124                   10    Cooper   None    None    None  None  \n",
       "130                   10      None   None    None    None  None  \n",
       "132                   10    Jamesy   None    None  pupper  None  \n",
       "137                   10      None   None    None  pupper  None  \n",
       "146                   10     Quinn   None    None    None  None  \n",
       "155                   10      None   None    None    None  None  \n",
       "159                   10   Lorenzo   None    None    None  None  \n",
       "160                   10      None   None    None    None  None  \n",
       "165                   10      None   None    None    None  None  \n",
       "171                   10   Winston   None    None    None  None  \n",
       "180                   10      None   None    None    None  None  \n",
       "182                   10      Luna   None    None    None  None  \n",
       "185                   10      None   None    None    None  None  \n",
       "194                   10    George   None    None    None  None  \n",
       "195                   10      None   None    None    None  None  \n",
       "204                   10      None   None    None    None  None  \n",
       "211                   10    Astrid  doggo    None    None  None  \n",
       "...                  ...       ...    ...     ...     ...   ...  \n",
       "784                   11      None   None    None    None  None  \n",
       "794                   10      Fizz   None    None    None  None  \n",
       "800                   10    Gromit   None    None    None  None  \n",
       "811                   10   Frankie   None    None    None  None  \n",
       "815                   10      None   None    None  pupper  None  \n",
       "818                   10      None  doggo    None    None  None  \n",
       "822                   10      just  doggo    None  pupper  None  \n",
       "826                   10      None   None    None    None  None  \n",
       "829                   10      None   None    None  pupper  None  \n",
       "833                   10    Nollie   None    None    None  None  \n",
       "841                   10      None   None    None    None  None  \n",
       "847                   10     Colby   None    None    None  None  \n",
       "860                   10       Eve   None    None  pupper  None  \n",
       "868                   10      None   None    None    None  None  \n",
       "872                   10      None   None    None    None  None  \n",
       "885                   10      None   None    None    None  None  \n",
       "890                   10      None   None    None    None  None  \n",
       "895                   10      None   None    None    None  None  \n",
       "908                   10  Chompsky   None    None    None  None  \n",
       "911                   10      None   None    None  pupper  None  \n",
       "926                   10     Rubio   None    None    None  None  \n",
       "937                   10     Carly   None    None    None  None  \n",
       "943                   10      None   None    None    None  None  \n",
       "949                   10      None   None    None    None  None  \n",
       "1012                  10      None   None    None  pupper  None  \n",
       "1023                  10    Shaggy   None    None    None  None  \n",
       "1043                  10      None   None    None    None  None  \n",
       "1242                  10      None   None    None    None  None  \n",
       "2259                  10      None   None    None    None  None  \n",
       "2260                  10      None   None    None    None  None  \n",
       "\n",
       "[181 rows x 17 columns]"
      ]
     },
     "execution_count": 54,
     "metadata": {},
     "output_type": "execute_result"
    }
   ],
   "source": [
    "df_tweet[df_tweet.retweeted_status_id !=0]"
   ]
  },
  {
   "cell_type": "code",
   "execution_count": 55,
   "metadata": {},
   "outputs": [],
   "source": [
    "df_tweet = df_tweet[~(df_tweet.retweeted_status_id !=0)]"
   ]
  },
  {
   "cell_type": "code",
   "execution_count": 56,
   "metadata": {},
   "outputs": [],
   "source": [
    "df_tweet.drop([\"retweeted_status_user_id\",\"retweeted_status_timestamp\",\"retweeted_status_id\"],axis=1,inplace=True)"
   ]
  },
  {
   "cell_type": "markdown",
   "metadata": {},
   "source": [
    "### Removing Predictions Which are not Dog"
   ]
  },
  {
   "cell_type": "code",
   "execution_count": 57,
   "metadata": {},
   "outputs": [],
   "source": [
    "df_images = df_images[df_images.p1_dog]"
   ]
  },
  {
   "cell_type": "markdown",
   "metadata": {},
   "source": [
    "### 'name', 'doggo', 'floofer', 'pupper','puppo'."
   ]
  },
  {
   "cell_type": "code",
   "execution_count": 58,
   "metadata": {},
   "outputs": [
    {
     "data": {
      "text/html": [
       "<div>\n",
       "<style scoped>\n",
       "    .dataframe tbody tr th:only-of-type {\n",
       "        vertical-align: middle;\n",
       "    }\n",
       "\n",
       "    .dataframe tbody tr th {\n",
       "        vertical-align: top;\n",
       "    }\n",
       "\n",
       "    .dataframe thead th {\n",
       "        text-align: right;\n",
       "    }\n",
       "</style>\n",
       "<table border=\"1\" class=\"dataframe\">\n",
       "  <thead>\n",
       "    <tr style=\"text-align: right;\">\n",
       "      <th></th>\n",
       "      <th>tweet_id</th>\n",
       "      <th>in_reply_to_status_id</th>\n",
       "      <th>in_reply_to_user_id</th>\n",
       "      <th>timestamp</th>\n",
       "      <th>source</th>\n",
       "      <th>text</th>\n",
       "      <th>expanded_urls</th>\n",
       "      <th>rating_numerator</th>\n",
       "      <th>rating_denominator</th>\n",
       "      <th>name</th>\n",
       "      <th>doggo</th>\n",
       "      <th>floofer</th>\n",
       "      <th>pupper</th>\n",
       "      <th>puppo</th>\n",
       "    </tr>\n",
       "  </thead>\n",
       "  <tbody>\n",
       "    <tr>\n",
       "      <th>0</th>\n",
       "      <td>892420643555336193</td>\n",
       "      <td>0</td>\n",
       "      <td>0</td>\n",
       "      <td>2017-08-01 16:23:56</td>\n",
       "      <td>&lt;a href=\"http://twitter.com/download/iphone\" r...</td>\n",
       "      <td>This is Phineas. He's a mystical boy. Only eve...</td>\n",
       "      <td>https://twitter.com/dog_rates/status/892420643...</td>\n",
       "      <td>13</td>\n",
       "      <td>10</td>\n",
       "      <td>Phineas</td>\n",
       "      <td>None</td>\n",
       "      <td>None</td>\n",
       "      <td>None</td>\n",
       "      <td>None</td>\n",
       "    </tr>\n",
       "    <tr>\n",
       "      <th>1</th>\n",
       "      <td>892177421306343426</td>\n",
       "      <td>0</td>\n",
       "      <td>0</td>\n",
       "      <td>2017-08-01 00:17:27</td>\n",
       "      <td>&lt;a href=\"http://twitter.com/download/iphone\" r...</td>\n",
       "      <td>This is Tilly. She's just checking pup on you....</td>\n",
       "      <td>https://twitter.com/dog_rates/status/892177421...</td>\n",
       "      <td>13</td>\n",
       "      <td>10</td>\n",
       "      <td>Tilly</td>\n",
       "      <td>None</td>\n",
       "      <td>None</td>\n",
       "      <td>None</td>\n",
       "      <td>None</td>\n",
       "    </tr>\n",
       "    <tr>\n",
       "      <th>2</th>\n",
       "      <td>891815181378084864</td>\n",
       "      <td>0</td>\n",
       "      <td>0</td>\n",
       "      <td>2017-07-31 00:18:03</td>\n",
       "      <td>&lt;a href=\"http://twitter.com/download/iphone\" r...</td>\n",
       "      <td>This is Archie. He is a rare Norwegian Pouncin...</td>\n",
       "      <td>https://twitter.com/dog_rates/status/891815181...</td>\n",
       "      <td>12</td>\n",
       "      <td>10</td>\n",
       "      <td>Archie</td>\n",
       "      <td>None</td>\n",
       "      <td>None</td>\n",
       "      <td>None</td>\n",
       "      <td>None</td>\n",
       "    </tr>\n",
       "    <tr>\n",
       "      <th>3</th>\n",
       "      <td>891689557279858688</td>\n",
       "      <td>0</td>\n",
       "      <td>0</td>\n",
       "      <td>2017-07-30 15:58:51</td>\n",
       "      <td>&lt;a href=\"http://twitter.com/download/iphone\" r...</td>\n",
       "      <td>This is Darla. She commenced a snooze mid meal...</td>\n",
       "      <td>https://twitter.com/dog_rates/status/891689557...</td>\n",
       "      <td>13</td>\n",
       "      <td>10</td>\n",
       "      <td>Darla</td>\n",
       "      <td>None</td>\n",
       "      <td>None</td>\n",
       "      <td>None</td>\n",
       "      <td>None</td>\n",
       "    </tr>\n",
       "    <tr>\n",
       "      <th>4</th>\n",
       "      <td>891327558926688256</td>\n",
       "      <td>0</td>\n",
       "      <td>0</td>\n",
       "      <td>2017-07-29 16:00:24</td>\n",
       "      <td>&lt;a href=\"http://twitter.com/download/iphone\" r...</td>\n",
       "      <td>This is Franklin. He would like you to stop ca...</td>\n",
       "      <td>https://twitter.com/dog_rates/status/891327558...</td>\n",
       "      <td>12</td>\n",
       "      <td>10</td>\n",
       "      <td>Franklin</td>\n",
       "      <td>None</td>\n",
       "      <td>None</td>\n",
       "      <td>None</td>\n",
       "      <td>None</td>\n",
       "    </tr>\n",
       "  </tbody>\n",
       "</table>\n",
       "</div>"
      ],
      "text/plain": [
       "             tweet_id  in_reply_to_status_id  in_reply_to_user_id  \\\n",
       "0  892420643555336193                      0                    0   \n",
       "1  892177421306343426                      0                    0   \n",
       "2  891815181378084864                      0                    0   \n",
       "3  891689557279858688                      0                    0   \n",
       "4  891327558926688256                      0                    0   \n",
       "\n",
       "            timestamp                                             source  \\\n",
       "0 2017-08-01 16:23:56  <a href=\"http://twitter.com/download/iphone\" r...   \n",
       "1 2017-08-01 00:17:27  <a href=\"http://twitter.com/download/iphone\" r...   \n",
       "2 2017-07-31 00:18:03  <a href=\"http://twitter.com/download/iphone\" r...   \n",
       "3 2017-07-30 15:58:51  <a href=\"http://twitter.com/download/iphone\" r...   \n",
       "4 2017-07-29 16:00:24  <a href=\"http://twitter.com/download/iphone\" r...   \n",
       "\n",
       "                                                text  \\\n",
       "0  This is Phineas. He's a mystical boy. Only eve...   \n",
       "1  This is Tilly. She's just checking pup on you....   \n",
       "2  This is Archie. He is a rare Norwegian Pouncin...   \n",
       "3  This is Darla. She commenced a snooze mid meal...   \n",
       "4  This is Franklin. He would like you to stop ca...   \n",
       "\n",
       "                                       expanded_urls  rating_numerator  \\\n",
       "0  https://twitter.com/dog_rates/status/892420643...                13   \n",
       "1  https://twitter.com/dog_rates/status/892177421...                13   \n",
       "2  https://twitter.com/dog_rates/status/891815181...                12   \n",
       "3  https://twitter.com/dog_rates/status/891689557...                13   \n",
       "4  https://twitter.com/dog_rates/status/891327558...                12   \n",
       "\n",
       "   rating_denominator      name doggo floofer pupper puppo  \n",
       "0                  10   Phineas  None    None   None  None  \n",
       "1                  10     Tilly  None    None   None  None  \n",
       "2                  10    Archie  None    None   None  None  \n",
       "3                  10     Darla  None    None   None  None  \n",
       "4                  10  Franklin  None    None   None  None  "
      ]
     },
     "execution_count": 58,
     "metadata": {},
     "output_type": "execute_result"
    }
   ],
   "source": [
    "df_tweet.head()"
   ]
  },
  {
   "cell_type": "code",
   "execution_count": 59,
   "metadata": {},
   "outputs": [],
   "source": [
    "df_tweet['doggo'].replace('None', '', inplace=True)\n",
    "df_tweet['floofer'].replace('None', '', inplace=True)\n",
    "df_tweet['pupper'].replace('None', '', inplace=True)\n",
    "df_tweet['puppo'].replace('None', '', inplace=True)"
   ]
  },
  {
   "cell_type": "code",
   "execution_count": 60,
   "metadata": {},
   "outputs": [],
   "source": [
    "df_tweet['dog_size'] = df_tweet['doggo'].map(str) + df_tweet['floofer'].map(str) + df_tweet['pupper'].map(str) + df_tweet['puppo'].map(str)"
   ]
  },
  {
   "cell_type": "code",
   "execution_count": 61,
   "metadata": {},
   "outputs": [
    {
     "data": {
      "text/plain": [
       "0    \n",
       "1    \n",
       "2    \n",
       "3    \n",
       "4    \n",
       "Name: dog_size, dtype: object"
      ]
     },
     "execution_count": 61,
     "metadata": {},
     "output_type": "execute_result"
    }
   ],
   "source": [
    "df_tweet['dog_size'].head()"
   ]
  },
  {
   "cell_type": "code",
   "execution_count": 62,
   "metadata": {},
   "outputs": [],
   "source": [
    "df_tweet.dog_size.replace('', np.nan, inplace=True)"
   ]
  },
  {
   "cell_type": "code",
   "execution_count": 63,
   "metadata": {},
   "outputs": [
    {
     "data": {
      "text/plain": [
       "array([nan, 'doggo', 'puppo', 'pupper', 'floofer', 'doggopuppo',\n",
       "       'doggofloofer', 'doggopupper'], dtype=object)"
      ]
     },
     "execution_count": 63,
     "metadata": {},
     "output_type": "execute_result"
    }
   ],
   "source": [
    "df_tweet.dog_size.unique()"
   ]
  },
  {
   "cell_type": "markdown",
   "metadata": {},
   "source": [
    "##### There are some rows where it is true for both doggo puppo, doggo floofer and doggo and pupper.\n",
    "\n",
    "For simplicity we will take the smaller size and wont' take two types of sizes."
   ]
  },
  {
   "cell_type": "code",
   "execution_count": 64,
   "metadata": {},
   "outputs": [],
   "source": [
    "df_tweet.dog_size.replace('doggopuppo', 'puppo', inplace=True)\n",
    "df_tweet.dog_size.replace('doggofloofer', 'floofer', inplace=True)\n",
    "df_tweet.dog_size.replace('doggopupper', 'pupper', inplace=True)"
   ]
  },
  {
   "cell_type": "code",
   "execution_count": 65,
   "metadata": {},
   "outputs": [
    {
     "data": {
      "text/plain": [
       "array([nan, 'doggo', 'puppo', 'pupper', 'floofer'], dtype=object)"
      ]
     },
     "execution_count": 65,
     "metadata": {},
     "output_type": "execute_result"
    }
   ],
   "source": [
    "df_tweet.dog_size.unique()"
   ]
  },
  {
   "cell_type": "markdown",
   "metadata": {},
   "source": [
    "###### Dropping all the unnecessary columns "
   ]
  },
  {
   "cell_type": "code",
   "execution_count": 66,
   "metadata": {},
   "outputs": [],
   "source": [
    "df_tweet.drop(['floofer','doggo','pupper','puppo'],axis=1, inplace=True)"
   ]
  },
  {
   "cell_type": "code",
   "execution_count": 84,
   "metadata": {},
   "outputs": [
    {
     "data": {
      "text/html": [
       "<div>\n",
       "<style scoped>\n",
       "    .dataframe tbody tr th:only-of-type {\n",
       "        vertical-align: middle;\n",
       "    }\n",
       "\n",
       "    .dataframe tbody tr th {\n",
       "        vertical-align: top;\n",
       "    }\n",
       "\n",
       "    .dataframe thead th {\n",
       "        text-align: right;\n",
       "    }\n",
       "</style>\n",
       "<table border=\"1\" class=\"dataframe\">\n",
       "  <thead>\n",
       "    <tr style=\"text-align: right;\">\n",
       "      <th></th>\n",
       "      <th>tweet_id</th>\n",
       "      <th>in_reply_to_status_id</th>\n",
       "      <th>in_reply_to_user_id</th>\n",
       "      <th>timestamp</th>\n",
       "      <th>source</th>\n",
       "      <th>text</th>\n",
       "      <th>expanded_urls</th>\n",
       "      <th>rating_numerator</th>\n",
       "      <th>rating_denominator</th>\n",
       "      <th>name</th>\n",
       "      <th>dog_size</th>\n",
       "    </tr>\n",
       "  </thead>\n",
       "  <tbody>\n",
       "    <tr>\n",
       "      <th>0</th>\n",
       "      <td>892420643555336193</td>\n",
       "      <td>0</td>\n",
       "      <td>0</td>\n",
       "      <td>2017-08-01 16:23:56</td>\n",
       "      <td>&lt;a href=\"http://twitter.com/download/iphone\" r...</td>\n",
       "      <td>This is Phineas. He's a mystical boy. Only eve...</td>\n",
       "      <td>https://twitter.com/dog_rates/status/892420643...</td>\n",
       "      <td>13</td>\n",
       "      <td>10</td>\n",
       "      <td>Phineas</td>\n",
       "      <td>NaN</td>\n",
       "    </tr>\n",
       "    <tr>\n",
       "      <th>1</th>\n",
       "      <td>892177421306343426</td>\n",
       "      <td>0</td>\n",
       "      <td>0</td>\n",
       "      <td>2017-08-01 00:17:27</td>\n",
       "      <td>&lt;a href=\"http://twitter.com/download/iphone\" r...</td>\n",
       "      <td>This is Tilly. She's just checking pup on you....</td>\n",
       "      <td>https://twitter.com/dog_rates/status/892177421...</td>\n",
       "      <td>13</td>\n",
       "      <td>10</td>\n",
       "      <td>Tilly</td>\n",
       "      <td>NaN</td>\n",
       "    </tr>\n",
       "    <tr>\n",
       "      <th>2</th>\n",
       "      <td>891815181378084864</td>\n",
       "      <td>0</td>\n",
       "      <td>0</td>\n",
       "      <td>2017-07-31 00:18:03</td>\n",
       "      <td>&lt;a href=\"http://twitter.com/download/iphone\" r...</td>\n",
       "      <td>This is Archie. He is a rare Norwegian Pouncin...</td>\n",
       "      <td>https://twitter.com/dog_rates/status/891815181...</td>\n",
       "      <td>12</td>\n",
       "      <td>10</td>\n",
       "      <td>Archie</td>\n",
       "      <td>NaN</td>\n",
       "    </tr>\n",
       "    <tr>\n",
       "      <th>3</th>\n",
       "      <td>891689557279858688</td>\n",
       "      <td>0</td>\n",
       "      <td>0</td>\n",
       "      <td>2017-07-30 15:58:51</td>\n",
       "      <td>&lt;a href=\"http://twitter.com/download/iphone\" r...</td>\n",
       "      <td>This is Darla. She commenced a snooze mid meal...</td>\n",
       "      <td>https://twitter.com/dog_rates/status/891689557...</td>\n",
       "      <td>13</td>\n",
       "      <td>10</td>\n",
       "      <td>Darla</td>\n",
       "      <td>NaN</td>\n",
       "    </tr>\n",
       "    <tr>\n",
       "      <th>4</th>\n",
       "      <td>891327558926688256</td>\n",
       "      <td>0</td>\n",
       "      <td>0</td>\n",
       "      <td>2017-07-29 16:00:24</td>\n",
       "      <td>&lt;a href=\"http://twitter.com/download/iphone\" r...</td>\n",
       "      <td>This is Franklin. He would like you to stop ca...</td>\n",
       "      <td>https://twitter.com/dog_rates/status/891327558...</td>\n",
       "      <td>12</td>\n",
       "      <td>10</td>\n",
       "      <td>Franklin</td>\n",
       "      <td>NaN</td>\n",
       "    </tr>\n",
       "  </tbody>\n",
       "</table>\n",
       "</div>"
      ],
      "text/plain": [
       "             tweet_id  in_reply_to_status_id  in_reply_to_user_id  \\\n",
       "0  892420643555336193                      0                    0   \n",
       "1  892177421306343426                      0                    0   \n",
       "2  891815181378084864                      0                    0   \n",
       "3  891689557279858688                      0                    0   \n",
       "4  891327558926688256                      0                    0   \n",
       "\n",
       "            timestamp                                             source  \\\n",
       "0 2017-08-01 16:23:56  <a href=\"http://twitter.com/download/iphone\" r...   \n",
       "1 2017-08-01 00:17:27  <a href=\"http://twitter.com/download/iphone\" r...   \n",
       "2 2017-07-31 00:18:03  <a href=\"http://twitter.com/download/iphone\" r...   \n",
       "3 2017-07-30 15:58:51  <a href=\"http://twitter.com/download/iphone\" r...   \n",
       "4 2017-07-29 16:00:24  <a href=\"http://twitter.com/download/iphone\" r...   \n",
       "\n",
       "                                                text  \\\n",
       "0  This is Phineas. He's a mystical boy. Only eve...   \n",
       "1  This is Tilly. She's just checking pup on you....   \n",
       "2  This is Archie. He is a rare Norwegian Pouncin...   \n",
       "3  This is Darla. She commenced a snooze mid meal...   \n",
       "4  This is Franklin. He would like you to stop ca...   \n",
       "\n",
       "                                       expanded_urls  rating_numerator  \\\n",
       "0  https://twitter.com/dog_rates/status/892420643...                13   \n",
       "1  https://twitter.com/dog_rates/status/892177421...                13   \n",
       "2  https://twitter.com/dog_rates/status/891815181...                12   \n",
       "3  https://twitter.com/dog_rates/status/891689557...                13   \n",
       "4  https://twitter.com/dog_rates/status/891327558...                12   \n",
       "\n",
       "   rating_denominator      name dog_size  \n",
       "0                  10   Phineas      NaN  \n",
       "1                  10     Tilly      NaN  \n",
       "2                  10    Archie      NaN  \n",
       "3                  10     Darla      NaN  \n",
       "4                  10  Franklin      NaN  "
      ]
     },
     "execution_count": 84,
     "metadata": {},
     "output_type": "execute_result"
    }
   ],
   "source": [
    "df_tweet.head()"
   ]
  },
  {
   "cell_type": "markdown",
   "metadata": {},
   "source": [
    "Now only 4 sizes of dogs are available."
   ]
  },
  {
   "cell_type": "markdown",
   "metadata": {},
   "source": [
    "### Combining 3 Dataframes to one single DataFrame and saving it as csv"
   ]
  },
  {
   "cell_type": "code",
   "execution_count": 68,
   "metadata": {},
   "outputs": [],
   "source": [
    "df_comb = pd.merge(df_images,df_tweet,on=\"tweet_id\")"
   ]
  },
  {
   "cell_type": "code",
   "execution_count": 69,
   "metadata": {},
   "outputs": [],
   "source": [
    "df_comb = pd.merge(df_comb,df_api,on=\"tweet_id\")"
   ]
  },
  {
   "cell_type": "code",
   "execution_count": 87,
   "metadata": {},
   "outputs": [
    {
     "data": {
      "text/html": [
       "<div>\n",
       "<style scoped>\n",
       "    .dataframe tbody tr th:only-of-type {\n",
       "        vertical-align: middle;\n",
       "    }\n",
       "\n",
       "    .dataframe tbody tr th {\n",
       "        vertical-align: top;\n",
       "    }\n",
       "\n",
       "    .dataframe thead th {\n",
       "        text-align: right;\n",
       "    }\n",
       "</style>\n",
       "<table border=\"1\" class=\"dataframe\">\n",
       "  <thead>\n",
       "    <tr style=\"text-align: right;\">\n",
       "      <th></th>\n",
       "      <th>tweet_id</th>\n",
       "      <th>jpg_url</th>\n",
       "      <th>img_num</th>\n",
       "      <th>p1</th>\n",
       "      <th>p1_conf</th>\n",
       "      <th>p1_dog</th>\n",
       "      <th>p2</th>\n",
       "      <th>p2_conf</th>\n",
       "      <th>p2_dog</th>\n",
       "      <th>p3</th>\n",
       "      <th>p3_conf</th>\n",
       "      <th>p3_dog</th>\n",
       "      <th>in_reply_to_status_id</th>\n",
       "      <th>in_reply_to_user_id</th>\n",
       "      <th>timestamp</th>\n",
       "      <th>source</th>\n",
       "      <th>text</th>\n",
       "      <th>expanded_urls</th>\n",
       "      <th>rating_numerator</th>\n",
       "      <th>rating_denominator</th>\n",
       "      <th>name</th>\n",
       "      <th>dog_size</th>\n",
       "      <th>retweet_count</th>\n",
       "      <th>favorite_count</th>\n",
       "      <th>score</th>\n",
       "    </tr>\n",
       "  </thead>\n",
       "  <tbody>\n",
       "    <tr>\n",
       "      <th>1</th>\n",
       "      <td>666029285002620928</td>\n",
       "      <td>https://pbs.twimg.com/media/CT42GRgUYAA5iDo.jpg</td>\n",
       "      <td>1</td>\n",
       "      <td>redbone</td>\n",
       "      <td>0.506826</td>\n",
       "      <td>True</td>\n",
       "      <td>miniature_pinscher</td>\n",
       "      <td>0.074192</td>\n",
       "      <td>True</td>\n",
       "      <td>Rhodesian_ridgeback</td>\n",
       "      <td>0.072010</td>\n",
       "      <td>True</td>\n",
       "      <td>0</td>\n",
       "      <td>0</td>\n",
       "      <td>2015-11-15 23:05:30</td>\n",
       "      <td>&lt;a href=\"http://twitter.com/download/iphone\" r...</td>\n",
       "      <td>This is a western brown Mitsubishi terrier. Up...</td>\n",
       "      <td>https://twitter.com/dog_rates/status/666029285...</td>\n",
       "      <td>7</td>\n",
       "      <td>10</td>\n",
       "      <td>a</td>\n",
       "      <td>NaN</td>\n",
       "      <td>47</td>\n",
       "      <td>126</td>\n",
       "      <td>0.7</td>\n",
       "    </tr>\n",
       "    <tr>\n",
       "      <th>2</th>\n",
       "      <td>666033412701032449</td>\n",
       "      <td>https://pbs.twimg.com/media/CT4521TWwAEvMyu.jpg</td>\n",
       "      <td>1</td>\n",
       "      <td>German_shepherd</td>\n",
       "      <td>0.596461</td>\n",
       "      <td>True</td>\n",
       "      <td>malinois</td>\n",
       "      <td>0.138584</td>\n",
       "      <td>True</td>\n",
       "      <td>bloodhound</td>\n",
       "      <td>0.116197</td>\n",
       "      <td>True</td>\n",
       "      <td>0</td>\n",
       "      <td>0</td>\n",
       "      <td>2015-11-15 23:21:54</td>\n",
       "      <td>&lt;a href=\"http://twitter.com/download/iphone\" r...</td>\n",
       "      <td>Here is a very happy pup. Big fan of well-main...</td>\n",
       "      <td>https://twitter.com/dog_rates/status/666033412...</td>\n",
       "      <td>9</td>\n",
       "      <td>10</td>\n",
       "      <td>a</td>\n",
       "      <td>NaN</td>\n",
       "      <td>43</td>\n",
       "      <td>123</td>\n",
       "      <td>0.9</td>\n",
       "    </tr>\n",
       "    <tr>\n",
       "      <th>3</th>\n",
       "      <td>666044226329800704</td>\n",
       "      <td>https://pbs.twimg.com/media/CT5Dr8HUEAA-lEu.jpg</td>\n",
       "      <td>1</td>\n",
       "      <td>Rhodesian_ridgeback</td>\n",
       "      <td>0.408143</td>\n",
       "      <td>True</td>\n",
       "      <td>redbone</td>\n",
       "      <td>0.360687</td>\n",
       "      <td>True</td>\n",
       "      <td>miniature_pinscher</td>\n",
       "      <td>0.222752</td>\n",
       "      <td>True</td>\n",
       "      <td>0</td>\n",
       "      <td>0</td>\n",
       "      <td>2015-11-16 00:04:52</td>\n",
       "      <td>&lt;a href=\"http://twitter.com/download/iphone\" r...</td>\n",
       "      <td>This is a purebred Piers Morgan. Loves to Netf...</td>\n",
       "      <td>https://twitter.com/dog_rates/status/666044226...</td>\n",
       "      <td>6</td>\n",
       "      <td>10</td>\n",
       "      <td>a</td>\n",
       "      <td>NaN</td>\n",
       "      <td>139</td>\n",
       "      <td>292</td>\n",
       "      <td>0.6</td>\n",
       "    </tr>\n",
       "    <tr>\n",
       "      <th>4</th>\n",
       "      <td>666049248165822465</td>\n",
       "      <td>https://pbs.twimg.com/media/CT5IQmsXIAAKY4A.jpg</td>\n",
       "      <td>1</td>\n",
       "      <td>miniature_pinscher</td>\n",
       "      <td>0.560311</td>\n",
       "      <td>True</td>\n",
       "      <td>Rottweiler</td>\n",
       "      <td>0.243682</td>\n",
       "      <td>True</td>\n",
       "      <td>Doberman</td>\n",
       "      <td>0.154629</td>\n",
       "      <td>True</td>\n",
       "      <td>0</td>\n",
       "      <td>0</td>\n",
       "      <td>2015-11-16 00:24:50</td>\n",
       "      <td>&lt;a href=\"http://twitter.com/download/iphone\" r...</td>\n",
       "      <td>Here we have a 1949 1st generation vulpix. Enj...</td>\n",
       "      <td>https://twitter.com/dog_rates/status/666049248...</td>\n",
       "      <td>5</td>\n",
       "      <td>10</td>\n",
       "      <td>None</td>\n",
       "      <td>NaN</td>\n",
       "      <td>41</td>\n",
       "      <td>106</td>\n",
       "      <td>0.5</td>\n",
       "    </tr>\n",
       "    <tr>\n",
       "      <th>5</th>\n",
       "      <td>666050758794694657</td>\n",
       "      <td>https://pbs.twimg.com/media/CT5Jof1WUAEuVxN.jpg</td>\n",
       "      <td>1</td>\n",
       "      <td>Bernese_mountain_dog</td>\n",
       "      <td>0.651137</td>\n",
       "      <td>True</td>\n",
       "      <td>English_springer</td>\n",
       "      <td>0.263788</td>\n",
       "      <td>True</td>\n",
       "      <td>Greater_Swiss_Mountain_dog</td>\n",
       "      <td>0.016199</td>\n",
       "      <td>True</td>\n",
       "      <td>0</td>\n",
       "      <td>0</td>\n",
       "      <td>2015-11-16 00:30:50</td>\n",
       "      <td>&lt;a href=\"http://twitter.com/download/iphone\" r...</td>\n",
       "      <td>This is a truly beautiful English Wilson Staff...</td>\n",
       "      <td>https://twitter.com/dog_rates/status/666050758...</td>\n",
       "      <td>10</td>\n",
       "      <td>10</td>\n",
       "      <td>a</td>\n",
       "      <td>NaN</td>\n",
       "      <td>59</td>\n",
       "      <td>130</td>\n",
       "      <td>1.0</td>\n",
       "    </tr>\n",
       "  </tbody>\n",
       "</table>\n",
       "</div>"
      ],
      "text/plain": [
       "             tweet_id                                          jpg_url  \\\n",
       "1  666029285002620928  https://pbs.twimg.com/media/CT42GRgUYAA5iDo.jpg   \n",
       "2  666033412701032449  https://pbs.twimg.com/media/CT4521TWwAEvMyu.jpg   \n",
       "3  666044226329800704  https://pbs.twimg.com/media/CT5Dr8HUEAA-lEu.jpg   \n",
       "4  666049248165822465  https://pbs.twimg.com/media/CT5IQmsXIAAKY4A.jpg   \n",
       "5  666050758794694657  https://pbs.twimg.com/media/CT5Jof1WUAEuVxN.jpg   \n",
       "\n",
       "   img_num                    p1   p1_conf  p1_dog                  p2  \\\n",
       "1        1               redbone  0.506826    True  miniature_pinscher   \n",
       "2        1       German_shepherd  0.596461    True            malinois   \n",
       "3        1   Rhodesian_ridgeback  0.408143    True             redbone   \n",
       "4        1    miniature_pinscher  0.560311    True          Rottweiler   \n",
       "5        1  Bernese_mountain_dog  0.651137    True    English_springer   \n",
       "\n",
       "    p2_conf  p2_dog                          p3   p3_conf  p3_dog  \\\n",
       "1  0.074192    True         Rhodesian_ridgeback  0.072010    True   \n",
       "2  0.138584    True                  bloodhound  0.116197    True   \n",
       "3  0.360687    True          miniature_pinscher  0.222752    True   \n",
       "4  0.243682    True                    Doberman  0.154629    True   \n",
       "5  0.263788    True  Greater_Swiss_Mountain_dog  0.016199    True   \n",
       "\n",
       "   in_reply_to_status_id  in_reply_to_user_id           timestamp  \\\n",
       "1                      0                    0 2015-11-15 23:05:30   \n",
       "2                      0                    0 2015-11-15 23:21:54   \n",
       "3                      0                    0 2015-11-16 00:04:52   \n",
       "4                      0                    0 2015-11-16 00:24:50   \n",
       "5                      0                    0 2015-11-16 00:30:50   \n",
       "\n",
       "                                              source  \\\n",
       "1  <a href=\"http://twitter.com/download/iphone\" r...   \n",
       "2  <a href=\"http://twitter.com/download/iphone\" r...   \n",
       "3  <a href=\"http://twitter.com/download/iphone\" r...   \n",
       "4  <a href=\"http://twitter.com/download/iphone\" r...   \n",
       "5  <a href=\"http://twitter.com/download/iphone\" r...   \n",
       "\n",
       "                                                text  \\\n",
       "1  This is a western brown Mitsubishi terrier. Up...   \n",
       "2  Here is a very happy pup. Big fan of well-main...   \n",
       "3  This is a purebred Piers Morgan. Loves to Netf...   \n",
       "4  Here we have a 1949 1st generation vulpix. Enj...   \n",
       "5  This is a truly beautiful English Wilson Staff...   \n",
       "\n",
       "                                       expanded_urls  rating_numerator  \\\n",
       "1  https://twitter.com/dog_rates/status/666029285...                 7   \n",
       "2  https://twitter.com/dog_rates/status/666033412...                 9   \n",
       "3  https://twitter.com/dog_rates/status/666044226...                 6   \n",
       "4  https://twitter.com/dog_rates/status/666049248...                 5   \n",
       "5  https://twitter.com/dog_rates/status/666050758...                10   \n",
       "\n",
       "   rating_denominator  name dog_size  retweet_count  favorite_count  score  \n",
       "1                  10     a      NaN             47             126    0.7  \n",
       "2                  10     a      NaN             43             123    0.9  \n",
       "3                  10     a      NaN            139             292    0.6  \n",
       "4                  10  None      NaN             41             106    0.5  \n",
       "5                  10     a      NaN             59             130    1.0  "
      ]
     },
     "execution_count": 87,
     "metadata": {},
     "output_type": "execute_result"
    }
   ],
   "source": [
    "pd.set_option(\"display.max_columns\", len(df_comb.columns))\n",
    "df_comb.head()"
   ]
  },
  {
   "cell_type": "code",
   "execution_count": 85,
   "metadata": {},
   "outputs": [],
   "source": [
    "df_comb[\"timestamp\"] = pd.to_datetime(df_comb[\"timestamp\"])"
   ]
  },
  {
   "cell_type": "code",
   "execution_count": 86,
   "metadata": {},
   "outputs": [],
   "source": [
    "df_comb.to_csv(\"twitter_archive_master.csv\")"
   ]
  },
  {
   "cell_type": "code",
   "execution_count": null,
   "metadata": {},
   "outputs": [],
   "source": []
  },
  {
   "cell_type": "markdown",
   "metadata": {},
   "source": [
    "# Inference"
   ]
  },
  {
   "cell_type": "markdown",
   "metadata": {},
   "source": [
    "### Top 20 Breeds for Prediction"
   ]
  },
  {
   "cell_type": "code",
   "execution_count": 72,
   "metadata": {},
   "outputs": [
    {
     "data": {
      "text/html": [
       "<div>\n",
       "<style scoped>\n",
       "    .dataframe tbody tr th:only-of-type {\n",
       "        vertical-align: middle;\n",
       "    }\n",
       "\n",
       "    .dataframe tbody tr th {\n",
       "        vertical-align: top;\n",
       "    }\n",
       "\n",
       "    .dataframe thead th {\n",
       "        text-align: right;\n",
       "    }\n",
       "</style>\n",
       "<table border=\"1\" class=\"dataframe\">\n",
       "  <thead>\n",
       "    <tr style=\"text-align: right;\">\n",
       "      <th></th>\n",
       "      <th>breed</th>\n",
       "      <th>total</th>\n",
       "    </tr>\n",
       "  </thead>\n",
       "  <tbody>\n",
       "    <tr>\n",
       "      <th>0</th>\n",
       "      <td>Afghan_hound</td>\n",
       "      <td>2.605499</td>\n",
       "    </tr>\n",
       "  </tbody>\n",
       "</table>\n",
       "</div>"
      ],
      "text/plain": [
       "          breed     total\n",
       "0  Afghan_hound  2.605499"
      ]
     },
     "execution_count": 72,
     "metadata": {},
     "output_type": "execute_result"
    }
   ],
   "source": [
    "df_sum_prob =df_images.groupby(['p1']).sum()[\"p1_conf\"] + df_images.groupby(['p2']).sum()[\"p2_conf\"]+ df_images.groupby(['p3']).sum()[\"p3_conf\"]\n",
    "df_sum_prob.to_frame()\n",
    "df_sum_prob = df_sum_prob.reset_index()\n",
    "df_sum_prob.columns = ['breed', 'total']\n",
    "df_sum_prob.head(1)"
   ]
  },
  {
   "cell_type": "code",
   "execution_count": 73,
   "metadata": {},
   "outputs": [
    {
     "data": {
      "image/png": "[encoded data removed]",
      "text/plain": [
       "<Figure size 720x720 with 1 Axes>"
      ]
     },
     "metadata": {},
     "output_type": "display_data"
    }
   ],
   "source": [
    "df_sum_prob = df_sum_prob.dropna()\n",
    "df_sum_prob = df_sum_prob.sort_values(by='total')[-20:]\n",
    "df_sum_prob.plot(x= 'breed',y='total',figsize=(10,10),kind ='barh');"
   ]
  },
  {
   "cell_type": "markdown",
   "metadata": {},
   "source": [
    "### Scatter Plot for Average Retweet "
   ]
  },
  {
   "cell_type": "code",
   "execution_count": 75,
   "metadata": {},
   "outputs": [
    {
     "data": {
      "image/png": "[encoded data removed]",
      "text/plain": [
       "<Figure size 432x288 with 1 Axes>"
      ]
     },
     "metadata": {},
     "output_type": "display_data"
    }
   ],
   "source": [
    "df_comb.favorite_count.groupby([df_comb[\"timestamp\"].dt.year.rename('year'), df_comb[\"timestamp\"].dt.month.rename('month')]).mean().plot('line');\n",
    "df_comb.retweet_count.groupby([df_comb[\"timestamp\"].dt.year.rename('year'), df_comb[\"timestamp\"].dt.month.rename('month')]).mean().plot('line')\n",
    "plt.legend(('Favorites','Retweets'));"
   ]
  },
  {
   "cell_type": "code",
   "execution_count": 76,
   "metadata": {},
   "outputs": [],
   "source": [
    "common_dog_breeds = df_comb[[\"p1\",\"timestamp\"]].groupby(df_comb.p1).count().sort_values(\"timestamp\").tail(85).index.tolist()"
   ]
  },
  {
   "cell_type": "code",
   "execution_count": 77,
   "metadata": {},
   "outputs": [],
   "source": [
    "df_comb = df_comb[df_comb.p1.isin(common_dog_breeds)]"
   ]
  },
  {
   "cell_type": "code",
   "execution_count": 78,
   "metadata": {},
   "outputs": [],
   "source": [
    "df_comb[\"score\"] =  df_comb.rating_numerator/df_comb.rating_denominator"
   ]
  },
  {
   "cell_type": "markdown",
   "metadata": {},
   "source": [
    "### Which dogs get the most love "
   ]
  },
  {
   "cell_type": "code",
   "execution_count": 79,
   "metadata": {},
   "outputs": [
    {
     "data": {
      "image/png": "[encoded data removed]",
      "text/plain": [
       "<Figure size 720x720 with 1 Axes>"
      ]
     },
     "metadata": {},
     "output_type": "display_data"
    }
   ],
   "source": [
    "df_comb.groupby(df_comb.p1).mean().sort_values(\"favorite_count\")[\"favorite_count\"][-20:].plot(figsize=(10,10),kind='barh');"
   ]
  },
  {
   "cell_type": "markdown",
   "metadata": {},
   "source": [
    "### Which dogs are popular"
   ]
  },
  {
   "cell_type": "code",
   "execution_count": 80,
   "metadata": {},
   "outputs": [
    {
     "data": {
      "image/png": "[encoded data removed]",
      "text/plain": [
       "<Figure size 720x720 with 1 Axes>"
      ]
     },
     "metadata": {},
     "output_type": "display_data"
    }
   ],
   "source": [
    "df_comb.groupby(df_comb.p1).mean().sort_values(\"retweet_count\")[\"retweet_count\"][-20:].plot(figsize=(10,10),kind='barh');"
   ]
  },
  {
   "cell_type": "markdown",
   "metadata": {},
   "source": [
    "## High Rated Dogs "
   ]
  },
  {
   "cell_type": "code",
   "execution_count": 81,
   "metadata": {},
   "outputs": [
    {
     "data": {
      "image/png": "[encoded data removed]",
      "text/plain": [
       "<Figure size 720x720 with 1 Axes>"
      ]
     },
     "metadata": {},
     "output_type": "display_data"
    }
   ],
   "source": [
    "df_comb.groupby(df_comb.p1).mean().sort_values(\"score\")[\"score\"][-20:].plot(figsize=(10,10),kind='barh');"
   ]
  },
  {
   "cell_type": "code",
   "execution_count": null,
   "metadata": {},
   "outputs": [],
   "source": []
  }
 ],
 "metadata": {
  "kernelspec": {
   "display_name": "Python 3",
   "language": "python",
   "name": "python3"
  },
  "language_info": {
   "codemirror_mode": {
    "name": "ipython",
    "version": 3
   },
   "file_extension": ".py",
   "mimetype": "text/x-python",
   "name": "python",
   "nbconvert_exporter": "python",
   "pygments_lexer": "ipython3",
   "version": "3.6.7"
  }
 },
 "nbformat": 4,
 "nbformat_minor": 2
}
