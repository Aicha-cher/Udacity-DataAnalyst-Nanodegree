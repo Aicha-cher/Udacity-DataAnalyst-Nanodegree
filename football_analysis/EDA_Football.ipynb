{
 "cells": [
  {
   "cell_type": "markdown",
   "metadata": {
    "_uuid": "785ecb63e8a9e3e62e91cb43fcc4dd5f2a73bbfb"
   },
   "source": [
    "# The ultimate Soccer database for data analysis and machine learning\n",
    "\n",
    "What is Given:\n",
    "\n",
    "   - 25,000 matches\n",
    "   -  +10,000 players\n",
    "   -  11 European Countries with their lead championship\n",
    "   -  Seasons 2008 to 2016\n",
    "   -  Players and Teams' attributes* sourced from EA Sports' FIFA video game series, including the weekly updates\n",
    "   -  Team line up with squad formation (X, Y coordinates)\n",
    "   -  Betting odds from up to 10 providers\n",
    "   -  Detailed match events (goal types, possession, corner, cross, fouls, cards etc...) for +10,000 matches\n",
    "  \n",
    "\n",
    "\n",
    "****\n",
    "# My goal\n",
    "\n",
    "- Finding Top Players from 2008 to 2016\n",
    "- Finding Top Teams from 2008 to 2016\n",
    "\n"
   ]
  },
  {
   "cell_type": "markdown",
   "metadata": {
    "_uuid": "c3e3cabc88e88be0625ed2fd9df5b7e56c551fc5"
   },
   "source": [
    "# Loading packages and data\n",
    "****"
   ]
  },
  {
   "cell_type": "code",
   "execution_count": 1,
   "metadata": {
    "_uuid": "abe997b2469ad8ef525957d4d389b050dbd05b05"
   },
   "outputs": [],
   "source": [
    "# Importing the libraries\n",
    "import numpy as np\n",
    "import matplotlib.pyplot as plt\n",
    "import pandas as pd\n",
    "import seaborn as sns\n",
    "import sqlite3\n",
    "import datetime as dt\n",
    "\n",
    "\n",
    "# Importing the dataset\n",
    "conn = sqlite3.connect('../input/database.sqlite')"
   ]
  },
  {
   "cell_type": "code",
   "execution_count": 2,
   "metadata": {
    "_uuid": "b9ebea9072d338a172bdf9d01a8a4b1ec98493f2"
   },
   "outputs": [
    {
     "name": "stdout",
     "output_type": "stream",
     "text": [
      "[('sqlite_sequence',), ('Player_Attributes',), ('Player',), ('Match',), ('League',), ('Country',), ('Team',), ('Team_Attributes',)]\n"
     ]
    }
   ],
   "source": [
    "#Making a Connection for execution of SQL Commands\n",
    "cursor = conn.cursor()\n",
    "cursor.execute(\"SELECT name FROM sqlite_master WHERE type='table';\")\n",
    "#list of all the tables in the schema \n",
    "print(cursor.fetchall())"
   ]
  },
  {
   "cell_type": "markdown",
   "metadata": {
    "_uuid": "cdc41d473e77b9166f46311ed5019b1ab212c1ab"
   },
   "source": [
    "## Creating all the DataFrames from tables present in the DataBase"
   ]
  },
  {
   "cell_type": "code",
   "execution_count": 3,
   "metadata": {
    "_uuid": "58df95e2a0156a8fef4cf078d7d3f0deb35399f4"
   },
   "outputs": [],
   "source": [
    "#making DataFrame from DataBase\n",
    "df_league = pd.read_sql_query(\"select * from League;\", conn)\n",
    "df_league.head()\n",
    "df_player_attributes = pd.read_sql_query(\"select * from Player_Attributes;\", conn)\n",
    "df_player = pd.read_sql_query(\"select * from Player;\", conn)\n",
    "df_match = pd.read_sql_query(\"select * from Match;\", conn)\n",
    "df_country = pd.read_sql_query(\"select * from Country;\", conn)\n",
    "df_team_attributes = pd.read_sql_query(\"select * from Team_Attributes;\", conn)\n",
    "df_team = pd.read_sql_query(\"select * from Team;\", conn)"
   ]
  },
  {
   "cell_type": "code",
   "execution_count": 4,
   "metadata": {
    "_uuid": "c5fd87cdbad5ddc367e1d941ea32675e1411cff8"
   },
   "outputs": [
    {
     "data": {
      "text/html": [
       "<div>\n",
       "<style scoped>\n",
       "    .dataframe tbody tr th:only-of-type {\n",
       "        vertical-align: middle;\n",
       "    }\n",
       "\n",
       "    .dataframe tbody tr th {\n",
       "        vertical-align: top;\n",
       "    }\n",
       "\n",
       "    .dataframe thead th {\n",
       "        text-align: right;\n",
       "    }\n",
       "</style>\n",
       "<table border=\"1\" class=\"dataframe\">\n",
       "  <thead>\n",
       "    <tr style=\"text-align: right;\">\n",
       "      <th></th>\n",
       "      <th>id</th>\n",
       "      <th>player_fifa_api_id</th>\n",
       "      <th>player_api_id</th>\n",
       "      <th>date</th>\n",
       "      <th>overall_rating</th>\n",
       "      <th>potential</th>\n",
       "      <th>preferred_foot</th>\n",
       "      <th>attacking_work_rate</th>\n",
       "      <th>defensive_work_rate</th>\n",
       "      <th>crossing</th>\n",
       "      <th>...</th>\n",
       "      <th>vision</th>\n",
       "      <th>penalties</th>\n",
       "      <th>marking</th>\n",
       "      <th>standing_tackle</th>\n",
       "      <th>sliding_tackle</th>\n",
       "      <th>gk_diving</th>\n",
       "      <th>gk_handling</th>\n",
       "      <th>gk_kicking</th>\n",
       "      <th>gk_positioning</th>\n",
       "      <th>gk_reflexes</th>\n",
       "    </tr>\n",
       "  </thead>\n",
       "  <tbody>\n",
       "    <tr>\n",
       "      <th>0</th>\n",
       "      <td>1</td>\n",
       "      <td>218353</td>\n",
       "      <td>505942</td>\n",
       "      <td>2016-02-18 00:00:00</td>\n",
       "      <td>67.0</td>\n",
       "      <td>71.0</td>\n",
       "      <td>right</td>\n",
       "      <td>medium</td>\n",
       "      <td>medium</td>\n",
       "      <td>49.0</td>\n",
       "      <td>...</td>\n",
       "      <td>54.0</td>\n",
       "      <td>48.0</td>\n",
       "      <td>65.0</td>\n",
       "      <td>69.0</td>\n",
       "      <td>69.0</td>\n",
       "      <td>6.0</td>\n",
       "      <td>11.0</td>\n",
       "      <td>10.0</td>\n",
       "      <td>8.0</td>\n",
       "      <td>8.0</td>\n",
       "    </tr>\n",
       "  </tbody>\n",
       "</table>\n",
       "<p>1 rows × 42 columns</p>\n",
       "</div>"
      ],
      "text/plain": [
       "   id  player_fifa_api_id  player_api_id                 date  overall_rating  \\\n",
       "0   1              218353         505942  2016-02-18 00:00:00            67.0   \n",
       "\n",
       "   potential preferred_foot attacking_work_rate defensive_work_rate  crossing  \\\n",
       "0       71.0          right              medium              medium      49.0   \n",
       "\n",
       "      ...       vision  penalties  marking  standing_tackle  sliding_tackle  \\\n",
       "0     ...         54.0       48.0     65.0             69.0            69.0   \n",
       "\n",
       "   gk_diving  gk_handling  gk_kicking  gk_positioning  gk_reflexes  \n",
       "0        6.0         11.0        10.0             8.0          8.0  \n",
       "\n",
       "[1 rows x 42 columns]"
      ]
     },
     "execution_count": 4,
     "metadata": {},
     "output_type": "execute_result"
    }
   ],
   "source": [
    "#inspecting the Player_Attributes table\n",
    "df_player_attributes.head(1)"
   ]
  },
  {
   "cell_type": "code",
   "execution_count": 5,
   "metadata": {
    "_uuid": "76e2cfacfdf048d078c2137b75f447b70a01d646"
   },
   "outputs": [
    {
     "data": {
      "text/html": [
       "<div>\n",
       "<style scoped>\n",
       "    .dataframe tbody tr th:only-of-type {\n",
       "        vertical-align: middle;\n",
       "    }\n",
       "\n",
       "    .dataframe tbody tr th {\n",
       "        vertical-align: top;\n",
       "    }\n",
       "\n",
       "    .dataframe thead th {\n",
       "        text-align: right;\n",
       "    }\n",
       "</style>\n",
       "<table border=\"1\" class=\"dataframe\">\n",
       "  <thead>\n",
       "    <tr style=\"text-align: right;\">\n",
       "      <th></th>\n",
       "      <th>id</th>\n",
       "      <th>player_api_id</th>\n",
       "      <th>player_name</th>\n",
       "      <th>player_fifa_api_id</th>\n",
       "      <th>birthday</th>\n",
       "      <th>height</th>\n",
       "      <th>weight</th>\n",
       "    </tr>\n",
       "  </thead>\n",
       "  <tbody>\n",
       "    <tr>\n",
       "      <th>0</th>\n",
       "      <td>1</td>\n",
       "      <td>505942</td>\n",
       "      <td>Aaron Appindangoye</td>\n",
       "      <td>218353</td>\n",
       "      <td>1992-02-29 00:00:00</td>\n",
       "      <td>182.88</td>\n",
       "      <td>187</td>\n",
       "    </tr>\n",
       "  </tbody>\n",
       "</table>\n",
       "</div>"
      ],
      "text/plain": [
       "   id  player_api_id         player_name  player_fifa_api_id  \\\n",
       "0   1         505942  Aaron Appindangoye              218353   \n",
       "\n",
       "              birthday  height  weight  \n",
       "0  1992-02-29 00:00:00  182.88     187  "
      ]
     },
     "execution_count": 5,
     "metadata": {},
     "output_type": "execute_result"
    }
   ],
   "source": [
    "#inspecting the Player table\n",
    "df_player.head(1)"
   ]
  },
  {
   "cell_type": "code",
   "execution_count": 6,
   "metadata": {
    "_uuid": "b3d79163e6d755d070fa4be7e83e19fe3ffb7cc5"
   },
   "outputs": [
    {
     "data": {
      "text/html": [
       "<div>\n",
       "<style scoped>\n",
       "    .dataframe tbody tr th:only-of-type {\n",
       "        vertical-align: middle;\n",
       "    }\n",
       "\n",
       "    .dataframe tbody tr th {\n",
       "        vertical-align: top;\n",
       "    }\n",
       "\n",
       "    .dataframe thead th {\n",
       "        text-align: right;\n",
       "    }\n",
       "</style>\n",
       "<table border=\"1\" class=\"dataframe\">\n",
       "  <thead>\n",
       "    <tr style=\"text-align: right;\">\n",
       "      <th></th>\n",
       "      <th>id</th>\n",
       "      <th>name</th>\n",
       "    </tr>\n",
       "  </thead>\n",
       "  <tbody>\n",
       "    <tr>\n",
       "      <th>0</th>\n",
       "      <td>1</td>\n",
       "      <td>Belgium</td>\n",
       "    </tr>\n",
       "  </tbody>\n",
       "</table>\n",
       "</div>"
      ],
      "text/plain": [
       "   id     name\n",
       "0   1  Belgium"
      ]
     },
     "execution_count": 6,
     "metadata": {},
     "output_type": "execute_result"
    }
   ],
   "source": [
    "#inspecting the Country table\n",
    "df_country.head(1)"
   ]
  },
  {
   "cell_type": "code",
   "execution_count": 7,
   "metadata": {
    "_uuid": "003890a48552b0c68afa6f4b667d613c0104878f"
   },
   "outputs": [
    {
     "data": {
      "text/html": [
       "<div>\n",
       "<style scoped>\n",
       "    .dataframe tbody tr th:only-of-type {\n",
       "        vertical-align: middle;\n",
       "    }\n",
       "\n",
       "    .dataframe tbody tr th {\n",
       "        vertical-align: top;\n",
       "    }\n",
       "\n",
       "    .dataframe thead th {\n",
       "        text-align: right;\n",
       "    }\n",
       "</style>\n",
       "<table border=\"1\" class=\"dataframe\">\n",
       "  <thead>\n",
       "    <tr style=\"text-align: right;\">\n",
       "      <th></th>\n",
       "      <th>id</th>\n",
       "      <th>team_fifa_api_id</th>\n",
       "      <th>team_api_id</th>\n",
       "      <th>date</th>\n",
       "      <th>buildUpPlaySpeed</th>\n",
       "      <th>buildUpPlaySpeedClass</th>\n",
       "      <th>buildUpPlayDribbling</th>\n",
       "      <th>buildUpPlayDribblingClass</th>\n",
       "      <th>buildUpPlayPassing</th>\n",
       "      <th>buildUpPlayPassingClass</th>\n",
       "      <th>...</th>\n",
       "      <th>chanceCreationShooting</th>\n",
       "      <th>chanceCreationShootingClass</th>\n",
       "      <th>chanceCreationPositioningClass</th>\n",
       "      <th>defencePressure</th>\n",
       "      <th>defencePressureClass</th>\n",
       "      <th>defenceAggression</th>\n",
       "      <th>defenceAggressionClass</th>\n",
       "      <th>defenceTeamWidth</th>\n",
       "      <th>defenceTeamWidthClass</th>\n",
       "      <th>defenceDefenderLineClass</th>\n",
       "    </tr>\n",
       "  </thead>\n",
       "  <tbody>\n",
       "    <tr>\n",
       "      <th>0</th>\n",
       "      <td>1</td>\n",
       "      <td>434</td>\n",
       "      <td>9930</td>\n",
       "      <td>2010-02-22 00:00:00</td>\n",
       "      <td>60</td>\n",
       "      <td>Balanced</td>\n",
       "      <td>NaN</td>\n",
       "      <td>Little</td>\n",
       "      <td>50</td>\n",
       "      <td>Mixed</td>\n",
       "      <td>...</td>\n",
       "      <td>55</td>\n",
       "      <td>Normal</td>\n",
       "      <td>Organised</td>\n",
       "      <td>50</td>\n",
       "      <td>Medium</td>\n",
       "      <td>55</td>\n",
       "      <td>Press</td>\n",
       "      <td>45</td>\n",
       "      <td>Normal</td>\n",
       "      <td>Cover</td>\n",
       "    </tr>\n",
       "  </tbody>\n",
       "</table>\n",
       "<p>1 rows × 25 columns</p>\n",
       "</div>"
      ],
      "text/plain": [
       "   id  team_fifa_api_id  team_api_id                 date  buildUpPlaySpeed  \\\n",
       "0   1               434         9930  2010-02-22 00:00:00                60   \n",
       "\n",
       "  buildUpPlaySpeedClass  buildUpPlayDribbling buildUpPlayDribblingClass  \\\n",
       "0              Balanced                   NaN                    Little   \n",
       "\n",
       "   buildUpPlayPassing buildUpPlayPassingClass           ...             \\\n",
       "0                  50                   Mixed           ...              \n",
       "\n",
       "  chanceCreationShooting  chanceCreationShootingClass  \\\n",
       "0                     55                       Normal   \n",
       "\n",
       "  chanceCreationPositioningClass  defencePressure defencePressureClass  \\\n",
       "0                      Organised               50               Medium   \n",
       "\n",
       "   defenceAggression defenceAggressionClass defenceTeamWidth  \\\n",
       "0                 55                  Press               45   \n",
       "\n",
       "   defenceTeamWidthClass defenceDefenderLineClass  \n",
       "0                 Normal                    Cover  \n",
       "\n",
       "[1 rows x 25 columns]"
      ]
     },
     "execution_count": 7,
     "metadata": {},
     "output_type": "execute_result"
    }
   ],
   "source": [
    "#inspecting the Team_Attributes table\n",
    "df_team_attributes.head(1)"
   ]
  },
  {
   "cell_type": "code",
   "execution_count": 8,
   "metadata": {
    "_uuid": "1cbd7618b7d03dc58e81504d2604a2cf249861a2"
   },
   "outputs": [
    {
     "data": {
      "text/html": [
       "<div>\n",
       "<style scoped>\n",
       "    .dataframe tbody tr th:only-of-type {\n",
       "        vertical-align: middle;\n",
       "    }\n",
       "\n",
       "    .dataframe tbody tr th {\n",
       "        vertical-align: top;\n",
       "    }\n",
       "\n",
       "    .dataframe thead th {\n",
       "        text-align: right;\n",
       "    }\n",
       "</style>\n",
       "<table border=\"1\" class=\"dataframe\">\n",
       "  <thead>\n",
       "    <tr style=\"text-align: right;\">\n",
       "      <th></th>\n",
       "      <th>id</th>\n",
       "      <th>team_api_id</th>\n",
       "      <th>team_fifa_api_id</th>\n",
       "      <th>team_long_name</th>\n",
       "      <th>team_short_name</th>\n",
       "    </tr>\n",
       "  </thead>\n",
       "  <tbody>\n",
       "    <tr>\n",
       "      <th>0</th>\n",
       "      <td>1</td>\n",
       "      <td>9987</td>\n",
       "      <td>673.0</td>\n",
       "      <td>KRC Genk</td>\n",
       "      <td>GEN</td>\n",
       "    </tr>\n",
       "  </tbody>\n",
       "</table>\n",
       "</div>"
      ],
      "text/plain": [
       "   id  team_api_id  team_fifa_api_id team_long_name team_short_name\n",
       "0   1         9987             673.0       KRC Genk             GEN"
      ]
     },
     "execution_count": 8,
     "metadata": {},
     "output_type": "execute_result"
    }
   ],
   "source": [
    "#inspecting the Team table\n",
    "df_team.head(1)"
   ]
  },
  {
   "cell_type": "code",
   "execution_count": 9,
   "metadata": {
    "_uuid": "cabc160eac7bc9b12e044624c2804a021c33eec9"
   },
   "outputs": [
    {
     "data": {
      "text/html": [
       "<div>\n",
       "<style scoped>\n",
       "    .dataframe tbody tr th:only-of-type {\n",
       "        vertical-align: middle;\n",
       "    }\n",
       "\n",
       "    .dataframe tbody tr th {\n",
       "        vertical-align: top;\n",
       "    }\n",
       "\n",
       "    .dataframe thead th {\n",
       "        text-align: right;\n",
       "    }\n",
       "</style>\n",
       "<table border=\"1\" class=\"dataframe\">\n",
       "  <thead>\n",
       "    <tr style=\"text-align: right;\">\n",
       "      <th></th>\n",
       "      <th>id</th>\n",
       "      <th>country_id</th>\n",
       "      <th>league_id</th>\n",
       "      <th>season</th>\n",
       "      <th>stage</th>\n",
       "      <th>date</th>\n",
       "      <th>match_api_id</th>\n",
       "      <th>home_team_api_id</th>\n",
       "      <th>away_team_api_id</th>\n",
       "      <th>home_team_goal</th>\n",
       "      <th>...</th>\n",
       "      <th>SJA</th>\n",
       "      <th>VCH</th>\n",
       "      <th>VCD</th>\n",
       "      <th>VCA</th>\n",
       "      <th>GBH</th>\n",
       "      <th>GBD</th>\n",
       "      <th>GBA</th>\n",
       "      <th>BSH</th>\n",
       "      <th>BSD</th>\n",
       "      <th>BSA</th>\n",
       "    </tr>\n",
       "  </thead>\n",
       "  <tbody>\n",
       "    <tr>\n",
       "      <th>0</th>\n",
       "      <td>1</td>\n",
       "      <td>1</td>\n",
       "      <td>1</td>\n",
       "      <td>2008/2009</td>\n",
       "      <td>1</td>\n",
       "      <td>2008-08-17 00:00:00</td>\n",
       "      <td>492473</td>\n",
       "      <td>9987</td>\n",
       "      <td>9993</td>\n",
       "      <td>1</td>\n",
       "      <td>...</td>\n",
       "      <td>4.0</td>\n",
       "      <td>1.65</td>\n",
       "      <td>3.4</td>\n",
       "      <td>4.5</td>\n",
       "      <td>1.78</td>\n",
       "      <td>3.25</td>\n",
       "      <td>4.0</td>\n",
       "      <td>1.73</td>\n",
       "      <td>3.4</td>\n",
       "      <td>4.2</td>\n",
       "    </tr>\n",
       "  </tbody>\n",
       "</table>\n",
       "<p>1 rows × 115 columns</p>\n",
       "</div>"
      ],
      "text/plain": [
       "   id  country_id  league_id     season  stage                 date  \\\n",
       "0   1           1          1  2008/2009      1  2008-08-17 00:00:00   \n",
       "\n",
       "   match_api_id  home_team_api_id  away_team_api_id  home_team_goal ...   SJA  \\\n",
       "0        492473              9987              9993               1 ...   4.0   \n",
       "\n",
       "    VCH  VCD  VCA   GBH   GBD  GBA   BSH  BSD  BSA  \n",
       "0  1.65  3.4  4.5  1.78  3.25  4.0  1.73  3.4  4.2  \n",
       "\n",
       "[1 rows x 115 columns]"
      ]
     },
     "execution_count": 9,
     "metadata": {},
     "output_type": "execute_result"
    }
   ],
   "source": [
    "#inspecting the Match table\n",
    "df_match.head(1)"
   ]
  },
  {
   "cell_type": "markdown",
   "metadata": {
    "_uuid": "b32075d584e867e8f69b855808c5044f4af4df53"
   },
   "source": [
    " # Database Schema\n",
    " \n",
    "![database-diagram.jpeg](https://raw.githubusercontent.com/abhiksark/UD-ND/master/football_analysis/database-diagram.jpeg)\n",
    "\n",
    "This is a complex DataBase Having Many Columns. To crearly Understand the database\n",
    "I created the above DataBase Schema E-R Diagram using [Schemacrawler](https://www.schemacrawler.com/). It's a free open source tool for making E-R Diagrams from the Database. You can visit their github page for more Information.\n",
    "\n",
    "E-R Diagram gives a indepth look into the Database and It's Structure."
   ]
  },
  {
   "cell_type": "markdown",
   "metadata": {
    "_uuid": "307ba20b07cb8430f1b9d834a5fbaaa0efd39990"
   },
   "source": [
    "# Cleaning Data\n",
    "## Checking NULL Data and taking filtering the fields that are being used \n",
    "\n"
   ]
  },
  {
   "cell_type": "code",
   "execution_count": 10,
   "metadata": {
    "_uuid": "ca9e1fbc2482ad327f56934f84f58b2b0dd572ad"
   },
   "outputs": [
    {
     "data": {
      "text/plain": [
       "country_id             0\n",
       "league_id              0\n",
       "season                 0\n",
       "stage                  0\n",
       "date                   0\n",
       "match_api_id           0\n",
       "home_team_api_id       0\n",
       "away_team_api_id       0\n",
       "home_player_1       1224\n",
       "home_player_2       1315\n",
       "home_player_3       1281\n",
       "home_player_4       1323\n",
       "home_player_5       1316\n",
       "home_player_6       1325\n",
       "home_player_7       1227\n",
       "home_player_8       1309\n",
       "home_player_9       1273\n",
       "home_player_10      1436\n",
       "home_player_11      1555\n",
       "away_player_1       1234\n",
       "away_player_2       1278\n",
       "away_player_3       1293\n",
       "away_player_4       1321\n",
       "away_player_5       1335\n",
       "away_player_6       1313\n",
       "away_player_7       1235\n",
       "away_player_8       1341\n",
       "away_player_9       1328\n",
       "away_player_10      1441\n",
       "away_player_11      1554\n",
       "dtype: int64"
      ]
     },
     "execution_count": 10,
     "metadata": {},
     "output_type": "execute_result"
    }
   ],
   "source": [
    "df_match.isna().sum()\n",
    "df_match = df_match[['country_id', 'league_id', 'season', 'stage', 'date', 'match_api_id', 'home_team_api_id', 'away_team_api_id', 'home_player_1',\n",
    "       'home_player_2', 'home_player_3', 'home_player_4', 'home_player_5','home_player_6', 'home_player_7', 'home_player_8', 'home_player_9',\n",
    "       'home_player_10', 'home_player_11', 'away_player_1', 'away_player_2','away_player_3', 'away_player_4', 'away_player_5', 'away_player_6',\n",
    "       'away_player_7', 'away_player_8', 'away_player_9', 'away_player_10','away_player_11']]\n",
    "df_match.isna().sum()\n"
   ]
  },
  {
   "cell_type": "markdown",
   "metadata": {
    "_uuid": "1c3c7f9f1f65806315128237241da12d5510c047"
   },
   "source": [
    "From the E-R Diagram above we can see that **player_api_id** is not directly realted with the **team_api_id**.\n",
    "To relate them together we will use the **Match** Table .\n",
    "As, there are a total of 22 mapping from **Player->Team** so I will drop them later. "
   ]
  },
  {
   "cell_type": "code",
   "execution_count": 11,
   "metadata": {
    "_uuid": "e822d02cb08dabdab894cac08a4f14e31d5125af"
   },
   "outputs": [
    {
     "data": {
      "text/plain": [
       "id             0\n",
       "team_api_id    0\n",
       "date           0\n",
       "dtype: int64"
      ]
     },
     "execution_count": 11,
     "metadata": {},
     "output_type": "execute_result"
    }
   ],
   "source": [
    "df_team_attributes = df_team_attributes[['id', 'team_api_id', 'date']]\n",
    "df_team_attributes.isna().sum()"
   ]
  },
  {
   "cell_type": "code",
   "execution_count": 12,
   "metadata": {
    "_uuid": "df50e07f638584fdd60a8abfe3887de4fe654c21"
   },
   "outputs": [
    {
     "data": {
      "text/plain": [
       "id                0\n",
       "team_api_id       0\n",
       "team_long_name    0\n",
       "dtype: int64"
      ]
     },
     "execution_count": 12,
     "metadata": {},
     "output_type": "execute_result"
    }
   ],
   "source": [
    "df_team.isna().sum()\n",
    "df_team = df_team[['id', 'team_api_id', 'team_long_name']]\n",
    "df_team.isna().sum()"
   ]
  },
  {
   "cell_type": "code",
   "execution_count": 13,
   "metadata": {
    "_uuid": "8cf8ff15b436fc50da9c68c2e983367f8b1f446a"
   },
   "outputs": [],
   "source": [
    "df_player.isna().sum()\n",
    "df_player = df_player[['player_api_id', 'player_name' ]]"
   ]
  },
  {
   "cell_type": "code",
   "execution_count": 14,
   "metadata": {
    "_uuid": "540c7b803ce0048b76a123caffc3641d24e92d28"
   },
   "outputs": [
    {
     "data": {
      "text/plain": [
       "player_api_id       0\n",
       "date                0\n",
       "overall_rating    836\n",
       "potential         836\n",
       "dtype: int64"
      ]
     },
     "execution_count": 14,
     "metadata": {},
     "output_type": "execute_result"
    }
   ],
   "source": [
    "df_player_attributes = df_player_attributes[[ 'player_api_id', 'date', 'overall_rating','potential']]\n",
    "df_player_attributes.isna().sum()"
   ]
  },
  {
   "cell_type": "markdown",
   "metadata": {
    "_uuid": "b248f2db019d0b8ce15cb248804f0934074d81c0"
   },
   "source": [
    "As we will rating the player on the basis of overall_rating. We will be dropping all the NULLs present in the overall_rating column from the DataFrame."
   ]
  },
  {
   "cell_type": "code",
   "execution_count": 15,
   "metadata": {
    "_uuid": "84bc2ec419d3c4c3e403273bad69cf09c2cfc3b4"
   },
   "outputs": [
    {
     "data": {
      "text/plain": [
       "player_api_id     0\n",
       "date              0\n",
       "overall_rating    0\n",
       "potential         0\n",
       "dtype: int64"
      ]
     },
     "execution_count": 15,
     "metadata": {},
     "output_type": "execute_result"
    }
   ],
   "source": [
    "df_player_attributes = df_player_attributes.dropna()\n",
    "df_player_attributes.isna().sum()"
   ]
  },
  {
   "cell_type": "code",
   "execution_count": 16,
   "metadata": {
    "_uuid": "62ff71af6bb43e6f7972a11ba89352a4dbde0c95"
   },
   "outputs": [
    {
     "data": {
      "text/html": [
       "<div>\n",
       "<style scoped>\n",
       "    .dataframe tbody tr th:only-of-type {\n",
       "        vertical-align: middle;\n",
       "    }\n",
       "\n",
       "    .dataframe tbody tr th {\n",
       "        vertical-align: top;\n",
       "    }\n",
       "\n",
       "    .dataframe thead th {\n",
       "        text-align: right;\n",
       "    }\n",
       "</style>\n",
       "<table border=\"1\" class=\"dataframe\">\n",
       "  <thead>\n",
       "    <tr style=\"text-align: right;\">\n",
       "      <th></th>\n",
       "      <th>player_api_id</th>\n",
       "      <th>player_name</th>\n",
       "    </tr>\n",
       "  </thead>\n",
       "  <tbody>\n",
       "    <tr>\n",
       "      <th>0</th>\n",
       "      <td>505942</td>\n",
       "      <td>Aaron Appindangoye</td>\n",
       "    </tr>\n",
       "  </tbody>\n",
       "</table>\n",
       "</div>"
      ],
      "text/plain": [
       "   player_api_id         player_name\n",
       "0         505942  Aaron Appindangoye"
      ]
     },
     "execution_count": 16,
     "metadata": {},
     "output_type": "execute_result"
    }
   ],
   "source": [
    "df_player.head(1)"
   ]
  },
  {
   "cell_type": "code",
   "execution_count": 17,
   "metadata": {
    "_uuid": "4f12f788c8d4e14c992501457a3ed71a287076d8"
   },
   "outputs": [
    {
     "data": {
      "text/html": [
       "<div>\n",
       "<style scoped>\n",
       "    .dataframe tbody tr th:only-of-type {\n",
       "        vertical-align: middle;\n",
       "    }\n",
       "\n",
       "    .dataframe tbody tr th {\n",
       "        vertical-align: top;\n",
       "    }\n",
       "\n",
       "    .dataframe thead th {\n",
       "        text-align: right;\n",
       "    }\n",
       "</style>\n",
       "<table border=\"1\" class=\"dataframe\">\n",
       "  <thead>\n",
       "    <tr style=\"text-align: right;\">\n",
       "      <th></th>\n",
       "      <th>player_api_id</th>\n",
       "      <th>date</th>\n",
       "      <th>overall_rating</th>\n",
       "      <th>potential</th>\n",
       "    </tr>\n",
       "  </thead>\n",
       "  <tbody>\n",
       "    <tr>\n",
       "      <th>0</th>\n",
       "      <td>505942</td>\n",
       "      <td>2016-02-18 00:00:00</td>\n",
       "      <td>67.0</td>\n",
       "      <td>71.0</td>\n",
       "    </tr>\n",
       "  </tbody>\n",
       "</table>\n",
       "</div>"
      ],
      "text/plain": [
       "   player_api_id                 date  overall_rating  potential\n",
       "0         505942  2016-02-18 00:00:00            67.0       71.0"
      ]
     },
     "execution_count": 17,
     "metadata": {},
     "output_type": "execute_result"
    }
   ],
   "source": [
    "df_player_attributes.head(1) "
   ]
  },
  {
   "cell_type": "markdown",
   "metadata": {
    "_uuid": "e969cb2d1a494d1c87932d0162ae652420a26e23"
   },
   "source": [
    "## Combining DataFrames to Have Player Name and Player attributes in a Single Data Frame"
   ]
  },
  {
   "cell_type": "code",
   "execution_count": 18,
   "metadata": {
    "_uuid": "939bfc18f0fed429afe72ac22bb4957ab056fd91"
   },
   "outputs": [
    {
     "data": {
      "text/html": [
       "<div>\n",
       "<style scoped>\n",
       "    .dataframe tbody tr th:only-of-type {\n",
       "        vertical-align: middle;\n",
       "    }\n",
       "\n",
       "    .dataframe tbody tr th {\n",
       "        vertical-align: top;\n",
       "    }\n",
       "\n",
       "    .dataframe thead th {\n",
       "        text-align: right;\n",
       "    }\n",
       "</style>\n",
       "<table border=\"1\" class=\"dataframe\">\n",
       "  <thead>\n",
       "    <tr style=\"text-align: right;\">\n",
       "      <th></th>\n",
       "      <th>player_api_id</th>\n",
       "      <th>player_name</th>\n",
       "      <th>date</th>\n",
       "      <th>overall_rating</th>\n",
       "      <th>potential</th>\n",
       "    </tr>\n",
       "  </thead>\n",
       "  <tbody>\n",
       "    <tr>\n",
       "      <th>0</th>\n",
       "      <td>505942</td>\n",
       "      <td>Aaron Appindangoye</td>\n",
       "      <td>2016-02-18 00:00:00</td>\n",
       "      <td>67.0</td>\n",
       "      <td>71.0</td>\n",
       "    </tr>\n",
       "  </tbody>\n",
       "</table>\n",
       "</div>"
      ],
      "text/plain": [
       "   player_api_id         player_name                 date  overall_rating  \\\n",
       "0         505942  Aaron Appindangoye  2016-02-18 00:00:00            67.0   \n",
       "\n",
       "   potential  \n",
       "0       71.0  "
      ]
     },
     "execution_count": 18,
     "metadata": {},
     "output_type": "execute_result"
    }
   ],
   "source": [
    "#Merging Two Tables\n",
    "df_comb_player =  pd.merge(df_player, df_player_attributes, on=\"player_api_id\")\n",
    "df_comb_player.head(1)"
   ]
  },
  {
   "cell_type": "code",
   "execution_count": 19,
   "metadata": {
    "_uuid": "1ce7053e819740c93c890351aef452585a38fca9"
   },
   "outputs": [],
   "source": [
    "#converting Object to DateTime so we can run the Date Queries using DateTime\n",
    "df_comb_player['date'] = pd.to_datetime(df_comb_player['date'])"
   ]
  },
  {
   "cell_type": "markdown",
   "metadata": {
    "_uuid": "e6daf804518490c0c59370de47e7c6751c74f0cc"
   },
   "source": [
    "# Finding Top Players\n",
    "\n",
    "The First Task was to find the top 10(n) players at the end of the year. \n",
    "In the given dataset we are given mutiple attributes column for the same player with a different Dates. To keep things simple we will use only the Last Updated Attribute of the player for that year.\n",
    "\n",
    "### Steps for finding the Top 10 Player\n",
    "    1) Filtering the players by year \n",
    "    2) Taking the last updated intance of the player attributes of that year\n",
    "    3) Sorting the Players by overall_rating column, if overall_rating for any two player is same we will consider the potential column.\n",
    "    4) Returning the top 10 values from the sorted DataFrame."
   ]
  },
  {
   "cell_type": "code",
   "execution_count": 20,
   "metadata": {
    "_uuid": "995630b716d2cb839bd09c822e58abc66156e6eb"
   },
   "outputs": [],
   "source": [
    "def top_N_players(df,year,n=10):\n",
    "    \"\"\"Function which return N Number of Top Player at end of Year\"\"\"\n",
    "    df_top = df[df['date'].dt.year == year]\n",
    "    df_top = df_top.sort_values('date').groupby('player_api_id').last() #Taking only last Instance\n",
    "    df_top = df_top.sort_values(['overall_rating','potential']).tail(n)\n",
    "    df_top = df_top.sort_values(['overall_rating','potential'],ascending=False)\n",
    "    return df_top"
   ]
  },
  {
   "cell_type": "markdown",
   "metadata": {},
   "source": [
    "### Top 10 Players from 2008-2016 on the Basis of given Data"
   ]
  },
  {
   "cell_type": "code",
   "execution_count": 87,
   "metadata": {
    "_uuid": "4b4f5b11518a6337beaf149f1e9ef56ca566ac1f"
   },
   "outputs": [
    {
     "data": {
      "text/html": [
       "<div>\n",
       "<style scoped>\n",
       "    .dataframe tbody tr th:only-of-type {\n",
       "        vertical-align: middle;\n",
       "    }\n",
       "\n",
       "    .dataframe tbody tr th {\n",
       "        vertical-align: top;\n",
       "    }\n",
       "\n",
       "    .dataframe thead th {\n",
       "        text-align: right;\n",
       "    }\n",
       "</style>\n",
       "<table border=\"1\" class=\"dataframe\">\n",
       "  <thead>\n",
       "    <tr style=\"text-align: right;\">\n",
       "      <th></th>\n",
       "      <th>rank1</th>\n",
       "      <th>player_api_id</th>\n",
       "      <th>player_name</th>\n",
       "    </tr>\n",
       "  </thead>\n",
       "  <tbody>\n",
       "    <tr>\n",
       "      <th>0</th>\n",
       "      <td>1</td>\n",
       "      <td>19533</td>\n",
       "      <td>Neymar</td>\n",
       "    </tr>\n",
       "    <tr>\n",
       "      <th>1</th>\n",
       "      <td>2</td>\n",
       "      <td>27299</td>\n",
       "      <td>Manuel Neuer</td>\n",
       "    </tr>\n",
       "    <tr>\n",
       "      <th>2</th>\n",
       "      <td>3</td>\n",
       "      <td>30834</td>\n",
       "      <td>Arjen Robben</td>\n",
       "    </tr>\n",
       "    <tr>\n",
       "      <th>3</th>\n",
       "      <td>4</td>\n",
       "      <td>107417</td>\n",
       "      <td>Eden Hazard</td>\n",
       "    </tr>\n",
       "    <tr>\n",
       "      <th>4</th>\n",
       "      <td>5</td>\n",
       "      <td>36378</td>\n",
       "      <td>Mesut Oezil</td>\n",
       "    </tr>\n",
       "    <tr>\n",
       "      <th>5</th>\n",
       "      <td>6</td>\n",
       "      <td>93447</td>\n",
       "      <td>Robert Lewandowski</td>\n",
       "    </tr>\n",
       "    <tr>\n",
       "      <th>6</th>\n",
       "      <td>7</td>\n",
       "      <td>37412</td>\n",
       "      <td>Sergio Aguero</td>\n",
       "    </tr>\n",
       "    <tr>\n",
       "      <th>7</th>\n",
       "      <td>8</td>\n",
       "      <td>164684</td>\n",
       "      <td>James Rodriguez</td>\n",
       "    </tr>\n",
       "    <tr>\n",
       "      <th>8</th>\n",
       "      <td>9</td>\n",
       "      <td>182917</td>\n",
       "      <td>David De Gea</td>\n",
       "    </tr>\n",
       "    <tr>\n",
       "      <th>9</th>\n",
       "      <td>10</td>\n",
       "      <td>95078</td>\n",
       "      <td>Toni Kroos</td>\n",
       "    </tr>\n",
       "  </tbody>\n",
       "</table>\n",
       "</div>"
      ],
      "text/plain": [
       "   rank1  player_api_id         player_name\n",
       "0      1          19533              Neymar\n",
       "1      2          27299        Manuel Neuer\n",
       "2      3          30834        Arjen Robben\n",
       "3      4         107417         Eden Hazard\n",
       "4      5          36378         Mesut Oezil\n",
       "5      6          93447  Robert Lewandowski\n",
       "6      7          37412       Sergio Aguero\n",
       "7      8         164684     James Rodriguez\n",
       "8      9         182917        David De Gea\n",
       "9     10          95078          Toni Kroos"
      ]
     },
     "execution_count": 87,
     "metadata": {},
     "output_type": "execute_result"
    }
   ],
   "source": [
    "df = top_N_players(df_comb_player,2016)[['player_name']]\n",
    "df.reset_index(level=0, inplace=True)\n",
    "df.index = range(1,len(df.index)+1)\n",
    "df.reset_index(level=0, inplace=True)\n",
    "df.rename( columns={\"index\":\"rank1\"},inplace=True)\n",
    "df_rank =df[:5]\n",
    "df"
   ]
  },
  {
   "cell_type": "code",
   "execution_count": 88,
   "metadata": {
    "_uuid": "c5accbadbbef4c2eff8efd2b71c57945b95dbc35"
   },
   "outputs": [
    {
     "data": {
      "text/html": [
       "<div>\n",
       "<style scoped>\n",
       "    .dataframe tbody tr th:only-of-type {\n",
       "        vertical-align: middle;\n",
       "    }\n",
       "\n",
       "    .dataframe tbody tr th {\n",
       "        vertical-align: top;\n",
       "    }\n",
       "\n",
       "    .dataframe thead th {\n",
       "        text-align: right;\n",
       "    }\n",
       "</style>\n",
       "<table border=\"1\" class=\"dataframe\">\n",
       "  <thead>\n",
       "    <tr style=\"text-align: right;\">\n",
       "      <th></th>\n",
       "      <th>rank2</th>\n",
       "      <th>player_api_id</th>\n",
       "      <th>player_name</th>\n",
       "    </tr>\n",
       "  </thead>\n",
       "  <tbody>\n",
       "    <tr>\n",
       "      <th>0</th>\n",
       "      <td>1</td>\n",
       "      <td>30981</td>\n",
       "      <td>Lionel Messi</td>\n",
       "    </tr>\n",
       "    <tr>\n",
       "      <th>1</th>\n",
       "      <td>2</td>\n",
       "      <td>30893</td>\n",
       "      <td>Cristiano Ronaldo</td>\n",
       "    </tr>\n",
       "    <tr>\n",
       "      <th>2</th>\n",
       "      <td>3</td>\n",
       "      <td>27299</td>\n",
       "      <td>Manuel Neuer</td>\n",
       "    </tr>\n",
       "    <tr>\n",
       "      <th>3</th>\n",
       "      <td>4</td>\n",
       "      <td>30834</td>\n",
       "      <td>Arjen Robben</td>\n",
       "    </tr>\n",
       "    <tr>\n",
       "      <th>4</th>\n",
       "      <td>5</td>\n",
       "      <td>40636</td>\n",
       "      <td>Luis Suarez</td>\n",
       "    </tr>\n",
       "    <tr>\n",
       "      <th>5</th>\n",
       "      <td>6</td>\n",
       "      <td>19533</td>\n",
       "      <td>Neymar</td>\n",
       "    </tr>\n",
       "    <tr>\n",
       "      <th>6</th>\n",
       "      <td>7</td>\n",
       "      <td>107417</td>\n",
       "      <td>Eden Hazard</td>\n",
       "    </tr>\n",
       "    <tr>\n",
       "      <th>7</th>\n",
       "      <td>8</td>\n",
       "      <td>35724</td>\n",
       "      <td>Zlatan Ibrahimovic</td>\n",
       "    </tr>\n",
       "    <tr>\n",
       "      <th>8</th>\n",
       "      <td>9</td>\n",
       "      <td>37459</td>\n",
       "      <td>David Silva</td>\n",
       "    </tr>\n",
       "    <tr>\n",
       "      <th>9</th>\n",
       "      <td>10</td>\n",
       "      <td>80562</td>\n",
       "      <td>Thiago Silva</td>\n",
       "    </tr>\n",
       "  </tbody>\n",
       "</table>\n",
       "</div>"
      ],
      "text/plain": [
       "   rank2  player_api_id         player_name\n",
       "0      1          30981        Lionel Messi\n",
       "1      2          30893   Cristiano Ronaldo\n",
       "2      3          27299        Manuel Neuer\n",
       "3      4          30834        Arjen Robben\n",
       "4      5          40636         Luis Suarez\n",
       "5      6          19533              Neymar\n",
       "6      7         107417         Eden Hazard\n",
       "7      8          35724  Zlatan Ibrahimovic\n",
       "8      9          37459         David Silva\n",
       "9     10          80562        Thiago Silva"
      ]
     },
     "execution_count": 88,
     "metadata": {},
     "output_type": "execute_result"
    }
   ],
   "source": [
    "df = top_N_players(df_comb_player,2015)[['player_name']]\n",
    "df.reset_index(level=0, inplace=True)\n",
    "df.index = range(1,len(df.index)+1)\n",
    "df.reset_index(level=0, inplace=True)\n",
    "df.rename( columns={\"index\":\"rank2\"},inplace=True)\n",
    "df_rank = pd.merge(df_rank,df[:5],on=[\"player_api_id\",\"player_name\"],how='outer')\n",
    "df"
   ]
  },
  {
   "cell_type": "code",
   "execution_count": 89,
   "metadata": {
    "_uuid": "b8169b3a9dab53023939966fc48155a1450bd963"
   },
   "outputs": [
    {
     "data": {
      "text/html": [
       "<div>\n",
       "<style scoped>\n",
       "    .dataframe tbody tr th:only-of-type {\n",
       "        vertical-align: middle;\n",
       "    }\n",
       "\n",
       "    .dataframe tbody tr th {\n",
       "        vertical-align: top;\n",
       "    }\n",
       "\n",
       "    .dataframe thead th {\n",
       "        text-align: right;\n",
       "    }\n",
       "</style>\n",
       "<table border=\"1\" class=\"dataframe\">\n",
       "  <thead>\n",
       "    <tr style=\"text-align: right;\">\n",
       "      <th></th>\n",
       "      <th>rank3</th>\n",
       "      <th>player_api_id</th>\n",
       "      <th>player_name</th>\n",
       "    </tr>\n",
       "  </thead>\n",
       "  <tbody>\n",
       "    <tr>\n",
       "      <th>0</th>\n",
       "      <td>1</td>\n",
       "      <td>30981</td>\n",
       "      <td>Lionel Messi</td>\n",
       "    </tr>\n",
       "    <tr>\n",
       "      <th>1</th>\n",
       "      <td>2</td>\n",
       "      <td>30893</td>\n",
       "      <td>Cristiano Ronaldo</td>\n",
       "    </tr>\n",
       "    <tr>\n",
       "      <th>2</th>\n",
       "      <td>3</td>\n",
       "      <td>27299</td>\n",
       "      <td>Manuel Neuer</td>\n",
       "    </tr>\n",
       "    <tr>\n",
       "      <th>3</th>\n",
       "      <td>4</td>\n",
       "      <td>30834</td>\n",
       "      <td>Arjen Robben</td>\n",
       "    </tr>\n",
       "    <tr>\n",
       "      <th>4</th>\n",
       "      <td>5</td>\n",
       "      <td>35724</td>\n",
       "      <td>Zlatan Ibrahimovic</td>\n",
       "    </tr>\n",
       "    <tr>\n",
       "      <th>5</th>\n",
       "      <td>6</td>\n",
       "      <td>40636</td>\n",
       "      <td>Luis Suarez</td>\n",
       "    </tr>\n",
       "    <tr>\n",
       "      <th>6</th>\n",
       "      <td>7</td>\n",
       "      <td>30955</td>\n",
       "      <td>Andres Iniesta</td>\n",
       "    </tr>\n",
       "    <tr>\n",
       "      <th>7</th>\n",
       "      <td>8</td>\n",
       "      <td>107417</td>\n",
       "      <td>Eden Hazard</td>\n",
       "    </tr>\n",
       "    <tr>\n",
       "      <th>8</th>\n",
       "      <td>9</td>\n",
       "      <td>30872</td>\n",
       "      <td>Bastian Schweinsteiger</td>\n",
       "    </tr>\n",
       "    <tr>\n",
       "      <th>9</th>\n",
       "      <td>10</td>\n",
       "      <td>30924</td>\n",
       "      <td>Franck Ribery</td>\n",
       "    </tr>\n",
       "  </tbody>\n",
       "</table>\n",
       "</div>"
      ],
      "text/plain": [
       "   rank3  player_api_id             player_name\n",
       "0      1          30981            Lionel Messi\n",
       "1      2          30893       Cristiano Ronaldo\n",
       "2      3          27299            Manuel Neuer\n",
       "3      4          30834            Arjen Robben\n",
       "4      5          35724      Zlatan Ibrahimovic\n",
       "5      6          40636             Luis Suarez\n",
       "6      7          30955          Andres Iniesta\n",
       "7      8         107417             Eden Hazard\n",
       "8      9          30872  Bastian Schweinsteiger\n",
       "9     10          30924           Franck Ribery"
      ]
     },
     "execution_count": 89,
     "metadata": {},
     "output_type": "execute_result"
    }
   ],
   "source": [
    "\n",
    "df = top_N_players(df_comb_player,2014)[['player_name']]\n",
    "df.reset_index(level=0, inplace=True)\n",
    "df.index = range(1,len(df.index)+1)\n",
    "df.reset_index(level=0, inplace=True)\n",
    "df.rename( columns={\"index\":\"rank3\"},inplace=True)\n",
    "df_rank = pd.merge(df_rank,df[:5],on=[\"player_api_id\",\"player_name\"],how='outer')\n",
    "df"
   ]
  },
  {
   "cell_type": "code",
   "execution_count": 90,
   "metadata": {
    "_uuid": "a406646f3c1265e9cbcd1002987c242965fb638e"
   },
   "outputs": [
    {
     "data": {
      "text/html": [
       "<div>\n",
       "<style scoped>\n",
       "    .dataframe tbody tr th:only-of-type {\n",
       "        vertical-align: middle;\n",
       "    }\n",
       "\n",
       "    .dataframe tbody tr th {\n",
       "        vertical-align: top;\n",
       "    }\n",
       "\n",
       "    .dataframe thead th {\n",
       "        text-align: right;\n",
       "    }\n",
       "</style>\n",
       "<table border=\"1\" class=\"dataframe\">\n",
       "  <thead>\n",
       "    <tr style=\"text-align: right;\">\n",
       "      <th></th>\n",
       "      <th>rank4</th>\n",
       "      <th>player_api_id</th>\n",
       "      <th>player_name</th>\n",
       "    </tr>\n",
       "  </thead>\n",
       "  <tbody>\n",
       "    <tr>\n",
       "      <th>0</th>\n",
       "      <td>1</td>\n",
       "      <td>30981</td>\n",
       "      <td>Lionel Messi</td>\n",
       "    </tr>\n",
       "    <tr>\n",
       "      <th>1</th>\n",
       "      <td>2</td>\n",
       "      <td>30893</td>\n",
       "      <td>Cristiano Ronaldo</td>\n",
       "    </tr>\n",
       "    <tr>\n",
       "      <th>2</th>\n",
       "      <td>3</td>\n",
       "      <td>22543</td>\n",
       "      <td>Radamel Falcao</td>\n",
       "    </tr>\n",
       "    <tr>\n",
       "      <th>3</th>\n",
       "      <td>4</td>\n",
       "      <td>30924</td>\n",
       "      <td>Franck Ribery</td>\n",
       "    </tr>\n",
       "    <tr>\n",
       "      <th>4</th>\n",
       "      <td>5</td>\n",
       "      <td>30955</td>\n",
       "      <td>Andres Iniesta</td>\n",
       "    </tr>\n",
       "    <tr>\n",
       "      <th>5</th>\n",
       "      <td>6</td>\n",
       "      <td>30843</td>\n",
       "      <td>Robin van Persie</td>\n",
       "    </tr>\n",
       "    <tr>\n",
       "      <th>6</th>\n",
       "      <td>7</td>\n",
       "      <td>35724</td>\n",
       "      <td>Zlatan Ibrahimovic</td>\n",
       "    </tr>\n",
       "    <tr>\n",
       "      <th>7</th>\n",
       "      <td>8</td>\n",
       "      <td>39854</td>\n",
       "      <td>Xavi Hernandez</td>\n",
       "    </tr>\n",
       "    <tr>\n",
       "      <th>8</th>\n",
       "      <td>9</td>\n",
       "      <td>30872</td>\n",
       "      <td>Bastian Schweinsteiger</td>\n",
       "    </tr>\n",
       "    <tr>\n",
       "      <th>9</th>\n",
       "      <td>10</td>\n",
       "      <td>80562</td>\n",
       "      <td>Thiago Silva</td>\n",
       "    </tr>\n",
       "  </tbody>\n",
       "</table>\n",
       "</div>"
      ],
      "text/plain": [
       "   rank4  player_api_id             player_name\n",
       "0      1          30981            Lionel Messi\n",
       "1      2          30893       Cristiano Ronaldo\n",
       "2      3          22543          Radamel Falcao\n",
       "3      4          30924           Franck Ribery\n",
       "4      5          30955          Andres Iniesta\n",
       "5      6          30843        Robin van Persie\n",
       "6      7          35724      Zlatan Ibrahimovic\n",
       "7      8          39854          Xavi Hernandez\n",
       "8      9          30872  Bastian Schweinsteiger\n",
       "9     10          80562            Thiago Silva"
      ]
     },
     "execution_count": 90,
     "metadata": {},
     "output_type": "execute_result"
    }
   ],
   "source": [
    "\n",
    "df = top_N_players(df_comb_player,2013)[['player_name']]\n",
    "df.reset_index(level=0, inplace=True)\n",
    "df.index = range(1,len(df.index)+1)\n",
    "df.reset_index(level=0, inplace=True)\n",
    "df.rename( columns={\"index\":\"rank4\"},inplace=True)\n",
    "df_rank = pd.merge(df_rank,df[:5],on=[\"player_api_id\",\"player_name\"],how='outer')\n",
    "df"
   ]
  },
  {
   "cell_type": "code",
   "execution_count": 91,
   "metadata": {
    "_uuid": "f387b05f0e1638c2ef04464194015f5940f90151"
   },
   "outputs": [
    {
     "data": {
      "text/html": [
       "<div>\n",
       "<style scoped>\n",
       "    .dataframe tbody tr th:only-of-type {\n",
       "        vertical-align: middle;\n",
       "    }\n",
       "\n",
       "    .dataframe tbody tr th {\n",
       "        vertical-align: top;\n",
       "    }\n",
       "\n",
       "    .dataframe thead th {\n",
       "        text-align: right;\n",
       "    }\n",
       "</style>\n",
       "<table border=\"1\" class=\"dataframe\">\n",
       "  <thead>\n",
       "    <tr style=\"text-align: right;\">\n",
       "      <th></th>\n",
       "      <th>rank5</th>\n",
       "      <th>player_api_id</th>\n",
       "      <th>player_name</th>\n",
       "    </tr>\n",
       "  </thead>\n",
       "  <tbody>\n",
       "    <tr>\n",
       "      <th>0</th>\n",
       "      <td>1</td>\n",
       "      <td>30981</td>\n",
       "      <td>Lionel Messi</td>\n",
       "    </tr>\n",
       "    <tr>\n",
       "      <th>1</th>\n",
       "      <td>2</td>\n",
       "      <td>30893</td>\n",
       "      <td>Cristiano Ronaldo</td>\n",
       "    </tr>\n",
       "    <tr>\n",
       "      <th>2</th>\n",
       "      <td>3</td>\n",
       "      <td>30955</td>\n",
       "      <td>Andres Iniesta</td>\n",
       "    </tr>\n",
       "    <tr>\n",
       "      <th>3</th>\n",
       "      <td>4</td>\n",
       "      <td>30924</td>\n",
       "      <td>Franck Ribery</td>\n",
       "    </tr>\n",
       "    <tr>\n",
       "      <th>4</th>\n",
       "      <td>5</td>\n",
       "      <td>39854</td>\n",
       "      <td>Xavi Hernandez</td>\n",
       "    </tr>\n",
       "    <tr>\n",
       "      <th>5</th>\n",
       "      <td>6</td>\n",
       "      <td>30829</td>\n",
       "      <td>Wayne Rooney</td>\n",
       "    </tr>\n",
       "    <tr>\n",
       "      <th>6</th>\n",
       "      <td>7</td>\n",
       "      <td>30657</td>\n",
       "      <td>Iker Casillas</td>\n",
       "    </tr>\n",
       "    <tr>\n",
       "      <th>7</th>\n",
       "      <td>8</td>\n",
       "      <td>30865</td>\n",
       "      <td>Nemanja Vidic</td>\n",
       "    </tr>\n",
       "    <tr>\n",
       "      <th>8</th>\n",
       "      <td>9</td>\n",
       "      <td>37459</td>\n",
       "      <td>David Silva</td>\n",
       "    </tr>\n",
       "    <tr>\n",
       "      <th>9</th>\n",
       "      <td>10</td>\n",
       "      <td>30834</td>\n",
       "      <td>Arjen Robben</td>\n",
       "    </tr>\n",
       "  </tbody>\n",
       "</table>\n",
       "</div>"
      ],
      "text/plain": [
       "   rank5  player_api_id        player_name\n",
       "0      1          30981       Lionel Messi\n",
       "1      2          30893  Cristiano Ronaldo\n",
       "2      3          30955     Andres Iniesta\n",
       "3      4          30924      Franck Ribery\n",
       "4      5          39854     Xavi Hernandez\n",
       "5      6          30829       Wayne Rooney\n",
       "6      7          30657      Iker Casillas\n",
       "7      8          30865      Nemanja Vidic\n",
       "8      9          37459        David Silva\n",
       "9     10          30834       Arjen Robben"
      ]
     },
     "execution_count": 91,
     "metadata": {},
     "output_type": "execute_result"
    }
   ],
   "source": [
    "\n",
    "df = top_N_players(df_comb_player,2012)[['player_name']]\n",
    "df.reset_index(level=0, inplace=True)\n",
    "df.index = range(1,len(df.index)+1)\n",
    "df.reset_index(level=0, inplace=True)\n",
    "df.rename( columns={\"index\":\"rank5\"},inplace=True)\n",
    "df_rank = pd.merge(df_rank,df[:5],on=[\"player_api_id\",\"player_name\"],how='outer')\n",
    "df"
   ]
  },
  {
   "cell_type": "code",
   "execution_count": 92,
   "metadata": {
    "_uuid": "636de4f9d5f11054a4b7219aa9b3123e32ef9bb5"
   },
   "outputs": [
    {
     "data": {
      "text/html": [
       "<div>\n",
       "<style scoped>\n",
       "    .dataframe tbody tr th:only-of-type {\n",
       "        vertical-align: middle;\n",
       "    }\n",
       "\n",
       "    .dataframe tbody tr th {\n",
       "        vertical-align: top;\n",
       "    }\n",
       "\n",
       "    .dataframe thead th {\n",
       "        text-align: right;\n",
       "    }\n",
       "</style>\n",
       "<table border=\"1\" class=\"dataframe\">\n",
       "  <thead>\n",
       "    <tr style=\"text-align: right;\">\n",
       "      <th></th>\n",
       "      <th>rank6</th>\n",
       "      <th>player_api_id</th>\n",
       "      <th>player_name</th>\n",
       "    </tr>\n",
       "  </thead>\n",
       "  <tbody>\n",
       "    <tr>\n",
       "      <th>0</th>\n",
       "      <td>1</td>\n",
       "      <td>30981</td>\n",
       "      <td>Lionel Messi</td>\n",
       "    </tr>\n",
       "    <tr>\n",
       "      <th>1</th>\n",
       "      <td>2</td>\n",
       "      <td>30893</td>\n",
       "      <td>Cristiano Ronaldo</td>\n",
       "    </tr>\n",
       "    <tr>\n",
       "      <th>2</th>\n",
       "      <td>3</td>\n",
       "      <td>39854</td>\n",
       "      <td>Xavi Hernandez</td>\n",
       "    </tr>\n",
       "    <tr>\n",
       "      <th>3</th>\n",
       "      <td>4</td>\n",
       "      <td>30955</td>\n",
       "      <td>Andres Iniesta</td>\n",
       "    </tr>\n",
       "    <tr>\n",
       "      <th>4</th>\n",
       "      <td>5</td>\n",
       "      <td>30829</td>\n",
       "      <td>Wayne Rooney</td>\n",
       "    </tr>\n",
       "    <tr>\n",
       "      <th>5</th>\n",
       "      <td>6</td>\n",
       "      <td>30834</td>\n",
       "      <td>Arjen Robben</td>\n",
       "    </tr>\n",
       "    <tr>\n",
       "      <th>6</th>\n",
       "      <td>7</td>\n",
       "      <td>30657</td>\n",
       "      <td>Iker Casillas</td>\n",
       "    </tr>\n",
       "    <tr>\n",
       "      <th>7</th>\n",
       "      <td>8</td>\n",
       "      <td>30865</td>\n",
       "      <td>Nemanja Vidic</td>\n",
       "    </tr>\n",
       "    <tr>\n",
       "      <th>8</th>\n",
       "      <td>9</td>\n",
       "      <td>37482</td>\n",
       "      <td>Gerard Pique</td>\n",
       "    </tr>\n",
       "    <tr>\n",
       "      <th>9</th>\n",
       "      <td>10</td>\n",
       "      <td>30878</td>\n",
       "      <td>Wesley Sneijder</td>\n",
       "    </tr>\n",
       "  </tbody>\n",
       "</table>\n",
       "</div>"
      ],
      "text/plain": [
       "   rank6  player_api_id        player_name\n",
       "0      1          30981       Lionel Messi\n",
       "1      2          30893  Cristiano Ronaldo\n",
       "2      3          39854     Xavi Hernandez\n",
       "3      4          30955     Andres Iniesta\n",
       "4      5          30829       Wayne Rooney\n",
       "5      6          30834       Arjen Robben\n",
       "6      7          30657      Iker Casillas\n",
       "7      8          30865      Nemanja Vidic\n",
       "8      9          37482       Gerard Pique\n",
       "9     10          30878    Wesley Sneijder"
      ]
     },
     "execution_count": 92,
     "metadata": {},
     "output_type": "execute_result"
    }
   ],
   "source": [
    "\n",
    "df = top_N_players(df_comb_player,2011)[['player_name']]\n",
    "df.reset_index(level=0, inplace=True)\n",
    "df.index = range(1,len(df.index)+1)\n",
    "df.reset_index(level=0, inplace=True)\n",
    "df.rename( columns={\"index\":\"rank6\"},inplace=True)\n",
    "df_rank = pd.merge(df_rank,df[:5],on=[\"player_api_id\",\"player_name\"],how='outer')\n",
    "df"
   ]
  },
  {
   "cell_type": "code",
   "execution_count": 93,
   "metadata": {
    "_uuid": "f63770c96ca8b2d2ab4b3a83e8ffb23f608d9dfa"
   },
   "outputs": [
    {
     "data": {
      "text/html": [
       "<div>\n",
       "<style scoped>\n",
       "    .dataframe tbody tr th:only-of-type {\n",
       "        vertical-align: middle;\n",
       "    }\n",
       "\n",
       "    .dataframe tbody tr th {\n",
       "        vertical-align: top;\n",
       "    }\n",
       "\n",
       "    .dataframe thead th {\n",
       "        text-align: right;\n",
       "    }\n",
       "</style>\n",
       "<table border=\"1\" class=\"dataframe\">\n",
       "  <thead>\n",
       "    <tr style=\"text-align: right;\">\n",
       "      <th></th>\n",
       "      <th>rank7</th>\n",
       "      <th>player_api_id</th>\n",
       "      <th>player_name</th>\n",
       "    </tr>\n",
       "  </thead>\n",
       "  <tbody>\n",
       "    <tr>\n",
       "      <th>0</th>\n",
       "      <td>1</td>\n",
       "      <td>30981</td>\n",
       "      <td>Lionel Messi</td>\n",
       "    </tr>\n",
       "    <tr>\n",
       "      <th>1</th>\n",
       "      <td>2</td>\n",
       "      <td>30893</td>\n",
       "      <td>Cristiano Ronaldo</td>\n",
       "    </tr>\n",
       "    <tr>\n",
       "      <th>2</th>\n",
       "      <td>3</td>\n",
       "      <td>30657</td>\n",
       "      <td>Iker Casillas</td>\n",
       "    </tr>\n",
       "    <tr>\n",
       "      <th>3</th>\n",
       "      <td>4</td>\n",
       "      <td>30909</td>\n",
       "      <td>David Villa</td>\n",
       "    </tr>\n",
       "    <tr>\n",
       "      <th>4</th>\n",
       "      <td>5</td>\n",
       "      <td>30829</td>\n",
       "      <td>Wayne Rooney</td>\n",
       "    </tr>\n",
       "    <tr>\n",
       "      <th>5</th>\n",
       "      <td>6</td>\n",
       "      <td>30822</td>\n",
       "      <td>Didier Drogba</td>\n",
       "    </tr>\n",
       "    <tr>\n",
       "      <th>6</th>\n",
       "      <td>7</td>\n",
       "      <td>30661</td>\n",
       "      <td>Carles Puyol</td>\n",
       "    </tr>\n",
       "    <tr>\n",
       "      <th>7</th>\n",
       "      <td>8</td>\n",
       "      <td>30865</td>\n",
       "      <td>Nemanja Vidic</td>\n",
       "    </tr>\n",
       "    <tr>\n",
       "      <th>8</th>\n",
       "      <td>9</td>\n",
       "      <td>30955</td>\n",
       "      <td>Andres Iniesta</td>\n",
       "    </tr>\n",
       "    <tr>\n",
       "      <th>9</th>\n",
       "      <td>10</td>\n",
       "      <td>39854</td>\n",
       "      <td>Xavi Hernandez</td>\n",
       "    </tr>\n",
       "  </tbody>\n",
       "</table>\n",
       "</div>"
      ],
      "text/plain": [
       "   rank7  player_api_id        player_name\n",
       "0      1          30981       Lionel Messi\n",
       "1      2          30893  Cristiano Ronaldo\n",
       "2      3          30657      Iker Casillas\n",
       "3      4          30909        David Villa\n",
       "4      5          30829       Wayne Rooney\n",
       "5      6          30822      Didier Drogba\n",
       "6      7          30661       Carles Puyol\n",
       "7      8          30865      Nemanja Vidic\n",
       "8      9          30955     Andres Iniesta\n",
       "9     10          39854     Xavi Hernandez"
      ]
     },
     "execution_count": 93,
     "metadata": {},
     "output_type": "execute_result"
    }
   ],
   "source": [
    "\n",
    "df = top_N_players(df_comb_player,2010)[['player_name']]\n",
    "df.reset_index(level=0, inplace=True)\n",
    "df.index = range(1,len(df.index)+1)\n",
    "df.reset_index(level=0, inplace=True)\n",
    "df.rename( columns={\"index\":\"rank7\"},inplace=True)\n",
    "df_rank = pd.merge(df_rank,df[:5],on=[\"player_api_id\",\"player_name\"],how='outer')\n",
    "df"
   ]
  },
  {
   "cell_type": "code",
   "execution_count": 94,
   "metadata": {
    "_uuid": "40b231c3ad3f2917082a493b864a26857da38604"
   },
   "outputs": [
    {
     "data": {
      "text/html": [
       "<div>\n",
       "<style scoped>\n",
       "    .dataframe tbody tr th:only-of-type {\n",
       "        vertical-align: middle;\n",
       "    }\n",
       "\n",
       "    .dataframe tbody tr th {\n",
       "        vertical-align: top;\n",
       "    }\n",
       "\n",
       "    .dataframe thead th {\n",
       "        text-align: right;\n",
       "    }\n",
       "</style>\n",
       "<table border=\"1\" class=\"dataframe\">\n",
       "  <thead>\n",
       "    <tr style=\"text-align: right;\">\n",
       "      <th></th>\n",
       "      <th>rank8</th>\n",
       "      <th>player_api_id</th>\n",
       "      <th>player_name</th>\n",
       "    </tr>\n",
       "  </thead>\n",
       "  <tbody>\n",
       "    <tr>\n",
       "      <th>0</th>\n",
       "      <td>1</td>\n",
       "      <td>30981</td>\n",
       "      <td>Lionel Messi</td>\n",
       "    </tr>\n",
       "    <tr>\n",
       "      <th>1</th>\n",
       "      <td>2</td>\n",
       "      <td>30657</td>\n",
       "      <td>Iker Casillas</td>\n",
       "    </tr>\n",
       "    <tr>\n",
       "      <th>2</th>\n",
       "      <td>3</td>\n",
       "      <td>30893</td>\n",
       "      <td>Cristiano Ronaldo</td>\n",
       "    </tr>\n",
       "    <tr>\n",
       "      <th>3</th>\n",
       "      <td>4</td>\n",
       "      <td>30989</td>\n",
       "      <td>Julio Cesar</td>\n",
       "    </tr>\n",
       "    <tr>\n",
       "      <th>4</th>\n",
       "      <td>5</td>\n",
       "      <td>30717</td>\n",
       "      <td>Gianluigi Buffon</td>\n",
       "    </tr>\n",
       "    <tr>\n",
       "      <th>5</th>\n",
       "      <td>6</td>\n",
       "      <td>30924</td>\n",
       "      <td>Franck Ribery</td>\n",
       "    </tr>\n",
       "    <tr>\n",
       "      <th>6</th>\n",
       "      <td>7</td>\n",
       "      <td>41044</td>\n",
       "      <td>Kaka</td>\n",
       "    </tr>\n",
       "    <tr>\n",
       "      <th>7</th>\n",
       "      <td>8</td>\n",
       "      <td>30618</td>\n",
       "      <td>Steven Gerrard</td>\n",
       "    </tr>\n",
       "    <tr>\n",
       "      <th>8</th>\n",
       "      <td>9</td>\n",
       "      <td>30853</td>\n",
       "      <td>Fernando Torres</td>\n",
       "    </tr>\n",
       "    <tr>\n",
       "      <th>9</th>\n",
       "      <td>10</td>\n",
       "      <td>35724</td>\n",
       "      <td>Zlatan Ibrahimovic</td>\n",
       "    </tr>\n",
       "  </tbody>\n",
       "</table>\n",
       "</div>"
      ],
      "text/plain": [
       "   rank8  player_api_id         player_name\n",
       "0      1          30981        Lionel Messi\n",
       "1      2          30657       Iker Casillas\n",
       "2      3          30893   Cristiano Ronaldo\n",
       "3      4          30989         Julio Cesar\n",
       "4      5          30717    Gianluigi Buffon\n",
       "5      6          30924       Franck Ribery\n",
       "6      7          41044                Kaka\n",
       "7      8          30618      Steven Gerrard\n",
       "8      9          30853     Fernando Torres\n",
       "9     10          35724  Zlatan Ibrahimovic"
      ]
     },
     "execution_count": 94,
     "metadata": {},
     "output_type": "execute_result"
    }
   ],
   "source": [
    "\n",
    "df = top_N_players(df_comb_player,2009)[['player_name']]\n",
    "df.reset_index(level=0, inplace=True)\n",
    "df.index = range(1,len(df.index)+1)\n",
    "df.reset_index(level=0, inplace=True)\n",
    "df.rename( columns={\"index\":\"rank8\"},inplace=True)\n",
    "df_rank = pd.merge(df_rank,df[:5],on=[\"player_api_id\",\"player_name\"],how='outer')\n",
    "df"
   ]
  },
  {
   "cell_type": "code",
   "execution_count": 95,
   "metadata": {
    "_uuid": "6027d2a5257baa471c133c42bca111b6af142330"
   },
   "outputs": [
    {
     "data": {
      "text/html": [
       "<div>\n",
       "<style scoped>\n",
       "    .dataframe tbody tr th:only-of-type {\n",
       "        vertical-align: middle;\n",
       "    }\n",
       "\n",
       "    .dataframe tbody tr th {\n",
       "        vertical-align: top;\n",
       "    }\n",
       "\n",
       "    .dataframe thead th {\n",
       "        text-align: right;\n",
       "    }\n",
       "</style>\n",
       "<table border=\"1\" class=\"dataframe\">\n",
       "  <thead>\n",
       "    <tr style=\"text-align: right;\">\n",
       "      <th></th>\n",
       "      <th>rank9</th>\n",
       "      <th>player_api_id</th>\n",
       "      <th>player_name</th>\n",
       "    </tr>\n",
       "  </thead>\n",
       "  <tbody>\n",
       "    <tr>\n",
       "      <th>0</th>\n",
       "      <td>1</td>\n",
       "      <td>30893</td>\n",
       "      <td>Cristiano Ronaldo</td>\n",
       "    </tr>\n",
       "    <tr>\n",
       "      <th>1</th>\n",
       "      <td>2</td>\n",
       "      <td>30657</td>\n",
       "      <td>Iker Casillas</td>\n",
       "    </tr>\n",
       "    <tr>\n",
       "      <th>2</th>\n",
       "      <td>3</td>\n",
       "      <td>30981</td>\n",
       "      <td>Lionel Messi</td>\n",
       "    </tr>\n",
       "    <tr>\n",
       "      <th>3</th>\n",
       "      <td>4</td>\n",
       "      <td>30717</td>\n",
       "      <td>Gianluigi Buffon</td>\n",
       "    </tr>\n",
       "    <tr>\n",
       "      <th>4</th>\n",
       "      <td>5</td>\n",
       "      <td>41044</td>\n",
       "      <td>Kaka</td>\n",
       "    </tr>\n",
       "    <tr>\n",
       "      <th>5</th>\n",
       "      <td>6</td>\n",
       "      <td>35724</td>\n",
       "      <td>Zlatan Ibrahimovic</td>\n",
       "    </tr>\n",
       "    <tr>\n",
       "      <th>6</th>\n",
       "      <td>7</td>\n",
       "      <td>30924</td>\n",
       "      <td>Franck Ribery</td>\n",
       "    </tr>\n",
       "    <tr>\n",
       "      <th>7</th>\n",
       "      <td>8</td>\n",
       "      <td>30613</td>\n",
       "      <td>Cesc Fabregas</td>\n",
       "    </tr>\n",
       "    <tr>\n",
       "      <th>8</th>\n",
       "      <td>9</td>\n",
       "      <td>30723</td>\n",
       "      <td>Alessandro Nesta</td>\n",
       "    </tr>\n",
       "    <tr>\n",
       "      <th>9</th>\n",
       "      <td>10</td>\n",
       "      <td>30859</td>\n",
       "      <td>Petr Cech</td>\n",
       "    </tr>\n",
       "  </tbody>\n",
       "</table>\n",
       "</div>"
      ],
      "text/plain": [
       "   rank9  player_api_id         player_name\n",
       "0      1          30893   Cristiano Ronaldo\n",
       "1      2          30657       Iker Casillas\n",
       "2      3          30981        Lionel Messi\n",
       "3      4          30717    Gianluigi Buffon\n",
       "4      5          41044                Kaka\n",
       "5      6          35724  Zlatan Ibrahimovic\n",
       "6      7          30924       Franck Ribery\n",
       "7      8          30613       Cesc Fabregas\n",
       "8      9          30723    Alessandro Nesta\n",
       "9     10          30859           Petr Cech"
      ]
     },
     "execution_count": 95,
     "metadata": {},
     "output_type": "execute_result"
    }
   ],
   "source": [
    "\n",
    "df = top_N_players(df_comb_player,2008)[['player_name']]\n",
    "df.reset_index(level=0, inplace=True)\n",
    "df.index = range(1,len(df.index)+1)\n",
    "df.reset_index(level=0, inplace=True)\n",
    "df.rename( columns={\"index\":\"rank9\"},inplace=True)\n",
    "df_rank = pd.merge(df_rank,df[:5],on=[\"player_api_id\",\"player_name\"],how='outer')\n",
    "df"
   ]
  },
  {
   "cell_type": "code",
   "execution_count": 96,
   "metadata": {
    "_uuid": "4ca910be7613019843f166792e2e6e0edc9f59cc"
   },
   "outputs": [
    {
     "data": {
      "text/html": [
       "<div>\n",
       "<style scoped>\n",
       "    .dataframe tbody tr th:only-of-type {\n",
       "        vertical-align: middle;\n",
       "    }\n",
       "\n",
       "    .dataframe tbody tr th {\n",
       "        vertical-align: top;\n",
       "    }\n",
       "\n",
       "    .dataframe thead th {\n",
       "        text-align: right;\n",
       "    }\n",
       "</style>\n",
       "<table border=\"1\" class=\"dataframe\">\n",
       "  <thead>\n",
       "    <tr style=\"text-align: right;\">\n",
       "      <th></th>\n",
       "      <th>rank10</th>\n",
       "      <th>player_api_id</th>\n",
       "      <th>player_name</th>\n",
       "    </tr>\n",
       "  </thead>\n",
       "  <tbody>\n",
       "    <tr>\n",
       "      <th>0</th>\n",
       "      <td>1</td>\n",
       "      <td>30893</td>\n",
       "      <td>Cristiano Ronaldo</td>\n",
       "    </tr>\n",
       "    <tr>\n",
       "      <th>1</th>\n",
       "      <td>2</td>\n",
       "      <td>30717</td>\n",
       "      <td>Gianluigi Buffon</td>\n",
       "    </tr>\n",
       "    <tr>\n",
       "      <th>2</th>\n",
       "      <td>3</td>\n",
       "      <td>30743</td>\n",
       "      <td>Ronaldinho</td>\n",
       "    </tr>\n",
       "    <tr>\n",
       "      <th>3</th>\n",
       "      <td>4</td>\n",
       "      <td>30723</td>\n",
       "      <td>Alessandro Nesta</td>\n",
       "    </tr>\n",
       "    <tr>\n",
       "      <th>4</th>\n",
       "      <td>5</td>\n",
       "      <td>30626</td>\n",
       "      <td>Thierry Henry</td>\n",
       "    </tr>\n",
       "    <tr>\n",
       "      <th>5</th>\n",
       "      <td>6</td>\n",
       "      <td>30627</td>\n",
       "      <td>John Terry</td>\n",
       "    </tr>\n",
       "    <tr>\n",
       "      <th>6</th>\n",
       "      <td>7</td>\n",
       "      <td>30829</td>\n",
       "      <td>Wayne Rooney</td>\n",
       "    </tr>\n",
       "    <tr>\n",
       "      <th>7</th>\n",
       "      <td>8</td>\n",
       "      <td>41044</td>\n",
       "      <td>Kaka</td>\n",
       "    </tr>\n",
       "    <tr>\n",
       "      <th>8</th>\n",
       "      <td>9</td>\n",
       "      <td>30909</td>\n",
       "      <td>David Villa</td>\n",
       "    </tr>\n",
       "    <tr>\n",
       "      <th>9</th>\n",
       "      <td>10</td>\n",
       "      <td>30657</td>\n",
       "      <td>Iker Casillas</td>\n",
       "    </tr>\n",
       "  </tbody>\n",
       "</table>\n",
       "</div>"
      ],
      "text/plain": [
       "   rank10  player_api_id        player_name\n",
       "0       1          30893  Cristiano Ronaldo\n",
       "1       2          30717   Gianluigi Buffon\n",
       "2       3          30743         Ronaldinho\n",
       "3       4          30723   Alessandro Nesta\n",
       "4       5          30626      Thierry Henry\n",
       "5       6          30627         John Terry\n",
       "6       7          30829       Wayne Rooney\n",
       "7       8          41044               Kaka\n",
       "8       9          30909        David Villa\n",
       "9      10          30657      Iker Casillas"
      ]
     },
     "execution_count": 96,
     "metadata": {},
     "output_type": "execute_result"
    }
   ],
   "source": [
    "\n",
    "df = top_N_players(df_comb_player,2007)[['player_name']]\n",
    "df.reset_index(level=0, inplace=True)\n",
    "df.index = range(1,len(df.index)+1)\n",
    "df.reset_index(level=0, inplace=True)\n",
    "df.rename( columns={\"index\":\"rank10\"},inplace=True)\n",
    "df_rank = pd.merge(df_rank,df[:5],on=[\"player_api_id\",\"player_name\"],how='outer')\n",
    "df"
   ]
  },
  {
   "cell_type": "markdown",
   "metadata": {},
   "source": [
    "After getting all the ranks of the players. Our Next task is to visualize the players year by year performance in a line plot. \n",
    "\n",
    "To make a line plot we will need to change the DataFrame according to the format accepted by df.plot() function.\n",
    "We will only make Line Plot of top 15 Players who have been consistent throughout the years. "
   ]
  },
  {
   "cell_type": "code",
   "execution_count": 97,
   "metadata": {
    "_uuid": "01c7b095675c75121c4c1faad67a0849e45dc66a"
   },
   "outputs": [],
   "source": [
    "#Making a Line Plot of top 15 Players\n",
    "df_rank.index = df_rank.player_name\n",
    "#Taking only the rank in consideration\n",
    "df_rank = df_rank[[ 'rank1', 'rank2','rank3', 'rank4', 'rank5', 'rank6', 'rank7', 'rank8', 'rank9','rank10']]"
   ]
  },
  {
   "cell_type": "code",
   "execution_count": 98,
   "metadata": {},
   "outputs": [],
   "source": [
    "df_rank = df_rank.replace(np.NaN,6) # Replacing the NaNs with 11 to better represent the graph\n",
    "df_rank['sum_rank'] = df_rank[[ 'rank1', 'rank2','rank3', 'rank4', 'rank5', 'rank6', 'rank7', 'rank8', 'rank9','rank10']].sum(axis=1)"
   ]
  },
  {
   "cell_type": "code",
   "execution_count": 99,
   "metadata": {
    "_uuid": "598e2c78098a9f2251e6c077113527ac6cc734f6"
   },
   "outputs": [],
   "source": [
    "df_rank =  df_rank.sort_values('sum_rank').head(10) #sorting and taking only top 15 values \n",
    "thickness = df_rank.sum_rank\n",
    "df_rank  = df_rank.drop('sum_rank',axis=1)\n",
    "df1_transposed = df_rank.T"
   ]
  },
  {
   "cell_type": "code",
   "execution_count": 100,
   "metadata": {
    "_uuid": "b4d3ba3e7b691f084d7d39f80f8c6ed3e1865c2a"
   },
   "outputs": [
    {
     "data": {
      "text/html": [
       "<div>\n",
       "<style scoped>\n",
       "    .dataframe tbody tr th:only-of-type {\n",
       "        vertical-align: middle;\n",
       "    }\n",
       "\n",
       "    .dataframe tbody tr th {\n",
       "        vertical-align: top;\n",
       "    }\n",
       "\n",
       "    .dataframe thead th {\n",
       "        text-align: right;\n",
       "    }\n",
       "</style>\n",
       "<table border=\"1\" class=\"dataframe\">\n",
       "  <thead>\n",
       "    <tr style=\"text-align: right;\">\n",
       "      <th>player_name</th>\n",
       "      <th>Lionel Messi</th>\n",
       "      <th>Cristiano Ronaldo</th>\n",
       "      <th>Iker Casillas</th>\n",
       "      <th>Manuel Neuer</th>\n",
       "      <th>Arjen Robben</th>\n",
       "      <th>Gianluigi Buffon</th>\n",
       "      <th>Andres Iniesta</th>\n",
       "      <th>Neymar</th>\n",
       "      <th>Xavi Hernandez</th>\n",
       "      <th>Franck Ribery</th>\n",
       "    </tr>\n",
       "  </thead>\n",
       "  <tbody>\n",
       "    <tr>\n",
       "      <th>rank1</th>\n",
       "      <td>6.0</td>\n",
       "      <td>6.0</td>\n",
       "      <td>6.0</td>\n",
       "      <td>2.0</td>\n",
       "      <td>3.0</td>\n",
       "      <td>6.0</td>\n",
       "      <td>6.0</td>\n",
       "      <td>1.0</td>\n",
       "      <td>6.0</td>\n",
       "      <td>6.0</td>\n",
       "    </tr>\n",
       "    <tr>\n",
       "      <th>rank2</th>\n",
       "      <td>1.0</td>\n",
       "      <td>2.0</td>\n",
       "      <td>6.0</td>\n",
       "      <td>3.0</td>\n",
       "      <td>4.0</td>\n",
       "      <td>6.0</td>\n",
       "      <td>6.0</td>\n",
       "      <td>6.0</td>\n",
       "      <td>6.0</td>\n",
       "      <td>6.0</td>\n",
       "    </tr>\n",
       "    <tr>\n",
       "      <th>rank3</th>\n",
       "      <td>1.0</td>\n",
       "      <td>2.0</td>\n",
       "      <td>6.0</td>\n",
       "      <td>3.0</td>\n",
       "      <td>4.0</td>\n",
       "      <td>6.0</td>\n",
       "      <td>6.0</td>\n",
       "      <td>6.0</td>\n",
       "      <td>6.0</td>\n",
       "      <td>6.0</td>\n",
       "    </tr>\n",
       "    <tr>\n",
       "      <th>rank4</th>\n",
       "      <td>1.0</td>\n",
       "      <td>2.0</td>\n",
       "      <td>6.0</td>\n",
       "      <td>6.0</td>\n",
       "      <td>6.0</td>\n",
       "      <td>6.0</td>\n",
       "      <td>5.0</td>\n",
       "      <td>6.0</td>\n",
       "      <td>6.0</td>\n",
       "      <td>4.0</td>\n",
       "    </tr>\n",
       "    <tr>\n",
       "      <th>rank5</th>\n",
       "      <td>1.0</td>\n",
       "      <td>2.0</td>\n",
       "      <td>6.0</td>\n",
       "      <td>6.0</td>\n",
       "      <td>6.0</td>\n",
       "      <td>6.0</td>\n",
       "      <td>3.0</td>\n",
       "      <td>6.0</td>\n",
       "      <td>5.0</td>\n",
       "      <td>4.0</td>\n",
       "    </tr>\n",
       "    <tr>\n",
       "      <th>rank6</th>\n",
       "      <td>1.0</td>\n",
       "      <td>2.0</td>\n",
       "      <td>6.0</td>\n",
       "      <td>6.0</td>\n",
       "      <td>6.0</td>\n",
       "      <td>6.0</td>\n",
       "      <td>4.0</td>\n",
       "      <td>6.0</td>\n",
       "      <td>3.0</td>\n",
       "      <td>6.0</td>\n",
       "    </tr>\n",
       "    <tr>\n",
       "      <th>rank7</th>\n",
       "      <td>1.0</td>\n",
       "      <td>2.0</td>\n",
       "      <td>3.0</td>\n",
       "      <td>6.0</td>\n",
       "      <td>6.0</td>\n",
       "      <td>6.0</td>\n",
       "      <td>6.0</td>\n",
       "      <td>6.0</td>\n",
       "      <td>6.0</td>\n",
       "      <td>6.0</td>\n",
       "    </tr>\n",
       "    <tr>\n",
       "      <th>rank8</th>\n",
       "      <td>1.0</td>\n",
       "      <td>3.0</td>\n",
       "      <td>2.0</td>\n",
       "      <td>6.0</td>\n",
       "      <td>6.0</td>\n",
       "      <td>5.0</td>\n",
       "      <td>6.0</td>\n",
       "      <td>6.0</td>\n",
       "      <td>6.0</td>\n",
       "      <td>6.0</td>\n",
       "    </tr>\n",
       "    <tr>\n",
       "      <th>rank9</th>\n",
       "      <td>3.0</td>\n",
       "      <td>1.0</td>\n",
       "      <td>2.0</td>\n",
       "      <td>6.0</td>\n",
       "      <td>6.0</td>\n",
       "      <td>4.0</td>\n",
       "      <td>6.0</td>\n",
       "      <td>6.0</td>\n",
       "      <td>6.0</td>\n",
       "      <td>6.0</td>\n",
       "    </tr>\n",
       "    <tr>\n",
       "      <th>rank10</th>\n",
       "      <td>6.0</td>\n",
       "      <td>1.0</td>\n",
       "      <td>6.0</td>\n",
       "      <td>6.0</td>\n",
       "      <td>6.0</td>\n",
       "      <td>2.0</td>\n",
       "      <td>6.0</td>\n",
       "      <td>6.0</td>\n",
       "      <td>6.0</td>\n",
       "      <td>6.0</td>\n",
       "    </tr>\n",
       "  </tbody>\n",
       "</table>\n",
       "</div>"
      ],
      "text/plain": [
       "player_name  Lionel Messi  Cristiano Ronaldo  Iker Casillas  Manuel Neuer  \\\n",
       "rank1                 6.0                6.0            6.0           2.0   \n",
       "rank2                 1.0                2.0            6.0           3.0   \n",
       "rank3                 1.0                2.0            6.0           3.0   \n",
       "rank4                 1.0                2.0            6.0           6.0   \n",
       "rank5                 1.0                2.0            6.0           6.0   \n",
       "rank6                 1.0                2.0            6.0           6.0   \n",
       "rank7                 1.0                2.0            3.0           6.0   \n",
       "rank8                 1.0                3.0            2.0           6.0   \n",
       "rank9                 3.0                1.0            2.0           6.0   \n",
       "rank10                6.0                1.0            6.0           6.0   \n",
       "\n",
       "player_name  Arjen Robben  Gianluigi Buffon  Andres Iniesta  Neymar  \\\n",
       "rank1                 3.0               6.0             6.0     1.0   \n",
       "rank2                 4.0               6.0             6.0     6.0   \n",
       "rank3                 4.0               6.0             6.0     6.0   \n",
       "rank4                 6.0               6.0             5.0     6.0   \n",
       "rank5                 6.0               6.0             3.0     6.0   \n",
       "rank6                 6.0               6.0             4.0     6.0   \n",
       "rank7                 6.0               6.0             6.0     6.0   \n",
       "rank8                 6.0               5.0             6.0     6.0   \n",
       "rank9                 6.0               4.0             6.0     6.0   \n",
       "rank10                6.0               2.0             6.0     6.0   \n",
       "\n",
       "player_name  Xavi Hernandez  Franck Ribery  \n",
       "rank1                   6.0            6.0  \n",
       "rank2                   6.0            6.0  \n",
       "rank3                   6.0            6.0  \n",
       "rank4                   6.0            4.0  \n",
       "rank5                   5.0            4.0  \n",
       "rank6                   3.0            6.0  \n",
       "rank7                   6.0            6.0  \n",
       "rank8                   6.0            6.0  \n",
       "rank9                   6.0            6.0  \n",
       "rank10                  6.0            6.0  "
      ]
     },
     "execution_count": 100,
     "metadata": {},
     "output_type": "execute_result"
    }
   ],
   "source": [
    "df1_transposed"
   ]
  },
  {
   "cell_type": "code",
   "execution_count": 105,
   "metadata": {
    "_uuid": "27ddd046dd6dcc98ab34bc60892d8e084b0c1bb1"
   },
   "outputs": [
    {
     "data": {
      "image/png": "[encoded data removed]",
      "text/plain": [
       "<Figure size 1080x1080 with 1 Axes>"
      ]
     },
     "metadata": {},
     "output_type": "display_data"
    }
   ],
   "source": [
    "df1_transposed.plot(kind='line',figsize=(15,15), marker='o')\n",
    "plt.gca().invert_yaxis() #inverting y axis\n",
    "plt.gca().invert_xaxis() #inverting y axis\n",
    "plt.yticks(range(1,6))\n",
    "ind = np.arange(10) \n",
    "plt.xticks(ind, (\"2016\",\"2015\",\"2014\",\"2013\",\"2012\",\"2011\",\"2010\",\"2009\",\"2008\",\"2007\"))\n",
    "plt.show();"
   ]
  },
  {
   "cell_type": "markdown",
   "metadata": {
    "_uuid": "e5a06bc552aed071275455efea87c7cde7c71865"
   },
   "source": [
    "# Finding Top Teams "
   ]
  },
  {
   "cell_type": "markdown",
   "metadata": {
    "_uuid": "a6f59ad90d07cc9e4785bde61e945791f12fa553"
   },
   "source": [
    "## League Teams "
   ]
  },
  {
   "cell_type": "code",
   "execution_count": 36,
   "metadata": {
    "_uuid": "68d3bc2fd1426222141be551c1653160e2184bb6"
   },
   "outputs": [
    {
     "data": {
      "text/html": [
       "<div>\n",
       "<style scoped>\n",
       "    .dataframe tbody tr th:only-of-type {\n",
       "        vertical-align: middle;\n",
       "    }\n",
       "\n",
       "    .dataframe tbody tr th {\n",
       "        vertical-align: top;\n",
       "    }\n",
       "\n",
       "    .dataframe thead th {\n",
       "        text-align: right;\n",
       "    }\n",
       "</style>\n",
       "<table border=\"1\" class=\"dataframe\">\n",
       "  <thead>\n",
       "    <tr style=\"text-align: right;\">\n",
       "      <th></th>\n",
       "      <th>id_x</th>\n",
       "      <th>team_api_id</th>\n",
       "      <th>team_long_name</th>\n",
       "      <th>id_y</th>\n",
       "      <th>date</th>\n",
       "    </tr>\n",
       "  </thead>\n",
       "  <tbody>\n",
       "    <tr>\n",
       "      <th>0</th>\n",
       "      <td>1</td>\n",
       "      <td>9987</td>\n",
       "      <td>KRC Genk</td>\n",
       "      <td>485</td>\n",
       "      <td>2010-02-22 00:00:00</td>\n",
       "    </tr>\n",
       "  </tbody>\n",
       "</table>\n",
       "</div>"
      ],
      "text/plain": [
       "   id_x  team_api_id team_long_name  id_y                 date\n",
       "0     1         9987       KRC Genk   485  2010-02-22 00:00:00"
      ]
     },
     "execution_count": 36,
     "metadata": {},
     "output_type": "execute_result"
    }
   ],
   "source": [
    "df_comb_team = pd.merge(df_team, df_team_attributes, on=\"team_api_id\")\n",
    "df_comb_team.head(1)"
   ]
  },
  {
   "cell_type": "code",
   "execution_count": 37,
   "metadata": {
    "_uuid": "b9687634a108a66365b183cc6214c6815a587781"
   },
   "outputs": [],
   "source": [
    "df_comb_team['date'] = pd.to_datetime(df_comb_team['date'])"
   ]
  },
  {
   "cell_type": "code",
   "execution_count": 38,
   "metadata": {
    "_uuid": "bd7c84e9d966ce5b868f55109cd3a183cd8db418"
   },
   "outputs": [],
   "source": [
    "df_comb_team_2015 = df_comb_team[df_comb_team['date'].dt.year == 2015]\n",
    "df_comb_team_2015 = df_comb_team_2015.sort_values('date').groupby('team_api_id').last()"
   ]
  },
  {
   "cell_type": "code",
   "execution_count": 39,
   "metadata": {
    "_uuid": "289c5a7dd9e85c0753e75e592fefa954d3233cd4"
   },
   "outputs": [
    {
     "data": {
      "text/html": [
       "<div>\n",
       "<style scoped>\n",
       "    .dataframe tbody tr th:only-of-type {\n",
       "        vertical-align: middle;\n",
       "    }\n",
       "\n",
       "    .dataframe tbody tr th {\n",
       "        vertical-align: top;\n",
       "    }\n",
       "\n",
       "    .dataframe thead th {\n",
       "        text-align: right;\n",
       "    }\n",
       "</style>\n",
       "<table border=\"1\" class=\"dataframe\">\n",
       "  <thead>\n",
       "    <tr style=\"text-align: right;\">\n",
       "      <th></th>\n",
       "      <th>id_x</th>\n",
       "      <th>team_long_name</th>\n",
       "      <th>id_y</th>\n",
       "      <th>date</th>\n",
       "    </tr>\n",
       "    <tr>\n",
       "      <th>team_api_id</th>\n",
       "      <th></th>\n",
       "      <th></th>\n",
       "      <th></th>\n",
       "      <th></th>\n",
       "    </tr>\n",
       "  </thead>\n",
       "  <tbody>\n",
       "    <tr>\n",
       "      <th>1601</th>\n",
       "      <td>31446</td>\n",
       "      <td>Ruch Chorzów</td>\n",
       "      <td>1118</td>\n",
       "      <td>2015-09-10</td>\n",
       "    </tr>\n",
       "    <tr>\n",
       "      <th>1957</th>\n",
       "      <td>31456</td>\n",
       "      <td>Jagiellonia Białystok</td>\n",
       "      <td>624</td>\n",
       "      <td>2015-09-10</td>\n",
       "    </tr>\n",
       "    <tr>\n",
       "      <th>2182</th>\n",
       "      <td>31453</td>\n",
       "      <td>Lech Poznań</td>\n",
       "      <td>700</td>\n",
       "      <td>2015-09-10</td>\n",
       "    </tr>\n",
       "    <tr>\n",
       "      <th>2186</th>\n",
       "      <td>31458</td>\n",
       "      <td>Cracovia</td>\n",
       "      <td>335</td>\n",
       "      <td>2015-09-10</td>\n",
       "    </tr>\n",
       "    <tr>\n",
       "      <th>4087</th>\n",
       "      <td>11822</td>\n",
       "      <td>Évian Thonon Gaillard FC</td>\n",
       "      <td>415</td>\n",
       "      <td>2015-09-10</td>\n",
       "    </tr>\n",
       "  </tbody>\n",
       "</table>\n",
       "</div>"
      ],
      "text/plain": [
       "              id_x            team_long_name  id_y       date\n",
       "team_api_id                                                  \n",
       "1601         31446              Ruch Chorzów  1118 2015-09-10\n",
       "1957         31456     Jagiellonia Białystok   624 2015-09-10\n",
       "2182         31453               Lech Poznań   700 2015-09-10\n",
       "2186         31458                  Cracovia   335 2015-09-10\n",
       "4087         11822  Évian Thonon Gaillard FC   415 2015-09-10"
      ]
     },
     "execution_count": 39,
     "metadata": {},
     "output_type": "execute_result"
    }
   ],
   "source": [
    "df_comb_team_2015.head()"
   ]
  },
  {
   "cell_type": "code",
   "execution_count": 40,
   "metadata": {
    "_uuid": "f472b3d89500d3c802d94ece64fb0931fa5d977a"
   },
   "outputs": [],
   "source": [
    "# making the fuctions\n",
    "\n",
    "def end_of_year_player(df_comb_player,year):\n",
    "    df_comb_player['date'] = pd.to_datetime(df_comb_player['date'])\n",
    "    df_comb_player = df_comb_player[df_comb_player['date'].dt.year == year]\n",
    "    df_comb_player = df_comb_player.sort_values('date').groupby('player_api_id').last()    \n",
    "    df_comb_player.reset_index(level=0, inplace=True)\n",
    "    return df_comb_player[['player_api_id','player_name', 'date', 'overall_rating', 'potential']]\n",
    "\n",
    "\n",
    "def end_of_year_team(df_comb_team):\n",
    "    df_comb_team = df_comb_team.sort_values('date').groupby('team_api_id').last()\n",
    "    df_comb_team.reset_index(level=0, inplace=True)\n",
    "    return df_comb_team[['team_api_id','team_long_name','date']]\n",
    "\n",
    "\n",
    "def team_to_player_home(df_match,year):\n",
    "    players_list_home = ['date','home_team_api_id','home_player_1', 'home_player_2', 'home_player_3',\n",
    "   'home_player_4', 'home_player_5', 'home_player_6', 'home_player_7',\n",
    "   'home_player_8', 'home_player_9', 'home_player_10', 'home_player_11']\n",
    "    df_match = df_match.loc[:,players_list_home]\n",
    "    df_match['date'] = pd.to_datetime(df_match['date'])\n",
    "    df_match = df_match[df_match['date'].dt.year == year]\n",
    "    df_match = df_match.drop(['date'],axis=1)\n",
    "    df_team_to_player=df_match.melt(['home_team_api_id']).sort_values('home_team_api_id')\n",
    "    df_team_to_player = df_team_to_player[[\"home_team_api_id\",\"value\"]]\n",
    "    df_team_to_player.rename( columns={\"value\":\"player_api_id\", \"home_team_api_id\":\"team_api_id\" },inplace=True)\n",
    "    df_team_to_player = df_team_to_player.drop_duplicates()\n",
    "    df_team_to_player = df_team_to_player.dropna()\n",
    "    return df_team_to_player\n",
    "\n",
    "def team_to_player_away(df_match,year):\n",
    "    players_list_away = [ 'date','away_team_api_id','away_player_1', 'away_player_2','away_player_3', 'away_player_4', 'away_player_5', 'away_player_6',\n",
    "       'away_player_7', 'away_player_8', 'away_player_9', 'away_player_10','away_player_11']\n",
    "    df_match = df_match.loc[:,players_list_away]\n",
    "    df_match['date'] = pd.to_datetime(df_match['date'])\n",
    "    df_match = df_match[df_match['date'].dt.year == year]\n",
    "    df_match = df_match.drop(['date'],axis=1)\n",
    "    df_team_to_player=df_match.melt(['away_team_api_id']).sort_values('away_team_api_id')\n",
    "    df_team_to_player = df_team_to_player[[\"away_team_api_id\",\"value\"]]\n",
    "    df_team_to_player.rename( columns={\"value\":\"player_api_id\", \"away_team_api_id\":\"team_api_id\" },inplace=True)\n",
    "    df_team_to_player = df_team_to_player.drop_duplicates()\n",
    "    df_team_to_player = df_team_to_player.dropna()\n",
    "    return df_team_to_player\n",
    "\n",
    "def team_to_player(df_match,year):    \n",
    "    df_2 = team_to_player_home(df_match,year)\n",
    "    df_1 = team_to_player_away(df_match,year)\n",
    "    df_combined = [df_1,df_2]\n",
    "    result = pd.concat(df_combined)\n",
    "    result = result.drop_duplicates()\n",
    "    return result\n",
    "    \n",
    "def top_N_team(df_comb_team,df_comb_player,df_match,season=\"2015/2016\",n=5):\n",
    "    year = int(season.split(\"/\")[0])\n",
    "    df_end_of_year_team = end_of_year_team(df_comb_team)\n",
    "    df_end_of_year_player = end_of_year_player(df_comb_player,year)\n",
    "    df_team_to_player = team_to_player(df_match,year)\n",
    "    df_end_of_year_player = pd.merge(df_end_of_year_player, df_team_to_player, on=\"player_api_id\")\n",
    "    df_comb_player_team_group= df_end_of_year_player.sort_values('overall_rating').groupby('team_api_id').head(16)\n",
    "    df_comb_player_team_group = df_comb_player_team_group.sort_values('overall_rating').groupby('team_api_id').sum()\n",
    "    df_top = pd.merge(df_comb_player_team_group,df_end_of_year_team,on=\"team_api_id\")\n",
    "    df_top = df_top[[\"team_api_id\",\"overall_rating\",\"team_long_name\"]]\n",
    "    df_top = df_top.sort_values(\"overall_rating\")\n",
    "    df_top = df_top[-n:]\n",
    "    df_top = df_top.sort_values(\"overall_rating\",ascending=False)\n",
    "    return df_top"
   ]
  },
  {
   "cell_type": "code",
   "execution_count": 41,
   "metadata": {
    "_uuid": "678e0b94b167ec00049bc36c4a7c0184c7d6ed21"
   },
   "outputs": [
    {
     "data": {
      "text/html": [
       "<div>\n",
       "<style scoped>\n",
       "    .dataframe tbody tr th:only-of-type {\n",
       "        vertical-align: middle;\n",
       "    }\n",
       "\n",
       "    .dataframe tbody tr th {\n",
       "        vertical-align: top;\n",
       "    }\n",
       "\n",
       "    .dataframe thead th {\n",
       "        text-align: right;\n",
       "    }\n",
       "</style>\n",
       "<table border=\"1\" class=\"dataframe\">\n",
       "  <thead>\n",
       "    <tr style=\"text-align: right;\">\n",
       "      <th></th>\n",
       "      <th>rank1</th>\n",
       "      <th>team_api_id</th>\n",
       "      <th>overall_rating</th>\n",
       "      <th>team_long_name</th>\n",
       "    </tr>\n",
       "  </thead>\n",
       "  <tbody>\n",
       "    <tr>\n",
       "      <th>0</th>\n",
       "      <td>1</td>\n",
       "      <td>8634</td>\n",
       "      <td>1272.0</td>\n",
       "      <td>FC Barcelona</td>\n",
       "    </tr>\n",
       "    <tr>\n",
       "      <th>1</th>\n",
       "      <td>2</td>\n",
       "      <td>8633</td>\n",
       "      <td>1267.0</td>\n",
       "      <td>Real Madrid CF</td>\n",
       "    </tr>\n",
       "    <tr>\n",
       "      <th>2</th>\n",
       "      <td>3</td>\n",
       "      <td>8455</td>\n",
       "      <td>1264.0</td>\n",
       "      <td>Chelsea</td>\n",
       "    </tr>\n",
       "    <tr>\n",
       "      <th>3</th>\n",
       "      <td>4</td>\n",
       "      <td>8456</td>\n",
       "      <td>1263.0</td>\n",
       "      <td>Manchester City</td>\n",
       "    </tr>\n",
       "    <tr>\n",
       "      <th>4</th>\n",
       "      <td>5</td>\n",
       "      <td>9906</td>\n",
       "      <td>1262.0</td>\n",
       "      <td>Atlético Madrid</td>\n",
       "    </tr>\n",
       "  </tbody>\n",
       "</table>\n",
       "</div>"
      ],
      "text/plain": [
       "   rank1  team_api_id  overall_rating   team_long_name\n",
       "0      1         8634          1272.0     FC Barcelona\n",
       "1      2         8633          1267.0   Real Madrid CF\n",
       "2      3         8455          1264.0          Chelsea\n",
       "3      4         8456          1263.0  Manchester City\n",
       "4      5         9906          1262.0  Atlético Madrid"
      ]
     },
     "execution_count": 41,
     "metadata": {},
     "output_type": "execute_result"
    }
   ],
   "source": [
    "df = top_N_team(df_comb_team,df_comb_player,df_match,season=\"2015/2016\")\n",
    "df.index = range(1,len(df.index)+1)\n",
    "df.reset_index(level=0, inplace=True)\n",
    "df.rename( columns={\"index\":\"rank1\"},inplace=True)\n",
    "df_rank = df\n",
    "df"
   ]
  },
  {
   "cell_type": "code",
   "execution_count": 42,
   "metadata": {
    "_uuid": "03283215bde7b7dc68baf3eed7984151a981f2ce",
    "scrolled": false
   },
   "outputs": [
    {
     "data": {
      "text/html": [
       "<div>\n",
       "<style scoped>\n",
       "    .dataframe tbody tr th:only-of-type {\n",
       "        vertical-align: middle;\n",
       "    }\n",
       "\n",
       "    .dataframe tbody tr th {\n",
       "        vertical-align: top;\n",
       "    }\n",
       "\n",
       "    .dataframe thead th {\n",
       "        text-align: right;\n",
       "    }\n",
       "</style>\n",
       "<table border=\"1\" class=\"dataframe\">\n",
       "  <thead>\n",
       "    <tr style=\"text-align: right;\">\n",
       "      <th></th>\n",
       "      <th>rank2</th>\n",
       "      <th>team_api_id</th>\n",
       "      <th>overall_rating</th>\n",
       "      <th>team_long_name</th>\n",
       "    </tr>\n",
       "  </thead>\n",
       "  <tbody>\n",
       "    <tr>\n",
       "      <th>0</th>\n",
       "      <td>1</td>\n",
       "      <td>8633</td>\n",
       "      <td>1273.0</td>\n",
       "      <td>Real Madrid CF</td>\n",
       "    </tr>\n",
       "    <tr>\n",
       "      <th>1</th>\n",
       "      <td>2</td>\n",
       "      <td>8455</td>\n",
       "      <td>1265.0</td>\n",
       "      <td>Chelsea</td>\n",
       "    </tr>\n",
       "    <tr>\n",
       "      <th>2</th>\n",
       "      <td>3</td>\n",
       "      <td>8634</td>\n",
       "      <td>1260.0</td>\n",
       "      <td>FC Barcelona</td>\n",
       "    </tr>\n",
       "    <tr>\n",
       "      <th>3</th>\n",
       "      <td>4</td>\n",
       "      <td>8456</td>\n",
       "      <td>1239.0</td>\n",
       "      <td>Manchester City</td>\n",
       "    </tr>\n",
       "    <tr>\n",
       "      <th>4</th>\n",
       "      <td>5</td>\n",
       "      <td>9847</td>\n",
       "      <td>1230.0</td>\n",
       "      <td>Paris Saint-Germain</td>\n",
       "    </tr>\n",
       "  </tbody>\n",
       "</table>\n",
       "</div>"
      ],
      "text/plain": [
       "   rank2  team_api_id  overall_rating       team_long_name\n",
       "0      1         8633          1273.0       Real Madrid CF\n",
       "1      2         8455          1265.0              Chelsea\n",
       "2      3         8634          1260.0         FC Barcelona\n",
       "3      4         8456          1239.0      Manchester City\n",
       "4      5         9847          1230.0  Paris Saint-Germain"
      ]
     },
     "execution_count": 42,
     "metadata": {},
     "output_type": "execute_result"
    }
   ],
   "source": [
    "df = top_N_team(df_comb_team,df_comb_player,df_match,season=\"2014/2015\")\n",
    "df.index = range(1,len(df.index)+1)\n",
    "df.reset_index(level=0, inplace=True)\n",
    "df.rename( columns={\"index\":\"rank2\"},inplace=True)\n",
    "df_rank = pd.merge(df_rank,df,on=[\"team_api_id\",\"team_long_name\"],how='outer')\n",
    "df"
   ]
  },
  {
   "cell_type": "code",
   "execution_count": 43,
   "metadata": {
    "_uuid": "7abc1a181e8481af25b2a9d4d35febaa8c15a909"
   },
   "outputs": [
    {
     "data": {
      "text/html": [
       "<div>\n",
       "<style scoped>\n",
       "    .dataframe tbody tr th:only-of-type {\n",
       "        vertical-align: middle;\n",
       "    }\n",
       "\n",
       "    .dataframe tbody tr th {\n",
       "        vertical-align: top;\n",
       "    }\n",
       "\n",
       "    .dataframe thead th {\n",
       "        text-align: right;\n",
       "    }\n",
       "</style>\n",
       "<table border=\"1\" class=\"dataframe\">\n",
       "  <thead>\n",
       "    <tr style=\"text-align: right;\">\n",
       "      <th></th>\n",
       "      <th>rank3</th>\n",
       "      <th>team_api_id</th>\n",
       "      <th>overall_rating</th>\n",
       "      <th>team_long_name</th>\n",
       "    </tr>\n",
       "  </thead>\n",
       "  <tbody>\n",
       "    <tr>\n",
       "      <th>0</th>\n",
       "      <td>1</td>\n",
       "      <td>8634</td>\n",
       "      <td>1277.0</td>\n",
       "      <td>FC Barcelona</td>\n",
       "    </tr>\n",
       "    <tr>\n",
       "      <th>1</th>\n",
       "      <td>2</td>\n",
       "      <td>9823</td>\n",
       "      <td>1270.0</td>\n",
       "      <td>FC Bayern Munich</td>\n",
       "    </tr>\n",
       "    <tr>\n",
       "      <th>2</th>\n",
       "      <td>3</td>\n",
       "      <td>8456</td>\n",
       "      <td>1259.0</td>\n",
       "      <td>Manchester City</td>\n",
       "    </tr>\n",
       "    <tr>\n",
       "      <th>3</th>\n",
       "      <td>4</td>\n",
       "      <td>8455</td>\n",
       "      <td>1250.0</td>\n",
       "      <td>Chelsea</td>\n",
       "    </tr>\n",
       "    <tr>\n",
       "      <th>4</th>\n",
       "      <td>5</td>\n",
       "      <td>8633</td>\n",
       "      <td>1234.0</td>\n",
       "      <td>Real Madrid CF</td>\n",
       "    </tr>\n",
       "  </tbody>\n",
       "</table>\n",
       "</div>"
      ],
      "text/plain": [
       "   rank3  team_api_id  overall_rating    team_long_name\n",
       "0      1         8634          1277.0      FC Barcelona\n",
       "1      2         9823          1270.0  FC Bayern Munich\n",
       "2      3         8456          1259.0   Manchester City\n",
       "3      4         8455          1250.0           Chelsea\n",
       "4      5         8633          1234.0    Real Madrid CF"
      ]
     },
     "execution_count": 43,
     "metadata": {},
     "output_type": "execute_result"
    }
   ],
   "source": [
    "df = top_N_team(df_comb_team,df_comb_player,df_match,season=\"2013/2014\")\n",
    "df.index = range(1,len(df.index)+1)\n",
    "df.reset_index(level=0, inplace=True)\n",
    "df.rename( columns={\"index\":\"rank3\"},inplace=True)\n",
    "df_rank = pd.merge(df_rank,df,on=[\"team_api_id\",\"team_long_name\"],how='outer')\n",
    "df"
   ]
  },
  {
   "cell_type": "code",
   "execution_count": 44,
   "metadata": {
    "_uuid": "8baade5a2c5d690f37d17315dde9786967ae0816"
   },
   "outputs": [
    {
     "data": {
      "text/html": [
       "<div>\n",
       "<style scoped>\n",
       "    .dataframe tbody tr th:only-of-type {\n",
       "        vertical-align: middle;\n",
       "    }\n",
       "\n",
       "    .dataframe tbody tr th {\n",
       "        vertical-align: top;\n",
       "    }\n",
       "\n",
       "    .dataframe thead th {\n",
       "        text-align: right;\n",
       "    }\n",
       "</style>\n",
       "<table border=\"1\" class=\"dataframe\">\n",
       "  <thead>\n",
       "    <tr style=\"text-align: right;\">\n",
       "      <th></th>\n",
       "      <th>rank4</th>\n",
       "      <th>team_api_id</th>\n",
       "      <th>overall_rating</th>\n",
       "      <th>team_long_name</th>\n",
       "    </tr>\n",
       "  </thead>\n",
       "  <tbody>\n",
       "    <tr>\n",
       "      <th>0</th>\n",
       "      <td>1</td>\n",
       "      <td>8633</td>\n",
       "      <td>1265.0</td>\n",
       "      <td>Real Madrid CF</td>\n",
       "    </tr>\n",
       "    <tr>\n",
       "      <th>1</th>\n",
       "      <td>2</td>\n",
       "      <td>8634</td>\n",
       "      <td>1248.0</td>\n",
       "      <td>FC Barcelona</td>\n",
       "    </tr>\n",
       "    <tr>\n",
       "      <th>2</th>\n",
       "      <td>3</td>\n",
       "      <td>8456</td>\n",
       "      <td>1245.0</td>\n",
       "      <td>Manchester City</td>\n",
       "    </tr>\n",
       "    <tr>\n",
       "      <th>3</th>\n",
       "      <td>4</td>\n",
       "      <td>9885</td>\n",
       "      <td>1242.0</td>\n",
       "      <td>Juventus</td>\n",
       "    </tr>\n",
       "    <tr>\n",
       "      <th>4</th>\n",
       "      <td>5</td>\n",
       "      <td>9823</td>\n",
       "      <td>1238.0</td>\n",
       "      <td>FC Bayern Munich</td>\n",
       "    </tr>\n",
       "  </tbody>\n",
       "</table>\n",
       "</div>"
      ],
      "text/plain": [
       "   rank4  team_api_id  overall_rating    team_long_name\n",
       "0      1         8633          1265.0    Real Madrid CF\n",
       "1      2         8634          1248.0      FC Barcelona\n",
       "2      3         8456          1245.0   Manchester City\n",
       "3      4         9885          1242.0          Juventus\n",
       "4      5         9823          1238.0  FC Bayern Munich"
      ]
     },
     "execution_count": 44,
     "metadata": {},
     "output_type": "execute_result"
    }
   ],
   "source": [
    "df = top_N_team(df_comb_team,df_comb_player,df_match,season=\"2012/2013\")\n",
    "df.index = range(1,len(df.index)+1)\n",
    "df.reset_index(level=0, inplace=True)\n",
    "df.rename( columns={\"index\":\"rank4\"},inplace=True)\n",
    "df_rank = pd.merge(df_rank,df,on=[\"team_api_id\",\"team_long_name\"],how='outer')\n",
    "df"
   ]
  },
  {
   "cell_type": "code",
   "execution_count": 45,
   "metadata": {
    "_uuid": "1e550d7275f25a11d7b3d27b2856ec5f3458226e"
   },
   "outputs": [
    {
     "data": {
      "text/html": [
       "<div>\n",
       "<style scoped>\n",
       "    .dataframe tbody tr th:only-of-type {\n",
       "        vertical-align: middle;\n",
       "    }\n",
       "\n",
       "    .dataframe tbody tr th {\n",
       "        vertical-align: top;\n",
       "    }\n",
       "\n",
       "    .dataframe thead th {\n",
       "        text-align: right;\n",
       "    }\n",
       "</style>\n",
       "<table border=\"1\" class=\"dataframe\">\n",
       "  <thead>\n",
       "    <tr style=\"text-align: right;\">\n",
       "      <th></th>\n",
       "      <th>rank5</th>\n",
       "      <th>team_api_id</th>\n",
       "      <th>overall_rating</th>\n",
       "      <th>team_long_name</th>\n",
       "    </tr>\n",
       "  </thead>\n",
       "  <tbody>\n",
       "    <tr>\n",
       "      <th>0</th>\n",
       "      <td>1</td>\n",
       "      <td>8456</td>\n",
       "      <td>1254.0</td>\n",
       "      <td>Manchester City</td>\n",
       "    </tr>\n",
       "    <tr>\n",
       "      <th>1</th>\n",
       "      <td>2</td>\n",
       "      <td>8455</td>\n",
       "      <td>1252.0</td>\n",
       "      <td>Chelsea</td>\n",
       "    </tr>\n",
       "    <tr>\n",
       "      <th>2</th>\n",
       "      <td>3</td>\n",
       "      <td>8633</td>\n",
       "      <td>1237.0</td>\n",
       "      <td>Real Madrid CF</td>\n",
       "    </tr>\n",
       "    <tr>\n",
       "      <th>3</th>\n",
       "      <td>4</td>\n",
       "      <td>10260</td>\n",
       "      <td>1217.0</td>\n",
       "      <td>Manchester United</td>\n",
       "    </tr>\n",
       "    <tr>\n",
       "      <th>4</th>\n",
       "      <td>5</td>\n",
       "      <td>8586</td>\n",
       "      <td>1216.0</td>\n",
       "      <td>Tottenham Hotspur</td>\n",
       "    </tr>\n",
       "  </tbody>\n",
       "</table>\n",
       "</div>"
      ],
      "text/plain": [
       "   rank5  team_api_id  overall_rating     team_long_name\n",
       "0      1         8456          1254.0    Manchester City\n",
       "1      2         8455          1252.0            Chelsea\n",
       "2      3         8633          1237.0     Real Madrid CF\n",
       "3      4        10260          1217.0  Manchester United\n",
       "4      5         8586          1216.0  Tottenham Hotspur"
      ]
     },
     "execution_count": 45,
     "metadata": {},
     "output_type": "execute_result"
    }
   ],
   "source": [
    "df = top_N_team(df_comb_team,df_comb_player,df_match,season=\"2011/2012\")\n",
    "df.index = range(1,len(df.index)+1)\n",
    "df.reset_index(level=0, inplace=True)\n",
    "df.rename( columns={\"index\":\"rank5\"},inplace=True)\n",
    "df_rank = pd.merge(df_rank,df,on=[\"team_api_id\",\"team_long_name\"],how='outer')\n",
    "df"
   ]
  },
  {
   "cell_type": "code",
   "execution_count": 46,
   "metadata": {
    "_uuid": "e4322da02759f7fa4ab16d0da68a393edb0f8125"
   },
   "outputs": [
    {
     "data": {
      "text/html": [
       "<div>\n",
       "<style scoped>\n",
       "    .dataframe tbody tr th:only-of-type {\n",
       "        vertical-align: middle;\n",
       "    }\n",
       "\n",
       "    .dataframe tbody tr th {\n",
       "        vertical-align: top;\n",
       "    }\n",
       "\n",
       "    .dataframe thead th {\n",
       "        text-align: right;\n",
       "    }\n",
       "</style>\n",
       "<table border=\"1\" class=\"dataframe\">\n",
       "  <thead>\n",
       "    <tr style=\"text-align: right;\">\n",
       "      <th></th>\n",
       "      <th>rank6</th>\n",
       "      <th>team_api_id</th>\n",
       "      <th>overall_rating</th>\n",
       "      <th>team_long_name</th>\n",
       "    </tr>\n",
       "  </thead>\n",
       "  <tbody>\n",
       "    <tr>\n",
       "      <th>0</th>\n",
       "      <td>1</td>\n",
       "      <td>8633</td>\n",
       "      <td>1281.0</td>\n",
       "      <td>Real Madrid CF</td>\n",
       "    </tr>\n",
       "    <tr>\n",
       "      <th>1</th>\n",
       "      <td>2</td>\n",
       "      <td>8634</td>\n",
       "      <td>1262.0</td>\n",
       "      <td>FC Barcelona</td>\n",
       "    </tr>\n",
       "    <tr>\n",
       "      <th>2</th>\n",
       "      <td>3</td>\n",
       "      <td>8455</td>\n",
       "      <td>1257.0</td>\n",
       "      <td>Chelsea</td>\n",
       "    </tr>\n",
       "    <tr>\n",
       "      <th>3</th>\n",
       "      <td>4</td>\n",
       "      <td>8636</td>\n",
       "      <td>1242.0</td>\n",
       "      <td>Inter</td>\n",
       "    </tr>\n",
       "    <tr>\n",
       "      <th>4</th>\n",
       "      <td>5</td>\n",
       "      <td>10260</td>\n",
       "      <td>1239.0</td>\n",
       "      <td>Manchester United</td>\n",
       "    </tr>\n",
       "  </tbody>\n",
       "</table>\n",
       "</div>"
      ],
      "text/plain": [
       "   rank6  team_api_id  overall_rating     team_long_name\n",
       "0      1         8633          1281.0     Real Madrid CF\n",
       "1      2         8634          1262.0       FC Barcelona\n",
       "2      3         8455          1257.0            Chelsea\n",
       "3      4         8636          1242.0              Inter\n",
       "4      5        10260          1239.0  Manchester United"
      ]
     },
     "execution_count": 46,
     "metadata": {},
     "output_type": "execute_result"
    }
   ],
   "source": [
    "df = top_N_team(df_comb_team,df_comb_player,df_match,season=\"2010/2011\")\n",
    "df.index = range(1,len(df.index)+1)\n",
    "df.reset_index(level=0, inplace=True)\n",
    "df.rename( columns={\"index\":\"rank6\"},inplace=True)\n",
    "df_rank = pd.merge(df_rank,df,on=[\"team_api_id\",\"team_long_name\"],how='outer')\n",
    "df"
   ]
  },
  {
   "cell_type": "code",
   "execution_count": 47,
   "metadata": {
    "_uuid": "29a6c96041fa77c7fd74581bbf89893be8d66b58"
   },
   "outputs": [
    {
     "data": {
      "text/html": [
       "<div>\n",
       "<style scoped>\n",
       "    .dataframe tbody tr th:only-of-type {\n",
       "        vertical-align: middle;\n",
       "    }\n",
       "\n",
       "    .dataframe tbody tr th {\n",
       "        vertical-align: top;\n",
       "    }\n",
       "\n",
       "    .dataframe thead th {\n",
       "        text-align: right;\n",
       "    }\n",
       "</style>\n",
       "<table border=\"1\" class=\"dataframe\">\n",
       "  <thead>\n",
       "    <tr style=\"text-align: right;\">\n",
       "      <th></th>\n",
       "      <th>rank7</th>\n",
       "      <th>team_api_id</th>\n",
       "      <th>overall_rating</th>\n",
       "      <th>team_long_name</th>\n",
       "    </tr>\n",
       "  </thead>\n",
       "  <tbody>\n",
       "    <tr>\n",
       "      <th>0</th>\n",
       "      <td>1</td>\n",
       "      <td>8455</td>\n",
       "      <td>1275.0</td>\n",
       "      <td>Chelsea</td>\n",
       "    </tr>\n",
       "    <tr>\n",
       "      <th>1</th>\n",
       "      <td>2</td>\n",
       "      <td>8636</td>\n",
       "      <td>1243.0</td>\n",
       "      <td>Inter</td>\n",
       "    </tr>\n",
       "    <tr>\n",
       "      <th>2</th>\n",
       "      <td>3</td>\n",
       "      <td>8633</td>\n",
       "      <td>1239.0</td>\n",
       "      <td>Real Madrid CF</td>\n",
       "    </tr>\n",
       "    <tr>\n",
       "      <th>3</th>\n",
       "      <td>4</td>\n",
       "      <td>8634</td>\n",
       "      <td>1235.0</td>\n",
       "      <td>FC Barcelona</td>\n",
       "    </tr>\n",
       "    <tr>\n",
       "      <th>4</th>\n",
       "      <td>5</td>\n",
       "      <td>9885</td>\n",
       "      <td>1227.0</td>\n",
       "      <td>Juventus</td>\n",
       "    </tr>\n",
       "  </tbody>\n",
       "</table>\n",
       "</div>"
      ],
      "text/plain": [
       "   rank7  team_api_id  overall_rating  team_long_name\n",
       "0      1         8455          1275.0         Chelsea\n",
       "1      2         8636          1243.0           Inter\n",
       "2      3         8633          1239.0  Real Madrid CF\n",
       "3      4         8634          1235.0    FC Barcelona\n",
       "4      5         9885          1227.0        Juventus"
      ]
     },
     "execution_count": 47,
     "metadata": {},
     "output_type": "execute_result"
    }
   ],
   "source": [
    "df = top_N_team(df_comb_team,df_comb_player,df_match,season=\"2009/2010\")\n",
    "df.index = range(1,len(df.index)+1)\n",
    "df.reset_index(level=0, inplace=True)\n",
    "df.rename( columns={\"index\":\"rank7\"},inplace=True)\n",
    "df_rank = pd.merge(df_rank,df,on=[\"team_api_id\",\"team_long_name\"],how='outer')\n",
    "df"
   ]
  },
  {
   "cell_type": "code",
   "execution_count": 48,
   "metadata": {
    "_uuid": "ebd3fdade56124ba89bfdc3bc87ae788786a6930"
   },
   "outputs": [
    {
     "data": {
      "text/html": [
       "<div>\n",
       "<style scoped>\n",
       "    .dataframe tbody tr th:only-of-type {\n",
       "        vertical-align: middle;\n",
       "    }\n",
       "\n",
       "    .dataframe tbody tr th {\n",
       "        vertical-align: top;\n",
       "    }\n",
       "\n",
       "    .dataframe thead th {\n",
       "        text-align: right;\n",
       "    }\n",
       "</style>\n",
       "<table border=\"1\" class=\"dataframe\">\n",
       "  <thead>\n",
       "    <tr style=\"text-align: right;\">\n",
       "      <th></th>\n",
       "      <th>rank8</th>\n",
       "      <th>team_api_id</th>\n",
       "      <th>overall_rating</th>\n",
       "      <th>team_long_name</th>\n",
       "    </tr>\n",
       "  </thead>\n",
       "  <tbody>\n",
       "    <tr>\n",
       "      <th>0</th>\n",
       "      <td>1</td>\n",
       "      <td>8455</td>\n",
       "      <td>1306.0</td>\n",
       "      <td>Chelsea</td>\n",
       "    </tr>\n",
       "    <tr>\n",
       "      <th>1</th>\n",
       "      <td>2</td>\n",
       "      <td>8636</td>\n",
       "      <td>1282.0</td>\n",
       "      <td>Inter</td>\n",
       "    </tr>\n",
       "    <tr>\n",
       "      <th>2</th>\n",
       "      <td>3</td>\n",
       "      <td>8564</td>\n",
       "      <td>1277.0</td>\n",
       "      <td>Milan</td>\n",
       "    </tr>\n",
       "    <tr>\n",
       "      <th>3</th>\n",
       "      <td>4</td>\n",
       "      <td>10260</td>\n",
       "      <td>1276.0</td>\n",
       "      <td>Manchester United</td>\n",
       "    </tr>\n",
       "    <tr>\n",
       "      <th>4</th>\n",
       "      <td>5</td>\n",
       "      <td>8686</td>\n",
       "      <td>1266.0</td>\n",
       "      <td>Roma</td>\n",
       "    </tr>\n",
       "  </tbody>\n",
       "</table>\n",
       "</div>"
      ],
      "text/plain": [
       "   rank8  team_api_id  overall_rating     team_long_name\n",
       "0      1         8455          1306.0            Chelsea\n",
       "1      2         8636          1282.0              Inter\n",
       "2      3         8564          1277.0              Milan\n",
       "3      4        10260          1276.0  Manchester United\n",
       "4      5         8686          1266.0               Roma"
      ]
     },
     "execution_count": 48,
     "metadata": {},
     "output_type": "execute_result"
    }
   ],
   "source": [
    "df = top_N_team(df_comb_team,df_comb_player,df_match,season=\"2008/2009\")\n",
    "df.index = range(1,len(df.index)+1)\n",
    "df.reset_index(level=0, inplace=True)\n",
    "df.rename( columns={\"index\":\"rank8\"},inplace=True)\n",
    "df_rank = pd.merge(df_rank,df,on=[\"team_api_id\",\"team_long_name\"],how='outer')\n",
    "df"
   ]
  },
  {
   "cell_type": "code",
   "execution_count": 49,
   "metadata": {
    "_uuid": "fed3ed6b9e6ea110d48449de9309fead86a08d53"
   },
   "outputs": [],
   "source": [
    "df_rank = df_rank.replace(np.NaN,6)\n",
    "df_rank.index = df_rank.team_long_name\n",
    "df_rank = df_rank[[ 'rank1', 'rank2',\n",
    "       'rank3', 'rank4', 'rank5', 'rank6', 'rank7', 'rank8']]"
   ]
  },
  {
   "cell_type": "code",
   "execution_count": 50,
   "metadata": {
    "_uuid": "8efbeb087a41b22842d10dd716e4b669b2d4419e"
   },
   "outputs": [],
   "source": [
    "#df.pivot(index = \"team_long_name\")\n",
    "df1_transposed = df_rank.T"
   ]
  },
  {
   "cell_type": "code",
   "execution_count": 51,
   "metadata": {
    "_uuid": "f5371e6cafca5d391c478e0da11f23f1d406364d"
   },
   "outputs": [
    {
     "data": {
      "text/html": [
       "<div>\n",
       "<style scoped>\n",
       "    .dataframe tbody tr th:only-of-type {\n",
       "        vertical-align: middle;\n",
       "    }\n",
       "\n",
       "    .dataframe tbody tr th {\n",
       "        vertical-align: top;\n",
       "    }\n",
       "\n",
       "    .dataframe thead th {\n",
       "        text-align: right;\n",
       "    }\n",
       "</style>\n",
       "<table border=\"1\" class=\"dataframe\">\n",
       "  <thead>\n",
       "    <tr style=\"text-align: right;\">\n",
       "      <th>team_long_name</th>\n",
       "      <th>FC Barcelona</th>\n",
       "      <th>Real Madrid CF</th>\n",
       "      <th>Chelsea</th>\n",
       "      <th>Manchester City</th>\n",
       "      <th>Atlético Madrid</th>\n",
       "      <th>Paris Saint-Germain</th>\n",
       "      <th>FC Bayern Munich</th>\n",
       "      <th>Juventus</th>\n",
       "      <th>Manchester United</th>\n",
       "      <th>Tottenham Hotspur</th>\n",
       "      <th>Inter</th>\n",
       "      <th>Milan</th>\n",
       "      <th>Roma</th>\n",
       "    </tr>\n",
       "  </thead>\n",
       "  <tbody>\n",
       "    <tr>\n",
       "      <th>rank1</th>\n",
       "      <td>1.0</td>\n",
       "      <td>2.0</td>\n",
       "      <td>3.0</td>\n",
       "      <td>4.0</td>\n",
       "      <td>5.0</td>\n",
       "      <td>6.0</td>\n",
       "      <td>6.0</td>\n",
       "      <td>6.0</td>\n",
       "      <td>6.0</td>\n",
       "      <td>6.0</td>\n",
       "      <td>6.0</td>\n",
       "      <td>6.0</td>\n",
       "      <td>6.0</td>\n",
       "    </tr>\n",
       "    <tr>\n",
       "      <th>rank2</th>\n",
       "      <td>3.0</td>\n",
       "      <td>1.0</td>\n",
       "      <td>2.0</td>\n",
       "      <td>4.0</td>\n",
       "      <td>6.0</td>\n",
       "      <td>5.0</td>\n",
       "      <td>6.0</td>\n",
       "      <td>6.0</td>\n",
       "      <td>6.0</td>\n",
       "      <td>6.0</td>\n",
       "      <td>6.0</td>\n",
       "      <td>6.0</td>\n",
       "      <td>6.0</td>\n",
       "    </tr>\n",
       "    <tr>\n",
       "      <th>rank3</th>\n",
       "      <td>1.0</td>\n",
       "      <td>5.0</td>\n",
       "      <td>4.0</td>\n",
       "      <td>3.0</td>\n",
       "      <td>6.0</td>\n",
       "      <td>6.0</td>\n",
       "      <td>2.0</td>\n",
       "      <td>6.0</td>\n",
       "      <td>6.0</td>\n",
       "      <td>6.0</td>\n",
       "      <td>6.0</td>\n",
       "      <td>6.0</td>\n",
       "      <td>6.0</td>\n",
       "    </tr>\n",
       "    <tr>\n",
       "      <th>rank4</th>\n",
       "      <td>2.0</td>\n",
       "      <td>1.0</td>\n",
       "      <td>6.0</td>\n",
       "      <td>3.0</td>\n",
       "      <td>6.0</td>\n",
       "      <td>6.0</td>\n",
       "      <td>5.0</td>\n",
       "      <td>4.0</td>\n",
       "      <td>6.0</td>\n",
       "      <td>6.0</td>\n",
       "      <td>6.0</td>\n",
       "      <td>6.0</td>\n",
       "      <td>6.0</td>\n",
       "    </tr>\n",
       "    <tr>\n",
       "      <th>rank5</th>\n",
       "      <td>6.0</td>\n",
       "      <td>3.0</td>\n",
       "      <td>2.0</td>\n",
       "      <td>1.0</td>\n",
       "      <td>6.0</td>\n",
       "      <td>6.0</td>\n",
       "      <td>6.0</td>\n",
       "      <td>6.0</td>\n",
       "      <td>4.0</td>\n",
       "      <td>5.0</td>\n",
       "      <td>6.0</td>\n",
       "      <td>6.0</td>\n",
       "      <td>6.0</td>\n",
       "    </tr>\n",
       "    <tr>\n",
       "      <th>rank6</th>\n",
       "      <td>2.0</td>\n",
       "      <td>1.0</td>\n",
       "      <td>3.0</td>\n",
       "      <td>6.0</td>\n",
       "      <td>6.0</td>\n",
       "      <td>6.0</td>\n",
       "      <td>6.0</td>\n",
       "      <td>6.0</td>\n",
       "      <td>5.0</td>\n",
       "      <td>6.0</td>\n",
       "      <td>4.0</td>\n",
       "      <td>6.0</td>\n",
       "      <td>6.0</td>\n",
       "    </tr>\n",
       "    <tr>\n",
       "      <th>rank7</th>\n",
       "      <td>4.0</td>\n",
       "      <td>3.0</td>\n",
       "      <td>1.0</td>\n",
       "      <td>6.0</td>\n",
       "      <td>6.0</td>\n",
       "      <td>6.0</td>\n",
       "      <td>6.0</td>\n",
       "      <td>5.0</td>\n",
       "      <td>6.0</td>\n",
       "      <td>6.0</td>\n",
       "      <td>2.0</td>\n",
       "      <td>6.0</td>\n",
       "      <td>6.0</td>\n",
       "    </tr>\n",
       "    <tr>\n",
       "      <th>rank8</th>\n",
       "      <td>6.0</td>\n",
       "      <td>6.0</td>\n",
       "      <td>1.0</td>\n",
       "      <td>6.0</td>\n",
       "      <td>6.0</td>\n",
       "      <td>6.0</td>\n",
       "      <td>6.0</td>\n",
       "      <td>6.0</td>\n",
       "      <td>4.0</td>\n",
       "      <td>6.0</td>\n",
       "      <td>2.0</td>\n",
       "      <td>3.0</td>\n",
       "      <td>5.0</td>\n",
       "    </tr>\n",
       "  </tbody>\n",
       "</table>\n",
       "</div>"
      ],
      "text/plain": [
       "team_long_name  FC Barcelona  Real Madrid CF  Chelsea  Manchester City  \\\n",
       "rank1                    1.0             2.0      3.0              4.0   \n",
       "rank2                    3.0             1.0      2.0              4.0   \n",
       "rank3                    1.0             5.0      4.0              3.0   \n",
       "rank4                    2.0             1.0      6.0              3.0   \n",
       "rank5                    6.0             3.0      2.0              1.0   \n",
       "rank6                    2.0             1.0      3.0              6.0   \n",
       "rank7                    4.0             3.0      1.0              6.0   \n",
       "rank8                    6.0             6.0      1.0              6.0   \n",
       "\n",
       "team_long_name  Atlético Madrid  Paris Saint-Germain  FC Bayern Munich  \\\n",
       "rank1                       5.0                  6.0               6.0   \n",
       "rank2                       6.0                  5.0               6.0   \n",
       "rank3                       6.0                  6.0               2.0   \n",
       "rank4                       6.0                  6.0               5.0   \n",
       "rank5                       6.0                  6.0               6.0   \n",
       "rank6                       6.0                  6.0               6.0   \n",
       "rank7                       6.0                  6.0               6.0   \n",
       "rank8                       6.0                  6.0               6.0   \n",
       "\n",
       "team_long_name  Juventus  Manchester United  Tottenham Hotspur  Inter  Milan  \\\n",
       "rank1                6.0                6.0                6.0    6.0    6.0   \n",
       "rank2                6.0                6.0                6.0    6.0    6.0   \n",
       "rank3                6.0                6.0                6.0    6.0    6.0   \n",
       "rank4                4.0                6.0                6.0    6.0    6.0   \n",
       "rank5                6.0                4.0                5.0    6.0    6.0   \n",
       "rank6                6.0                5.0                6.0    4.0    6.0   \n",
       "rank7                5.0                6.0                6.0    2.0    6.0   \n",
       "rank8                6.0                4.0                6.0    2.0    3.0   \n",
       "\n",
       "team_long_name  Roma  \n",
       "rank1            6.0  \n",
       "rank2            6.0  \n",
       "rank3            6.0  \n",
       "rank4            6.0  \n",
       "rank5            6.0  \n",
       "rank6            6.0  \n",
       "rank7            6.0  \n",
       "rank8            5.0  "
      ]
     },
     "execution_count": 51,
     "metadata": {},
     "output_type": "execute_result"
    }
   ],
   "source": [
    "df1_transposed"
   ]
  },
  {
   "cell_type": "code",
   "execution_count": 106,
   "metadata": {
    "_uuid": "3f6e305c6f34ae357b1d8b02985767a3bb24d9b3",
    "scrolled": true
   },
   "outputs": [
    {
     "data": {
      "image/png": "[encoded data removed]",
      "text/plain": [
       "<Figure size 1080x1080 with 1 Axes>"
      ]
     },
     "metadata": {},
     "output_type": "display_data"
    }
   ],
   "source": [
    "df1_transposed.plot(kind='line',figsize=(15,15), marker='o')\n",
    "plt.gca().invert_yaxis()\n",
    "plt.gca().invert_xaxis()\n",
    "plt.yticks(range(1,6))\n",
    "ind = np.arange(8) \n",
    "plt.xticks(ind, (\"2016\",\"2015\",\"2014\",\"2013\",\"2012\",\"2011\",\"2010\",\"2009\"))\n",
    "plt.show();\n"
   ]
  },
  {
   "cell_type": "code",
   "execution_count": null,
   "metadata": {},
   "outputs": [],
   "source": []
  },
  {
   "cell_type": "markdown",
   "metadata": {
    "_uuid": "8c455d2414df8fe31f43db95121e74fe6b9b6d0b"
   },
   "source": [
    "\n",
    "\n",
    "Please upvote this kernel. This is still on Progress. Your comments on how we can improve this kernel is welcome. Thanks.\n"
   ]
  },
  {
   "cell_type": "code",
   "execution_count": 53,
   "metadata": {
    "_uuid": "b4d623f328ee1b992be117b09dc2f3b45aefd27f"
   },
   "outputs": [],
   "source": [
    "def league_to_team(df_match,year):\n",
    "    df_match = df_match.loc[:,[\"date\",\"league_id\",\"home_team_api_id\",\"away_team_api_id\"]]\n",
    "    df_match['date'] = pd.to_datetime(df_match['date'])\n",
    "    df_match = df_match[df_match['date'].dt.year == year]\n",
    "    df_match = df_match.drop('date',axis=1)\n",
    "    df_match=df_match.melt(['league_id'])\n",
    "    df_match = df_match.drop('variable',axis=1)\n",
    "    df_match.rename( columns={\"value\":\"team_api_id\" },inplace=True)\n",
    "    df_match = df_match.drop_duplicates()\n",
    "    return df_match\n"
   ]
  },
  {
   "cell_type": "code",
   "execution_count": 54,
   "metadata": {
    "_uuid": "2c3cc8880e267bcd21e4911f3f16e0cf2399d622"
   },
   "outputs": [],
   "source": [
    "def top_leagues(df_comb_team,df_comb_player,df_match,season=\"2015/2016\"):\n",
    "    year = int(season.split(\"/\")[0])\n",
    "    df_end_of_year_team = end_of_year_team(df_comb_team)\n",
    "    df_end_of_year_player = end_of_year_player(df_comb_player,year)\n",
    "    df_team_to_player = team_to_player(df_match,year)\n",
    "    df_end_of_year_player = pd.merge(df_end_of_year_player, df_team_to_player, on=\"player_api_id\")\n",
    "    df_comb_player_team_group= df_end_of_year_player.sort_values('overall_rating').groupby('team_api_id').head(16)\n",
    "    df_comb_player_team_group = df_comb_player_team_group.sort_values('overall_rating').groupby('team_api_id').sum()\n",
    "    df_top = pd.merge(df_comb_player_team_group,df_end_of_year_team,on=\"team_api_id\")\n",
    "    df_top = df_top[[\"team_api_id\",\"overall_rating\",\"team_long_name\"]]\n",
    "    df_top = df_top.sort_values(\"overall_rating\")\n",
    "    df_top = df_top.sort_values(\"overall_rating\",ascending=False)\n",
    "    df_league_to_team = league_to_team(df_match,year)\n",
    "    df_top = pd.merge(df_league_to_team,df_top,on=\"team_api_id\")\n",
    "    return df_top"
   ]
  },
  {
   "cell_type": "code",
   "execution_count": 55,
   "metadata": {},
   "outputs": [
    {
     "data": {
      "text/html": [
       "<div>\n",
       "<style scoped>\n",
       "    .dataframe tbody tr th:only-of-type {\n",
       "        vertical-align: middle;\n",
       "    }\n",
       "\n",
       "    .dataframe tbody tr th {\n",
       "        vertical-align: top;\n",
       "    }\n",
       "\n",
       "    .dataframe thead th {\n",
       "        text-align: right;\n",
       "    }\n",
       "</style>\n",
       "<table border=\"1\" class=\"dataframe\">\n",
       "  <thead>\n",
       "    <tr style=\"text-align: right;\">\n",
       "      <th></th>\n",
       "      <th>league_id</th>\n",
       "      <th>team_api_id</th>\n",
       "      <th>overall_rating</th>\n",
       "      <th>country_id</th>\n",
       "      <th>name</th>\n",
       "    </tr>\n",
       "  </thead>\n",
       "  <tbody>\n",
       "    <tr>\n",
       "      <th>10</th>\n",
       "      <td>24558</td>\n",
       "      <td>100835</td>\n",
       "      <td>9702.0</td>\n",
       "      <td>24558</td>\n",
       "      <td>Switzerland Super League</td>\n",
       "    </tr>\n",
       "    <tr>\n",
       "      <th>8</th>\n",
       "      <td>19694</td>\n",
       "      <td>116853</td>\n",
       "      <td>12524.0</td>\n",
       "      <td>19694</td>\n",
       "      <td>Scotland Premier League</td>\n",
       "    </tr>\n",
       "    <tr>\n",
       "      <th>6</th>\n",
       "      <td>15722</td>\n",
       "      <td>115904</td>\n",
       "      <td>16607.0</td>\n",
       "      <td>15722</td>\n",
       "      <td>Poland Ekstraklasa</td>\n",
       "    </tr>\n",
       "    <tr>\n",
       "      <th>0</th>\n",
       "      <td>1</td>\n",
       "      <td>427067</td>\n",
       "      <td>18869.0</td>\n",
       "      <td>1</td>\n",
       "      <td>Belgium Jupiler League</td>\n",
       "    </tr>\n",
       "    <tr>\n",
       "      <th>7</th>\n",
       "      <td>17642</td>\n",
       "      <td>311550</td>\n",
       "      <td>19606.0</td>\n",
       "      <td>17642</td>\n",
       "      <td>Portugal Liga ZON Sagres</td>\n",
       "    </tr>\n",
       "    <tr>\n",
       "      <th>5</th>\n",
       "      <td>13274</td>\n",
       "      <td>185965</td>\n",
       "      <td>22464.0</td>\n",
       "      <td>13274</td>\n",
       "      <td>Netherlands Eredivisie</td>\n",
       "    </tr>\n",
       "    <tr>\n",
       "      <th>3</th>\n",
       "      <td>7809</td>\n",
       "      <td>181708</td>\n",
       "      <td>23075.0</td>\n",
       "      <td>7809</td>\n",
       "      <td>Germany 1. Bundesliga</td>\n",
       "    </tr>\n",
       "    <tr>\n",
       "      <th>2</th>\n",
       "      <td>4769</td>\n",
       "      <td>205902</td>\n",
       "      <td>25195.0</td>\n",
       "      <td>4769</td>\n",
       "      <td>France Ligue 1</td>\n",
       "    </tr>\n",
       "    <tr>\n",
       "      <th>4</th>\n",
       "      <td>10257</td>\n",
       "      <td>410448</td>\n",
       "      <td>26102.0</td>\n",
       "      <td>10257</td>\n",
       "      <td>Italy Serie A</td>\n",
       "    </tr>\n",
       "    <tr>\n",
       "      <th>9</th>\n",
       "      <td>21518</td>\n",
       "      <td>207223</td>\n",
       "      <td>26963.0</td>\n",
       "      <td>21518</td>\n",
       "      <td>Spain LIGA BBVA</td>\n",
       "    </tr>\n",
       "    <tr>\n",
       "      <th>1</th>\n",
       "      <td>1729</td>\n",
       "      <td>211259</td>\n",
       "      <td>27031.0</td>\n",
       "      <td>1729</td>\n",
       "      <td>England Premier League</td>\n",
       "    </tr>\n",
       "  </tbody>\n",
       "</table>\n",
       "</div>"
      ],
      "text/plain": [
       "    league_id  team_api_id  overall_rating  country_id  \\\n",
       "10      24558       100835          9702.0       24558   \n",
       "8       19694       116853         12524.0       19694   \n",
       "6       15722       115904         16607.0       15722   \n",
       "0           1       427067         18869.0           1   \n",
       "7       17642       311550         19606.0       17642   \n",
       "5       13274       185965         22464.0       13274   \n",
       "3        7809       181708         23075.0        7809   \n",
       "2        4769       205902         25195.0        4769   \n",
       "4       10257       410448         26102.0       10257   \n",
       "9       21518       207223         26963.0       21518   \n",
       "1        1729       211259         27031.0        1729   \n",
       "\n",
       "                        name  \n",
       "10  Switzerland Super League  \n",
       "8    Scotland Premier League  \n",
       "6         Poland Ekstraklasa  \n",
       "0     Belgium Jupiler League  \n",
       "7   Portugal Liga ZON Sagres  \n",
       "5     Netherlands Eredivisie  \n",
       "3      Germany 1. Bundesliga  \n",
       "2             France Ligue 1  \n",
       "4              Italy Serie A  \n",
       "9            Spain LIGA BBVA  \n",
       "1     England Premier League  "
      ]
     },
     "execution_count": 55,
     "metadata": {},
     "output_type": "execute_result"
    }
   ],
   "source": [
    "df = top_leagues(df_comb_team,df_comb_player,df_match,season=\"2015/2016\")\n",
    "df = df.groupby(\"league_id\").sum()\n",
    "df.reset_index(level=0, inplace=True)\n",
    "df_league.rename( columns={\"id\":\"league_id\" },inplace=True)\n",
    "df = pd.merge(df,df_league,on=\"league_id\")\n",
    "df.sort_values(\"overall_rating\")"
   ]
  },
  {
   "cell_type": "code",
   "execution_count": 56,
   "metadata": {},
   "outputs": [
    {
     "data": {
      "text/html": [
       "<div>\n",
       "<style scoped>\n",
       "    .dataframe tbody tr th:only-of-type {\n",
       "        vertical-align: middle;\n",
       "    }\n",
       "\n",
       "    .dataframe tbody tr th {\n",
       "        vertical-align: top;\n",
       "    }\n",
       "\n",
       "    .dataframe thead th {\n",
       "        text-align: right;\n",
       "    }\n",
       "</style>\n",
       "<table border=\"1\" class=\"dataframe\">\n",
       "  <thead>\n",
       "    <tr style=\"text-align: right;\">\n",
       "      <th></th>\n",
       "      <th>league_id</th>\n",
       "      <th>team_api_id</th>\n",
       "      <th>overall_rating</th>\n",
       "      <th>country_id</th>\n",
       "      <th>name</th>\n",
       "    </tr>\n",
       "  </thead>\n",
       "  <tbody>\n",
       "    <tr>\n",
       "      <th>8</th>\n",
       "      <td>19694</td>\n",
       "      <td>8597.0</td>\n",
       "      <td>957.0</td>\n",
       "      <td>19694</td>\n",
       "      <td>Scotland Premier League</td>\n",
       "    </tr>\n",
       "    <tr>\n",
       "      <th>10</th>\n",
       "      <td>24558</td>\n",
       "      <td>10184.5</td>\n",
       "      <td>962.5</td>\n",
       "      <td>24558</td>\n",
       "      <td>Switzerland Super League</td>\n",
       "    </tr>\n",
       "    <tr>\n",
       "      <th>6</th>\n",
       "      <td>15722</td>\n",
       "      <td>8025.0</td>\n",
       "      <td>987.0</td>\n",
       "      <td>15722</td>\n",
       "      <td>Poland Ekstraklasa</td>\n",
       "    </tr>\n",
       "    <tr>\n",
       "      <th>0</th>\n",
       "      <td>1</td>\n",
       "      <td>9985.5</td>\n",
       "      <td>1043.5</td>\n",
       "      <td>1</td>\n",
       "      <td>Belgium Jupiler League</td>\n",
       "    </tr>\n",
       "    <tr>\n",
       "      <th>5</th>\n",
       "      <td>13274</td>\n",
       "      <td>8640.0</td>\n",
       "      <td>1062.0</td>\n",
       "      <td>13274</td>\n",
       "      <td>Netherlands Eredivisie</td>\n",
       "    </tr>\n",
       "    <tr>\n",
       "      <th>7</th>\n",
       "      <td>17642</td>\n",
       "      <td>9770.0</td>\n",
       "      <td>1062.5</td>\n",
       "      <td>17642</td>\n",
       "      <td>Portugal Liga ZON Sagres</td>\n",
       "    </tr>\n",
       "    <tr>\n",
       "      <th>2</th>\n",
       "      <td>4769</td>\n",
       "      <td>9748.0</td>\n",
       "      <td>1096.0</td>\n",
       "      <td>4769</td>\n",
       "      <td>France Ligue 1</td>\n",
       "    </tr>\n",
       "    <tr>\n",
       "      <th>4</th>\n",
       "      <td>10257</td>\n",
       "      <td>8686.0</td>\n",
       "      <td>1122.0</td>\n",
       "      <td>10257</td>\n",
       "      <td>Italy Serie A</td>\n",
       "    </tr>\n",
       "    <tr>\n",
       "      <th>3</th>\n",
       "      <td>7809</td>\n",
       "      <td>8721.5</td>\n",
       "      <td>1147.0</td>\n",
       "      <td>7809</td>\n",
       "      <td>Germany 1. Bundesliga</td>\n",
       "    </tr>\n",
       "    <tr>\n",
       "      <th>1</th>\n",
       "      <td>1729</td>\n",
       "      <td>8668.0</td>\n",
       "      <td>1159.0</td>\n",
       "      <td>1729</td>\n",
       "      <td>England Premier League</td>\n",
       "    </tr>\n",
       "    <tr>\n",
       "      <th>9</th>\n",
       "      <td>21518</td>\n",
       "      <td>8603.0</td>\n",
       "      <td>1160.0</td>\n",
       "      <td>21518</td>\n",
       "      <td>Spain LIGA BBVA</td>\n",
       "    </tr>\n",
       "  </tbody>\n",
       "</table>\n",
       "</div>"
      ],
      "text/plain": [
       "    league_id  team_api_id  overall_rating  country_id  \\\n",
       "8       19694       8597.0           957.0       19694   \n",
       "10      24558      10184.5           962.5       24558   \n",
       "6       15722       8025.0           987.0       15722   \n",
       "0           1       9985.5          1043.5           1   \n",
       "5       13274       8640.0          1062.0       13274   \n",
       "7       17642       9770.0          1062.5       17642   \n",
       "2        4769       9748.0          1096.0        4769   \n",
       "4       10257       8686.0          1122.0       10257   \n",
       "3        7809       8721.5          1147.0        7809   \n",
       "1        1729       8668.0          1159.0        1729   \n",
       "9       21518       8603.0          1160.0       21518   \n",
       "\n",
       "                        name  \n",
       "8    Scotland Premier League  \n",
       "10  Switzerland Super League  \n",
       "6         Poland Ekstraklasa  \n",
       "0     Belgium Jupiler League  \n",
       "5     Netherlands Eredivisie  \n",
       "7   Portugal Liga ZON Sagres  \n",
       "2             France Ligue 1  \n",
       "4              Italy Serie A  \n",
       "3      Germany 1. Bundesliga  \n",
       "1     England Premier League  \n",
       "9            Spain LIGA BBVA  "
      ]
     },
     "execution_count": 56,
     "metadata": {},
     "output_type": "execute_result"
    }
   ],
   "source": [
    "df = top_leagues(df_comb_team,df_comb_player,df_match,season=\"2015/2016\")\n",
    "df = df.groupby(\"league_id\").median()\n",
    "df.reset_index(level=0, inplace=True)\n",
    "df = pd.merge(df,df_league,on=\"league_id\")\n",
    "df_league.rename( columns={\"id\":\"league_id\" },inplace=True)\n",
    "df.sort_values(\"overall_rating\")"
   ]
  },
  {
   "cell_type": "code",
   "execution_count": 57,
   "metadata": {},
   "outputs": [
    {
     "data": {
      "text/html": [
       "<div>\n",
       "<style scoped>\n",
       "    .dataframe tbody tr th:only-of-type {\n",
       "        vertical-align: middle;\n",
       "    }\n",
       "\n",
       "    .dataframe tbody tr th {\n",
       "        vertical-align: top;\n",
       "    }\n",
       "\n",
       "    .dataframe thead th {\n",
       "        text-align: right;\n",
       "    }\n",
       "</style>\n",
       "<table border=\"1\" class=\"dataframe\">\n",
       "  <thead>\n",
       "    <tr style=\"text-align: right;\">\n",
       "      <th></th>\n",
       "      <th>league_id</th>\n",
       "      <th>team_api_id</th>\n",
       "      <th>overall_rating</th>\n",
       "      <th>country_id</th>\n",
       "      <th>name</th>\n",
       "    </tr>\n",
       "  </thead>\n",
       "  <tbody>\n",
       "    <tr>\n",
       "      <th>2</th>\n",
       "      <td>4769</td>\n",
       "      <td>1446.085601</td>\n",
       "      <td>35.821307</td>\n",
       "      <td>4769</td>\n",
       "      <td>France Ligue 1</td>\n",
       "    </tr>\n",
       "    <tr>\n",
       "      <th>8</th>\n",
       "      <td>19694</td>\n",
       "      <td>755.435237</td>\n",
       "      <td>38.027487</td>\n",
       "      <td>19694</td>\n",
       "      <td>Scotland Premier League</td>\n",
       "    </tr>\n",
       "    <tr>\n",
       "      <th>0</th>\n",
       "      <td>1</td>\n",
       "      <td>62635.175074</td>\n",
       "      <td>40.814942</td>\n",
       "      <td>1</td>\n",
       "      <td>Belgium Jupiler League</td>\n",
       "    </tr>\n",
       "    <tr>\n",
       "      <th>1</th>\n",
       "      <td>1729</td>\n",
       "      <td>792.738903</td>\n",
       "      <td>41.776698</td>\n",
       "      <td>1729</td>\n",
       "      <td>England Premier League</td>\n",
       "    </tr>\n",
       "    <tr>\n",
       "      <th>3</th>\n",
       "      <td>7809</td>\n",
       "      <td>798.105546</td>\n",
       "      <td>44.121692</td>\n",
       "      <td>7809</td>\n",
       "      <td>Germany 1. Bundesliga</td>\n",
       "    </tr>\n",
       "    <tr>\n",
       "      <th>4</th>\n",
       "      <td>10257</td>\n",
       "      <td>41661.480168</td>\n",
       "      <td>47.149958</td>\n",
       "      <td>10257</td>\n",
       "      <td>Italy Serie A</td>\n",
       "    </tr>\n",
       "    <tr>\n",
       "      <th>5</th>\n",
       "      <td>13274</td>\n",
       "      <td>1263.329791</td>\n",
       "      <td>47.566945</td>\n",
       "      <td>13274</td>\n",
       "      <td>Netherlands Eredivisie</td>\n",
       "    </tr>\n",
       "    <tr>\n",
       "      <th>9</th>\n",
       "      <td>21518</td>\n",
       "      <td>837.096738</td>\n",
       "      <td>48.340116</td>\n",
       "      <td>21518</td>\n",
       "      <td>Spain LIGA BBVA</td>\n",
       "    </tr>\n",
       "    <tr>\n",
       "      <th>6</th>\n",
       "      <td>15722</td>\n",
       "      <td>2821.056227</td>\n",
       "      <td>49.125964</td>\n",
       "      <td>15722</td>\n",
       "      <td>Poland Ekstraklasa</td>\n",
       "    </tr>\n",
       "    <tr>\n",
       "      <th>7</th>\n",
       "      <td>17642</td>\n",
       "      <td>35156.583045</td>\n",
       "      <td>50.940052</td>\n",
       "      <td>17642</td>\n",
       "      <td>Portugal Liga ZON Sagres</td>\n",
       "    </tr>\n",
       "    <tr>\n",
       "      <th>10</th>\n",
       "      <td>24558</td>\n",
       "      <td>153.834868</td>\n",
       "      <td>56.617233</td>\n",
       "      <td>24558</td>\n",
       "      <td>Switzerland Super League</td>\n",
       "    </tr>\n",
       "  </tbody>\n",
       "</table>\n",
       "</div>"
      ],
      "text/plain": [
       "    league_id   team_api_id  overall_rating  country_id  \\\n",
       "2        4769   1446.085601       35.821307        4769   \n",
       "8       19694    755.435237       38.027487       19694   \n",
       "0           1  62635.175074       40.814942           1   \n",
       "1        1729    792.738903       41.776698        1729   \n",
       "3        7809    798.105546       44.121692        7809   \n",
       "4       10257  41661.480168       47.149958       10257   \n",
       "5       13274   1263.329791       47.566945       13274   \n",
       "9       21518    837.096738       48.340116       21518   \n",
       "6       15722   2821.056227       49.125964       15722   \n",
       "7       17642  35156.583045       50.940052       17642   \n",
       "10      24558    153.834868       56.617233       24558   \n",
       "\n",
       "                        name  \n",
       "2             France Ligue 1  \n",
       "8    Scotland Premier League  \n",
       "0     Belgium Jupiler League  \n",
       "1     England Premier League  \n",
       "3      Germany 1. Bundesliga  \n",
       "4              Italy Serie A  \n",
       "5     Netherlands Eredivisie  \n",
       "9            Spain LIGA BBVA  \n",
       "6         Poland Ekstraklasa  \n",
       "7   Portugal Liga ZON Sagres  \n",
       "10  Switzerland Super League  "
      ]
     },
     "execution_count": 57,
     "metadata": {},
     "output_type": "execute_result"
    }
   ],
   "source": [
    "df = top_leagues(df_comb_team,df_comb_player,df_match,season=\"2015/2016\")\n",
    "df = df.groupby(\"league_id\").std()\n",
    "df.reset_index(level=0, inplace=True)\n",
    "df = pd.merge(df,df_league,on=\"league_id\")\n",
    "df_league.rename( columns={\"id\":\"league_id\" },inplace=True)\n",
    "df.sort_values(\"overall_rating\")"
   ]
  },
  {
   "cell_type": "code",
   "execution_count": 58,
   "metadata": {},
   "outputs": [],
   "source": [
    "import seaborn as sns"
   ]
  },
  {
   "cell_type": "code",
   "execution_count": null,
   "metadata": {},
   "outputs": [],
   "source": []
  },
  {
   "cell_type": "code",
   "execution_count": 59,
   "metadata": {},
   "outputs": [],
   "source": [
    "def box_plot_leagues(df_comb_team,df_comb_player,df_match,season=\"2014/2015\"):\n",
    "    df = top_leagues(df_comb_team,df_comb_player,df_match,season=\"2014/2015\")\n",
    "    df = pd.merge(df,df_league,on=\"league_id\")\n",
    "    df_league.rename( columns={\"id\":\"league_id\" },inplace=True)\n",
    "    df.sort_values(\"overall_rating\")\n",
    "    plt.figure(figsize=(10,10))\n",
    "    my_palette = sns.color_palette(\"cubehelix\", 11)\n",
    "    ax = sns.boxplot(x=\"overall_rating\", y=\"name\", data=df,palette= my_palette)\n",
    "    #ax = sns.swarmplot(x=\"overall_rating\", y=\"name\", data=df, color ='aqua',size=4)\n",
    "    #sns.boxplot(data=df,x='overall_rating',y='name')\n",
    "    plt.title(season)\n",
    "    plt.show()"
   ]
  },
  {
   "cell_type": "code",
   "execution_count": 60,
   "metadata": {},
   "outputs": [
    {
     "data": {
      "image/png": "[encoded data removed]",
      "text/plain": [
       "<Figure size 720x720 with 1 Axes>"
      ]
     },
     "metadata": {},
     "output_type": "display_data"
    },
    {
     "data": {
      "image/png": "[encoded data removed]",
      "text/plain": [
       "<Figure size 720x720 with 1 Axes>"
      ]
     },
     "metadata": {},
     "output_type": "display_data"
    },
    {
     "data": {
      "image/png": "[encoded data removed]",
      "text/plain": [
       "<Figure size 720x720 with 1 Axes>"
      ]
     },
     "metadata": {},
     "output_type": "display_data"
    },
    {
     "data": {
      "image/png": "[encoded data removed]",
      "text/plain": [
       "<Figure size 720x720 with 1 Axes>"
      ]
     },
     "metadata": {},
     "output_type": "display_data"
    },
    {
     "data": {
      "image/png": "[encoded data removed]",
      "text/plain": [
       "<Figure size 720x720 with 1 Axes>"
      ]
     },
     "metadata": {},
     "output_type": "display_data"
    },
    {
     "data": {
      "image/png": "[encoded data removed]",
      "text/plain": [
       "<Figure size 720x720 with 1 Axes>"
      ]
     },
     "metadata": {},
     "output_type": "display_data"
    },
    {
     "data": {
      "image/png": "[encoded data removed]",
      "text/plain": [
       "<Figure size 720x720 with 1 Axes>"
      ]
     },
     "metadata": {},
     "output_type": "display_data"
    },
    {
     "data": {
      "image/png": "[encoded data removed]",
      "text/plain": [
       "<Figure size 720x720 with 1 Axes>"
      ]
     },
     "metadata": {},
     "output_type": "display_data"
    }
   ],
   "source": [
    "for i in range(2008,2016):\n",
    "    season = str(i)+\"/\"+str(i+1)\n",
    "    box_plot_leagues(df_comb_team,df_comb_player,df_match,season)"
   ]
  },
  {
   "cell_type": "code",
   "execution_count": 61,
   "metadata": {},
   "outputs": [],
   "source": [
    "import random\n",
    "def box_plot_leagues_through_years(df_comb_team,df_comb_player,df_match,country):\n",
    "    df_plot = pd.DataFrame()\n",
    "    for i in range(2008,2016):\n",
    "        season = str(i)+\"/\"+str(i+1)\n",
    "        df = top_leagues(df_comb_team,df_comb_player,df_match,season)\n",
    "        df = pd.merge(df,df_league,on=\"league_id\")\n",
    "        df = df[df.name.str.contains(country)]\n",
    "        df[\"season\"] = str(season)\n",
    "        df_plot = df_plot.append(df, ignore_index=True)\n",
    "    plt.figure(figsize=(10,10))\n",
    "    my_palette = [(random.random(),random.random(),random.random())]\n",
    "    ax = sns.boxplot(x=\"overall_rating\", y=\"season\", data=df_plot,palette= my_palette) \n",
    "    plt.title(country)\n",
    "    plt.show()"
   ]
  },
  {
   "cell_type": "code",
   "execution_count": 62,
   "metadata": {},
   "outputs": [
    {
     "data": {
      "image/png": "[encoded data removed]",
      "text/plain": [
       "<Figure size 720x720 with 1 Axes>"
      ]
     },
     "metadata": {},
     "output_type": "display_data"
    }
   ],
   "source": [
    "box_plot_leagues_through_years(df_comb_team,df_comb_player,df_match,\"England\")"
   ]
  },
  {
   "cell_type": "code",
   "execution_count": 63,
   "metadata": {},
   "outputs": [
    {
     "data": {
      "image/png": "[encoded data removed]",
      "text/plain": [
       "<Figure size 720x720 with 1 Axes>"
      ]
     },
     "metadata": {},
     "output_type": "display_data"
    }
   ],
   "source": [
    "box_plot_leagues_through_years(df_comb_team,df_comb_player,df_match,\"Germany\")"
   ]
  },
  {
   "cell_type": "code",
   "execution_count": 64,
   "metadata": {},
   "outputs": [
    {
     "data": {
      "image/png": "[encoded data removed]",
      "text/plain": [
       "<Figure size 720x720 with 1 Axes>"
      ]
     },
     "metadata": {},
     "output_type": "display_data"
    }
   ],
   "source": [
    "box_plot_leagues_through_years(df_comb_team,df_comb_player,df_match,\"France\")"
   ]
  },
  {
   "cell_type": "code",
   "execution_count": 65,
   "metadata": {},
   "outputs": [
    {
     "data": {
      "image/png": "[encoded data removed]",
      "text/plain": [
       "<Figure size 720x720 with 1 Axes>"
      ]
     },
     "metadata": {},
     "output_type": "display_data"
    }
   ],
   "source": [
    "box_plot_leagues_through_years(df_comb_team,df_comb_player,df_match,\"Italy\")"
   ]
  },
  {
   "cell_type": "code",
   "execution_count": 66,
   "metadata": {},
   "outputs": [
    {
     "data": {
      "image/png": "[encoded data removed]",
      "text/plain": [
       "<Figure size 720x720 with 1 Axes>"
      ]
     },
     "metadata": {},
     "output_type": "display_data"
    }
   ],
   "source": [
    "box_plot_leagues_through_years(df_comb_team,df_comb_player,df_match,\"Poland\")"
   ]
  },
  {
   "cell_type": "code",
   "execution_count": 67,
   "metadata": {},
   "outputs": [
    {
     "data": {
      "image/png": "[encoded data removed]",
      "text/plain": [
       "<Figure size 720x720 with 1 Axes>"
      ]
     },
     "metadata": {},
     "output_type": "display_data"
    }
   ],
   "source": [
    "box_plot_leagues_through_years(df_comb_team,df_comb_player,df_match,\"Spain\")"
   ]
  },
  {
   "cell_type": "code",
   "execution_count": 68,
   "metadata": {},
   "outputs": [
    {
     "data": {
      "image/png": "[encoded data removed]",
      "text/plain": [
       "<Figure size 720x720 with 1 Axes>"
      ]
     },
     "metadata": {},
     "output_type": "display_data"
    }
   ],
   "source": [
    "box_plot_leagues_through_years(df_comb_team,df_comb_player,df_match,\"Belgium\")"
   ]
  },
  {
   "cell_type": "code",
   "execution_count": 69,
   "metadata": {},
   "outputs": [
    {
     "data": {
      "image/png": "[encoded data removed]",
      "text/plain": [
       "<Figure size 720x720 with 1 Axes>"
      ]
     },
     "metadata": {},
     "output_type": "display_data"
    }
   ],
   "source": [
    "box_plot_leagues_through_years(df_comb_team,df_comb_player,df_match,\"Scotland\")"
   ]
  },
  {
   "cell_type": "code",
   "execution_count": 70,
   "metadata": {},
   "outputs": [
    {
     "data": {
      "image/png": "[encoded data removed]",
      "text/plain": [
       "<Figure size 720x720 with 1 Axes>"
      ]
     },
     "metadata": {},
     "output_type": "display_data"
    }
   ],
   "source": [
    "box_plot_leagues_through_years(df_comb_team,df_comb_player,df_match,\"Portugal\")"
   ]
  },
  {
   "cell_type": "code",
   "execution_count": 71,
   "metadata": {},
   "outputs": [
    {
     "data": {
      "image/png": "[encoded data removed]",
      "text/plain": [
       "<Figure size 720x720 with 1 Axes>"
      ]
     },
     "metadata": {},
     "output_type": "display_data"
    }
   ],
   "source": [
    "box_plot_leagues_through_years(df_comb_team,df_comb_player,df_match,\"Netherlands\")"
   ]
  },
  {
   "cell_type": "code",
   "execution_count": null,
   "metadata": {},
   "outputs": [],
   "source": []
  },
  {
   "cell_type": "code",
   "execution_count": null,
   "metadata": {},
   "outputs": [],
   "source": []
  }
 ],
 "metadata": {
  "kernelspec": {
   "display_name": "Python 3",
   "language": "python",
   "name": "python3"
  },
  "language_info": {
   "codemirror_mode": {
    "name": "ipython",
    "version": 3
   },
   "file_extension": ".py",
   "mimetype": "text/x-python",
   "name": "python",
   "nbconvert_exporter": "python",
   "pygments_lexer": "ipython3",
   "version": "3.6.7"
  }
 },
 "nbformat": 4,
 "nbformat_minor": 1
}
