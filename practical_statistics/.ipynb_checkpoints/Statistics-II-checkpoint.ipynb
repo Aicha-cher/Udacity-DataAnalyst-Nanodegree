{
 "cells": [
  {
   "cell_type": "code",
   "execution_count": 1,
   "metadata": {},
   "outputs": [],
   "source": [
    "import pandas as pd\n",
    "import numpy as np\n",
    "import matplotlib.pyplot as plt\n",
    "\n",
    "%matplotlib inline\n",
    "np.random.seed(42)\n",
    "\n",
    "full_data = pd.read_csv('coffee_dataset.csv')\n",
    "sample_data = full_data.sample(200)"
   ]
  },
  {
   "cell_type": "code",
   "execution_count": 2,
   "metadata": {},
   "outputs": [],
   "source": [
    "confidence_interval_coffee_diff=[]\n",
    "confidence_interval_coffee_true=[]\n",
    "confidence_interval_coffee_false=[]\n",
    "for i in range(10000):\n",
    "    sampled_data = sample_data.sample(200)\n",
    "    sampled_true = sampled_data[sampled_data[\"drinks_coffee\"]].height.mean()\n",
    "    sampled_false = sampled_data[~sampled_data[\"drinks_coffee\"]].height.mean()\n",
    "    confidence_interval_coffee.append(sampled_true)\n",
    "    confidence_interval_coffee.append(sampled_false)\n",
    "    confidence_interval_coffee.append(sampled_true-sampled_false)"
   ]
  },
  {
   "cell_type": "code",
   "execution_count": null,
   "metadata": {},
   "outputs": [],
   "source": []
  },
  {
   "cell_type": "code",
   "execution_count": null,
   "metadata": {},
   "outputs": [],
   "source": []
  }
 ],
 "metadata": {
  "kernelspec": {
   "display_name": "Python 3",
   "language": "python",
   "name": "python3"
  },
  "language_info": {
   "codemirror_mode": {
    "name": "ipython",
    "version": 3
   },
   "file_extension": ".py",
   "mimetype": "text/x-python",
   "name": "python",
   "nbconvert_exporter": "python",
   "pygments_lexer": "ipython3",
   "version": "3.6.5"
  }
 },
 "nbformat": 4,
 "nbformat_minor": 2
}
