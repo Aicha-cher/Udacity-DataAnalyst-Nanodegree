{
 "cells": [
  {
   "cell_type": "markdown",
   "metadata": {},
   "source": [
    "### Sampling Distributions "
   ]
  },
  {
   "cell_type": "code",
   "execution_count": 29,
   "metadata": {},
   "outputs": [],
   "source": [
    "import numpy as np\n",
    "import math\n",
    "np.random.seed(42)\n",
    "coin_toss = np.array([1,0,1,1,1,1,0,0,0,0,1,1,1,1,1,1,1,1,1,1,0]) #coin toss simulation\n",
    "%matplotlib inline"
   ]
  },
  {
   "cell_type": "code",
   "execution_count": 3,
   "metadata": {},
   "outputs": [
    {
     "data": {
      "text/plain": [
       "0.7142857142857143"
      ]
     },
     "execution_count": 3,
     "metadata": {},
     "output_type": "execute_result"
    }
   ],
   "source": [
    "a = np.random.choice(len(coin_toss),8)\n",
    "coin_toss.mean() "
   ]
  },
  {
   "cell_type": "code",
   "execution_count": 4,
   "metadata": {},
   "outputs": [
    {
     "data": {
      "text/plain": [
       "0.5"
      ]
     },
     "execution_count": 4,
     "metadata": {},
     "output_type": "execute_result"
    }
   ],
   "source": [
    "coin_toss[a].mean()"
   ]
  },
  {
   "cell_type": "code",
   "execution_count": 5,
   "metadata": {},
   "outputs": [],
   "source": [
    "sample_props =[]\n",
    "for i in range(10000):\n",
    "    a = np.random.choice(len(coin_toss),8)\n",
    "    sample_props.append(a)\n",
    "sample_props = np.array(sample_props)"
   ]
  },
  {
   "cell_type": "code",
   "execution_count": 6,
   "metadata": {},
   "outputs": [
    {
     "name": "stdout",
     "output_type": "stream",
     "text": [
      "0.7141625\n"
     ]
    }
   ],
   "source": [
    "means =[]\n",
    "for i in range(10000):\n",
    "    means.append(coin_toss[sample_props[i]].mean())\n",
    "means = np.array(means)\n",
    "total_mean= means.mean()\n",
    "print(total_mean)"
   ]
  },
  {
   "cell_type": "code",
   "execution_count": 7,
   "metadata": {},
   "outputs": [
    {
     "name": "stdout",
     "output_type": "stream",
     "text": [
      "0.45175395145262565\n",
      "0.20408163265306126\n"
     ]
    }
   ],
   "source": [
    "print(coin_toss.std())\n",
    "print(coin_toss.var())"
   ]
  },
  {
   "cell_type": "code",
   "execution_count": 8,
   "metadata": {},
   "outputs": [
    {
     "name": "stdout",
     "output_type": "stream",
     "text": [
      "0.1608329446778551\n",
      "0.02586723609375\n"
     ]
    }
   ],
   "source": [
    "print(means.std())\n",
    "print(means.var())"
   ]
  },
  {
   "cell_type": "code",
   "execution_count": 9,
   "metadata": {},
   "outputs": [
    {
     "name": "stdout",
     "output_type": "stream",
     "text": [
      "0.20408163265306123\n",
      "0.025510204081632654\n"
     ]
    }
   ],
   "source": [
    "print(0.7142857142857143*(1-0.7142857142857143)) #p(1-p)\n",
    "print(0.7142857142857143*(1-0.7142857142857143)/8) #p(1-p)/n"
   ]
  },
  {
   "cell_type": "code",
   "execution_count": 10,
   "metadata": {},
   "outputs": [],
   "source": [
    "##Simulate your 20 draws\n",
    "mean_20 =[]\n",
    "for i in range(10000):\n",
    "    a = np.random.choice(len(coin_toss),20)\n",
    "    mean_20.append(a.mean())\n",
    "mean_20 = np.array(mean_20)"
   ]
  },
  {
   "cell_type": "code",
   "execution_count": 13,
   "metadata": {},
   "outputs": [
    {
     "data": {
      "text/plain": [
       "(array([   9.,   83.,  391.,    0., 1232., 2413.,    0., 3014., 2156.,\n",
       "         702.]),\n",
       " array([0.125 , 0.2125, 0.3   , 0.3875, 0.475 , 0.5625, 0.65  , 0.7375,\n",
       "        0.825 , 0.9125, 1.    ]),\n",
       " <a list of 10 Patch objects>)"
      ]
     },
     "execution_count": 13,
     "metadata": {},
     "output_type": "execute_result"
    },
    {
     "data": {
      "image/png": "[encoded data removed]",
      "text/plain": [
       "<Figure size 432x288 with 1 Axes>"
      ]
     },
     "metadata": {},
     "output_type": "display_data"
    }
   ],
   "source": [
    "import matplotlib.pyplot as plt\n",
    "plt.hist(means)"
   ]
  },
  {
   "cell_type": "code",
   "execution_count": 17,
   "metadata": {},
   "outputs": [
    {
     "data": {
      "text/plain": [
       "(array([  30.,  189.,  751., 1911., 2798., 2507., 1313.,  419.,   77.,\n",
       "           5.]),\n",
       " array([ 5.25 ,  6.245,  7.24 ,  8.235,  9.23 , 10.225, 11.22 , 12.215,\n",
       "        13.21 , 14.205, 15.2  ]),\n",
       " <a list of 10 Patch objects>)"
      ]
     },
     "execution_count": 17,
     "metadata": {},
     "output_type": "execute_result"
    },
    {
     "data": {
      "image/png": "[encoded data removed]",
      "text/plain": [
       "<Figure size 432x288 with 1 Axes>"
      ]
     },
     "metadata": {},
     "output_type": "display_data"
    }
   ],
   "source": [
    "plt.hist(mean_20)"
   ]
  },
  {
   "cell_type": "markdown",
   "metadata": {},
   "source": [
    "### Central Limit Theorem "
   ]
  },
  {
   "cell_type": "code",
   "execution_count": 18,
   "metadata": {},
   "outputs": [
    {
     "data": {
      "image/png": "[encoded data removed]",
      "text/plain": [
       "<Figure size 432x288 with 1 Axes>"
      ]
     },
     "metadata": {},
     "output_type": "display_data"
    }
   ],
   "source": [
    "pop_data = np.random.gamma(1,100,3000)\n",
    "plt.hist(pop_data);"
   ]
  },
  {
   "cell_type": "code",
   "execution_count": 19,
   "metadata": {},
   "outputs": [],
   "source": [
    "means_size_3=[]\n",
    "for i in range(10000):\n",
    "    a = np.random.choice(len(pop_data),3)\n",
    "    means_size_3.append(pop_data[a].mean())"
   ]
  },
  {
   "cell_type": "code",
   "execution_count": 20,
   "metadata": {},
   "outputs": [
    {
     "data": {
      "image/png": "[encoded data removed]",
      "text/plain": [
       "<Figure size 432x288 with 1 Axes>"
      ]
     },
     "metadata": {},
     "output_type": "display_data"
    }
   ],
   "source": [
    "means_size_3 = np.array(means_size_3)\n",
    "plt.hist(means_size_3);"
   ]
  },
  {
   "cell_type": "code",
   "execution_count": 21,
   "metadata": {},
   "outputs": [
    {
     "name": "stdout",
     "output_type": "stream",
     "text": [
      "100.86128281310164\n",
      "57.72519536610306\n"
     ]
    }
   ],
   "source": [
    "print(means_size_3.mean())\n",
    "print(means_size_3.std())"
   ]
  },
  {
   "cell_type": "code",
   "execution_count": 22,
   "metadata": {},
   "outputs": [],
   "source": [
    "means_size_100=[]\n",
    "for i in range(10000):\n",
    "    a = np.random.choice(len(pop_data),100)\n",
    "    means_size_100.append(pop_data[a].mean())"
   ]
  },
  {
   "cell_type": "code",
   "execution_count": 23,
   "metadata": {},
   "outputs": [
    {
     "data": {
      "image/png": "[encoded data removed]",
      "text/plain": [
       "<Figure size 432x288 with 1 Axes>"
      ]
     },
     "metadata": {},
     "output_type": "display_data"
    }
   ],
   "source": [
    "means_size_100 = np.array(means_size_100)\n",
    "plt.hist(means_size_100);"
   ]
  },
  {
   "cell_type": "code",
   "execution_count": 24,
   "metadata": {},
   "outputs": [
    {
     "name": "stdout",
     "output_type": "stream",
     "text": [
      "100.32344298232451\n",
      "100.42914539368782\n"
     ]
    }
   ],
   "source": [
    "print(means_size_100.std()**2)\n",
    "print(means_size_100.mean())"
   ]
  },
  {
   "cell_type": "markdown",
   "metadata": {},
   "source": [
    "### Bootstrap Sampling"
   ]
  },
  {
   "cell_type": "code",
   "execution_count": 25,
   "metadata": {},
   "outputs": [],
   "source": [
    "import numpy as np\n",
    "np.random.seed(42)\n",
    "\n",
    "die_vals = np.array([1,2,3,4,5,6])"
   ]
  },
  {
   "cell_type": "code",
   "execution_count": 26,
   "metadata": {},
   "outputs": [
    {
     "data": {
      "text/plain": [
       "array([4, 5, 3, 5, 5, 2, 3, 3, 3, 5, 4, 3, 6, 5, 2, 4, 6, 6, 2, 4])"
      ]
     },
     "execution_count": 26,
     "metadata": {},
     "output_type": "execute_result"
    }
   ],
   "source": [
    "np.random.choice(die_vals, size=20)"
   ]
  },
  {
   "cell_type": "code",
   "execution_count": 27,
   "metadata": {},
   "outputs": [
    {
     "data": {
      "text/plain": [
       "array([6, 3, 2, 4, 1, 5])"
      ]
     },
     "execution_count": 27,
     "metadata": {},
     "output_type": "execute_result"
    }
   ],
   "source": [
    "np.random.choice(die_vals, replace=False, size=6)"
   ]
  },
  {
   "cell_type": "markdown",
   "metadata": {},
   "source": [
    "## Confidence Intervals "
   ]
  },
  {
   "cell_type": "code",
   "execution_count": 32,
   "metadata": {},
   "outputs": [],
   "source": [
    "import pandas as pd\n",
    "np.random.seed(42)\n",
    "\n",
    "coffee_full = pd.read_csv('coffee_dataset.csv')\n",
    "coffee_red = coffee_full.sample(200) #this is the only data you might actually get in the real world."
   ]
  },
  {
   "cell_type": "code",
   "execution_count": 34,
   "metadata": {},
   "outputs": [
    {
     "name": "stdout",
     "output_type": "stream",
     "text": [
      "0.589778076664425\n",
      "0.410221923335575\n"
     ]
    }
   ],
   "source": [
    "coffee_true = coffee_full.loc[coffee_full['drinks_coffee']]\n",
    "coffee_false = coffee_full.loc[~coffee_full['drinks_coffee']]\n",
    "print(len(coffee_true)/len(coffee_full))\n",
    "print(len(coffee_false)/len(coffee_full))"
   ]
  },
  {
   "cell_type": "code",
   "execution_count": 35,
   "metadata": {},
   "outputs": [
    {
     "name": "stdout",
     "output_type": "stream",
     "text": [
      "68.40021025548401\n",
      "66.44340776214705\n"
     ]
    }
   ],
   "source": [
    "print(coffee_true.height.mean())\n",
    "print(coffee_false.height.mean())"
   ]
  },
  {
   "cell_type": "code",
   "execution_count": 36,
   "metadata": {},
   "outputs": [],
   "source": [
    "height_list =[]\n",
    "for i in range(10000):\n",
    "    coffee_new = coffee_red.sample(200,replace=True)\n",
    "    coffee_false = coffee_new.loc[~coffee_new['drinks_coffee']]\n",
    "    height_list.append(coffee_false.height.mean())"
   ]
  },
  {
   "cell_type": "code",
   "execution_count": 38,
   "metadata": {},
   "outputs": [
    {
     "data": {
      "text/plain": [
       "(65.9929132815752, 67.58402738281573)"
      ]
     },
     "execution_count": 38,
     "metadata": {},
     "output_type": "execute_result"
    }
   ],
   "source": [
    "height_list = np.array(height_list)\n",
    "np.percentile(height_list,2.5),np.percentile(height_list,97.5),"
   ]
  },
  {
   "cell_type": "markdown",
   "metadata": {},
   "source": [
    "### The actual confidence interval"
   ]
  },
  {
   "cell_type": "code",
   "execution_count": 37,
   "metadata": {},
   "outputs": [
    {
     "data": {
      "image/png": "[encoded data removed]",
      "text/plain": [
       "<Figure size 432x288 with 1 Axes>"
      ]
     },
     "metadata": {},
     "output_type": "display_data"
    }
   ],
   "source": [
    "import matplotlib.pyplot as plt\n",
    "plt.hist(height_list);"
   ]
  },
  {
   "cell_type": "markdown",
   "metadata": {},
   "source": [
    "### Confidence Interval - Difference In Means"
   ]
  },
  {
   "cell_type": "code",
   "execution_count": 13,
   "metadata": {},
   "outputs": [],
   "source": [
    "import pandas as pd\n",
    "import numpy as np\n",
    "import matplotlib.pyplot as plt\n",
    "\n",
    "%matplotlib inline\n",
    "np.random.seed(42)\n",
    "\n",
    "full_data = pd.read_csv('coffee_dataset.csv')\n",
    "small_sample = full_data.sample(200)"
   ]
  },
  {
   "cell_type": "code",
   "execution_count": 14,
   "metadata": {},
   "outputs": [],
   "source": [
    "confidence_interval_coffee=[]\n",
    "for i in range(10000):\n",
    "    sampled_data = small_sample.sample(200, replace = True)\n",
    "    sampled_true = sampled_data[sampled_data[\"drinks_coffee\"]].height.mean()\n",
    "    sampled_false = sampled_data[~sampled_data[\"drinks_coffee\"]].height.mean()\n",
    "    confidence_interval_coffee.append(sampled_true-sampled_false)"
   ]
  },
  {
   "cell_type": "code",
   "execution_count": 15,
   "metadata": {},
   "outputs": [],
   "source": [
    "confidence_interval_age=[]\n",
    "for i in range(10000):\n",
    "    sampled_data = small_sample.sample(200, replace = True)\n",
    "    sampled_true = sampled_data.loc[sample_data['age'] == '>=21'].height.mean()\n",
    "    sampled_false = sampled_data.loc[sample_data['age'] == '<21'].height.mean()\n",
    "    confidence_interval_age.append(sampled_true-sampled_false)"
   ]
  },
  {
   "cell_type": "code",
   "execution_count": 16,
   "metadata": {},
   "outputs": [
    {
     "data": {
      "text/plain": [
       "(3.3652749452554795, 5.0932450670661495)"
      ]
     },
     "execution_count": 16,
     "metadata": {},
     "output_type": "execute_result"
    }
   ],
   "source": [
    "confidence_interval_age = np.array(confidence_interval_age)\n",
    "np.percentile(confidence_interval_age,0.5),np.percentile(confidence_interval_age,99.5),"
   ]
  },
  {
   "cell_type": "code",
   "execution_count": 18,
   "metadata": {},
   "outputs": [],
   "source": [
    "confidence_interval_coffee_old =[]\n",
    "for i in range(10000):\n",
    "    sampled_data = small_sample.sample(200, replace = True)\n",
    "    sampled_data = sampled_data.loc[sample_data['age'] == '>=21']\n",
    "    sampled_true = sampled_data[sampled_data[\"drinks_coffee\"]].height.mean()\n",
    "    sampled_false = sampled_data[~sampled_data[\"drinks_coffee\"]].height.mean()\n",
    "    confidence_interval_coffee_old.append(sampled_true-sampled_false)\n",
    "\n",
    "confidence_interval_coffee_young =[]\n",
    "for i in range(10000):\n",
    "    sampled_data = small_sample.sample(200)\n",
    "    sampled_data = sampled_data.loc[sample_data['age'] == '<21']\n",
    "    sampled_true = sampled_data[sampled_data[\"drinks_coffee\"]].height.mean()\n",
    "    sampled_false = sampled_data[~sampled_data[\"drinks_coffee\"]].height.mean()\n",
    "    confidence_interval_coffee_young.append(sampled_true-sampled_false)"
   ]
  },
  {
   "cell_type": "code",
   "execution_count": 19,
   "metadata": {},
   "outputs": [
    {
     "data": {
      "text/plain": [
       "(-1.8493493676082764, -1.8493493676082053)"
      ]
     },
     "execution_count": 19,
     "metadata": {},
     "output_type": "execute_result"
    }
   ],
   "source": [
    "confidence_interval_coffee_young = np.array(confidence_interval_coffee_young)\n",
    "np.percentile(confidence_interval_coffee_young,2.5),np.percentile(confidence_interval_coffee_young,97.5),"
   ]
  },
  {
   "cell_type": "code",
   "execution_count": 20,
   "metadata": {},
   "outputs": [],
   "source": [
    "confidence_interval_coffee_old =[]\n",
    "for i in range(10000):\n",
    "    sampled_data = small_sample.sample(200, replace = True)\n",
    "    sampled_data = sampled_data.loc[sample_data['age'] == '>=21']\n",
    "    sampled_true = sampled_data[sampled_data[\"drinks_coffee\"]].height.mean()\n",
    "    sampled_false = sampled_data[~sampled_data[\"drinks_coffee\"]].height.mean()\n",
    "    confidence_interval_coffee_old.append(sampled_true-sampled_false)"
   ]
  },
  {
   "cell_type": "code",
   "execution_count": 21,
   "metadata": {},
   "outputs": [
    {
     "data": {
      "text/plain": [
       "(-4.4056118751261355, -1.8334672523181537)"
      ]
     },
     "execution_count": 21,
     "metadata": {},
     "output_type": "execute_result"
    }
   ],
   "source": [
    "confidence_interval_coffee_old = np.array(confidence_interval_coffee_old)\n",
    "np.percentile(confidence_interval_coffee_old,2.5),np.percentile(confidence_interval_coffee_old,97.5),"
   ]
  },
  {
   "cell_type": "code",
   "execution_count": null,
   "metadata": {},
   "outputs": [],
   "source": []
  }
 ],
 "metadata": {
  "kernelspec": {
   "display_name": "Python 3",
   "language": "python",
   "name": "python3"
  },
  "language_info": {
   "codemirror_mode": {
    "name": "ipython",
    "version": 3
   },
   "file_extension": ".py",
   "mimetype": "text/x-python",
   "name": "python",
   "nbconvert_exporter": "python",
   "pygments_lexer": "ipython3",
   "version": "3.6.5"
  }
 },
 "nbformat": 4,
 "nbformat_minor": 2
}
