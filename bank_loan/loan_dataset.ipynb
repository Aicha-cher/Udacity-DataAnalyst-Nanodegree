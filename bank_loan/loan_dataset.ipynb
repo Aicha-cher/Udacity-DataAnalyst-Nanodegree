{
 "cells": [
  {
   "cell_type": "markdown",
   "metadata": {},
   "source": [
    "# Loan Data Exploration\n",
    "This document explores a dataset containing 113,937 loans with 81 variables on each loan, including loan amount, borrower rate (or interest rate), current loan status, borrower income, and many others. Dataset comes from \"Prosper\" peer-to-peer lending platform.\n",
    "\n",
    "\n",
    "### Question to ask.\n",
    "What are the characteristics of a defaulter?"
   ]
  },
  {
   "cell_type": "code",
   "execution_count": 13,
   "metadata": {},
   "outputs": [],
   "source": [
    "# Importing the libraries\n",
    "import numpy as np\n",
    "import matplotlib.pyplot as plt\n",
    "import pandas as pd\n",
    "import seaborn as sns\n",
    "import datetime as dt"
   ]
  },
  {
   "cell_type": "code",
   "execution_count": null,
   "metadata": {},
   "outputs": [],
   "source": [
    "df_total = pd.read_csv(\"prosperLoanData.csv\")"
   ]
  },
  {
   "cell_type": "code",
   "execution_count": null,
   "metadata": {},
   "outputs": [],
   "source": [
    "pd.set_option(\"display.max_columns\", len(df_total.columns))\n",
    "df_total.head()"
   ]
  },
  {
   "cell_type": "markdown",
   "metadata": {},
   "source": [
    "## Overview of Data "
   ]
  },
  {
   "cell_type": "code",
   "execution_count": null,
   "metadata": {},
   "outputs": [],
   "source": [
    "df_total.shape"
   ]
  },
  {
   "cell_type": "code",
   "execution_count": null,
   "metadata": {},
   "outputs": [],
   "source": [
    "df_total.info()"
   ]
  },
  {
   "cell_type": "markdown",
   "metadata": {},
   "source": [
    "#### We can see this Dataset is having 81 Columns. It is not possible to evaulate all the columns simultaneously. So we wiill firs take only the variables which might be helpful to our analysis. Also most of the variables are Numeric in Nature."
   ]
  },
  {
   "cell_type": "code",
   "execution_count": 10,
   "metadata": {},
   "outputs": [],
   "source": [
    "#Columns to be discarded \n",
    "discarded_vars = [\"MemberKey\",\"LP_CustomerPayments\",\"LP_CustomerPrincipalPayments\",\"LP_InterestandFees\",\n",
    "                  \"LP_ServiceFees\",\"LP_CollectionFees\",\"LP_GrossPrincipalLoss\",\"LP_NetPrincipalLoss\",\n",
    "                  \"LP_NonPrincipalRecoverypayments\",\"LoanOriginationQuarter\",\"LoanOriginationDate\",\n",
    "                  \"LoanNumber\",\"LoanMonthsSinceOrigination\",\"LoanFirstDefaultedCycleNumber\",\n",
    "                  \"LoanCurrentDaysDelinquent\",\"ScorexChangeAtTimeOfListing\",\n",
    "                 \"LoanKey\",\"ListingKey\",\"ListingNumber\",\"ListingCreationDate\",\n",
    "                 \"CreditGrade\",\"AmountDelinquent\",\"BorrowerState\",\"ClosedDate\",\"CurrentDelinquencies\",\n",
    "                  \"GroupKey\",\"TotalTrades\",\"TradesNeverDelinquent (percentage)\",\"DateCreditPulled\",\n",
    "                 \"DelinquenciesLast7Years\",\"EstimatedEffectiveYield\",\"EstimatedLoss\",\"EstimatedReturn\",\n",
    "                 \"FirstRecordedCreditLine\",\"OnTimeProsperPayments\",\"OpenCreditLines\",\"TradesOpenedLast6Months\",\n",
    "                 \"TotalInquiries\"]"
   ]
  },
  {
   "cell_type": "code",
   "execution_count": 11,
   "metadata": {},
   "outputs": [
    {
     "ename": "KeyError",
     "evalue": "\"labels ['MemberKey' 'LP_CustomerPayments' 'LP_CustomerPrincipalPayments'\\n 'LP_InterestandFees' 'LP_ServiceFees' 'LP_CollectionFees'\\n 'LP_GrossPrincipalLoss' 'LP_NetPrincipalLoss'\\n 'LP_NonPrincipalRecoverypayments' 'LoanOriginationQuarter'\\n 'LoanOriginationDate' 'LoanNumber' 'LoanMonthsSinceOrigination'\\n 'LoanFirstDefaultedCycleNumber' 'LoanCurrentDaysDelinquent'\\n 'ScorexChangeAtTimeOfListing' 'LoanKey' 'ListingKey' 'ListingNumber'\\n 'ListingCreationDate' 'CreditGrade' 'AmountDelinquent' 'BorrowerState'\\n 'ClosedDate' 'CurrentDelinquencies' 'GroupKey' 'TotalTrades'\\n 'TradesNeverDelinquent (percentage)' 'DateCreditPulled'\\n 'DelinquenciesLast7Years' 'EstimatedEffectiveYield' 'EstimatedLoss'\\n 'EstimatedReturn' 'FirstRecordedCreditLine' 'OnTimeProsperPayments'\\n 'OpenCreditLines' 'TradesOpenedLast6Months' 'TotalInquiries'] not contained in axis\"",
     "output_type": "error",
     "traceback": [
      "\u001b[0;31m---------------------------------------------------------------------------\u001b[0m",
      "\u001b[0;31mKeyError\u001b[0m                                  Traceback (most recent call last)",
      "\u001b[0;32m<ipython-input-11-27f4b67eeeb5>\u001b[0m in \u001b[0;36m<module>\u001b[0;34m()\u001b[0m\n\u001b[0;32m----> 1\u001b[0;31m \u001b[0mdf_total\u001b[0m\u001b[0;34m.\u001b[0m\u001b[0mdrop\u001b[0m\u001b[0;34m(\u001b[0m\u001b[0mdiscarded_vars\u001b[0m\u001b[0;34m,\u001b[0m\u001b[0maxis\u001b[0m \u001b[0;34m=\u001b[0m\u001b[0;36m1\u001b[0m\u001b[0;34m,\u001b[0m\u001b[0minplace\u001b[0m\u001b[0;34m=\u001b[0m\u001b[0;32mTrue\u001b[0m\u001b[0;34m)\u001b[0m\u001b[0;34m\u001b[0m\u001b[0;34m\u001b[0m\u001b[0m\n\u001b[0m",
      "\u001b[0;32m~/anaconda3/lib/python3.6/site-packages/pandas/core/frame.py\u001b[0m in \u001b[0;36mdrop\u001b[0;34m(self, labels, axis, index, columns, level, inplace, errors)\u001b[0m\n\u001b[1;32m   3692\u001b[0m                                            \u001b[0mindex\u001b[0m\u001b[0;34m=\u001b[0m\u001b[0mindex\u001b[0m\u001b[0;34m,\u001b[0m \u001b[0mcolumns\u001b[0m\u001b[0;34m=\u001b[0m\u001b[0mcolumns\u001b[0m\u001b[0;34m,\u001b[0m\u001b[0;34m\u001b[0m\u001b[0;34m\u001b[0m\u001b[0m\n\u001b[1;32m   3693\u001b[0m                                            \u001b[0mlevel\u001b[0m\u001b[0;34m=\u001b[0m\u001b[0mlevel\u001b[0m\u001b[0;34m,\u001b[0m \u001b[0minplace\u001b[0m\u001b[0;34m=\u001b[0m\u001b[0minplace\u001b[0m\u001b[0;34m,\u001b[0m\u001b[0;34m\u001b[0m\u001b[0;34m\u001b[0m\u001b[0m\n\u001b[0;32m-> 3694\u001b[0;31m                                            errors=errors)\n\u001b[0m\u001b[1;32m   3695\u001b[0m \u001b[0;34m\u001b[0m\u001b[0m\n\u001b[1;32m   3696\u001b[0m     @rewrite_axis_style_signature('mapper', [('copy', True),\n",
      "\u001b[0;32m~/anaconda3/lib/python3.6/site-packages/pandas/core/generic.py\u001b[0m in \u001b[0;36mdrop\u001b[0;34m(self, labels, axis, index, columns, level, inplace, errors)\u001b[0m\n\u001b[1;32m   3106\u001b[0m         \u001b[0;32mfor\u001b[0m \u001b[0maxis\u001b[0m\u001b[0;34m,\u001b[0m \u001b[0mlabels\u001b[0m \u001b[0;32min\u001b[0m \u001b[0maxes\u001b[0m\u001b[0;34m.\u001b[0m\u001b[0mitems\u001b[0m\u001b[0;34m(\u001b[0m\u001b[0;34m)\u001b[0m\u001b[0;34m:\u001b[0m\u001b[0;34m\u001b[0m\u001b[0;34m\u001b[0m\u001b[0m\n\u001b[1;32m   3107\u001b[0m             \u001b[0;32mif\u001b[0m \u001b[0mlabels\u001b[0m \u001b[0;32mis\u001b[0m \u001b[0;32mnot\u001b[0m \u001b[0;32mNone\u001b[0m\u001b[0;34m:\u001b[0m\u001b[0;34m\u001b[0m\u001b[0;34m\u001b[0m\u001b[0m\n\u001b[0;32m-> 3108\u001b[0;31m                 \u001b[0mobj\u001b[0m \u001b[0;34m=\u001b[0m \u001b[0mobj\u001b[0m\u001b[0;34m.\u001b[0m\u001b[0m_drop_axis\u001b[0m\u001b[0;34m(\u001b[0m\u001b[0mlabels\u001b[0m\u001b[0;34m,\u001b[0m \u001b[0maxis\u001b[0m\u001b[0;34m,\u001b[0m \u001b[0mlevel\u001b[0m\u001b[0;34m=\u001b[0m\u001b[0mlevel\u001b[0m\u001b[0;34m,\u001b[0m \u001b[0merrors\u001b[0m\u001b[0;34m=\u001b[0m\u001b[0merrors\u001b[0m\u001b[0;34m)\u001b[0m\u001b[0;34m\u001b[0m\u001b[0;34m\u001b[0m\u001b[0m\n\u001b[0m\u001b[1;32m   3109\u001b[0m \u001b[0;34m\u001b[0m\u001b[0m\n\u001b[1;32m   3110\u001b[0m         \u001b[0;32mif\u001b[0m \u001b[0minplace\u001b[0m\u001b[0;34m:\u001b[0m\u001b[0;34m\u001b[0m\u001b[0;34m\u001b[0m\u001b[0m\n",
      "\u001b[0;32m~/anaconda3/lib/python3.6/site-packages/pandas/core/generic.py\u001b[0m in \u001b[0;36m_drop_axis\u001b[0;34m(self, labels, axis, level, errors)\u001b[0m\n\u001b[1;32m   3138\u001b[0m                 \u001b[0mnew_axis\u001b[0m \u001b[0;34m=\u001b[0m \u001b[0maxis\u001b[0m\u001b[0;34m.\u001b[0m\u001b[0mdrop\u001b[0m\u001b[0;34m(\u001b[0m\u001b[0mlabels\u001b[0m\u001b[0;34m,\u001b[0m \u001b[0mlevel\u001b[0m\u001b[0;34m=\u001b[0m\u001b[0mlevel\u001b[0m\u001b[0;34m,\u001b[0m \u001b[0merrors\u001b[0m\u001b[0;34m=\u001b[0m\u001b[0merrors\u001b[0m\u001b[0;34m)\u001b[0m\u001b[0;34m\u001b[0m\u001b[0;34m\u001b[0m\u001b[0m\n\u001b[1;32m   3139\u001b[0m             \u001b[0;32melse\u001b[0m\u001b[0;34m:\u001b[0m\u001b[0;34m\u001b[0m\u001b[0;34m\u001b[0m\u001b[0m\n\u001b[0;32m-> 3140\u001b[0;31m                 \u001b[0mnew_axis\u001b[0m \u001b[0;34m=\u001b[0m \u001b[0maxis\u001b[0m\u001b[0;34m.\u001b[0m\u001b[0mdrop\u001b[0m\u001b[0;34m(\u001b[0m\u001b[0mlabels\u001b[0m\u001b[0;34m,\u001b[0m \u001b[0merrors\u001b[0m\u001b[0;34m=\u001b[0m\u001b[0merrors\u001b[0m\u001b[0;34m)\u001b[0m\u001b[0;34m\u001b[0m\u001b[0;34m\u001b[0m\u001b[0m\n\u001b[0m\u001b[1;32m   3141\u001b[0m             \u001b[0mdropped\u001b[0m \u001b[0;34m=\u001b[0m \u001b[0mself\u001b[0m\u001b[0;34m.\u001b[0m\u001b[0mreindex\u001b[0m\u001b[0;34m(\u001b[0m\u001b[0;34m**\u001b[0m\u001b[0;34m{\u001b[0m\u001b[0maxis_name\u001b[0m\u001b[0;34m:\u001b[0m \u001b[0mnew_axis\u001b[0m\u001b[0;34m}\u001b[0m\u001b[0;34m)\u001b[0m\u001b[0;34m\u001b[0m\u001b[0;34m\u001b[0m\u001b[0m\n\u001b[1;32m   3142\u001b[0m             \u001b[0;32mtry\u001b[0m\u001b[0;34m:\u001b[0m\u001b[0;34m\u001b[0m\u001b[0;34m\u001b[0m\u001b[0m\n",
      "\u001b[0;32m~/anaconda3/lib/python3.6/site-packages/pandas/core/indexes/base.py\u001b[0m in \u001b[0;36mdrop\u001b[0;34m(self, labels, errors)\u001b[0m\n\u001b[1;32m   4385\u001b[0m             \u001b[0;32mif\u001b[0m \u001b[0merrors\u001b[0m \u001b[0;34m!=\u001b[0m \u001b[0;34m'ignore'\u001b[0m\u001b[0;34m:\u001b[0m\u001b[0;34m\u001b[0m\u001b[0;34m\u001b[0m\u001b[0m\n\u001b[1;32m   4386\u001b[0m                 raise KeyError(\n\u001b[0;32m-> 4387\u001b[0;31m                     'labels %s not contained in axis' % labels[mask])\n\u001b[0m\u001b[1;32m   4388\u001b[0m             \u001b[0mindexer\u001b[0m \u001b[0;34m=\u001b[0m \u001b[0mindexer\u001b[0m\u001b[0;34m[\u001b[0m\u001b[0;34m~\u001b[0m\u001b[0mmask\u001b[0m\u001b[0;34m]\u001b[0m\u001b[0;34m\u001b[0m\u001b[0;34m\u001b[0m\u001b[0m\n\u001b[1;32m   4389\u001b[0m         \u001b[0;32mreturn\u001b[0m \u001b[0mself\u001b[0m\u001b[0;34m.\u001b[0m\u001b[0mdelete\u001b[0m\u001b[0;34m(\u001b[0m\u001b[0mindexer\u001b[0m\u001b[0;34m)\u001b[0m\u001b[0;34m\u001b[0m\u001b[0;34m\u001b[0m\u001b[0m\n",
      "\u001b[0;31mKeyError\u001b[0m: \"labels ['MemberKey' 'LP_CustomerPayments' 'LP_CustomerPrincipalPayments'\\n 'LP_InterestandFees' 'LP_ServiceFees' 'LP_CollectionFees'\\n 'LP_GrossPrincipalLoss' 'LP_NetPrincipalLoss'\\n 'LP_NonPrincipalRecoverypayments' 'LoanOriginationQuarter'\\n 'LoanOriginationDate' 'LoanNumber' 'LoanMonthsSinceOrigination'\\n 'LoanFirstDefaultedCycleNumber' 'LoanCurrentDaysDelinquent'\\n 'ScorexChangeAtTimeOfListing' 'LoanKey' 'ListingKey' 'ListingNumber'\\n 'ListingCreationDate' 'CreditGrade' 'AmountDelinquent' 'BorrowerState'\\n 'ClosedDate' 'CurrentDelinquencies' 'GroupKey' 'TotalTrades'\\n 'TradesNeverDelinquent (percentage)' 'DateCreditPulled'\\n 'DelinquenciesLast7Years' 'EstimatedEffectiveYield' 'EstimatedLoss'\\n 'EstimatedReturn' 'FirstRecordedCreditLine' 'OnTimeProsperPayments'\\n 'OpenCreditLines' 'TradesOpenedLast6Months' 'TotalInquiries'] not contained in axis\""
     ]
    }
   ],
   "source": [
    "df_total.drop(discarded_vars,axis =1,inplace=True)"
   ]
  },
  {
   "cell_type": "code",
   "execution_count": 12,
   "metadata": {},
   "outputs": [
    {
     "name": "stdout",
     "output_type": "stream",
     "text": [
      "<class 'pandas.core.frame.DataFrame'>\n",
      "RangeIndex: 113937 entries, 0 to 113936\n",
      "Data columns (total 42 columns):\n",
      "Term                                   113937 non-null int64\n",
      "LoanStatus                             113937 non-null object\n",
      "BorrowerAPR                            113937 non-null float64\n",
      "BorrowerRate                           113937 non-null float64\n",
      "LenderYield                            113937 non-null float64\n",
      "ProsperRating (numeric)                84853 non-null float64\n",
      "ProsperRating (Alpha)                  84853 non-null object\n",
      "ProsperScore                           84853 non-null float64\n",
      "ListingCategory (numeric)              113937 non-null int64\n",
      "Occupation                             113937 non-null object\n",
      "EmploymentStatus                       113937 non-null object\n",
      "EmploymentStatusDuration               113937 non-null float64\n",
      "IsBorrowerHomeowner                    113937 non-null bool\n",
      "CurrentlyInGroup                       113937 non-null bool\n",
      "CreditScoreRangeLower                  113346 non-null float64\n",
      "CreditScoreRangeUpper                  113346 non-null float64\n",
      "CurrentCreditLines                     113937 non-null float64\n",
      "TotalCreditLinespast7years             113240 non-null float64\n",
      "OpenRevolvingAccounts                  113937 non-null int64\n",
      "OpenRevolvingMonthlyPayment            113937 non-null float64\n",
      "InquiriesLast6Months                   113937 non-null float64\n",
      "PublicRecordsLast10Years               113240 non-null float64\n",
      "PublicRecordsLast12Months              106333 non-null float64\n",
      "RevolvingCreditBalance                 113937 non-null float64\n",
      "BankcardUtilization                    113937 non-null float64\n",
      "AvailableBankcardCredit                113937 non-null float64\n",
      "DebtToIncomeRatio                      105383 non-null float64\n",
      "IncomeRange                            113937 non-null object\n",
      "IncomeVerifiable                       113937 non-null bool\n",
      "StatedMonthlyIncome                    113937 non-null float64\n",
      "TotalProsperLoans                      113937 non-null float64\n",
      "TotalProsperPaymentsBilled             22085 non-null float64\n",
      "ProsperPaymentsLessThanOneMonthLate    113937 non-null float64\n",
      "ProsperPaymentsOneMonthPlusLate        113937 non-null float64\n",
      "ProsperPrincipalBorrowed               113937 non-null float64\n",
      "LoanOriginalAmount                     113937 non-null int64\n",
      "MonthlyLoanPayment                     113937 non-null float64\n",
      "PercentFunded                          113937 non-null float64\n",
      "Recommendations                        113937 non-null int64\n",
      "InvestmentFromFriendsCount             113937 non-null int64\n",
      "InvestmentFromFriendsAmount            113937 non-null float64\n",
      "Investors                              113937 non-null int64\n",
      "dtypes: bool(3), float64(27), int64(7), object(5)\n",
      "memory usage: 34.2+ MB\n"
     ]
    }
   ],
   "source": [
    "df_total.info()"
   ]
  },
  {
   "cell_type": "markdown",
   "metadata": {},
   "source": [
    "## Data Wrangling"
   ]
  },
  {
   "cell_type": "code",
   "execution_count": 27,
   "metadata": {},
   "outputs": [],
   "source": [
    "#ListingCategory (numeric)"
   ]
  },
  {
   "cell_type": "code",
   "execution_count": 10,
   "metadata": {},
   "outputs": [],
   "source": [
    "# Removing PercentFunded not 1 "
   ]
  },
  {
   "cell_type": "markdown",
   "metadata": {},
   "source": [
    "### Filling Missing Values"
   ]
  },
  {
   "cell_type": "code",
   "execution_count": 9,
   "metadata": {},
   "outputs": [
    {
     "ename": "AttributeError",
     "evalue": "'DataFrame' object has no attribute 'ProsperPrincipalOutstanding'",
     "output_type": "error",
     "traceback": [
      "\u001b[0;31m---------------------------------------------------------------------------\u001b[0m",
      "\u001b[0;31mAttributeError\u001b[0m                            Traceback (most recent call last)",
      "\u001b[0;32m<ipython-input-9-3a25d2d43a10>\u001b[0m in \u001b[0;36m<module>\u001b[0;34m()\u001b[0m\n\u001b[1;32m     12\u001b[0m \u001b[0mdf_total\u001b[0m\u001b[0;34m.\u001b[0m\u001b[0mRevolvingCreditBalance\u001b[0m\u001b[0;34m.\u001b[0m\u001b[0mfillna\u001b[0m\u001b[0;34m(\u001b[0m\u001b[0;36m0\u001b[0m\u001b[0;34m,\u001b[0m\u001b[0minplace\u001b[0m\u001b[0;34m=\u001b[0m \u001b[0;32mTrue\u001b[0m\u001b[0;34m)\u001b[0m\u001b[0;34m\u001b[0m\u001b[0;34m\u001b[0m\u001b[0m\n\u001b[1;32m     13\u001b[0m \u001b[0mdf_total\u001b[0m\u001b[0;34m.\u001b[0m\u001b[0mProsperPrincipalBorrowed\u001b[0m\u001b[0;34m.\u001b[0m\u001b[0mfillna\u001b[0m\u001b[0;34m(\u001b[0m\u001b[0;36m0\u001b[0m\u001b[0;34m,\u001b[0m\u001b[0minplace\u001b[0m\u001b[0;34m=\u001b[0m \u001b[0;32mTrue\u001b[0m\u001b[0;34m)\u001b[0m\u001b[0;34m\u001b[0m\u001b[0;34m\u001b[0m\u001b[0m\n\u001b[0;32m---> 14\u001b[0;31m \u001b[0mdf_total\u001b[0m\u001b[0;34m.\u001b[0m\u001b[0mProsperPrincipalOutstanding\u001b[0m\u001b[0;34m.\u001b[0m\u001b[0mfillna\u001b[0m\u001b[0;34m(\u001b[0m\u001b[0;36m0\u001b[0m\u001b[0;34m,\u001b[0m\u001b[0minplace\u001b[0m\u001b[0;34m=\u001b[0m \u001b[0;32mTrue\u001b[0m\u001b[0;34m)\u001b[0m\u001b[0;34m\u001b[0m\u001b[0;34m\u001b[0m\u001b[0m\n\u001b[0m",
      "\u001b[0;32m~/anaconda3/lib/python3.6/site-packages/pandas/core/generic.py\u001b[0m in \u001b[0;36m__getattr__\u001b[0;34m(self, name)\u001b[0m\n\u001b[1;32m   4370\u001b[0m             \u001b[0;32mif\u001b[0m \u001b[0mself\u001b[0m\u001b[0;34m.\u001b[0m\u001b[0m_info_axis\u001b[0m\u001b[0;34m.\u001b[0m\u001b[0m_can_hold_identifiers_and_holds_name\u001b[0m\u001b[0;34m(\u001b[0m\u001b[0mname\u001b[0m\u001b[0;34m)\u001b[0m\u001b[0;34m:\u001b[0m\u001b[0;34m\u001b[0m\u001b[0;34m\u001b[0m\u001b[0m\n\u001b[1;32m   4371\u001b[0m                 \u001b[0;32mreturn\u001b[0m \u001b[0mself\u001b[0m\u001b[0;34m[\u001b[0m\u001b[0mname\u001b[0m\u001b[0;34m]\u001b[0m\u001b[0;34m\u001b[0m\u001b[0;34m\u001b[0m\u001b[0m\n\u001b[0;32m-> 4372\u001b[0;31m             \u001b[0;32mreturn\u001b[0m \u001b[0mobject\u001b[0m\u001b[0;34m.\u001b[0m\u001b[0m__getattribute__\u001b[0m\u001b[0;34m(\u001b[0m\u001b[0mself\u001b[0m\u001b[0;34m,\u001b[0m \u001b[0mname\u001b[0m\u001b[0;34m)\u001b[0m\u001b[0;34m\u001b[0m\u001b[0;34m\u001b[0m\u001b[0m\n\u001b[0m\u001b[1;32m   4373\u001b[0m \u001b[0;34m\u001b[0m\u001b[0m\n\u001b[1;32m   4374\u001b[0m     \u001b[0;32mdef\u001b[0m \u001b[0m__setattr__\u001b[0m\u001b[0;34m(\u001b[0m\u001b[0mself\u001b[0m\u001b[0;34m,\u001b[0m \u001b[0mname\u001b[0m\u001b[0;34m,\u001b[0m \u001b[0mvalue\u001b[0m\u001b[0;34m)\u001b[0m\u001b[0;34m:\u001b[0m\u001b[0;34m\u001b[0m\u001b[0;34m\u001b[0m\u001b[0m\n",
      "\u001b[0;31mAttributeError\u001b[0m: 'DataFrame' object has no attribute 'ProsperPrincipalOutstanding'"
     ]
    }
   ],
   "source": [
    "df_total.AvailableBankcardCredit.fillna(0,inplace= True)\n",
    "df_total.BankcardUtilization.fillna(0,inplace= True)\n",
    "df_total.BorrowerAPR.fillna(0,inplace= True)\n",
    "df_total.CurrentCreditLines.fillna(0,inplace= True)\n",
    "df_total.EmploymentStatus.fillna('Not available',inplace= True)\n",
    "df_total.EmploymentStatusDuration.fillna(0,inplace= True)\n",
    "df_total.InquiriesLast6Months.fillna(0,inplace= True)\n",
    "df_total.Occupation.fillna(\"Other\",inplace= True)\n",
    "df_total.ProsperPaymentsLessThanOneMonthLate.fillna(0,inplace= True)\n",
    "df_total.ProsperPaymentsOneMonthPlusLate.fillna(0,inplace= True)\n",
    "df_total.TotalProsperLoans.fillna(0,inplace= True)\n",
    "df_total.RevolvingCreditBalance.fillna(0,inplace= True)\n",
    "df_total.ProsperPrincipalBorrowed.fillna(0,inplace= True)\n",
    "df_total.ProsperPrincipalOutstanding.fillna(0,inplace= True)"
   ]
  },
  {
   "cell_type": "code",
   "execution_count": null,
   "metadata": {},
   "outputs": [],
   "source": []
  },
  {
   "cell_type": "code",
   "execution_count": null,
   "metadata": {},
   "outputs": [],
   "source": []
  },
  {
   "cell_type": "code",
   "execution_count": null,
   "metadata": {},
   "outputs": [],
   "source": []
  },
  {
   "cell_type": "code",
   "execution_count": 15,
   "metadata": {},
   "outputs": [
    {
     "data": {
      "text/plain": [
       "8554"
      ]
     },
     "execution_count": 15,
     "metadata": {},
     "output_type": "execute_result"
    }
   ],
   "source": [
    "df_total.DebtToIncomeRatio.isna().sum()"
   ]
  },
  {
   "cell_type": "code",
   "execution_count": null,
   "metadata": {},
   "outputs": [],
   "source": []
  },
  {
   "cell_type": "code",
   "execution_count": null,
   "metadata": {},
   "outputs": [],
   "source": []
  },
  {
   "cell_type": "code",
   "execution_count": null,
   "metadata": {},
   "outputs": [],
   "source": []
  },
  {
   "cell_type": "code",
   "execution_count": null,
   "metadata": {},
   "outputs": [],
   "source": []
  },
  {
   "cell_type": "code",
   "execution_count": null,
   "metadata": {},
   "outputs": [],
   "source": []
  },
  {
   "cell_type": "code",
   "execution_count": null,
   "metadata": {},
   "outputs": [],
   "source": []
  },
  {
   "cell_type": "code",
   "execution_count": null,
   "metadata": {},
   "outputs": [],
   "source": []
  },
  {
   "cell_type": "code",
   "execution_count": null,
   "metadata": {},
   "outputs": [],
   "source": []
  },
  {
   "cell_type": "code",
   "execution_count": null,
   "metadata": {},
   "outputs": [],
   "source": []
  },
  {
   "cell_type": "code",
   "execution_count": 217,
   "metadata": {},
   "outputs": [],
   "source": []
  },
  {
   "cell_type": "code",
   "execution_count": 219,
   "metadata": {},
   "outputs": [],
   "source": []
  },
  {
   "cell_type": "code",
   "execution_count": 165,
   "metadata": {},
   "outputs": [],
   "source": [
    "def inspect(df,col):\n",
    "    print(df[col].isna().sum())\n",
    "    print(df[col].head())"
   ]
  },
  {
   "cell_type": "code",
   "execution_count": 218,
   "metadata": {},
   "outputs": [
    {
     "name": "stdout",
     "output_type": "stream",
     "text": [
      "91852\n",
      "0       NaN\n",
      "1       NaN\n",
      "2       NaN\n",
      "3       NaN\n",
      "4    9947.9\n",
      "Name: ProsperPrincipalOutstanding, dtype: float64\n"
     ]
    }
   ],
   "source": [
    "inspect(df,\"ProsperPrincipalOutstanding\")"
   ]
  },
  {
   "cell_type": "code",
   "execution_count": null,
   "metadata": {
    "scrolled": true
   },
   "outputs": [],
   "source": []
  },
  {
   "cell_type": "code",
   "execution_count": null,
   "metadata": {},
   "outputs": [],
   "source": []
  },
  {
   "cell_type": "markdown",
   "metadata": {},
   "source": [
    "### Checking Percentage of Missing Values"
   ]
  },
  {
   "cell_type": "code",
   "execution_count": 22,
   "metadata": {},
   "outputs": [
    {
     "data": {
      "text/plain": [
       "ListingKey                     0.000000\n",
       "ListingNumber                  0.000000\n",
       "ListingCreationDate            0.000000\n",
       "CreditGrade                    0.745886\n",
       "Term                           0.000000\n",
       "LoanStatus                     0.000000\n",
       "ClosedDate                     0.516496\n",
       "BorrowerAPR                    0.000219\n",
       "BorrowerRate                   0.000000\n",
       "LenderYield                    0.000000\n",
       "EstimatedEffectiveYield        0.255264\n",
       "EstimatedLoss                  0.255264\n",
       "EstimatedReturn                0.255264\n",
       "ProsperRating (numeric)        0.255264\n",
       "ProsperRating (Alpha)          0.255264\n",
       "ProsperScore                   0.255264\n",
       "ListingCategory (numeric)      0.000000\n",
       "BorrowerState                  0.048404\n",
       "Occupation                     0.031491\n",
       "EmploymentStatus               0.019792\n",
       "EmploymentStatusDuration       0.066923\n",
       "IsBorrowerHomeowner            0.000000\n",
       "CurrentlyInGroup               0.000000\n",
       "GroupKey                       0.882909\n",
       "DateCreditPulled               0.000000\n",
       "CreditScoreRangeLower          0.005187\n",
       "CreditScoreRangeUpper          0.005187\n",
       "FirstRecordedCreditLine        0.006117\n",
       "CurrentCreditLines             0.066739\n",
       "OpenCreditLines                0.066739\n",
       "TotalCreditLinespast7years     0.006117\n",
       "OpenRevolvingAccounts          0.000000\n",
       "OpenRevolvingMonthlyPayment    0.000000\n",
       "InquiriesLast6Months           0.006117\n",
       "TotalInquiries                 0.010172\n",
       "CurrentDelinquencies           0.006117\n",
       "AmountDelinquent               0.066897\n",
       "DelinquenciesLast7Years        0.008689\n",
       "PublicRecordsLast10Years       0.006117\n",
       "PublicRecordsLast12Months      0.066739\n",
       "dtype: float64"
      ]
     },
     "execution_count": 22,
     "metadata": {},
     "output_type": "execute_result"
    }
   ],
   "source": [
    "df_total.isnull().sum()[:40]/len(df_total)"
   ]
  },
  {
   "cell_type": "code",
   "execution_count": 23,
   "metadata": {},
   "outputs": [
    {
     "data": {
      "text/plain": [
       "RevolvingCreditBalance                 0.066739\n",
       "BankcardUtilization                    0.066739\n",
       "AvailableBankcardCredit                0.066212\n",
       "TotalTrades                            0.066212\n",
       "TradesNeverDelinquent (percentage)     0.066212\n",
       "TradesOpenedLast6Months                0.066212\n",
       "DebtToIncomeRatio                      0.075077\n",
       "IncomeRange                            0.000000\n",
       "IncomeVerifiable                       0.000000\n",
       "StatedMonthlyIncome                    0.000000\n",
       "LoanKey                                0.000000\n",
       "TotalProsperLoans                      0.806165\n",
       "TotalProsperPaymentsBilled             0.806165\n",
       "OnTimeProsperPayments                  0.806165\n",
       "ProsperPaymentsLessThanOneMonthLate    0.806165\n",
       "ProsperPaymentsOneMonthPlusLate        0.806165\n",
       "ProsperPrincipalBorrowed               0.806165\n",
       "ProsperPrincipalOutstanding            0.806165\n",
       "ScorexChangeAtTimeOfListing            0.833873\n",
       "LoanCurrentDaysDelinquent              0.000000\n",
       "LoanFirstDefaultedCycleNumber          0.851216\n",
       "LoanMonthsSinceOrigination             0.000000\n",
       "LoanNumber                             0.000000\n",
       "LoanOriginalAmount                     0.000000\n",
       "LoanOriginationDate                    0.000000\n",
       "LoanOriginationQuarter                 0.000000\n",
       "MemberKey                              0.000000\n",
       "MonthlyLoanPayment                     0.000000\n",
       "LP_CustomerPayments                    0.000000\n",
       "LP_CustomerPrincipalPayments           0.000000\n",
       "LP_InterestandFees                     0.000000\n",
       "LP_ServiceFees                         0.000000\n",
       "LP_CollectionFees                      0.000000\n",
       "LP_GrossPrincipalLoss                  0.000000\n",
       "LP_NetPrincipalLoss                    0.000000\n",
       "LP_NonPrincipalRecoverypayments        0.000000\n",
       "PercentFunded                          0.000000\n",
       "Recommendations                        0.000000\n",
       "InvestmentFromFriendsCount             0.000000\n",
       "InvestmentFromFriendsAmount            0.000000\n",
       "Investors                              0.000000\n",
       "dtype: float64"
      ]
     },
     "execution_count": 23,
     "metadata": {},
     "output_type": "execute_result"
    }
   ],
   "source": [
    "df_total.isnull().sum()[40:]/len(df_total)"
   ]
  },
  {
   "cell_type": "code",
   "execution_count": null,
   "metadata": {},
   "outputs": [],
   "source": []
  },
  {
   "cell_type": "code",
   "execution_count": null,
   "metadata": {},
   "outputs": [],
   "source": []
  },
  {
   "cell_type": "code",
   "execution_count": null,
   "metadata": {},
   "outputs": [],
   "source": [
    "\n"
   ]
  }
 ],
 "metadata": {
  "kernelspec": {
   "display_name": "Python 3",
   "language": "python",
   "name": "python3"
  },
  "language_info": {
   "codemirror_mode": {
    "name": "ipython",
    "version": 3
   },
   "file_extension": ".py",
   "mimetype": "text/x-python",
   "name": "python",
   "nbconvert_exporter": "python",
   "pygments_lexer": "ipython3",
   "version": "3.6.7"
  }
 },
 "nbformat": 4,
 "nbformat_minor": 2
}
